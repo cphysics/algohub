{
 "cells": [
  {
   "cell_type": "markdown",
   "id": "b3aadeb1",
   "metadata": {},
   "source": [
    "### Binary Search Tree"
   ]
  },
  {
   "cell_type": "markdown",
   "id": "3ab1ccbf",
   "metadata": {},
   "source": [
    "1. Given the root of a binary tree. Check whether it is a BST or not.\n",
    "Note: We are considering that BSTs can not contain duplicate Nodes."
   ]
  },
  {
   "cell_type": "code",
   "execution_count": 1,
   "id": "dbba4061",
   "metadata": {},
   "outputs": [],
   "source": [
    "#User function Template for python3\n",
    "\n",
    "class Solution:\n",
    "    # flag will be false if bst is not valid\n",
    "    flag = True\n",
    "    # set to - infinity\n",
    "    prev = -99999999999\n",
    "\n",
    "    def inOrder(self, root):\n",
    "        if root is None or self.flag == False:\n",
    "            return\n",
    "        \n",
    "        self.inOrder(root.left)\n",
    "        \n",
    "        if self.prev > root.data:\n",
    "            self.flag = False\n",
    "        else:\n",
    "            self.prev = root.data\n",
    "        \n",
    "            \n",
    "        self.inOrder(root.right)\n",
    "\n",
    "    def isBST(self, root):\n",
    "        self.inOrder(root)\n",
    "        return self.flag\n"
   ]
  },
  {
   "cell_type": "markdown",
   "id": "1517c448",
   "metadata": {},
   "source": [
    "2. Print left elements of the binary tree"
   ]
  },
  {
   "cell_type": "code",
   "execution_count": null,
   "id": "2abfa91d",
   "metadata": {},
   "outputs": [],
   "source": [
    "# Python program to print left view of Binary Tree\n",
    "\n",
    "# A binary tree node\n",
    "class Node:\n",
    "\n",
    "\t# Constructor to create a new node\n",
    "\tdef __init__(self, data):\n",
    "\t\tself.data = data\n",
    "\t\tself.left = None\n",
    "\t\tself.right = None\n",
    "\n",
    "\n",
    "# Recursive function print left view of a binary tree\n",
    "def leftViewUtil(root, level, max_level):\n",
    "\t\n",
    "\t# Base Case\n",
    "\tif root is None:\n",
    "\t\treturn\n",
    "\n",
    "\t# If this is the first node of its level\n",
    "\tif (max_level[0] < level):\n",
    "\t\tprint \"% d\\t\" %(root.data),\n",
    "\t\tmax_level[0] = level\n",
    "\n",
    "\t# Recur for left and right subtree\n",
    "\tleftViewUtil(root.left, level + 1, max_level)\n",
    "\tleftViewUtil(root.right, level + 1, max_level)\n",
    "\n",
    "\n",
    "# A wrapper over leftViewUtil()\n",
    "def leftView(root):\n",
    "\tmax_level = [0]\n",
    "\tleftViewUtil(root, 1, max_level)\n",
    "\n",
    "\n",
    "# Driver program to test above function\n",
    "\n",
    "root = Node(10)\n",
    "root.left = Node(2)\n",
    "root.right = Node(3)\n",
    "root.left.left = Node(7)\n",
    "root.left.right = Node(8)\n",
    "root.right.right = Node(15)\n",
    "root.right.left = Node(12)\n",
    "root.right.right.left = Node(14)\t\t\t\n",
    "\t\t\n",
    "\n",
    "leftView(root)\n",
    "\n",
    "# This code is contributed by Nikhil Kumar Singh(nickzuck_007)\n",
    "\n"
   ]
  },
  {
   "cell_type": "markdown",
   "id": "0c118192",
   "metadata": {},
   "source": [
    "3. Diameter of a Binary Tree"
   ]
  },
  {
   "cell_type": "code",
   "execution_count": 2,
   "id": "6b8b5105",
   "metadata": {},
   "outputs": [
    {
     "name": "stdout",
     "output_type": "stream",
     "text": [
      "4\n"
     ]
    }
   ],
   "source": [
    "# Python3 program to find the diameter of binary tree\n",
    "\n",
    "# A binary tree node\n",
    "class Node:\n",
    "\n",
    "    # Constructor to create a new node\n",
    "    def __init__(self, data):\n",
    "        self.data = data\n",
    "        self.left = None\n",
    "        self.right = None\n",
    "\n",
    "\n",
    "\n",
    "# The function Compute the \"height\" of a tree. Height is the \n",
    "# number of nodes along the longest path from the root node \n",
    "# down to the farthest leaf node.\n",
    "\n",
    "def height(node):\n",
    "\n",
    "    # Base Case : Tree is empty\n",
    "    if node is None:\n",
    "        return 0\n",
    "\n",
    "    # If tree is not empty then height = 1 + max of left\n",
    "    # height and right heights\n",
    "    return 1 + max(height(node.left), height(node.right))\n",
    "\n",
    "# Function to get the diameter of a binary tree\n",
    "def diameter(root):\n",
    "\n",
    "    # Base Case when tree is empty\n",
    "    if root is None:\n",
    "        return 0\n",
    "\n",
    "    # Get the height of left and right sub-trees\n",
    "    lheight = height(root.left)\n",
    "    rheight = height(root.right)\n",
    "\n",
    "    # Get the diameter of left and right sub-trees\n",
    "    ldiameter = diameter(root.left)\n",
    "    rdiameter = diameter(root.right)\n",
    "\n",
    "    # Return max of the following tree:\n",
    "    # 1) Diameter of left subtree\n",
    "    # 2) Diameter of right subtree\n",
    "    # 3) Height of left subtree + height of right subtree +1\n",
    "    return max(lheight + rheight + 1, max(ldiameter, rdiameter))\n",
    "\n",
    "\n",
    "# Driver Code\n",
    "\"\"\"\n",
    "Constructed binary tree is \n",
    "            1\n",
    "          /   \\\n",
    "        2      3\n",
    "      /  \\\n",
    "    4     5\n",
    "\"\"\"\n",
    "\n",
    "root = Node(1)\n",
    "root.left = Node(2)\n",
    "root.right = Node(3)\n",
    "root.left.left = Node(4)\n",
    "root.left.right = Node(5)\n",
    "\n",
    "# Function Call\n",
    "print(diameter(root))\n",
    "\n",
    "# This code is contributed by Nikhil Kumar Singh(nickzuck_007)\n"
   ]
  },
  {
   "cell_type": "code",
   "execution_count": null,
   "id": "b5336739",
   "metadata": {},
   "outputs": [],
   "source": []
  },
  {
   "cell_type": "code",
   "execution_count": null,
   "id": "65572568",
   "metadata": {},
   "outputs": [],
   "source": []
  },
  {
   "cell_type": "code",
   "execution_count": null,
   "id": "cf0b84b6",
   "metadata": {},
   "outputs": [],
   "source": []
  },
  {
   "cell_type": "code",
   "execution_count": null,
   "id": "0a63e1bf",
   "metadata": {},
   "outputs": [],
   "source": []
  },
  {
   "cell_type": "code",
   "execution_count": null,
   "id": "f698cb22",
   "metadata": {},
   "outputs": [],
   "source": []
  }
 ],
 "metadata": {
  "kernelspec": {
   "display_name": "Python 3",
   "language": "python",
   "name": "python3"
  },
  "language_info": {
   "codemirror_mode": {
    "name": "ipython",
    "version": 3
   },
   "file_extension": ".py",
   "mimetype": "text/x-python",
   "name": "python",
   "nbconvert_exporter": "python",
   "pygments_lexer": "ipython3",
   "version": "3.8.8"
  }
 },
 "nbformat": 4,
 "nbformat_minor": 5
}
