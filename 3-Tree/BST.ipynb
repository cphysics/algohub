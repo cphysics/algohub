{
 "cells": [
  {
   "cell_type": "markdown",
   "id": "b3aadeb1",
   "metadata": {},
   "source": [
    "## Binary Search Tree (BST)"
   ]
  },
  {
   "cell_type": "markdown",
   "id": "de2c15f9",
   "metadata": {},
   "source": [
    "![img](../pic/bst.jpg)"
   ]
  },
  {
   "cell_type": "markdown",
   "id": "f1eae768",
   "metadata": {},
   "source": [
    "### [Binary Search](https://leetcode.com/problems/binary-search/solution/)\n",
    "\n",
    "Given an array of integers nums which is sorted in ascending order, and an integer target, write a function to search target in nums. If target exists, then return its index. Otherwise, return -1.\n",
    "\n",
    "You must write an algorithm with O(log n) runtime complexity.\n",
    "\n"
   ]
  },
  {
   "cell_type": "code",
   "execution_count": null,
   "id": "873221ac",
   "metadata": {},
   "outputs": [],
   "source": [
    "class Solution:\n",
    "    def search(self, nums: List[int], target: int) -> int:\n",
    "        left, right = 0, len(nums) - 1\n",
    "        while left <= right:\n",
    "            pivot = left + (right - left) // 2\n",
    "            if nums[pivot] == target:\n",
    "                return pivot\n",
    "            if target < nums[pivot]:\n",
    "                right = pivot - 1\n",
    "            else:\n",
    "                left = pivot + 1\n",
    "        return -1"
   ]
  },
  {
   "cell_type": "markdown",
   "id": "af9b4596",
   "metadata": {},
   "source": [
    "### [Create Binary Search Tree from an sorted array](https://leetcode.com/problems/convert-sorted-array-to-binary-search-tree/)\n",
    "\n",
    "Given an integer array nums where the elements are sorted in ascending order, convert it to a height-balanced binary search tree.\n",
    "\n",
    "A height-balanced binary tree is a binary tree in which the depth of the two subtrees of every node never differs by more than one."
   ]
  },
  {
   "cell_type": "code",
   "execution_count": 1,
   "id": "1b51b8a2",
   "metadata": {},
   "outputs": [],
   "source": [
    "A = [i for i in range(1,16)]\n",
    "\n",
    "class Node():\n",
    "    def __init__(self,value):\n",
    "        self.value = value\n",
    "        self.left = None\n",
    "        self.right = None\n",
    "        \n",
    "\n",
    "def create(A):\n",
    "    if not A:\n",
    "        return\n",
    "    mid = len(A)//2\n",
    "    root = Node(A[mid])\n",
    "    root.left = create(A[:mid])\n",
    "    root.right = create(A[mid+1:])\n",
    "    return root"
   ]
  },
  {
   "cell_type": "code",
   "execution_count": null,
   "id": "a50d7d57",
   "metadata": {},
   "outputs": [],
   "source": [
    "class Solution:\n",
    "    def sortedArrayToBST(self, nums: List[int]) -> TreeNode:        \n",
    "        def helper(left, right):\n",
    "            if left > right:\n",
    "                return None\n",
    "\n",
    "            # always choose left middle node as a root\n",
    "            p = (left + right) // 2\n",
    "\n",
    "            # preorder traversal: node -> left -> right\n",
    "            root = TreeNode(nums[p])\n",
    "            root.left = helper(left, p - 1)\n",
    "            root.right = helper(p + 1, right)\n",
    "            return root\n",
    "        \n",
    "        return helper(0, len(nums) - 1)"
   ]
  },
  {
   "cell_type": "code",
   "execution_count": null,
   "id": "38431bb8",
   "metadata": {},
   "outputs": [],
   "source": [
    "from random import randint\n",
    "class Solution:\n",
    "    def sortedArrayToBST(self, nums: List[int]) -> TreeNode:        \n",
    "        def helper(left, right):\n",
    "            if left > right:\n",
    "                return None\n",
    "            \n",
    "            # choose random middle node as a root\n",
    "            p = (left + right) // 2 \n",
    "            if (left + right) % 2:\n",
    "                p += randint(0, 1) \n",
    "\n",
    "            # preorder traversal: node -> left -> right\n",
    "            root = TreeNode(nums[p])\n",
    "            root.left = helper(left, p - 1)\n",
    "            root.right = helper(p + 1, right)\n",
    "            return root\n",
    "        \n",
    "        return helper(0, len(nums) - 1)"
   ]
  },
  {
   "cell_type": "markdown",
   "id": "3ab1ccbf",
   "metadata": {},
   "source": [
    "### [Check (Validate) Binary tree](https://leetcode.com/problems/validate-binary-search-tree/)\n",
    "Given the root of a binary tree. Check whether it is a BST or not.\n",
    "Note: We are considering that BSTs can not contain duplicate Nodes."
   ]
  },
  {
   "cell_type": "markdown",
   "id": "e74caa7d",
   "metadata": {},
   "source": [
    "Approach 1: Recursive Traversal with Valid Range\n",
    "\n",
    "The idea above could be implemented as a recursion. One compares the node value with its upper and lower limits if they are available. Then one repeats the same step recursively for left and right subtrees."
   ]
  },
  {
   "cell_type": "code",
   "execution_count": null,
   "id": "10e0a16b",
   "metadata": {},
   "outputs": [],
   "source": [
    "class Solution:\n",
    "    def isValidBST(self, root: TreeNode) -> bool:\n",
    "\n",
    "        def validate(node, low=-math.inf, high=math.inf):\n",
    "            # Empty trees are valid BSTs.\n",
    "            if not node:\n",
    "                return True\n",
    "            # The current node's value must be between low and high.\n",
    "            if node.val <= low or node.val >= high:\n",
    "                return False\n",
    "\n",
    "            # The left and right subtree must also be valid.\n",
    "            return (validate(node.right, node.val, high) and\n",
    "                   validate(node.left, low, node.val))\n",
    "\n",
    "        return validate(root)"
   ]
  },
  {
   "cell_type": "markdown",
   "id": "8f8e6cc6",
   "metadata": {},
   "source": [
    "Approach 2: Iterative Traversal with Valid Range\n",
    "\n",
    "The above recursion could be converted into iteration, with the help of an explicit stack. DFS would be better than BFS since it works faster here."
   ]
  },
  {
   "cell_type": "code",
   "execution_count": null,
   "id": "ce94b697",
   "metadata": {},
   "outputs": [],
   "source": [
    "class Solution:\n",
    "    def isValidBST(self, root: TreeNode) -> bool:\n",
    "        if not root:\n",
    "            return True\n",
    "\n",
    "        stack = [(root, -math.inf, math.inf)]\n",
    "        while stack:\n",
    "            root, lower, upper = stack.pop()\n",
    "            if not root:\n",
    "                continue\n",
    "            val = root.val\n",
    "            if val <= lower or val >= upper:\n",
    "                return False\n",
    "            stack.append((root.right, val, upper))\n",
    "            stack.append((root.left, lower, val))\n",
    "        return True"
   ]
  },
  {
   "cell_type": "markdown",
   "id": "f008d94a",
   "metadata": {},
   "source": [
    "Approach 3: Recursive Inorder Traversal"
   ]
  },
  {
   "cell_type": "code",
   "execution_count": null,
   "id": "c27f3efd",
   "metadata": {},
   "outputs": [],
   "source": [
    "class Solution:\n",
    "    def isValidBST(self, root: TreeNode) -> bool:\n",
    "\n",
    "        def inorder(root):\n",
    "            if not root:\n",
    "                return True\n",
    "            if not inorder(root.left):\n",
    "                return False\n",
    "            if root.val <= self.prev:\n",
    "                return False\n",
    "            self.prev = root.val\n",
    "            return inorder(root.right)\n",
    "\n",
    "        self.prev = -math.inf\n",
    "        return inorder(root)"
   ]
  },
  {
   "cell_type": "markdown",
   "id": "4c61abb0",
   "metadata": {},
   "source": [
    "### [Kth Smallest Element in a BST](https://leetcode.com/problems/kth-smallest-element-in-a-bst/)\n",
    "\n",
    "Given the root of a binary search tree, and an integer k, return the kth smallest value (1-indexed) of all the values of the nodes in the tree."
   ]
  },
  {
   "cell_type": "code",
   "execution_count": null,
   "id": "65572568",
   "metadata": {},
   "outputs": [],
   "source": [
    "class Solution:\n",
    "    def kthSmallest(self, root, k):\n",
    "        \"\"\"\n",
    "        :type root: TreeNode\n",
    "        :type k: int\n",
    "        :rtype: int\n",
    "        \"\"\"\n",
    "        def inorder(r):\n",
    "            return inorder(r.left) + [r.val] + inorder(r.right) if r else []\n",
    "    \n",
    "        return inorder(root)[k - 1]"
   ]
  },
  {
   "cell_type": "code",
   "execution_count": null,
   "id": "cf0b84b6",
   "metadata": {},
   "outputs": [],
   "source": [
    "class Solution:\n",
    "    def kthSmallest(self, root, k):\n",
    "        \"\"\"\n",
    "        :type root: TreeNode\n",
    "        :type k: int\n",
    "        :rtype: int\n",
    "        \"\"\"\n",
    "        stack = []\n",
    "        \n",
    "        while True:\n",
    "            while root:\n",
    "                stack.append(root)\n",
    "                root = root.left\n",
    "            root = stack.pop()\n",
    "            k -= 1\n",
    "            if not k:\n",
    "                return root.val\n",
    "            root = root.right"
   ]
  },
  {
   "cell_type": "markdown",
   "id": "2cfc6f44",
   "metadata": {},
   "source": [
    "### [Lowest Common Ancestor of a Binary Search Tree](https://leetcode.com/problems/lowest-common-ancestor-of-a-binary-search-tree/)\n",
    "\n",
    "Given a binary search tree (BST), find the lowest common ancestor (LCA) of two given nodes in the BST.\n",
    "\n",
    "According to the definition of LCA on Wikipedia: “The lowest common ancestor is defined between two nodes p and q as the lowest node in T that has both p and q as descendants (where we allow a node to be a descendant of itself).”"
   ]
  },
  {
   "cell_type": "code",
   "execution_count": null,
   "id": "f698cb22",
   "metadata": {},
   "outputs": [],
   "source": [
    "class Solution:\n",
    "    def lowestCommonAncestor(self, root, p, q):\n",
    "        \"\"\"\n",
    "        :type root: TreeNode\n",
    "        :type p: TreeNode\n",
    "        :type q: TreeNode\n",
    "        :rtype: TreeNode\n",
    "        \"\"\"\n",
    "        # Value of current node or parent node.\n",
    "        parent_val = root.val\n",
    "\n",
    "        # Value of p\n",
    "        p_val = p.val\n",
    "\n",
    "        # Value of q\n",
    "        q_val = q.val\n",
    "\n",
    "        # If both p and q are greater than parent\n",
    "        if p_val > parent_val and q_val > parent_val:    \n",
    "            return self.lowestCommonAncestor(root.right, p, q)\n",
    "        # If both p and q are lesser than parent\n",
    "        elif p_val < parent_val and q_val < parent_val:    \n",
    "            return self.lowestCommonAncestor(root.left, p, q)\n",
    "        # We have found the split point, i.e. the LCA node.\n",
    "        else:\n",
    "            return root"
   ]
  },
  {
   "cell_type": "code",
   "execution_count": null,
   "id": "fc7edbba",
   "metadata": {},
   "outputs": [],
   "source": [
    "class Solution:\n",
    "    def lowestCommonAncestor(self, root, p, q):\n",
    "        \"\"\"\n",
    "        :type root: TreeNode\n",
    "        :type p: TreeNode\n",
    "        :type q: TreeNode\n",
    "        :rtype: TreeNode\n",
    "        \"\"\"\n",
    "\n",
    "        # Value of p\n",
    "        p_val = p.val\n",
    "\n",
    "        # Value of q\n",
    "        q_val = q.val\n",
    "\n",
    "        # Start from the root node of the tree\n",
    "        node = root\n",
    "\n",
    "        # Traverse the tree\n",
    "        while node:\n",
    "\n",
    "            # Value of current node or parent node.\n",
    "            parent_val = node.val\n",
    "\n",
    "            if p_val > parent_val and q_val > parent_val:    \n",
    "                # If both p and q are greater than parent\n",
    "                node = node.right\n",
    "            elif p_val < parent_val and q_val < parent_val:\n",
    "                # If both p and q are lesser than parent\n",
    "                node = node.left\n",
    "            else:\n",
    "                # We have found the split point, i.e. the LCA node.\n",
    "                return node"
   ]
  },
  {
   "cell_type": "markdown",
   "id": "ea76a88d",
   "metadata": {},
   "source": [
    "### [Find Mode in Binary Search Tree](https://leetcode.com/problems/find-mode-in-binary-search-tree/)\n",
    "\n",
    "\n",
    "Given the root of a binary search tree (BST) with duplicates, return all the mode(s) (i.e., the most frequently occurred element) in it.\n",
    "\n",
    "If the tree has more than one mode, return them in any order.\n",
    "\n",
    "Assume a BST is defined as follows:\n",
    "\n",
    "The left subtree of a node contains only nodes with keys less than or equal to the node's key.\n",
    "The right subtree of a node contains only nodes with keys greater than or equal to the node's key.\n",
    "Both the left and right subtrees must also be binary search trees.\n"
   ]
  },
  {
   "cell_type": "code",
   "execution_count": null,
   "id": "3461969a",
   "metadata": {},
   "outputs": [],
   "source": [
    "class Solution:\n",
    "    def findMode(self, root: Optional[TreeNode]) -> List[int]:\n",
    "        self.pre = root.val\n",
    "        self.cur, self.max = 0, 0\n",
    "        self.ans = []\n",
    "        \n",
    "        def dfs(node):\n",
    "            if node == None:\n",
    "                return\n",
    "            \n",
    "            dfs(node.left)\n",
    "            \n",
    "            if node.val != self.pre:\n",
    "                self.cur = 1\n",
    "                self.pre = node.val\n",
    "            else:\n",
    "                self.cur += 1\n",
    "                \n",
    "            if self.cur > self.max:\n",
    "                self.max = self.cur\n",
    "                self.ans.clear()\n",
    "                self.ans.append(node.val)\n",
    "                \n",
    "            elif self.cur == self.max:\n",
    "                self.ans.append(node.val)            \n",
    "            \n",
    "            dfs(node.right)\n",
    "            \n",
    "        dfs(root)\n",
    "        return self.ans"
   ]
  },
  {
   "cell_type": "markdown",
   "id": "63ec1d81",
   "metadata": {},
   "source": [
    "### [Insert into a Binary Search Tree](https://leetcode.com/problems/insert-into-a-binary-search-tree/)\n",
    "\n",
    "You are given the root node of a binary search tree (BST) and a value to insert into the tree. Return the root node of the BST after the insertion. It is guaranteed that the new value does not exist in the original BST.\n",
    "\n",
    "Notice that there may exist multiple valid ways for the insertion, as long as the tree remains a BST after insertion. You can return any of them.\n",
    "\n",
    "![img](https://assets.leetcode.com/uploads/2020/10/05/insertbst.jpg)"
   ]
  },
  {
   "cell_type": "code",
   "execution_count": null,
   "id": "abb7c490",
   "metadata": {},
   "outputs": [],
   "source": [
    "class Solution:\n",
    "    def insertIntoBST(self, root: TreeNode, val: int) -> TreeNode:\n",
    "        if not root:\n",
    "            return TreeNode(val)\n",
    "        \n",
    "        if val > root.val:\n",
    "            # insert into the right subtree\n",
    "            root.right = self.insertIntoBST(root.right, val)\n",
    "        else:\n",
    "            # insert into the left subtree\n",
    "            root.left = self.insertIntoBST(root.left, val)\n",
    "        return root"
   ]
  },
  {
   "cell_type": "code",
   "execution_count": null,
   "id": "2993448d",
   "metadata": {},
   "outputs": [],
   "source": [
    "class Solution:\n",
    "    def insertIntoBST(self, root: TreeNode, val: int) -> TreeNode:\n",
    "        node = root\n",
    "        while node:\n",
    "            # insert into the right subtree\n",
    "            if val > node.val:\n",
    "                # insert right now\n",
    "                if not node.right:\n",
    "                    node.right = TreeNode(val)\n",
    "                    return root\n",
    "                else:\n",
    "                    node = node.right\n",
    "            # insert into the left subtree\n",
    "            else:\n",
    "                # insert right now\n",
    "                if not node.left:\n",
    "                    node.left = TreeNode(val)\n",
    "                    return root\n",
    "                else:\n",
    "                    node = node.left\n",
    "        return TreeNode(val)"
   ]
  },
  {
   "cell_type": "markdown",
   "id": "a6110f5d",
   "metadata": {},
   "source": [
    "### [Convert Sorted Linked List to Binary Search Tree](https://leetcode.com/problems/convert-sorted-list-to-binary-search-tree/solution/)\n",
    "\n",
    "Given the head of a singly linked list where elements are sorted in ascending order, convert it to a height balanced BST.\n",
    "\n",
    "For this problem, a height-balanced binary tree is defined as a binary tree in which the depth of the two subtrees of every node never differ by more than 1.\n",
    "\n"
   ]
  },
  {
   "cell_type": "code",
   "execution_count": null,
   "id": "fcd341ea",
   "metadata": {},
   "outputs": [],
   "source": [
    "# Definition for singly-linked list.\n",
    "# class ListNode:\n",
    "#     def __init__(self, x):\n",
    "#         self.val = x\n",
    "#         self.next = None\n",
    "\n",
    "# Definition for a binary tree node.\n",
    "# class TreeNode:\n",
    "#     def __init__(self, x):\n",
    "#         self.val = x\n",
    "#         self.left = None\n",
    "#         self.right = None\n",
    "\n",
    "class Solution:\n",
    "\n",
    "    # Convert the given linked list to an array\n",
    "    def mapListToValues(self, head):\n",
    "        vals = []\n",
    "        while head:\n",
    "            vals.append(head.val)\n",
    "            head = head.next\n",
    "        return vals    \n",
    "\n",
    "    def sortedListToBST(self, head):\n",
    "        \"\"\"\n",
    "        :type head: ListNode\n",
    "        :rtype: TreeNode\n",
    "        \"\"\"\n",
    "\n",
    "        # Form an array out of the given linked list and then\n",
    "        # use the array to form the BST.\n",
    "        values = self.mapListToValues(head)\n",
    "\n",
    "        # l and r represent the start and end of the given array\n",
    "        def convertListToBST(l, r):\n",
    "\n",
    "            # Invalid case\n",
    "            if l > r:\n",
    "                return None\n",
    "\n",
    "            # Middle element forms the root.\n",
    "            mid = (l + r) // 2\n",
    "            node = TreeNode(values[mid])\n",
    "\n",
    "            # Base case for when there is only one element left in the array\n",
    "            if l == r:\n",
    "                return node\n",
    "\n",
    "            # Recursively form BST on the two halves\n",
    "            node.left = convertListToBST(l, mid - 1)\n",
    "            node.right = convertListToBST(mid + 1, r)\n",
    "            return node\n",
    "        return convertListToBST(0, len(values) - 1)"
   ]
  },
  {
   "cell_type": "markdown",
   "id": "b48df97d",
   "metadata": {},
   "source": [
    "### [Construct Binary Search Tree from Preorder Traversal](https://leetcode.com/problems/construct-binary-search-tree-from-preorder-traversal/)\n",
    "\n",
    "Given an array of integers preorder, which represents the preorder traversal of a BST (i.e., binary search tree), construct the tree and return its root.\n",
    "\n",
    "It is guaranteed that there is always possible to find a binary search tree with the given requirements for the given test cases.\n",
    "\n",
    "A binary search tree is a binary tree where for every node, any descendant of Node.left has a value strictly less than Node.val, and any descendant of Node.right has a value strictly greater than Node.val.\n",
    "\n",
    "A preorder traversal of a binary tree displays the value of the node first, then traverses Node.left, then traverses Node.right.\n",
    "\n"
   ]
  },
  {
   "cell_type": "code",
   "execution_count": null,
   "id": "ce357d6c",
   "metadata": {},
   "outputs": [],
   "source": [
    "class Solution:\n",
    "    def bstFromPreorder(self, preorder: List[int]) -> TreeNode:\n",
    "        n = len(preorder)\n",
    "        if not n:\n",
    "            return None\n",
    "        \n",
    "        root = TreeNode(preorder[0])         \n",
    "        stack = [root, ] \n",
    "        \n",
    "        for i in range(1, n):\n",
    "            # take the last element of the stack as a parent\n",
    "            # and create a child from the next preorder element\n",
    "            node, child = stack[-1], TreeNode(preorder[i])\n",
    "            # adjust the parent \n",
    "            while stack and stack[-1].val < child.val: \n",
    "                node = stack.pop()\n",
    "             \n",
    "            # follow BST logic to create a parent-child link\n",
    "            if node.val < child.val:\n",
    "                node.right = child \n",
    "            else:\n",
    "                node.left = child \n",
    "            # add the child into stack\n",
    "            stack.append(child)\n",
    "  \n",
    "        return root"
   ]
  },
  {
   "cell_type": "markdown",
   "id": "ef1b3b97",
   "metadata": {},
   "source": [
    "### [Unique Binary Search Trees]()\n",
    "\n",
    "Given an integer n, return the number of structurally unique BST's (binary search trees) which has exactly n nodes of unique values from 1 to n.\n",
    "\n",
    "![img](https://assets.leetcode.com/uploads/2021/01/18/uniquebstn3.jpg)"
   ]
  },
  {
   "cell_type": "code",
   "execution_count": null,
   "id": "aedc1725",
   "metadata": {},
   "outputs": [],
   "source": [
    "class Solution(object):\n",
    "    def numTrees(self, n):\n",
    "        \"\"\"\n",
    "        :type n: int\n",
    "        :rtype: int\n",
    "        \"\"\"\n",
    "        C = 1\n",
    "        for i in range(0, n):\n",
    "            C = C * 2*(2*i+1)/(i+2)\n",
    "        return int(C)"
   ]
  },
  {
   "cell_type": "code",
   "execution_count": null,
   "id": "cf6475d0",
   "metadata": {},
   "outputs": [],
   "source": [
    "class Solution:\n",
    "    def numTrees(self, n):\n",
    "        \"\"\"\n",
    "        :type n: int\n",
    "        :rtype: int\n",
    "        \"\"\"\n",
    "        G = [0]*(n+1)\n",
    "        G[0], G[1] = 1, 1\n",
    "\n",
    "        for i in range(2, n+1):\n",
    "            for j in range(1, i+1):\n",
    "                G[i] += G[j-1] * G[i-j]\n",
    "\n",
    "        return G[n]"
   ]
  },
  {
   "cell_type": "markdown",
   "id": "b90c4259",
   "metadata": {},
   "source": [
    "### [Unique Binary Search Trees II](https://leetcode.com/problems/unique-binary-search-trees-ii/)\n",
    "\n",
    "Given an integer n, return all the structurally unique BST's (binary search trees), which has exactly n nodes of unique values from 1 to n. Return the answer in any order."
   ]
  },
  {
   "cell_type": "code",
   "execution_count": null,
   "id": "c96d38d1",
   "metadata": {},
   "outputs": [],
   "source": [
    "class Solution:\n",
    "    def generateTrees(self, n):\n",
    "        \"\"\"\n",
    "        :type n: int\n",
    "        :rtype: List[TreeNode]\n",
    "        \"\"\"\n",
    "        def generate_trees(start, end):\n",
    "            if start > end:\n",
    "                return [None,]\n",
    "            \n",
    "            all_trees = []\n",
    "            for i in range(start, end + 1):  # pick up a root\n",
    "                # all possible left subtrees if i is choosen to be a root\n",
    "                left_trees = generate_trees(start, i - 1)\n",
    "                \n",
    "                # all possible right subtrees if i is choosen to be a root\n",
    "                right_trees = generate_trees(i + 1, end)\n",
    "                \n",
    "                # connect left and right subtrees to the root i\n",
    "                for l in left_trees:\n",
    "                    for r in right_trees:\n",
    "                        current_tree = TreeNode(i)\n",
    "                        current_tree.left = l\n",
    "                        current_tree.right = r\n",
    "                        all_trees.append(current_tree)\n",
    "            \n",
    "            return all_trees\n",
    "        \n",
    "        return generate_trees(1, n) if n else []"
   ]
  },
  {
   "cell_type": "code",
   "execution_count": null,
   "id": "bd819662",
   "metadata": {},
   "outputs": [],
   "source": []
  },
  {
   "cell_type": "code",
   "execution_count": null,
   "id": "f8122315",
   "metadata": {},
   "outputs": [],
   "source": []
  },
  {
   "cell_type": "code",
   "execution_count": null,
   "id": "6830d4aa",
   "metadata": {},
   "outputs": [],
   "source": []
  },
  {
   "cell_type": "code",
   "execution_count": null,
   "id": "f06d9f9e",
   "metadata": {},
   "outputs": [],
   "source": []
  },
  {
   "cell_type": "code",
   "execution_count": null,
   "id": "bf8fc00c",
   "metadata": {},
   "outputs": [],
   "source": []
  },
  {
   "cell_type": "code",
   "execution_count": null,
   "id": "ab8e1a20",
   "metadata": {},
   "outputs": [],
   "source": []
  },
  {
   "cell_type": "code",
   "execution_count": null,
   "id": "b5473ea6",
   "metadata": {},
   "outputs": [],
   "source": []
  },
  {
   "cell_type": "code",
   "execution_count": null,
   "id": "d42446aa",
   "metadata": {},
   "outputs": [],
   "source": []
  }
 ],
 "metadata": {
  "kernelspec": {
   "display_name": "Python 3",
   "language": "python",
   "name": "python3"
  },
  "language_info": {
   "codemirror_mode": {
    "name": "ipython",
    "version": 3
   },
   "file_extension": ".py",
   "mimetype": "text/x-python",
   "name": "python",
   "nbconvert_exporter": "python",
   "pygments_lexer": "ipython3",
   "version": "3.8.8"
  }
 },
 "nbformat": 4,
 "nbformat_minor": 5
}
