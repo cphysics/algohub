{
 "cells": [
  {
   "cell_type": "markdown",
   "id": "b3aadeb1",
   "metadata": {},
   "source": [
    "### Binary Search Tree"
   ]
  },
  {
   "cell_type": "markdown",
   "id": "3ab1ccbf",
   "metadata": {},
   "source": [
    "### 1. Check Binary tree\n",
    "1. Given the root of a binary tree. Check whether it is a BST or not.\n",
    "Note: We are considering that BSTs can not contain duplicate Nodes."
   ]
  },
  {
   "cell_type": "code",
   "execution_count": null,
   "id": "0b89f0bb",
   "metadata": {},
   "outputs": [],
   "source": [
    "class Solution:\n",
    "    def isValidBST(self, root: TreeNode) -> bool:\n",
    "\n",
    "        def validate(node, low=-math.inf, high=math.inf):\n",
    "            # Empty trees are valid BSTs.\n",
    "            if not node:\n",
    "                return True\n",
    "            \n",
    "            # The current node's value must be between low and high.\n",
    "            if node.val <= low or node.val >= high:\n",
    "                return False\n",
    "            \n",
    "\n",
    "            # The left and right subtree must also be valid.\n",
    "            return (validate(node.right, node.val, high) and\n",
    "                   validate(node.left, low, node.val))\n",
    "\n",
    "        return validate(root)"
   ]
  },
  {
   "cell_type": "code",
   "execution_count": null,
   "id": "c27f3efd",
   "metadata": {},
   "outputs": [],
   "source": [
    "class Solution:\n",
    "    def isValidBST(self, root: TreeNode) -> bool:\n",
    "\n",
    "        def inorder(root):\n",
    "            if not root:\n",
    "                return True\n",
    "            if not inorder(root.left):\n",
    "                return False\n",
    "            if root.val <= self.prev:\n",
    "                return False\n",
    "            self.prev = root.val\n",
    "            return inorder(root.right)\n",
    "\n",
    "        self.prev = -math.inf\n",
    "        return inorder(root)"
   ]
  },
  {
   "cell_type": "code",
   "execution_count": null,
   "id": "15414070",
   "metadata": {},
   "outputs": [],
   "source": [
    "class Solution:\n",
    "    def isValidBST(self, root: TreeNode) -> bool:\n",
    "        stack, prev = [], -math.inf\n",
    "\n",
    "        while stack or root:\n",
    "            while root:\n",
    "                stack.append(root)\n",
    "                root = root.left\n",
    "            root = stack.pop()\n",
    "            # If next element in inorder traversal\n",
    "            # is smaller than the previous one\n",
    "            # that's not BST.\n",
    "            if root.val <= prev:\n",
    "                return False\n",
    "            prev = root.val\n",
    "            root = root.right\n",
    "\n",
    "        return True"
   ]
  },
  {
   "cell_type": "markdown",
   "id": "1517c448",
   "metadata": {},
   "source": [
    "### 2. Print left elements of the binary tree"
   ]
  },
  {
   "cell_type": "code",
   "execution_count": 2,
   "id": "2abfa91d",
   "metadata": {},
   "outputs": [],
   "source": [
    "# A class to store a binary tree node\n",
    "class Node:\n",
    "    def __init__(self, key=None, left=None, right=None):\n",
    "        self.key = key\n",
    "        self.left = left\n",
    "        self.right = right\n",
    " \n",
    " \n",
    "# Recursive function to traverse the nodes in a preorder fashion\n",
    "def leftView(root, level, d):\n",
    " \n",
    "    # base case\n",
    "    if root is None:\n",
    "        return\n",
    " \n",
    "    # if the level is visited for the first time, insert the current node\n",
    "    # and level information into the dictionary\n",
    "    if level not in d:\n",
    "        d[level] = root.key\n",
    " \n",
    "    leftView(root.left, level + 1, d)\n",
    "    leftView(root.right, level + 1, d)\n",
    " \n",
    " \n",
    "# Function to print the left view of a given binary tree\n",
    "def printLeftView(root):\n",
    " \n",
    "    # create an empty dictionary to store the first node for each level\n",
    "    d = {}\n",
    " \n",
    "    # traverse the tree and fill the dictionary\n",
    "    leftView(root, 1, d)\n",
    " \n",
    "    # iterate through the dictionary in sorted order of its keys\n",
    "    # and print the left view\n",
    "    for i in range(1, len(d) + 1):\n",
    "        print(d[i], end=' ')\n",
    " \n",
    " \n",
    "if __name__ == '__main__':\n",
    " \n",
    "    root = Node(1)\n",
    "    root.left = Node(2)\n",
    "    root.right = Node(3)\n",
    "    root.left.right = Node(4)\n",
    "    root.right.left = Node(5)\n",
    "    root.right.right = Node(6)\n",
    "    root.right.left.left = Node(7)\n",
    "    root.right.left.right = Node(8)\n",
    " \n",
    "    printLeftView(root)"
   ]
  },
  {
   "cell_type": "markdown",
   "id": "0c118192",
   "metadata": {},
   "source": [
    "### 3. Diameter of a Binary Tree"
   ]
  },
  {
   "cell_type": "code",
   "execution_count": 5,
   "id": "5161c29c",
   "metadata": {},
   "outputs": [],
   "source": [
    "# Definition for a binary tree node.\n",
    "class TreeNode:\n",
    "    def __init__(self, val=0, left=None, right=None):\n",
    "        self.val = val\n",
    "        self.left = left\n",
    "        self.right = right"
   ]
  },
  {
   "cell_type": "code",
   "execution_count": 6,
   "id": "6b8b5105",
   "metadata": {},
   "outputs": [],
   "source": [
    "class Solution:\n",
    "    def diameterOfBinaryTree(self, root: TreeNode) -> int:\n",
    "        diameter = 0\n",
    "\n",
    "        def longest_path(node):\n",
    "            if not node:\n",
    "                return 0\n",
    "            nonlocal diameter\n",
    "            \n",
    "            # recursively find the longest path in\n",
    "            # both left child and right child\n",
    "            left_path = longest_path(node.left)\n",
    "            right_path = longest_path(node.right)\n",
    "\n",
    "            # update the diameter if left_path plus right_path is larger\n",
    "            diameter = max(diameter, left_path + right_path)\n",
    "\n",
    "            # return the longest one between left_path and right_path;\n",
    "            # remember to add 1 for the path connecting the node and its parent\n",
    "            return max(left_path, right_path) + 1\n",
    "\n",
    "        longest_path(root)\n",
    "        return diameter"
   ]
  },
  {
   "cell_type": "code",
   "execution_count": null,
   "id": "b5336739",
   "metadata": {},
   "outputs": [],
   "source": []
  },
  {
   "cell_type": "code",
   "execution_count": null,
   "id": "65572568",
   "metadata": {},
   "outputs": [],
   "source": []
  },
  {
   "cell_type": "code",
   "execution_count": null,
   "id": "cf0b84b6",
   "metadata": {},
   "outputs": [],
   "source": []
  },
  {
   "cell_type": "code",
   "execution_count": null,
   "id": "0a63e1bf",
   "metadata": {},
   "outputs": [],
   "source": []
  },
  {
   "cell_type": "code",
   "execution_count": null,
   "id": "f698cb22",
   "metadata": {},
   "outputs": [],
   "source": []
  }
 ],
 "metadata": {
  "kernelspec": {
   "display_name": "Python 3",
   "language": "python",
   "name": "python3"
  },
  "language_info": {
   "codemirror_mode": {
    "name": "ipython",
    "version": 3
   },
   "file_extension": ".py",
   "mimetype": "text/x-python",
   "name": "python",
   "nbconvert_exporter": "python",
   "pygments_lexer": "ipython3",
   "version": "3.8.8"
  }
 },
 "nbformat": 4,
 "nbformat_minor": 5
}
