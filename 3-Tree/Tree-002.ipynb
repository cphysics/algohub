{
 "cells": [
  {
   "cell_type": "markdown",
   "metadata": {},
   "source": [
    "## Tree"
   ]
  },
  {
   "cell_type": "code",
   "execution_count": 15,
   "metadata": {},
   "outputs": [],
   "source": [
    "A = [i for i in range(1,16)]\n",
    "\n",
    "class Node():\n",
    "    def __init__(self,value):\n",
    "        self.value = value\n",
    "        self.left = None\n",
    "        self.right = None\n",
    "        \n",
    "\n",
    "def create(A):\n",
    "    if not A:\n",
    "        return\n",
    "    mid = len(A)//2\n",
    "    root = Node(A[mid])\n",
    "    root.left = create(A[:mid])\n",
    "    root.right = create(A[mid+1:])\n",
    "    return root"
   ]
  },
  {
   "cell_type": "code",
   "execution_count": 16,
   "metadata": {},
   "outputs": [],
   "source": [
    "Tree = create(A)"
   ]
  },
  {
   "cell_type": "markdown",
   "metadata": {},
   "source": [
    "### 1. Height of the Tree (max)"
   ]
  },
  {
   "cell_type": "code",
   "execution_count": 17,
   "metadata": {},
   "outputs": [],
   "source": [
    "def findHeight(node):\n",
    "    \n",
    "    # when you hit the leaf node\n",
    "    if node is None:\n",
    "        return 0\n",
    "    \n",
    "    #postorder buttom up\n",
    "    else :\n",
    "        # you finish the left first\n",
    "        lheight = findHeight(node.left)\n",
    "        \n",
    "        # you finish the right later\n",
    "        rheight = findHeight(node.right)\n",
    "        \n",
    "    # remember to add root contribution, why max?\n",
    "    return max(lheight,rheight)+1"
   ]
  },
  {
   "cell_type": "code",
   "execution_count": 18,
   "metadata": {},
   "outputs": [
    {
     "data": {
      "text/plain": [
       "4"
      ]
     },
     "execution_count": 18,
     "metadata": {},
     "output_type": "execute_result"
    }
   ],
   "source": [
    "height(Tree)"
   ]
  },
  {
   "cell_type": "markdown",
   "metadata": {},
   "source": [
    "### 2. Minimum depth of the tree (min)"
   ]
  },
  {
   "cell_type": "code",
   "execution_count": 19,
   "metadata": {},
   "outputs": [
    {
     "data": {
      "text/plain": [
       "4"
      ]
     },
     "execution_count": 19,
     "metadata": {},
     "output_type": "execute_result"
    }
   ],
   "source": [
    "def minHeight(root):\n",
    "    \n",
    "    #when you hit the leaf node\n",
    "    if root is None:\n",
    "        return 0\n",
    "    \n",
    "    #postorder buttom up\n",
    "    if root:\n",
    "        # you finish the left first\n",
    "        lheight = minHeight(root.left)\n",
    "        \n",
    "        # you finish the right later\n",
    "        rheight = minHeight(root.right)\n",
    "     \n",
    "    # remember to add root contribution. why min?\n",
    "    return 1 + min(lheight,rheight)\n",
    "\n",
    "minHeight(Tree)"
   ]
  },
  {
   "cell_type": "markdown",
   "metadata": {},
   "source": [
    "### 3. Sum of all elements\n",
    "How do you sum the elements in binary tree?"
   ]
  },
  {
   "cell_type": "code",
   "execution_count": 20,
   "metadata": {},
   "outputs": [],
   "source": [
    "def nodeSum(root): \n",
    "    \n",
    "    #when you hit the leaf nodes\n",
    "    if root is None:\n",
    "        return 0\n",
    "    \n",
    "    \n",
    "    #preorder top down\n",
    "    if root:  \n",
    "        # here is nothing to min or max; just add all\n",
    "        return root.value + nodeSum(root.left) + nodeSum(root.right)\n",
    "    "
   ]
  },
  {
   "cell_type": "code",
   "execution_count": 21,
   "metadata": {},
   "outputs": [
    {
     "data": {
      "text/plain": [
       "120"
      ]
     },
     "execution_count": 21,
     "metadata": {},
     "output_type": "execute_result"
    }
   ],
   "source": [
    "nodeSum(Tree)"
   ]
  },
  {
   "cell_type": "markdown",
   "metadata": {},
   "source": [
    "### 4. Maximum and Minimum element in Tree"
   ]
  },
  {
   "cell_type": "code",
   "execution_count": 22,
   "metadata": {},
   "outputs": [
    {
     "data": {
      "text/plain": [
       "15"
      ]
     },
     "execution_count": 22,
     "metadata": {},
     "output_type": "execute_result"
    }
   ],
   "source": [
    "def maxNode(root): \n",
    "    \n",
    "        # when you hit leaf nodes\n",
    "        if root is None:\n",
    "            return -float('inf')\n",
    "        \n",
    "        \n",
    "        #preorder top down\n",
    "        else:  \n",
    "            # go to left first\n",
    "            left_max = maxNode(root.left)\n",
    "            \n",
    "            # go to right \n",
    "            right_max = maxNode(root.right)\n",
    "            \n",
    "        \n",
    "        return max(root.value, max(left_max,right_max))\n",
    "    \n",
    "maxNode(Tree)"
   ]
  },
  {
   "cell_type": "code",
   "execution_count": 23,
   "metadata": {},
   "outputs": [
    {
     "data": {
      "text/plain": [
       "1"
      ]
     },
     "execution_count": 23,
     "metadata": {},
     "output_type": "execute_result"
    }
   ],
   "source": [
    "def minNode(root): \n",
    "    \n",
    "        if root is None:\n",
    "            return float('inf')\n",
    "        \n",
    "        else:  \n",
    "            left_max = minNode(root.left)\n",
    "            right_max = minNode(root.right)\n",
    "            \n",
    "        #preorder top down\n",
    "        return min(root.value, min(left_max,right_max))\n",
    "    \n",
    "minNode(Tree)"
   ]
  },
  {
   "cell_type": "markdown",
   "metadata": {},
   "source": [
    "### 5. Symmetric Tree (normal not BST)"
   ]
  },
  {
   "cell_type": "code",
   "execution_count": 28,
   "metadata": {},
   "outputs": [],
   "source": [
    "def isSymmetric(root):\n",
    "    \n",
    "    def dfs(root1, root2):\n",
    "        \n",
    "        # what if both roots hav nothing\n",
    "        if not root1 and not root2:\n",
    "            return True\n",
    "        \n",
    "        # what if one of the roots is empty\n",
    "        if not root1 or not root2:\n",
    "            return False\n",
    "        \n",
    "        \n",
    "        return (root1.value == root2.value \n",
    "                and dfs(root1.left, root2.right)\n",
    "                and dfs(root1.right, root2.left))\n",
    "        \n",
    "    if root:\n",
    "        return dfs(root.left, root.right)\n",
    "    return True"
   ]
  },
  {
   "cell_type": "code",
   "execution_count": 29,
   "metadata": {},
   "outputs": [
    {
     "data": {
      "text/plain": [
       "False"
      ]
     },
     "execution_count": 29,
     "metadata": {},
     "output_type": "execute_result"
    }
   ],
   "source": [
    "isSymmetric(Tree)"
   ]
  },
  {
   "cell_type": "markdown",
   "metadata": {},
   "source": [
    "### 6. Same Tree"
   ]
  },
  {
   "cell_type": "code",
   "execution_count": 30,
   "metadata": {},
   "outputs": [],
   "source": [
    "def isSame(t1,t2):\n",
    "    \n",
    "    if t1 is None and t2 is None:\n",
    "        return True\n",
    "    \n",
    "    if not t1 or not t2:\n",
    "        return False\n",
    "    \n",
    "    else:\n",
    "        return t1.value == t2.value \\\n",
    "        and isSame(t1.left, t2.left) \\\n",
    "        and isSame(t1.right,t2.right)\n",
    "        \n",
    "    return False"
   ]
  },
  {
   "cell_type": "code",
   "execution_count": 31,
   "metadata": {},
   "outputs": [
    {
     "data": {
      "text/plain": [
       "True"
      ]
     },
     "execution_count": 31,
     "metadata": {},
     "output_type": "execute_result"
    }
   ],
   "source": [
    "isSame(Tree, Tree)"
   ]
  },
  {
   "cell_type": "markdown",
   "metadata": {},
   "source": [
    "### 7. Invert a binary Tree"
   ]
  },
  {
   "cell_type": "code",
   "execution_count": 33,
   "metadata": {},
   "outputs": [],
   "source": [
    "def invert(root):\n",
    "    \n",
    "    if root:\n",
    "        queue = [root]\n",
    "    \n",
    "        while len(queue)>0:\n",
    "        \n",
    "            temp = queue.pop(0)\n",
    "        \n",
    "            temp.left, temp.right = temp.right, temp.left\n",
    "        \n",
    "            if temp.left:\n",
    "                queue.append(temp.left)\n",
    "            if temp.right:\n",
    "                queue.append(temp.right)\n",
    "        \n",
    "    return root\n",
    "\n",
    "iTree = invert(Tree)"
   ]
  },
  {
   "cell_type": "code",
   "execution_count": 34,
   "metadata": {},
   "outputs": [
    {
     "data": {
      "text/plain": [
       "<__main__.Node at 0x7f8b38301d30>"
      ]
     },
     "execution_count": 34,
     "metadata": {},
     "output_type": "execute_result"
    }
   ],
   "source": [
    "iTree"
   ]
  },
  {
   "cell_type": "markdown",
   "metadata": {},
   "source": [
    "### 8. Collect Leaf nodes"
   ]
  },
  {
   "cell_type": "code",
   "execution_count": 141,
   "metadata": {},
   "outputs": [],
   "source": [
    "def collectLeaf(root):\n",
    "    \n",
    "    def helper(A,root):\n",
    "        if root is None:\n",
    "            return\n",
    "    \n",
    "        if root and root.right is None and root.left is None:\n",
    "            A.append(root.value)\n",
    "        else:\n",
    "            helper(A,root.left)\n",
    "            helper(A,root.right)\n",
    "        return\n",
    "        \n",
    "    A =[]\n",
    "    helper(A,root)\n",
    "    return A"
   ]
  },
  {
   "cell_type": "markdown",
   "metadata": {},
   "source": [
    "![img](https://encrypted-tbn0.gstatic.com/images?q=tbn:ANd9GcTzHTVUXfmjhlJo7rEYknB7ClRDqnQ_ZTHYpw&usqp=CAU)"
   ]
  },
  {
   "cell_type": "code",
   "execution_count": 142,
   "metadata": {},
   "outputs": [
    {
     "data": {
      "text/plain": [
       "[1, 3, 5, 7, 9, 11, 13, 15]"
      ]
     },
     "execution_count": 142,
     "metadata": {},
     "output_type": "execute_result"
    }
   ],
   "source": [
    "collectLeaf(Tree)"
   ]
  },
  {
   "cell_type": "markdown",
   "metadata": {},
   "source": [
    "### 9. Collect root to leaf sum of each path"
   ]
  },
  {
   "cell_type": "code",
   "execution_count": 177,
   "metadata": {},
   "outputs": [
    {
     "data": {
      "text/plain": [
       "[15, 17, 23, 25, 39, 41, 47, 49]"
      ]
     },
     "execution_count": 177,
     "metadata": {},
     "output_type": "execute_result"
    }
   ],
   "source": [
    "def findSum(root):\n",
    "    A = []\n",
    "    currentSum=0\n",
    "    def helper(root, currentSum):\n",
    "        \n",
    "        if root is None:\n",
    "            return\n",
    "        \n",
    "        currentSum = currentSum + root.value\n",
    "        \n",
    "        if root and root.right is None and root.left is None:\n",
    "            A.append(currentSum)\n",
    "            \n",
    "       \n",
    "        helper(root.left, currentSum)\n",
    "        helper(root.right, currentSum)\n",
    "        \n",
    "        return\n",
    "\n",
    "\n",
    "    helper(root,currentSum)\n",
    "    return A\n",
    "    \n",
    "findSum(Tree)        "
   ]
  },
  {
   "cell_type": "markdown",
   "metadata": {},
   "source": [
    "### 10. Is there a path with given sum?"
   ]
  },
  {
   "cell_type": "code",
   "execution_count": 187,
   "metadata": {},
   "outputs": [
    {
     "data": {
      "text/plain": [
       "True"
      ]
     },
     "execution_count": 187,
     "metadata": {},
     "output_type": "execute_result"
    }
   ],
   "source": [
    "def isSum(root, Sum):\n",
    "        \n",
    "        if root is None:\n",
    "            return False\n",
    "        \n",
    "        Sum  -= root.value\n",
    "        \n",
    "        if root and root.right is None and root.left is None:\n",
    "            return Sum==0\n",
    "                \n",
    "        return isSum(root.left, Sum) or isSum(root.right,Sum)\n",
    "    \n",
    "isSum(Tree,15)"
   ]
  },
  {
   "cell_type": "code",
   "execution_count": null,
   "metadata": {},
   "outputs": [],
   "source": []
  }
 ],
 "metadata": {
  "kernelspec": {
   "display_name": "Python 3",
   "language": "python",
   "name": "python3"
  },
  "language_info": {
   "codemirror_mode": {
    "name": "ipython",
    "version": 3
   },
   "file_extension": ".py",
   "mimetype": "text/x-python",
   "name": "python",
   "nbconvert_exporter": "python",
   "pygments_lexer": "ipython3",
   "version": "3.8.8"
  }
 },
 "nbformat": 4,
 "nbformat_minor": 2
}
