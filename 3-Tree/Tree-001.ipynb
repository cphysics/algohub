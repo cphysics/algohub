{
 "cells": [
  {
   "cell_type": "markdown",
   "metadata": {},
   "source": [
    "### Power Set"
   ]
  },
  {
   "cell_type": "code",
   "execution_count": 19,
   "metadata": {},
   "outputs": [],
   "source": [
    "A = [\"A\",\"B\",\"C\"]"
   ]
  },
  {
   "cell_type": "code",
   "execution_count": 18,
   "metadata": {},
   "outputs": [
    {
     "name": "stdout",
     "output_type": "stream",
     "text": [
      "[['A']]\n",
      "[['B'], ['A', 'B']]\n",
      "[['C'], ['A', 'C'], ['B', 'C'], ['A', 'B', 'C']]\n"
     ]
    }
   ],
   "source": [
    "S = [[]]\n",
    "for e in A:\n",
    "    cs = [S[i]+[e] for i in range(len(S))]\n",
    "    print(cs)\n",
    "    for s in cs:\n",
    "        S.append(s)"
   ]
  },
  {
   "cell_type": "code",
   "execution_count": 17,
   "metadata": {},
   "outputs": [
    {
     "data": {
      "text/plain": [
       "[[], ['A'], ['B'], ['A', 'B'], ['C'], ['A', 'C'], ['B', 'C'], ['A', 'B', 'C']]"
      ]
     },
     "execution_count": 17,
     "metadata": {},
     "output_type": "execute_result"
    }
   ],
   "source": [
    "S"
   ]
  },
  {
   "cell_type": "markdown",
   "metadata": {},
   "source": [
    "### Create a binary search tree (BST) from sorted array"
   ]
  },
  {
   "cell_type": "code",
   "execution_count": 170,
   "metadata": {},
   "outputs": [],
   "source": [
    "A = [i for i in range(1,16)]\n",
    "\n",
    "class Node():\n",
    "    def __init__(self,value):\n",
    "        self.value = value\n",
    "        self.left = None\n",
    "        self.right = None\n",
    "        \n",
    "\n",
    "def create(A):\n",
    "    if not A:\n",
    "        return\n",
    "    mid = len(A)//2\n",
    "    root = Node(A[mid])\n",
    "    root.left = create(A[:mid])\n",
    "    root.right = create(A[mid+1:])\n",
    "    return root"
   ]
  },
  {
   "cell_type": "code",
   "execution_count": 171,
   "metadata": {},
   "outputs": [],
   "source": [
    "Tree = create(A)"
   ]
  },
  {
   "cell_type": "markdown",
   "metadata": {},
   "source": [
    "![img](https://encrypted-tbn0.gstatic.com/images?q=tbn:ANd9GcTzHTVUXfmjhlJo7rEYknB7ClRDqnQ_ZTHYpw&usqp=CAU)"
   ]
  },
  {
   "cell_type": "code",
   "execution_count": 31,
   "metadata": {},
   "outputs": [
    {
     "data": {
      "text/plain": [
       "(8, 4, 12)"
      ]
     },
     "execution_count": 31,
     "metadata": {},
     "output_type": "execute_result"
    }
   ],
   "source": [
    "Tree.value,Tree.left.value,Tree.right.value"
   ]
  },
  {
   "cell_type": "markdown",
   "metadata": {},
   "source": [
    "### Depth First Search\n",
    "Collect all elements from the tree\n",
    "\n",
    "#### 1. Inorder"
   ]
  },
  {
   "cell_type": "code",
   "execution_count": 32,
   "metadata": {},
   "outputs": [],
   "source": [
    "def printInorder(root): \n",
    "  \n",
    "    if root:  \n",
    "        printInorder(root.left) \n",
    "        print(root.value)\n",
    "        printInorder(root.right) "
   ]
  },
  {
   "cell_type": "code",
   "execution_count": 52,
   "metadata": {},
   "outputs": [],
   "source": [
    "#printInorder(Tree)"
   ]
  },
  {
   "cell_type": "code",
   "execution_count": 40,
   "metadata": {},
   "outputs": [],
   "source": [
    "def collectInorder(A,root): \n",
    "    if root: \n",
    "        collectInorder(A,root.left) \n",
    "        A.append(root.value)\n",
    "        collectInorder(A, root.right) \n",
    "    return A\n",
    "        "
   ]
  },
  {
   "cell_type": "markdown",
   "metadata": {},
   "source": [
    "![img](https://encrypted-tbn0.gstatic.com/images?q=tbn:ANd9GcTzHTVUXfmjhlJo7rEYknB7ClRDqnQ_ZTHYpw&usqp=CAU)"
   ]
  },
  {
   "cell_type": "code",
   "execution_count": 56,
   "metadata": {},
   "outputs": [
    {
     "data": {
      "text/plain": [
       "[1, 2, 3, 4, 5, 6, 7, 8, 9, 10, 11, 12, 13, 14, 15]"
      ]
     },
     "execution_count": 56,
     "metadata": {},
     "output_type": "execute_result"
    }
   ],
   "source": [
    "IA = []\n",
    "collectInorder(IA, Tree)"
   ]
  },
  {
   "cell_type": "markdown",
   "metadata": {},
   "source": [
    "#### 2. Post Order"
   ]
  },
  {
   "cell_type": "code",
   "execution_count": 57,
   "metadata": {},
   "outputs": [],
   "source": [
    "def printPostorder(root): \n",
    "  \n",
    "    if root: \n",
    "        printPostorder(root.left) \n",
    "        printPostorder(root.right) \n",
    "        print(root.value)\n",
    "  "
   ]
  },
  {
   "cell_type": "code",
   "execution_count": 55,
   "metadata": {},
   "outputs": [],
   "source": [
    "#printPostorder(Tree)"
   ]
  },
  {
   "cell_type": "code",
   "execution_count": 58,
   "metadata": {},
   "outputs": [],
   "source": [
    "def collectPostorder(A,root): \n",
    "    if root: \n",
    "        collectPostorder(A,root.left) \n",
    "        collectPostorder(A, root.right) \n",
    "        A.append(root.value)\n",
    "    return A"
   ]
  },
  {
   "cell_type": "markdown",
   "metadata": {},
   "source": [
    "![img](https://encrypted-tbn0.gstatic.com/images?q=tbn:ANd9GcTzHTVUXfmjhlJo7rEYknB7ClRDqnQ_ZTHYpw&usqp=CAU)"
   ]
  },
  {
   "cell_type": "code",
   "execution_count": 60,
   "metadata": {},
   "outputs": [
    {
     "data": {
      "text/plain": [
       "[1, 3, 2, 5, 7, 6, 4, 9, 11, 10, 13, 15, 14, 12, 8]"
      ]
     },
     "execution_count": 60,
     "metadata": {},
     "output_type": "execute_result"
    }
   ],
   "source": [
    "PoA = []\n",
    "collectPostorder(PoA, Tree)"
   ]
  },
  {
   "cell_type": "markdown",
   "metadata": {},
   "source": [
    "#### 3. Preorder"
   ]
  },
  {
   "cell_type": "code",
   "execution_count": 62,
   "metadata": {},
   "outputs": [],
   "source": [
    "def printPreorder(root): \n",
    "  \n",
    "    if root: \n",
    "        print(root.value)\n",
    "        printPreorder(root.left)  \n",
    "        printPreorder(root.right) "
   ]
  },
  {
   "cell_type": "code",
   "execution_count": 63,
   "metadata": {},
   "outputs": [],
   "source": [
    "#printPreorder(Tree)"
   ]
  },
  {
   "cell_type": "code",
   "execution_count": 68,
   "metadata": {},
   "outputs": [],
   "source": [
    "def collectPreorder(A,root): \n",
    "    if root: \n",
    "        A.append(root.value)\n",
    "        collectPreorder(A,root.left) \n",
    "        collectPreorder(A, root.right) \n",
    "    return A"
   ]
  },
  {
   "cell_type": "markdown",
   "metadata": {},
   "source": [
    "![img](https://encrypted-tbn0.gstatic.com/images?q=tbn:ANd9GcTzHTVUXfmjhlJo7rEYknB7ClRDqnQ_ZTHYpw&usqp=CAU)"
   ]
  },
  {
   "cell_type": "code",
   "execution_count": 69,
   "metadata": {},
   "outputs": [
    {
     "data": {
      "text/plain": [
       "[8, 4, 2, 1, 3, 6, 5, 7, 12, 10, 9, 11, 14, 13, 15]"
      ]
     },
     "execution_count": 69,
     "metadata": {},
     "output_type": "execute_result"
    }
   ],
   "source": [
    "PrA = []\n",
    "collectPreorder(PrA, Tree)"
   ]
  },
  {
   "cell_type": "markdown",
   "metadata": {},
   "source": [
    "### Breadth First Search"
   ]
  },
  {
   "cell_type": "code",
   "execution_count": 76,
   "metadata": {},
   "outputs": [],
   "source": [
    "def collectLevelOrder(root):\n",
    "   \n",
    "    if root is None:\n",
    "        return\n",
    "     \n",
    "    \n",
    "    queue = []\n",
    "    queue.append(root)\n",
    "    A = []\n",
    " \n",
    "    while(len(queue) > 0):\n",
    "       \n",
    "        A.append(queue[0].value)\n",
    "        node = queue.pop(0)\n",
    " \n",
    "        if node.left is not None:\n",
    "            queue.append(node.left)\n",
    "        if node.right is not None:\n",
    "            queue.append(node.right)\n",
    "    return A"
   ]
  },
  {
   "cell_type": "markdown",
   "metadata": {},
   "source": [
    "![img](https://encrypted-tbn0.gstatic.com/images?q=tbn:ANd9GcTzHTVUXfmjhlJo7rEYknB7ClRDqnQ_ZTHYpw&usqp=CAU)"
   ]
  },
  {
   "cell_type": "code",
   "execution_count": 77,
   "metadata": {},
   "outputs": [
    {
     "data": {
      "text/plain": [
       "[8, 4, 12, 2, 6, 10, 14, 1, 3, 5, 7, 9, 11, 13, 15]"
      ]
     },
     "execution_count": 77,
     "metadata": {},
     "output_type": "execute_result"
    }
   ],
   "source": [
    "collectLevelOrder(Tree)"
   ]
  },
  {
   "cell_type": "markdown",
   "metadata": {},
   "source": [
    "#### Height of the Tree"
   ]
  },
  {
   "cell_type": "code",
   "execution_count": 82,
   "metadata": {},
   "outputs": [],
   "source": [
    "def height(node):\n",
    "    if node is None:\n",
    "        return 0\n",
    "    else :\n",
    "        lheight = height(node.left)\n",
    "        rheight = height(node.right)\n",
    "        \n",
    "    #postorder buttom up\n",
    "    return max(lheight,rheight)+1"
   ]
  },
  {
   "cell_type": "code",
   "execution_count": 83,
   "metadata": {},
   "outputs": [
    {
     "data": {
      "text/plain": [
       "4"
      ]
     },
     "execution_count": 83,
     "metadata": {},
     "output_type": "execute_result"
    }
   ],
   "source": [
    "height(Tree)"
   ]
  },
  {
   "cell_type": "markdown",
   "metadata": {},
   "source": [
    "#### Minimum depth of the tree"
   ]
  },
  {
   "cell_type": "code",
   "execution_count": 165,
   "metadata": {},
   "outputs": [
    {
     "data": {
      "text/plain": [
       "4"
      ]
     },
     "execution_count": 165,
     "metadata": {},
     "output_type": "execute_result"
    }
   ],
   "source": [
    "def minHeight(root):\n",
    "    if root is None:\n",
    "        return 0\n",
    "    \n",
    "    if root:\n",
    "        lheight = minHeight(root.left)\n",
    "        rheight = minHeight(root.right)\n",
    "        \n",
    "    return 1 + min(lheight,rheight)\n",
    "\n",
    "minHeight(Tree)"
   ]
  },
  {
   "cell_type": "markdown",
   "metadata": {},
   "source": [
    "#### Sum of all elements"
   ]
  },
  {
   "cell_type": "code",
   "execution_count": 110,
   "metadata": {},
   "outputs": [],
   "source": [
    "def nodeSum(root): \n",
    "    \n",
    "    if root is None:\n",
    "        return 0\n",
    "    \n",
    "    #preorder top down\n",
    "    if root:  \n",
    "        return root.value + nodeSum(root.left) + nodeSum(root.right)\n",
    "    "
   ]
  },
  {
   "cell_type": "code",
   "execution_count": 112,
   "metadata": {},
   "outputs": [
    {
     "data": {
      "text/plain": [
       "120"
      ]
     },
     "execution_count": 112,
     "metadata": {},
     "output_type": "execute_result"
    }
   ],
   "source": [
    "nodeSum(Tree)"
   ]
  },
  {
   "cell_type": "markdown",
   "metadata": {},
   "source": [
    "#### Maximum and Minimum element in Tree"
   ]
  },
  {
   "cell_type": "code",
   "execution_count": 134,
   "metadata": {},
   "outputs": [
    {
     "data": {
      "text/plain": [
       "15"
      ]
     },
     "execution_count": 134,
     "metadata": {},
     "output_type": "execute_result"
    }
   ],
   "source": [
    "def maxNode(root): \n",
    "    \n",
    "        if root is None:\n",
    "            return float('-inf')\n",
    "        \n",
    "        else:  \n",
    "            left_max = maxNode(root.left)\n",
    "            right_max = maxNode(root.right)\n",
    "        #preorder top down\n",
    "        return max(root.value, max(left_max,right_max))\n",
    "    \n",
    "maxNode(Tree)"
   ]
  },
  {
   "cell_type": "code",
   "execution_count": 136,
   "metadata": {},
   "outputs": [
    {
     "data": {
      "text/plain": [
       "1"
      ]
     },
     "execution_count": 136,
     "metadata": {},
     "output_type": "execute_result"
    }
   ],
   "source": [
    "def minNode(root): \n",
    "    \n",
    "        if root is None:\n",
    "            return float('inf')\n",
    "        \n",
    "        else:  \n",
    "            left_max = minNode(root.left)\n",
    "            right_max = minNode(root.right)\n",
    "        #preorder top down\n",
    "        return min(root.value, min(left_max,right_max))\n",
    "    \n",
    "minNode(Tree)"
   ]
  },
  {
   "cell_type": "code",
   "execution_count": 150,
   "metadata": {},
   "outputs": [
    {
     "ename": "SyntaxError",
     "evalue": "invalid syntax (<ipython-input-150-d66a5e050bd4>, line 4)",
     "output_type": "error",
     "traceback": [
      "\u001b[0;36m  File \u001b[0;32m\"<ipython-input-150-d66a5e050bd4>\"\u001b[0;36m, line \u001b[0;32m4\u001b[0m\n\u001b[0;31m    mx nonlocal\u001b[0m\n\u001b[0m              ^\u001b[0m\n\u001b[0;31mSyntaxError\u001b[0m\u001b[0;31m:\u001b[0m invalid syntax\n"
     ]
    }
   ],
   "source": [
    "def maxNode2(root): \n",
    "    \n",
    "    def helper(mx,root):\n",
    "        mx nonlocal\n",
    "        if root is None:\n",
    "            return mx\n",
    "        \n",
    "        else:  \n",
    "            mx = max(root.value,mx)\n",
    "            helper(mx,root.left)\n",
    "            helper(mx,root.right)\n",
    "            \n",
    "        return \n",
    "    \n",
    "    mx = float('-inf')\n",
    "    helper(mx,root)\n",
    "    return mx\n",
    "    \n",
    "    \n",
    "maxNode2(Tree)"
   ]
  },
  {
   "cell_type": "markdown",
   "metadata": {},
   "source": [
    "#### Symmetric Tree (normal not BST)"
   ]
  },
  {
   "cell_type": "code",
   "execution_count": 121,
   "metadata": {},
   "outputs": [],
   "source": [
    "def isSymmetric(root):\n",
    "    \n",
    "    def helper(root1,root2):\n",
    "        if root1 is None and root2 is None:\n",
    "            return True\n",
    "        else:\n",
    "            return root1.value==root2.value \\\n",
    "            and root1.right==root2.left \\\n",
    "            and root1.left==root2.right\n",
    "        \n",
    "        return False\n",
    "            \n",
    "    if root:\n",
    "        return helper(root.right,root.left)"
   ]
  },
  {
   "cell_type": "code",
   "execution_count": 122,
   "metadata": {},
   "outputs": [
    {
     "data": {
      "text/plain": [
       "False"
      ]
     },
     "execution_count": 122,
     "metadata": {},
     "output_type": "execute_result"
    }
   ],
   "source": [
    "isSymmetric(Tree)"
   ]
  },
  {
   "cell_type": "markdown",
   "metadata": {},
   "source": [
    "#### Same Tree"
   ]
  },
  {
   "cell_type": "code",
   "execution_count": 125,
   "metadata": {},
   "outputs": [],
   "source": [
    "def isSame(t1,t2):\n",
    "    if t1 is None and t2 is None:\n",
    "        return True\n",
    "    else:\n",
    "        return t1.value == t2.value \\\n",
    "        and isSame(t1.left, t2.left) \\\n",
    "        and isSame(t1.right,t2.right)\n",
    "        \n",
    "    return False"
   ]
  },
  {
   "cell_type": "code",
   "execution_count": 126,
   "metadata": {},
   "outputs": [
    {
     "data": {
      "text/plain": [
       "True"
      ]
     },
     "execution_count": 126,
     "metadata": {},
     "output_type": "execute_result"
    }
   ],
   "source": [
    "isSame(Tree, Tree)"
   ]
  },
  {
   "cell_type": "markdown",
   "metadata": {},
   "source": [
    "#### Invert a binary Tree"
   ]
  },
  {
   "cell_type": "code",
   "execution_count": 158,
   "metadata": {},
   "outputs": [
    {
     "data": {
      "text/plain": [
       "[7, 6, 5, 4, 3, 2, 1, 8, 11, 10, 9, 12, 15, 14, 13]"
      ]
     },
     "execution_count": 158,
     "metadata": {},
     "output_type": "execute_result"
    }
   ],
   "source": [
    "def invert(root):\n",
    "    \n",
    "    if root:\n",
    "        queue = [root]\n",
    "    \n",
    "        while len(queue)>0:\n",
    "        \n",
    "            cnode = queue.pop(0)\n",
    "        \n",
    "            cnode.left, cnode.right = cnode.right, cnode.left\n",
    "        \n",
    "            if cnode.left:\n",
    "                queue.append(cnode.left)\n",
    "            if cnode.right:\n",
    "                queue.append(cnode.right)\n",
    "        \n",
    "    return root\n",
    "\n",
    "iTree = invert(Tree)\n",
    "IA = []\n",
    "collectInorder(IA, iTree)"
   ]
  },
  {
   "cell_type": "markdown",
   "metadata": {},
   "source": [
    "#### Collect Leaf nodes"
   ]
  },
  {
   "cell_type": "code",
   "execution_count": 141,
   "metadata": {},
   "outputs": [],
   "source": [
    "def collectLeaf(root):\n",
    "    \n",
    "    def helper(A,root):\n",
    "        if root is None:\n",
    "            return\n",
    "    \n",
    "        if root and root.right is None and root.left is None:\n",
    "            A.append(root.value)\n",
    "        else:\n",
    "            helper(A,root.left)\n",
    "            helper(A,root.right)\n",
    "        return\n",
    "        \n",
    "    A =[]\n",
    "    helper(A,root)\n",
    "    return A"
   ]
  },
  {
   "cell_type": "markdown",
   "metadata": {},
   "source": [
    "![img](https://encrypted-tbn0.gstatic.com/images?q=tbn:ANd9GcTzHTVUXfmjhlJo7rEYknB7ClRDqnQ_ZTHYpw&usqp=CAU)"
   ]
  },
  {
   "cell_type": "code",
   "execution_count": 142,
   "metadata": {},
   "outputs": [
    {
     "data": {
      "text/plain": [
       "[1, 3, 5, 7, 9, 11, 13, 15]"
      ]
     },
     "execution_count": 142,
     "metadata": {},
     "output_type": "execute_result"
    }
   ],
   "source": [
    "collectLeaf(Tree)"
   ]
  },
  {
   "cell_type": "markdown",
   "metadata": {},
   "source": [
    "#### Collect root to leaf sum of each path"
   ]
  },
  {
   "cell_type": "code",
   "execution_count": 177,
   "metadata": {},
   "outputs": [
    {
     "data": {
      "text/plain": [
       "[15, 17, 23, 25, 39, 41, 47, 49]"
      ]
     },
     "execution_count": 177,
     "metadata": {},
     "output_type": "execute_result"
    }
   ],
   "source": [
    "def findSum(root):\n",
    "    A = []\n",
    "    currentSum=0\n",
    "    def helper(root, currentSum):\n",
    "        \n",
    "        if root is None:\n",
    "            return\n",
    "        \n",
    "        currentSum = currentSum + root.value\n",
    "        \n",
    "        if root and root.right is None and root.left is None:\n",
    "            A.append(currentSum)\n",
    "            \n",
    "       \n",
    "        helper(root.left, currentSum)\n",
    "        helper(root.right, currentSum)\n",
    "        \n",
    "        return\n",
    "\n",
    "\n",
    "    helper(root,currentSum)\n",
    "    return A\n",
    "    \n",
    "findSum(Tree)        "
   ]
  },
  {
   "cell_type": "markdown",
   "metadata": {},
   "source": [
    "#### Is there a path with given sum?"
   ]
  },
  {
   "cell_type": "code",
   "execution_count": 187,
   "metadata": {},
   "outputs": [
    {
     "data": {
      "text/plain": [
       "True"
      ]
     },
     "execution_count": 187,
     "metadata": {},
     "output_type": "execute_result"
    }
   ],
   "source": [
    "def isSum(root, Sum):\n",
    "        \n",
    "        if root is None:\n",
    "            return False\n",
    "        \n",
    "        Sum  -= root.value\n",
    "        \n",
    "        if root and root.right is None and root.left is None:\n",
    "            return Sum==0\n",
    "                \n",
    "        return isSum(root.left, Sum) or isSum(root.right,Sum)\n",
    "    \n",
    "isSum(Tree,15)"
   ]
  },
  {
   "cell_type": "code",
   "execution_count": null,
   "metadata": {},
   "outputs": [],
   "source": []
  }
 ],
 "metadata": {
  "kernelspec": {
   "display_name": "Python 3",
   "language": "python",
   "name": "python3"
  },
  "language_info": {
   "codemirror_mode": {
    "name": "ipython",
    "version": 3
   },
   "file_extension": ".py",
   "mimetype": "text/x-python",
   "name": "python",
   "nbconvert_exporter": "python",
   "pygments_lexer": "ipython3",
   "version": "3.6.6"
  }
 },
 "nbformat": 4,
 "nbformat_minor": 2
}
