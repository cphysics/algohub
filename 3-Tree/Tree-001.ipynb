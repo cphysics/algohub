{
 "cells": [
  {
   "cell_type": "markdown",
   "metadata": {},
   "source": [
    "## Tree (Intro)\n",
    "DFS and BFS"
   ]
  },
  {
   "cell_type": "markdown",
   "metadata": {},
   "source": [
    "![img](https://leetcode.com/problems/validate-binary-search-tree/Figures/145_transverse.png)"
   ]
  },
  {
   "cell_type": "markdown",
   "metadata": {},
   "source": [
    "### Create a binary search tree (BST) from sorted array"
   ]
  },
  {
   "cell_type": "code",
   "execution_count": 1,
   "metadata": {},
   "outputs": [],
   "source": [
    "A = [i for i in range(1,16)]\n",
    "\n",
    "class Node():\n",
    "    def __init__(self,value):\n",
    "        self.value = value\n",
    "        self.left = None\n",
    "        self.right = None\n",
    "        \n",
    "\n",
    "def create(A):\n",
    "    if not A:\n",
    "        return\n",
    "    mid = len(A)//2\n",
    "    root = Node(A[mid])\n",
    "    root.left = create(A[:mid])\n",
    "    root.right = create(A[mid+1:])\n",
    "    return root"
   ]
  },
  {
   "cell_type": "code",
   "execution_count": 2,
   "metadata": {},
   "outputs": [],
   "source": [
    "Tree = create(A)"
   ]
  },
  {
   "cell_type": "markdown",
   "metadata": {},
   "source": [
    "![img](https://encrypted-tbn0.gstatic.com/images?q=tbn:ANd9GcTzHTVUXfmjhlJo7rEYknB7ClRDqnQ_ZTHYpw&usqp=CAU)"
   ]
  },
  {
   "cell_type": "code",
   "execution_count": 3,
   "metadata": {},
   "outputs": [
    {
     "data": {
      "text/plain": [
       "(8, 4, 12)"
      ]
     },
     "execution_count": 3,
     "metadata": {},
     "output_type": "execute_result"
    }
   ],
   "source": [
    "Tree.value,Tree.left.value,Tree.right.value"
   ]
  },
  {
   "cell_type": "markdown",
   "metadata": {},
   "source": [
    "### Depth First Search\n",
    "Collect all elements from the tree\n",
    "\n",
    "#### 1. Inorder (left to right)"
   ]
  },
  {
   "cell_type": "code",
   "execution_count": 4,
   "metadata": {},
   "outputs": [],
   "source": [
    "def printInorder(root): \n",
    "  \n",
    "    if root:  \n",
    "        printInorder(root.left) \n",
    "        print(root.value)\n",
    "        printInorder(root.right) "
   ]
  },
  {
   "cell_type": "code",
   "execution_count": 5,
   "metadata": {},
   "outputs": [],
   "source": [
    "#printInorder(Tree)"
   ]
  },
  {
   "cell_type": "code",
   "execution_count": 6,
   "metadata": {},
   "outputs": [],
   "source": [
    "def collectInorder(A,root): \n",
    "    if root: \n",
    "        collectInorder(A,root.left) \n",
    "        A.append(root.value)\n",
    "        collectInorder(A, root.right) \n",
    "    return A\n",
    "        "
   ]
  },
  {
   "cell_type": "markdown",
   "metadata": {},
   "source": [
    "![img](https://encrypted-tbn0.gstatic.com/images?q=tbn:ANd9GcTzHTVUXfmjhlJo7rEYknB7ClRDqnQ_ZTHYpw&usqp=CAU)"
   ]
  },
  {
   "cell_type": "code",
   "execution_count": 7,
   "metadata": {},
   "outputs": [
    {
     "data": {
      "text/plain": [
       "[1, 2, 3, 4, 5, 6, 7, 8, 9, 10, 11, 12, 13, 14, 15]"
      ]
     },
     "execution_count": 7,
     "metadata": {},
     "output_type": "execute_result"
    }
   ],
   "source": [
    "IA = []\n",
    "collectInorder(IA, Tree)"
   ]
  },
  {
   "cell_type": "markdown",
   "metadata": {},
   "source": [
    "#### 2. Post Order (buttom up)"
   ]
  },
  {
   "cell_type": "code",
   "execution_count": 57,
   "metadata": {},
   "outputs": [],
   "source": [
    "def printPostorder(root): \n",
    "  \n",
    "    if root: \n",
    "        printPostorder(root.left) \n",
    "        printPostorder(root.right) \n",
    "        print(root.value)\n",
    "  "
   ]
  },
  {
   "cell_type": "code",
   "execution_count": 55,
   "metadata": {},
   "outputs": [],
   "source": [
    "#printPostorder(Tree)"
   ]
  },
  {
   "cell_type": "code",
   "execution_count": 58,
   "metadata": {},
   "outputs": [],
   "source": [
    "def collectPostorder(A,root): \n",
    "    if root: \n",
    "        collectPostorder(A,root.left) \n",
    "        collectPostorder(A, root.right) \n",
    "        A.append(root.value)\n",
    "    return A"
   ]
  },
  {
   "cell_type": "markdown",
   "metadata": {},
   "source": [
    "![img](https://encrypted-tbn0.gstatic.com/images?q=tbn:ANd9GcTzHTVUXfmjhlJo7rEYknB7ClRDqnQ_ZTHYpw&usqp=CAU)"
   ]
  },
  {
   "cell_type": "code",
   "execution_count": 60,
   "metadata": {},
   "outputs": [
    {
     "data": {
      "text/plain": [
       "[1, 3, 2, 5, 7, 6, 4, 9, 11, 10, 13, 15, 14, 12, 8]"
      ]
     },
     "execution_count": 60,
     "metadata": {},
     "output_type": "execute_result"
    }
   ],
   "source": [
    "PoA = []\n",
    "collectPostorder(PoA, Tree)"
   ]
  },
  {
   "cell_type": "markdown",
   "metadata": {},
   "source": [
    "#### 3. Preorder (top down)"
   ]
  },
  {
   "cell_type": "code",
   "execution_count": 62,
   "metadata": {},
   "outputs": [],
   "source": [
    "def printPreorder(root): \n",
    "  \n",
    "    if root: \n",
    "        print(root.value)\n",
    "        printPreorder(root.left)  \n",
    "        printPreorder(root.right) "
   ]
  },
  {
   "cell_type": "code",
   "execution_count": 63,
   "metadata": {},
   "outputs": [],
   "source": [
    "#printPreorder(Tree)"
   ]
  },
  {
   "cell_type": "code",
   "execution_count": 68,
   "metadata": {},
   "outputs": [],
   "source": [
    "def collectPreorder(A,root): \n",
    "    if root: \n",
    "        A.append(root.value)\n",
    "        collectPreorder(A,root.left) \n",
    "        collectPreorder(A, root.right) \n",
    "    return A"
   ]
  },
  {
   "cell_type": "markdown",
   "metadata": {},
   "source": [
    "![img](https://encrypted-tbn0.gstatic.com/images?q=tbn:ANd9GcTzHTVUXfmjhlJo7rEYknB7ClRDqnQ_ZTHYpw&usqp=CAU)"
   ]
  },
  {
   "cell_type": "code",
   "execution_count": 69,
   "metadata": {},
   "outputs": [
    {
     "data": {
      "text/plain": [
       "[8, 4, 2, 1, 3, 6, 5, 7, 12, 10, 9, 11, 14, 13, 15]"
      ]
     },
     "execution_count": 69,
     "metadata": {},
     "output_type": "execute_result"
    }
   ],
   "source": [
    "PrA = []\n",
    "collectPreorder(PrA, Tree)"
   ]
  },
  {
   "cell_type": "markdown",
   "metadata": {},
   "source": [
    "### Breadth First Search"
   ]
  },
  {
   "cell_type": "code",
   "execution_count": 76,
   "metadata": {},
   "outputs": [],
   "source": [
    "def collectLevelOrder(root):\n",
    "   \n",
    "    if root is None:\n",
    "        return\n",
    "     \n",
    "    \n",
    "    queue = []\n",
    "    queue.append(root)\n",
    "    A = []\n",
    " \n",
    "    while(len(queue) > 0):\n",
    "       \n",
    "        A.append(queue[0].value)\n",
    "        node = queue.pop(0)\n",
    " \n",
    "        if node.left is not None:\n",
    "            queue.append(node.left)\n",
    "        if node.right is not None:\n",
    "            queue.append(node.right)\n",
    "    return A"
   ]
  },
  {
   "cell_type": "markdown",
   "metadata": {},
   "source": [
    "![img](https://encrypted-tbn0.gstatic.com/images?q=tbn:ANd9GcTzHTVUXfmjhlJo7rEYknB7ClRDqnQ_ZTHYpw&usqp=CAU)"
   ]
  },
  {
   "cell_type": "code",
   "execution_count": 77,
   "metadata": {},
   "outputs": [
    {
     "data": {
      "text/plain": [
       "[8, 4, 12, 2, 6, 10, 14, 1, 3, 5, 7, 9, 11, 13, 15]"
      ]
     },
     "execution_count": 77,
     "metadata": {},
     "output_type": "execute_result"
    }
   ],
   "source": [
    "collectLevelOrder(Tree)"
   ]
  },
  {
   "cell_type": "code",
   "execution_count": null,
   "metadata": {},
   "outputs": [],
   "source": []
  },
  {
   "cell_type": "code",
   "execution_count": null,
   "metadata": {},
   "outputs": [],
   "source": []
  },
  {
   "cell_type": "code",
   "execution_count": null,
   "metadata": {},
   "outputs": [],
   "source": []
  },
  {
   "cell_type": "code",
   "execution_count": null,
   "metadata": {},
   "outputs": [],
   "source": []
  },
  {
   "cell_type": "code",
   "execution_count": null,
   "metadata": {},
   "outputs": [],
   "source": []
  },
  {
   "cell_type": "code",
   "execution_count": null,
   "metadata": {},
   "outputs": [],
   "source": []
  }
 ],
 "metadata": {
  "kernelspec": {
   "display_name": "Python 3",
   "language": "python",
   "name": "python3"
  },
  "language_info": {
   "codemirror_mode": {
    "name": "ipython",
    "version": 3
   },
   "file_extension": ".py",
   "mimetype": "text/x-python",
   "name": "python",
   "nbconvert_exporter": "python",
   "pygments_lexer": "ipython3",
   "version": "3.8.8"
  }
 },
 "nbformat": 4,
 "nbformat_minor": 2
}
