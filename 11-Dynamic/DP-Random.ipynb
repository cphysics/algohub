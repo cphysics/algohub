{
 "cells": [
  {
   "cell_type": "markdown",
   "metadata": {},
   "source": [
    "## Dynamic Algorithm"
   ]
  },
  {
   "cell_type": "markdown",
   "metadata": {},
   "source": [
    "### Water and Jug Problem***\n",
    "\n",
    "You are given two jugs with capacities x and y litres. There is an infinite amount of water supply available. You need to determine whether it is possible to measure exactly z litres using these two jugs.\n",
    "\n",
    "\n",
    "If z liters of water is measurable, you must have z liters of water contained within one or both buckets by the end.\n",
    "\n",
    "Operations allowed:\n",
    "\n",
    "    Fill any of the jugs completely with water.\n",
    "    Empty any of the jugs.\n",
    "    Pour water from one jug into another till the other jug is completely full or the first jug itself is empty."
   ]
  },
  {
   "cell_type": "markdown",
   "metadata": {},
   "source": [
    "x = 4, y = 5, z = 3?\n",
    "\n",
    "1. fill x\n",
    "2. pour x to y\n",
    "3. fill x\n",
    "4. pour some amount to y till it fills\n",
    "5. x will have 3 left\n",
    "\n",
    "x = 4, y = 5, z = 1?\n",
    "1. Fill y\n",
    "2. Pour some amount to x till it fills, y will be left with 1\n",
    "\n",
    "x = 4, y = 5, z = 2?\n",
    "\n",
    "1. Fill y\n",
    "2. Pour some amount to x till it fills, y will be left with 1\n",
    "3. empty the x\n",
    "4. fill x with 1 from y\n",
    "5. fill y full\n",
    "6. fill x full from y\n",
    "7. y left with 2"
   ]
  },
  {
   "cell_type": "code",
   "execution_count": null,
   "metadata": {},
   "outputs": [],
   "source": [
    "def canMeasureWater(x, y, z):\n",
    "    \n",
    "    if x>y:\n",
    "        x,y = y,x\n",
    "        \n",
    "    if z> x+y:\n",
    "        return False\n",
    "    \n",
    "    visited = set((0,0))\n",
    "    queue = [(0,0)]\n",
    "    while len(queue)>0:\n",
    "        a,b = queue.pop(0)\n",
    "        if a+b = z:\n",
    "            return True\n",
    "        \n",
    "        ststes = set()\n",
    "        \n",
    "        # fill jar x\n",
    "        states.add(x,b)\n",
    "        # fill jar y\n",
    "        states.add(a,y)\n",
    "        # empty jar x\n",
    "        states.add(0,b)\n",
    "        # empty jar y\n",
    "        states.add(a,0)\n",
    "        \n",
    "        # pour jar y to x\n",
    "        states.add((min(x, b + a),0 if b < x - a else b - (x - a))) \n",
    "        \n",
    "        # pour jar x to y\n",
    "        states.add((0 if a + b < y else a - (y - b), min(b + a, y))) \n",
    "        \n",
    "        for state in states:\n",
    "            if state in visited:\n",
    "                continue;\n",
    "            queue.append(state)\n",
    "            visited.add(state)\n",
    "    return False"
   ]
  },
  {
   "cell_type": "markdown",
   "metadata": {},
   "source": [
    "### [Word Break](https://leetcode.com/problems/word-break/)\n",
    "\n",
    "Given a string s and a dictionary of strings wordDict, return true if s can be segmented into a space-separated sequence of one or more dictionary words.\n",
    "\n",
    "Note that the same word in the dictionary may be reused multiple times in the segmentation.\n",
    "\n"
   ]
  },
  {
   "cell_type": "code",
   "execution_count": null,
   "metadata": {},
   "outputs": [],
   "source": [
    "class Solution:\n",
    "    def wordBreak(self, s: str, wordDict: List[str]) -> bool:\n",
    "        def wordBreakRecur(s: str, word_dict: Set[str], start: int):\n",
    "            if start == len(s):\n",
    "                return True\n",
    "            for end in range(start + 1, len(s) + 1):\n",
    "                if s[start:end] in word_dict and wordBreakRecur(s, word_dict, end):\n",
    "                    return True\n",
    "            return False\n",
    "\n",
    "        return wordBreakRecur(s, set(wordDict), 0)"
   ]
  },
  {
   "cell_type": "code",
   "execution_count": null,
   "metadata": {},
   "outputs": [],
   "source": [
    "class Solution:\n",
    "    def wordBreak(self, s: str, wordDict: List[str]) -> bool:\n",
    "        @lru_cache\n",
    "        def wordBreakMemo(s: str, word_dict: FrozenSet[str], start: int):\n",
    "            if start == len(s):\n",
    "                return True\n",
    "            for end in range(start + 1, len(s) + 1):\n",
    "                if s[start:end] in word_dict and wordBreakMemo(s, word_dict, end):\n",
    "                    return True\n",
    "            return False\n",
    "\n",
    "        return wordBreakMemo(s, frozenset(wordDict), 0)"
   ]
  },
  {
   "cell_type": "code",
   "execution_count": null,
   "metadata": {},
   "outputs": [],
   "source": [
    "class Solution:\n",
    "    def wordBreak(self, s: str, wordDict: List[str]) -> bool:\n",
    "        word_set = set(wordDict)\n",
    "        q = deque()\n",
    "        visited = set()\n",
    "\n",
    "        q.append(0)\n",
    "        while q:\n",
    "            start = q.popleft()\n",
    "            if start in visited:\n",
    "                continue\n",
    "            for end in range(start + 1, len(s) + 1):\n",
    "                if s[start:end] in word_set:\n",
    "                    q.append(end)\n",
    "                    if end == len(s):\n",
    "                        return True\n",
    "            visited.add(start)\n",
    "        return False"
   ]
  },
  {
   "cell_type": "code",
   "execution_count": null,
   "metadata": {},
   "outputs": [],
   "source": [
    "class Solution:\n",
    "    def wordBreak(self, s: str, wordDict: List[str]) -> bool:\n",
    "        word_set = set(wordDict)\n",
    "        dp = [False] * (len(s) + 1)\n",
    "        dp[0] = True\n",
    "\n",
    "        for i in range(1, len(s) + 1):\n",
    "            for j in range(i):\n",
    "                if dp[j] and s[j:i] in word_set:\n",
    "                    dp[i] = True\n",
    "                    break\n",
    "        return dp[len(s)]"
   ]
  },
  {
   "cell_type": "markdown",
   "metadata": {},
   "source": [
    "### [House Robber](https://leetcode.com/problems/house-robber/)\n",
    "\n",
    "You are a professional robber planning to rob houses along a street. Each house has a certain amount of money stashed, the only constraint stopping you from robbing each of them is that adjacent houses have security systems connected and it will automatically contact the police if two adjacent houses were broken into on the same night.\n",
    "\n",
    "Given an integer array nums representing the amount of money of each house, return the maximum amount of money you can rob tonight without alerting the police."
   ]
  },
  {
   "cell_type": "code",
   "execution_count": null,
   "metadata": {},
   "outputs": [],
   "source": [
    "class Solution:\n",
    "    \n",
    "    def __init__(self):\n",
    "        self.memo = {}\n",
    "    \n",
    "    def rob(self, nums: List[int]) -> int:\n",
    "        \n",
    "        self.memo = {}\n",
    "        \n",
    "        return self.robFrom(0, nums)\n",
    "    \n",
    "    def robFrom(self, i, nums):\n",
    "        \n",
    "        \n",
    "        # No more houses left to examine.\n",
    "        if i >= len(nums):\n",
    "            return 0\n",
    "        \n",
    "        # Return cached value.\n",
    "        if i in self.memo:\n",
    "            return self.memo[i]\n",
    "        \n",
    "        # Recursive relation evaluation to get the optimal answer.\n",
    "        ans = max(self.robFrom(i + 1, nums), self.robFrom(i + 2, nums) + nums[i])\n",
    "        \n",
    "        # Cache for future use.\n",
    "        self.memo[i] = ans\n",
    "        return ans"
   ]
  },
  {
   "cell_type": "code",
   "execution_count": null,
   "metadata": {},
   "outputs": [],
   "source": [
    "class Solution:\n",
    "    \n",
    "    def rob(self, nums: List[int]) -> int:\n",
    "        \n",
    "        # Special handling for empty case.\n",
    "        if not nums:\n",
    "            return 0\n",
    "        \n",
    "        maxRobbedAmount = [None for _ in range(len(nums) + 1)]\n",
    "        N = len(nums)\n",
    "        \n",
    "        # Base case initialization.\n",
    "        maxRobbedAmount[N], maxRobbedAmount[N - 1] = 0, nums[N - 1]\n",
    "        \n",
    "        # DP table calculations.\n",
    "        for i in range(N - 2, -1, -1):\n",
    "            \n",
    "            # Same as recursive solution.\n",
    "            maxRobbedAmount[i] = max(maxRobbedAmount[i + 1], maxRobbedAmount[i + 2] + nums[i])\n",
    "            \n",
    "        return maxRobbedAmount[0]    \n",
    "        "
   ]
  },
  {
   "cell_type": "code",
   "execution_count": null,
   "metadata": {},
   "outputs": [],
   "source": [
    "class Solution:\n",
    "    \n",
    "    def rob(self, nums: List[int]) -> int:\n",
    "        \n",
    "        # Special handling for empty case.\n",
    "        if not nums:\n",
    "            return 0\n",
    "        \n",
    "        N = len(nums)\n",
    "        \n",
    "        rob_next_plus_one = 0\n",
    "        rob_next = nums[N - 1]\n",
    "        \n",
    "        # DP table calculations.\n",
    "        for i in range(N - 2, -1, -1):\n",
    "            \n",
    "            # Same as recursive solution.\n",
    "            current = max(rob_next, rob_next_plus_one + nums[i])\n",
    "            \n",
    "            # Update the variables\n",
    "            rob_next_plus_one = rob_next\n",
    "            rob_next = current\n",
    "            \n",
    "        return rob_next"
   ]
  },
  {
   "cell_type": "markdown",
   "metadata": {},
   "source": [
    "### [House Robber II](https://leetcode.com/problems/house-robber-ii/)\n",
    "\n",
    "You are a professional robber planning to rob houses along a street. Each house has a certain amount of money stashed. All houses at this place are arranged in a circle. That means the first house is the neighbor of the last one. Meanwhile, adjacent houses have a security system connected, and it will automatically contact the police if two adjacent houses were broken into on the same night.\n",
    "\n",
    "Given an integer array nums representing the amount of money of each house, return the maximum amount of money you can rob tonight without alerting the police.\n",
    "\n",
    "\n",
    "![img](https://leetcode.com/problems/house-robber-ii/Figures/213/213_house_robberII_approach1_slide01.png)"
   ]
  },
  {
   "cell_type": "code",
   "execution_count": null,
   "metadata": {},
   "outputs": [],
   "source": [
    "class Solution:\n",
    "    def rob(self, nums: List[int]) -> int:\n",
    "        if len(nums) == 0 or nums is None:\n",
    "            return 0\n",
    "\n",
    "        if len(nums) == 1:\n",
    "            return nums[0]\n",
    "\n",
    "        return max(self.rob_simple(nums[:-1]), self.rob_simple(nums[1:]))\n",
    "\n",
    "    def rob_simple(self, nums: List[int]) -> int:\n",
    "        t1 = 0\n",
    "        t2 = 0\n",
    "        for current in nums:\n",
    "            temp = t1\n",
    "            t1 = max(current + t2, t1)\n",
    "            t2 = temp\n",
    "\n",
    "        return t1"
   ]
  },
  {
   "cell_type": "markdown",
   "metadata": {},
   "source": [
    "### [Jump Game](https://leetcode.com/problems/jump-game/)\n",
    "\n",
    "You are given an integer array nums. You are initially positioned at the array's first index, and each element in the array represents your maximum jump length at that position.\n",
    "\n",
    "Return true if you can reach the last index, or false otherwise.\n",
    "\n",
    " "
   ]
  },
  {
   "cell_type": "code",
   "execution_count": null,
   "metadata": {},
   "outputs": [],
   "source": [
    "class Solution(object):\n",
    "    def canJump(self, nums):\n",
    "        \"\"\"\n",
    "        :type nums: List[int]\n",
    "        :rtype: bool\n",
    "        \"\"\"\n",
    "        farthest_index_reached = 0\n",
    "        for current_index, num in enumerate(nums):\n",
    "            if current_index > farthest_index_reached:\n",
    "                return False\n",
    "            farthest_index_reached = max(farthest_index_reached, current_index+num)\n",
    "\t\t\tif farthest_index_reached >= len(nums):\n",
    "                return True\n",
    "        return True"
   ]
  }
 ],
 "metadata": {
  "kernelspec": {
   "display_name": "Python 3",
   "language": "python",
   "name": "python3"
  },
  "language_info": {
   "codemirror_mode": {
    "name": "ipython",
    "version": 3
   },
   "file_extension": ".py",
   "mimetype": "text/x-python",
   "name": "python",
   "nbconvert_exporter": "python",
   "pygments_lexer": "ipython3",
   "version": "3.8.8"
  }
 },
 "nbformat": 4,
 "nbformat_minor": 2
}
