{
 "cells": [
  {
   "cell_type": "markdown",
   "metadata": {},
   "source": [
    "## Dynamic Algorithm"
   ]
  },
  {
   "cell_type": "markdown",
   "metadata": {},
   "source": [
    "### Unique Paths\n",
    "\n",
    "A robot is located at the top-left corner of a m x n grid (marked 'Start' in the diagram below).\n",
    "\n",
    "The robot can only move either down or right at any point in time. The robot is trying to reach the bottom-right corner of the grid (marked 'Finish' in the diagram below).\n",
    "\n",
    "How many possible unique paths are there?\n"
   ]
  },
  {
   "cell_type": "code",
   "execution_count": 111,
   "metadata": {},
   "outputs": [],
   "source": [
    "def countUniquePaths(m,n):\n",
    "    \n",
    "    # initialize dp; no need of another array\n",
    "    dp = [[1]*n]*m\n",
    "\n",
    "    for row in range(1, n):\n",
    "        for col in range(1, m):\n",
    "            dp[row][col] = dp[row][col-1] + dp[row-1][col]\n",
    "\n",
    "    return dp[m - 1][n - 1]"
   ]
  },
  {
   "cell_type": "code",
   "execution_count": 112,
   "metadata": {},
   "outputs": [
    {
     "data": {
      "text/plain": [
       "48620"
      ]
     },
     "execution_count": 112,
     "metadata": {},
     "output_type": "execute_result"
    }
   ],
   "source": [
    "countUniquePaths(m=10,n=10)"
   ]
  },
  {
   "cell_type": "markdown",
   "metadata": {},
   "source": [
    "### Unique Paths II (with Abstacle)\n",
    "\n",
    "A robot is located at the top-left corner of a m x n grid (marked 'Start' in the diagram below).\n",
    "\n",
    "The robot can only move either down or right at any point in time. The robot is trying to reach the bottom-right corner of the grid (marked 'Finish' in the diagram below).\n",
    "\n",
    "Now consider if some obstacles are added to the grids. How many unique paths would there be?\n",
    "\n"
   ]
  },
  {
   "cell_type": "code",
   "execution_count": 126,
   "metadata": {},
   "outputs": [
    {
     "data": {
      "text/plain": [
       "[False, True, True, False, False, True, False, True]"
      ]
     },
     "execution_count": 126,
     "metadata": {},
     "output_type": "execute_result"
    }
   ],
   "source": [
    "A = ['1','0','0','1','1','0','1','0']\n",
    "[e == '0' for e in A]"
   ]
  },
  {
   "cell_type": "code",
   "execution_count": 129,
   "metadata": {},
   "outputs": [
    {
     "data": {
      "text/plain": [
       "[False, True, True, False, False, True, False, True]"
      ]
     },
     "execution_count": 129,
     "metadata": {},
     "output_type": "execute_result"
    }
   ],
   "source": [
    "A = [1,0,0,1,1,0,1,0]\n",
    "[e == 0 for e in A]"
   ]
  },
  {
   "cell_type": "code",
   "execution_count": 130,
   "metadata": {},
   "outputs": [
    {
     "data": {
      "text/plain": [
       "1"
      ]
     },
     "execution_count": 130,
     "metadata": {},
     "output_type": "execute_result"
    }
   ],
   "source": [
    "int(True and True)"
   ]
  },
  {
   "cell_type": "code",
   "execution_count": 131,
   "metadata": {},
   "outputs": [
    {
     "data": {
      "text/plain": [
       "0"
      ]
     },
     "execution_count": 131,
     "metadata": {},
     "output_type": "execute_result"
    }
   ],
   "source": [
    "int(False and True)"
   ]
  },
  {
   "cell_type": "code",
   "execution_count": null,
   "metadata": {},
   "outputs": [],
   "source": [
    "def uniquePathsWithObstacles(O):\n",
    "        \"\"\"\n",
    "        :type obstacleGrid: List[List[int]]\n",
    "        :rtype: int\n",
    "        \"\"\"\n",
    "\n",
    "        m = len(O)\n",
    "        n = len(O[0])\n",
    "\n",
    "        OG[0][0] = 1\n",
    "\n",
    "        # Filling the values for the first column\n",
    "        for i in range(1,m):\n",
    "            \n",
    "            #if OG[i][0] == 0 and OG[i-1][0] == 1: OG[i][0] =1\n",
    "            OG[i][0] = int(OG[i][0] == 0 and OG[i-1][0] == 1)\n",
    "\n",
    "            \n",
    "        # Filling the values for the first row        \n",
    "        for j in range(1, n):\n",
    "            \n",
    "            # if OG[0][j] == 0 and OG[0][j-1] == 1: OG[0][j] =1\n",
    "            OG[0][j] = int(OG[0][j] == 0 and OG[0][j-1] == 1)\n",
    "\n",
    "            \n",
    "            \n",
    "        # Starting from cell(1,1) fill up the values\n",
    "        # No. of ways of reaching \n",
    "        # i.e. From above and left.\n",
    "        for i in range(1,m):\n",
    "            for j in range(1,n):\n",
    "                if OG[i][j] == 0:\n",
    "                    OG[i][j] = OG[i-1][j] + OG[i][j-1]\n",
    "                else:\n",
    "                    OG[i][j] = 0\n",
    "\n",
    "        # Return value stored in rightmost bottommost cell. That is the destination.            \n",
    "        return OG[m-1][n-1]"
   ]
  },
  {
   "cell_type": "markdown",
   "metadata": {},
   "source": [
    "### Minimum Path Sum\n",
    "\n",
    "Given a m x n grid filled with non-negative numbers, find a path from top left to bottom right which minimizes the sum of all numbers along its path.\n",
    "\n",
    "Note: You can only move either down or right at any point in time."
   ]
  },
  {
   "cell_type": "code",
   "execution_count": 119,
   "metadata": {},
   "outputs": [],
   "source": [
    "def minPathSum(A):\n",
    "    # take care of two arrays dp and A\n",
    "    m = len(A)\n",
    "    n = len(A[0])\n",
    "    \n",
    "    # dp is not array A\n",
    "    dp = [[0]*n]*m\n",
    "    dp[0][0] = A[0][0]\n",
    "    \n",
    "    # set topmost row\n",
    "    for j in range(1,n):\n",
    "        dp[0][j] =  dp[0][j-1] + A[0][j-1]\n",
    "        \n",
    "    \n",
    "    # set left most column\n",
    "    for i in range(1,m):\n",
    "        dp[i][0] =  dp[i-1][0] + A[i-1][0]\n",
    "     \n",
    "    #work on rest of them\n",
    "    for i in range(1,m): # why up to m+1? because you add till end.\n",
    "        for j in range(1,n):\n",
    "            # pick the minimim one\n",
    "            dp[i][j] = min(dp[i-1][j], dp[i][j-1]) + A[i][j]\n",
    "    \n",
    "    return dp[m-1][n-1]       "
   ]
  },
  {
   "cell_type": "code",
   "execution_count": 120,
   "metadata": {},
   "outputs": [
    {
     "data": {
      "text/plain": [
       "20"
      ]
     },
     "execution_count": 120,
     "metadata": {},
     "output_type": "execute_result"
    }
   ],
   "source": [
    "A = [[1,2,3,4],[2,3,5,6],[5,3,6,7]]\n",
    "minPathSum(A)"
   ]
  },
  {
   "cell_type": "markdown",
   "metadata": {},
   "source": [
    "###  Edit Distance***\n",
    "\n",
    "Given two words word1 and word2, find the minimum number of operations required to convert word1 to word2.\n",
    "\n",
    "You have the following 3 operations permitted on a word:\n",
    "\n",
    "    Insert a character\n",
    "    Delete a character\n",
    "    Replace a character\n",
    "    Example 1:\n",
    "\n",
    "    Input: word1 = \"horse\", word2 = \"ros\"\n",
    "    Output: 3\n",
    "    Explanation: \n",
    "    horse -> rorse (replace 'h' with 'r')\n",
    "    rorse -> rose (remove 'r')\n",
    "    rose -> ros (remove 'e')"
   ]
  },
  {
   "cell_type": "code",
   "execution_count": 33,
   "metadata": {},
   "outputs": [],
   "source": [
    "def minDistance(self, word1, word2):\n",
    "        \"\"\"\n",
    "        :type word1: str\n",
    "        :type word2: str\n",
    "        :rtype: int\n",
    "        \"\"\"\n",
    "        n = len(word1)\n",
    "        m = len(word2)\n",
    "        \n",
    "        # if one of the strings is empty\n",
    "        if n * m == 0:\n",
    "            return n + m\n",
    "        \n",
    "        # array to store the convertion history\n",
    "        d = [ [0] * (m + 1) for _ in range(n + 1)]\n",
    "        \n",
    "        # init boundaries\n",
    "        for i in range(n + 1):\n",
    "            d[i][0] = i\n",
    "        for j in range(m + 1):\n",
    "            d[0][j] = j\n",
    "        \n",
    "        # DP compute \n",
    "        for i in range(1, n + 1):\n",
    "            for j in range(1, m + 1):\n",
    "                left = d[i - 1][j] + 1\n",
    "                down = d[i][j - 1] + 1\n",
    "                left_down = d[i - 1][j - 1] \n",
    "                if word1[i - 1] != word2[j - 1]:\n",
    "                    left_down += 1\n",
    "                d[i][j] = min(left, down, left_down)\n",
    "        \n",
    "        return d[n][m]"
   ]
  },
  {
   "cell_type": "markdown",
   "metadata": {},
   "source": [
    "### Find Maximun ractange of 1s"
   ]
  },
  {
   "cell_type": "code",
   "execution_count": 35,
   "metadata": {},
   "outputs": [],
   "source": [
    "class Solution:\n",
    "    def maximalRectangle(self, matrix):\n",
    "        maxarea = 0\n",
    "\n",
    "        dp = [[0] * len(matrix[0]) for _ in range(len(matrix))]\n",
    "        \n",
    "        for i in range(len(matrix)):\n",
    "            for j in range(len(matrix[0])):\n",
    "                \n",
    "                if matrix[i][j] == '0': continue\n",
    "\n",
    "                # compute the maximum width and update dp with it\n",
    "                width = dp[i][j] = dp[i][j-1] + 1 if j else 1\n",
    "\n",
    "                # compute the maximum area rectangle with a lower right corner at [i, j]\n",
    "                for k in range(i, -1, -1):\n",
    "                    width = min(width, dp[k][j])\n",
    "                    maxarea = max(maxarea, width * (i-k+1))\n",
    "                    \n",
    "        return maxarea\n"
   ]
  },
  {
   "cell_type": "code",
   "execution_count": null,
   "metadata": {},
   "outputs": [],
   "source": []
  },
  {
   "cell_type": "code",
   "execution_count": null,
   "metadata": {},
   "outputs": [],
   "source": []
  },
  {
   "cell_type": "code",
   "execution_count": null,
   "metadata": {},
   "outputs": [],
   "source": []
  }
 ],
 "metadata": {
  "kernelspec": {
   "display_name": "Python 3",
   "language": "python",
   "name": "python3"
  },
  "language_info": {
   "codemirror_mode": {
    "name": "ipython",
    "version": 3
   },
   "file_extension": ".py",
   "mimetype": "text/x-python",
   "name": "python",
   "nbconvert_exporter": "python",
   "pygments_lexer": "ipython3",
   "version": "3.8.8"
  }
 },
 "nbformat": 4,
 "nbformat_minor": 2
}
