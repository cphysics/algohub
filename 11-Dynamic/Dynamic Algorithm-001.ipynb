{
 "cells": [
  {
   "cell_type": "markdown",
   "metadata": {},
   "source": [
    "## Dynamic Algorithm"
   ]
  },
  {
   "cell_type": "markdown",
   "metadata": {},
   "source": [
    "### 238. Product of Array Except Self **\n",
    "\n",
    "Given an array nums of n integers where n > 1,  return an array output such that output[i] is equal to the product of all the elements of nums except nums[i].\n",
    "\n",
    "    Example:\n",
    "\n",
    "    Input:  [1,2,3,4]\n",
    "    Output: [24,12,8,6]"
   ]
  },
  {
   "cell_type": "code",
   "execution_count": 9,
   "metadata": {},
   "outputs": [
    {
     "name": "stdout",
     "output_type": "stream",
     "text": [
      "[1, 3, 4, 5, 6]\n"
     ]
    }
   ],
   "source": [
    "A = [1,2,3,4,5,6]\n",
    "A.remove(2)\n",
    "print(A)"
   ]
  },
  {
   "cell_type": "code",
   "execution_count": 10,
   "metadata": {},
   "outputs": [
    {
     "name": "stdout",
     "output_type": "stream",
     "text": [
      "None\n"
     ]
    }
   ],
   "source": [
    "A = [1,2,3,4,5,6]\n",
    "B = A.remove(2)\n",
    "print(B)"
   ]
  },
  {
   "cell_type": "code",
   "execution_count": 13,
   "metadata": {},
   "outputs": [],
   "source": [
    "def productExceptSelf(A):\n",
    "    Result = []\n",
    "    for i in range(len(A)):\n",
    "\n",
    "        lt = A.remove(A[i])\n",
    "        \n",
    "        p = 1\n",
    "        for t in lt:\n",
    "            p *=t\n",
    "        Result.append(p)\n",
    "    \n",
    "    return Result"
   ]
  },
  {
   "cell_type": "code",
   "execution_count": 14,
   "metadata": {},
   "outputs": [
    {
     "ename": "TypeError",
     "evalue": "'NoneType' object is not iterable",
     "output_type": "error",
     "traceback": [
      "\u001b[0;31m---------------------------------------------------------------------------\u001b[0m",
      "\u001b[0;31mTypeError\u001b[0m                                 Traceback (most recent call last)",
      "\u001b[0;32m<ipython-input-14-88f9b7c5fa27>\u001b[0m in \u001b[0;36m<module>\u001b[0;34m\u001b[0m\n\u001b[1;32m      1\u001b[0m \u001b[0mA\u001b[0m \u001b[0;34m=\u001b[0m \u001b[0;34m[\u001b[0m\u001b[0;36m1\u001b[0m\u001b[0;34m,\u001b[0m\u001b[0;36m2\u001b[0m\u001b[0;34m,\u001b[0m\u001b[0;36m3\u001b[0m\u001b[0;34m,\u001b[0m\u001b[0;36m4\u001b[0m\u001b[0;34m,\u001b[0m\u001b[0;36m5\u001b[0m\u001b[0;34m,\u001b[0m\u001b[0;36m6\u001b[0m\u001b[0;34m]\u001b[0m\u001b[0;34m\u001b[0m\u001b[0;34m\u001b[0m\u001b[0m\n\u001b[0;32m----> 2\u001b[0;31m \u001b[0mproductExceptSelf\u001b[0m\u001b[0;34m(\u001b[0m\u001b[0mA\u001b[0m\u001b[0;34m)\u001b[0m\u001b[0;34m\u001b[0m\u001b[0;34m\u001b[0m\u001b[0m\n\u001b[0m",
      "\u001b[0;32m<ipython-input-13-36da7ccbd74b>\u001b[0m in \u001b[0;36mproductExceptSelf\u001b[0;34m(A)\u001b[0m\n\u001b[1;32m      6\u001b[0m \u001b[0;34m\u001b[0m\u001b[0m\n\u001b[1;32m      7\u001b[0m         \u001b[0mp\u001b[0m \u001b[0;34m=\u001b[0m \u001b[0;36m1\u001b[0m\u001b[0;34m\u001b[0m\u001b[0;34m\u001b[0m\u001b[0m\n\u001b[0;32m----> 8\u001b[0;31m         \u001b[0;32mfor\u001b[0m \u001b[0mt\u001b[0m \u001b[0;32min\u001b[0m \u001b[0mlt\u001b[0m\u001b[0;34m:\u001b[0m\u001b[0;34m\u001b[0m\u001b[0;34m\u001b[0m\u001b[0m\n\u001b[0m\u001b[1;32m      9\u001b[0m             \u001b[0mp\u001b[0m \u001b[0;34m*=\u001b[0m\u001b[0mt\u001b[0m\u001b[0;34m\u001b[0m\u001b[0;34m\u001b[0m\u001b[0m\n\u001b[1;32m     10\u001b[0m         \u001b[0mResult\u001b[0m\u001b[0;34m.\u001b[0m\u001b[0mappend\u001b[0m\u001b[0;34m(\u001b[0m\u001b[0mp\u001b[0m\u001b[0;34m)\u001b[0m\u001b[0;34m\u001b[0m\u001b[0;34m\u001b[0m\u001b[0m\n",
      "\u001b[0;31mTypeError\u001b[0m: 'NoneType' object is not iterable"
     ]
    }
   ],
   "source": [
    "A = [1,2,3,4,5,6]\n",
    "productExceptSelf(A)"
   ]
  },
  {
   "cell_type": "code",
   "execution_count": 42,
   "metadata": {},
   "outputs": [
    {
     "data": {
      "text/plain": [
       "[9, 8, 7, 6, 5, 4, 3, 2, 1, 0]"
      ]
     },
     "execution_count": 42,
     "metadata": {},
     "output_type": "execute_result"
    }
   ],
   "source": [
    "[i for i in reversed(range(10))]"
   ]
  },
  {
   "cell_type": "code",
   "execution_count": 47,
   "metadata": {},
   "outputs": [],
   "source": [
    "def productExceptSelf(A):\n",
    "    n = len(A)\n",
    "    \n",
    "    L,R,Z = [0]*n, [0]*n, [0]*n\n",
    "    \n",
    "    L[0] = 1\n",
    "    #toward right (------------->)\n",
    "    for i in range(1,n):\n",
    "        # look, A[i] is not in the product\n",
    "        L[i] = A[i-1]*L[i-1]\n",
    "        \n",
    "        \n",
    "    R[n-1] = 1\n",
    "    # toward the left (<-------------)\n",
    "    for j in reversed(range(n-1)):\n",
    "        \n",
    "        # look, A[j] is not in the product\n",
    "        R[j] = A[j+1]*R[j+1]\n",
    "        \n",
    "    for k in range(n):\n",
    "        Z[k] = L[k]*R[k]\n",
    "        \n",
    "    \n",
    "    return Z"
   ]
  },
  {
   "cell_type": "code",
   "execution_count": 48,
   "metadata": {},
   "outputs": [
    {
     "data": {
      "text/plain": [
       "[720, 360, 240, 180, 144, 120]"
      ]
     },
     "execution_count": 48,
     "metadata": {},
     "output_type": "execute_result"
    }
   ],
   "source": [
    "A = [1,2,3,4,5,6]\n",
    "productExceptSelf(A)"
   ]
  },
  {
   "cell_type": "markdown",
   "metadata": {},
   "source": [
    "### 218 The Skyline Problem***\n",
    "\n",
    "A city's skyline is the outer contour of the silhouette formed by all the buildings in that city when viewed from a distance. Now suppose you are given the locations and height of all the buildings as shown on a cityscape photo (Figure A), write a program to output the skyline formed by these buildings collectively (Figure B).\n",
    "\n"
   ]
  },
  {
   "cell_type": "code",
   "execution_count": null,
   "metadata": {},
   "outputs": [],
   "source": [
    "class Solution:\n",
    "    def getSkyline(self, buildings):\n",
    "        \"\"\"\n",
    "        Divide-and-conquer algorithm to solve skyline problem,\n",
    "        which is similar with the merge sort algorithm.\n",
    "        \"\"\"\n",
    "        n = len(buildings)\n",
    "        # The base cases\n",
    "        if n == 0:\n",
    "            return []\n",
    "        if n == 1:\n",
    "            x_start, x_end, y = buildings[0]\n",
    "            \n",
    "            return [[x_start, y], [x_end, 0]] \n",
    "         \n",
    "        # If there is more than one building, \n",
    "        # recursively divide the input into two subproblems.\n",
    "        left_skyline = self.getSkyline(buildings[: n // 2])\n",
    "        right_skyline = self.getSkyline(buildings[n // 2 :])\n",
    "        \n",
    "        # Merge the results of subproblem together.\n",
    "        return self.merge_skylines(left_skyline, right_skyline)\n",
    "    \n",
    "    def merge_skylines(self, left, right):\n",
    "        \"\"\"\n",
    "        Merge two skylines together.\n",
    "        \"\"\"\n",
    "        def update_output(x, y):\n",
    "            \"\"\"\n",
    "            Update the final output with the new element.\n",
    "            \"\"\"\n",
    "            # if skyline change is not vertical - \n",
    "            # add the new point\n",
    "            if not output or output[-1][0] != x:\n",
    "                output.append([x, y])\n",
    "            # if skyline change is vertical - \n",
    "            # update the last point\n",
    "            else:\n",
    "                output[-1][1] = y\n",
    "        \n",
    "        def append_skyline(p, lst, n, y, curr_y):\n",
    "            \"\"\"\n",
    "            Append the rest of the skyline elements with indice (p, n)\n",
    "            to the final output.\n",
    "            \"\"\"\n",
    "            while p < n: \n",
    "                x, y = lst[p]\n",
    "                p += 1\n",
    "                if curr_y != y:\n",
    "                    update_output(x, y)\n",
    "                    curr_y = y\n",
    "                \n",
    "        n_l, n_r = len(left), len(right)\n",
    "        p_l = p_r = 0\n",
    "        curr_y  = left_y = right_y = 0\n",
    "        output = []\n",
    "            \n",
    "        # while we're in the region where both skylines are present\n",
    "        while p_l < n_l and p_r < n_r:\n",
    "            point_l, point_r = left[p_l], right[p_r]\n",
    "            # pick up the smallest x\n",
    "            if point_l[0] < point_r[0]: \n",
    "                x, left_y = point_l\n",
    "                p_l += 1\n",
    "            else: \n",
    "                x, right_y = point_r \n",
    "                p_r += 1\n",
    "            # max height (i.e. y) between both skylines\n",
    "            max_y = max(left_y, right_y)\n",
    "            # if there is a skyline change\n",
    "            if curr_y != max_y:\n",
    "                update_output(x, max_y)\n",
    "                curr_y = max_y\n",
    "\n",
    "        # there is only left skyline\n",
    "        append_skyline(p_l, left, n_l, left_y, curr_y)\n",
    "\n",
    "        # there is only right skyline\n",
    "        append_skyline(p_r, right, n_r, right_y, curr_y)\n",
    "                \n",
    "        return output"
   ]
  },
  {
   "cell_type": "markdown",
   "metadata": {},
   "source": [
    "### 152. Maximum Product Subarray\n",
    "\n",
    "Given an integer array nums, find the contiguous subarray within an array (containing at least one number) which has the largest product.\n",
    "\n",
    "    Example 1:\n",
    "\n",
    "    Input: [2,3,-2,4]\n",
    "    Output: 6\n",
    "    Explanation: [2,3] has the largest product 6."
   ]
  },
  {
   "cell_type": "code",
   "execution_count": 54,
   "metadata": {},
   "outputs": [],
   "source": [
    "# How is this a dynamic programming?\n",
    "# there is another solution in geek for geek\n",
    "def maxProduct(A):\n",
    "    n = len(A)\n",
    "    \n",
    "    if n ==0:\n",
    "        return 0\n",
    "    \n",
    "    result = A[0]\n",
    "    \n",
    "    for i in range(n):\n",
    "        pd = 1\n",
    "        for j in range(i,n):\n",
    "            pd *= A[i]\n",
    "            result = max(pd,result)\n",
    "    return result"
   ]
  },
  {
   "cell_type": "code",
   "execution_count": 55,
   "metadata": {},
   "outputs": [
    {
     "data": {
      "text/plain": [
       "81"
      ]
     },
     "execution_count": 55,
     "metadata": {},
     "output_type": "execute_result"
    }
   ],
   "source": [
    "A  = [1,2,-3,4,5,-6]\n",
    "maxProduct(A)"
   ]
  },
  {
   "cell_type": "markdown",
   "metadata": {},
   "source": [
    "### 365. Water and Jug Problem***\n",
    "\n",
    "You are given two jugs with capacities x and y litres. There is an infinite amount of water supply available. You need to determine whether it is possible to measure exactly z litres using these two jugs.\n",
    "\n",
    "\n",
    "If z liters of water is measurable, you must have z liters of water contained within one or both buckets by the end.\n",
    "\n",
    "Operations allowed:\n",
    "\n",
    "    Fill any of the jugs completely with water.\n",
    "    Empty any of the jugs.\n",
    "    Pour water from one jug into another till the other jug is completely full or the first jug itself is empty."
   ]
  },
  {
   "cell_type": "markdown",
   "metadata": {},
   "source": [
    "x = 4, y = 5, z = 3?\n",
    "\n",
    "1. fill x\n",
    "2. pour x to y\n",
    "3. fill x\n",
    "4. pour some amount to y till it fills\n",
    "5. x will have 3 left\n",
    "\n",
    "x = 4, y = 5, z = 1?\n",
    "1. Fill y\n",
    "2. Pour some amount to x till it fills, y will be left with 1\n",
    "\n",
    "x = 4, y = 5, z = 2?\n",
    "\n",
    "1. Fill y\n",
    "2. Pour some amount to x till it fills, y will be left with 1\n",
    "3. empty the x\n",
    "4. fill x with 1 from y\n",
    "5. fill y full\n",
    "6. fill x full from y\n",
    "7. y left with 2"
   ]
  },
  {
   "cell_type": "code",
   "execution_count": null,
   "metadata": {},
   "outputs": [],
   "source": [
    "def canMeasureWater(x, y, z):\n",
    "    \n",
    "    if x>y:\n",
    "        x,y = y,x\n",
    "        \n",
    "    if z> x+y:\n",
    "        return False\n",
    "    \n",
    "    visited = set((0,0))\n",
    "    queue = [(0,0)]\n",
    "    while len(queue)>0:\n",
    "        a,b = queue.pop(0)\n",
    "        if a+b = z:\n",
    "            return True\n",
    "        \n",
    "        ststes = set()\n",
    "        \n",
    "        # fill jar x\n",
    "        states.add(x,b)\n",
    "        # fill jar y\n",
    "        states.add(a,y)\n",
    "        # empty jar x\n",
    "        states.add(0,b)\n",
    "        # empty jar y\n",
    "        states.add(a,0)\n",
    "        \n",
    "        # pour jar y to x\n",
    "        states.add((min(x, b + a),0 if b < x - a else b - (x - a))) \n",
    "        \n",
    "        # pour jar x to y\n",
    "        states.add((0 if a + b < y else a - (y - b), min(b + a, y))) \n",
    "        \n",
    "        for state in states:\n",
    "            if state in visited:\n",
    "                continue;\n",
    "            queue.append(state)\n",
    "            visited.add(state)\n",
    "    return False"
   ]
  },
  {
   "cell_type": "markdown",
   "metadata": {},
   "source": [
    "### 628. Maximum Product of Three Numbers\n",
    "\n",
    "Given an integer array, find three numbers whose product is maximum and output the maximum product.\n",
    "\n",
    "    Example 1:\n",
    "\n",
    "    Input: [1,2,3]\n",
    "    Output: 6"
   ]
  },
  {
   "cell_type": "code",
   "execution_count": 56,
   "metadata": {},
   "outputs": [],
   "source": [
    "import heapq"
   ]
  },
  {
   "cell_type": "code",
   "execution_count": 57,
   "metadata": {},
   "outputs": [],
   "source": [
    "def maximumProduct(self, array):\n",
    "        largest = heapq.nlargest(3, array)\n",
    "        smallest = heapq.nsmallest(2,array)\n",
    "\n",
    "        return max(largest[0] * largest[1] * largest[2],\\\n",
    "                   largest[0] * smallest[0] * smallest[1] )"
   ]
  },
  {
   "cell_type": "markdown",
   "metadata": {},
   "source": [
    "### 5. Longest Palindromic Substring\n",
    "\n",
    "Given a string s, find the longest palindromic substring in s. You may assume that the maximum length of s is 1000.\n",
    "\n",
    "    Example 1:\n",
    "\n",
    "    Input: \"babad\"\n",
    "    Output: \"bab\"\n",
    "    Note: \"aba\" is also a valid answer."
   ]
  },
  {
   "cell_type": "code",
   "execution_count": 100,
   "metadata": {},
   "outputs": [],
   "source": [
    "# method-1: fast and slow pointers\n",
    "def longestPalindrom(s):\n",
    "    n = len(s)\n",
    "    if not s: return s\n",
    "    rs = ''\n",
    "    \n",
    "    #slow pointer 'i' and fast pointer 'j'\n",
    "    for i in range(n):\n",
    "        \n",
    "        #start j from next to i\n",
    "        j = i+1\n",
    "        \n",
    "        # j sould not cross n and \n",
    "        # palindrom string can not be longer then rest of the string\n",
    "        while j<= n and len(rs)<= len(s[i:]):\n",
    "            \n",
    "            # stretch out to include all palindromicity\n",
    "            if s[i:j] == s[i:j][::-1] and len(s[i:j])>len(rs):\n",
    "                \n",
    "                # got the longer one?\n",
    "                rs = s[i:j]\n",
    "            \n",
    "            j +=1\n",
    "            \n",
    "    return rs\n",
    "                "
   ]
  },
  {
   "cell_type": "code",
   "execution_count": 101,
   "metadata": {},
   "outputs": [
    {
     "data": {
      "text/plain": [
       "'abcba'"
      ]
     },
     "execution_count": 101,
     "metadata": {},
     "output_type": "execute_result"
    }
   ],
   "source": [
    "s = 'abcba'\n",
    "longestPalindrom(s)"
   ]
  },
  {
   "cell_type": "code",
   "execution_count": 102,
   "metadata": {},
   "outputs": [
    {
     "data": {
      "text/plain": [
       "[[False, False, False, False, False, False, False, False, False, False],\n",
       " [False, False, False, False, False, False, False, False, False, False]]"
      ]
     },
     "execution_count": 102,
     "metadata": {},
     "output_type": "execute_result"
    }
   ],
   "source": [
    "[[False]*10]*2"
   ]
  },
  {
   "cell_type": "code",
   "execution_count": 103,
   "metadata": {},
   "outputs": [],
   "source": [
    "# method 2: dp (do it again)\n",
    "def longestPalindrom(s):\n",
    "    if not s: return s\n",
    "    \n",
    "    rs = ''\n",
    "    n = len(s)\n",
    "    \n",
    "    dp = [[False for _ in range(n)] for _ in range(n)]\n",
    "    max = 0\n",
    "    \n",
    "    for i in range(n):\n",
    "        for j in range(0,i+1):\n",
    "            dp[i][j] = ((s[j] == s[i]) and ((i - j <= 2) or dp[j+1][i-1]))\n",
    "            \n",
    "               \n",
    "            if dp[j][i]:\n",
    "                if (i-j+1) > max:\n",
    "                    max = i-j+1\n",
    "                    rs = s[j:i+1]\n",
    "    print(dp)\n",
    "    return rs"
   ]
  },
  {
   "cell_type": "code",
   "execution_count": 104,
   "metadata": {},
   "outputs": [
    {
     "name": "stdout",
     "output_type": "stream",
     "text": [
      "[[True, False, False, False, False], [False, True, False, False, False], [False, False, True, False, False], [False, True, False, True, False], [False, False, False, False, True]]\n"
     ]
    },
    {
     "data": {
      "text/plain": [
       "'a'"
      ]
     },
     "execution_count": 104,
     "metadata": {},
     "output_type": "execute_result"
    }
   ],
   "source": [
    "longestPalindrom(s)"
   ]
  },
  {
   "cell_type": "markdown",
   "metadata": {},
   "source": [
    "### Unique Paths\n",
    "\n",
    "A robot is located at the top-left corner of a m x n grid (marked 'Start' in the diagram below).\n",
    "\n",
    "The robot can only move either down or right at any point in time. The robot is trying to reach the bottom-right corner of the grid (marked 'Finish' in the diagram below).\n",
    "\n",
    "How many possible unique paths are there?\n"
   ]
  },
  {
   "cell_type": "code",
   "execution_count": 111,
   "metadata": {},
   "outputs": [],
   "source": [
    "def countUniquePaths(m,n):\n",
    "    \n",
    "    # initialize dp; no need of another array\n",
    "    dp = [[1]*n]*m\n",
    "\n",
    "    for row in range(1, n):\n",
    "        for col in range(1, m):\n",
    "            dp[row][col] = dp[row][col-1] + dp[row-1][col]\n",
    "\n",
    "    return dp[m - 1][n - 1]"
   ]
  },
  {
   "cell_type": "code",
   "execution_count": 112,
   "metadata": {},
   "outputs": [
    {
     "data": {
      "text/plain": [
       "48620"
      ]
     },
     "execution_count": 112,
     "metadata": {},
     "output_type": "execute_result"
    }
   ],
   "source": [
    "countUniquePaths(m=10,n=10)"
   ]
  },
  {
   "cell_type": "markdown",
   "metadata": {},
   "source": [
    "### Unique Paths II (with Abstacle)\n",
    "\n",
    "A robot is located at the top-left corner of a m x n grid (marked 'Start' in the diagram below).\n",
    "\n",
    "The robot can only move either down or right at any point in time. The robot is trying to reach the bottom-right corner of the grid (marked 'Finish' in the diagram below).\n",
    "\n",
    "Now consider if some obstacles are added to the grids. How many unique paths would there be?\n",
    "\n"
   ]
  },
  {
   "cell_type": "code",
   "execution_count": 126,
   "metadata": {},
   "outputs": [
    {
     "data": {
      "text/plain": [
       "[False, True, True, False, False, True, False, True]"
      ]
     },
     "execution_count": 126,
     "metadata": {},
     "output_type": "execute_result"
    }
   ],
   "source": [
    "A = ['1','0','0','1','1','0','1','0']\n",
    "[e == '0' for e in A]"
   ]
  },
  {
   "cell_type": "code",
   "execution_count": 129,
   "metadata": {},
   "outputs": [
    {
     "data": {
      "text/plain": [
       "[False, True, True, False, False, True, False, True]"
      ]
     },
     "execution_count": 129,
     "metadata": {},
     "output_type": "execute_result"
    }
   ],
   "source": [
    "A = [1,0,0,1,1,0,1,0]\n",
    "[e == 0 for e in A]"
   ]
  },
  {
   "cell_type": "code",
   "execution_count": 130,
   "metadata": {},
   "outputs": [
    {
     "data": {
      "text/plain": [
       "1"
      ]
     },
     "execution_count": 130,
     "metadata": {},
     "output_type": "execute_result"
    }
   ],
   "source": [
    "int(True and True)"
   ]
  },
  {
   "cell_type": "code",
   "execution_count": 131,
   "metadata": {},
   "outputs": [
    {
     "data": {
      "text/plain": [
       "0"
      ]
     },
     "execution_count": 131,
     "metadata": {},
     "output_type": "execute_result"
    }
   ],
   "source": [
    "int(False and True)"
   ]
  },
  {
   "cell_type": "code",
   "execution_count": null,
   "metadata": {},
   "outputs": [],
   "source": [
    "def uniquePathsWithObstacles(O):\n",
    "        \"\"\"\n",
    "        :type obstacleGrid: List[List[int]]\n",
    "        :rtype: int\n",
    "        \"\"\"\n",
    "\n",
    "        m = len(O)\n",
    "        n = len(O[0])\n",
    "\n",
    "        OG[0][0] = 1\n",
    "\n",
    "        # Filling the values for the first column\n",
    "        for i in range(1,m):\n",
    "            \n",
    "            #if OG[i][0] == 0 and OG[i-1][0] == 1: OG[i][0] =1\n",
    "            OG[i][0] = int(OG[i][0] == 0 and OG[i-1][0] == 1)\n",
    "\n",
    "            \n",
    "        # Filling the values for the first row        \n",
    "        for j in range(1, n):\n",
    "            \n",
    "            # if OG[0][j] == 0 and OG[0][j-1] == 1: OG[0][j] =1\n",
    "            OG[0][j] = int(OG[0][j] == 0 and OG[0][j-1] == 1)\n",
    "\n",
    "            \n",
    "            \n",
    "        # Starting from cell(1,1) fill up the values\n",
    "        # No. of ways of reaching \n",
    "        # i.e. From above and left.\n",
    "        for i in range(1,m):\n",
    "            for j in range(1,n):\n",
    "                if OG[i][j] == 0:\n",
    "                    OG[i][j] = OG[i-1][j] + OG[i][j-1]\n",
    "                else:\n",
    "                    OG[i][j] = 0\n",
    "\n",
    "        # Return value stored in rightmost bottommost cell. That is the destination.            \n",
    "        return OG[m-1][n-1]"
   ]
  },
  {
   "cell_type": "markdown",
   "metadata": {},
   "source": [
    "### 64. Minimum Path Sum\n",
    "\n",
    "Given a m x n grid filled with non-negative numbers, find a path from top left to bottom right which minimizes the sum of all numbers along its path.\n",
    "\n",
    "Note: You can only move either down or right at any point in time."
   ]
  },
  {
   "cell_type": "code",
   "execution_count": 119,
   "metadata": {},
   "outputs": [],
   "source": [
    "def minPathSum(A):\n",
    "    # take care of two arrays dp and A\n",
    "    m = len(A)\n",
    "    n = len(A[0])\n",
    "    \n",
    "    # dp is not array A\n",
    "    dp = [[0]*n]*m\n",
    "    dp[0][0] = A[0][0]\n",
    "    \n",
    "    # set topmost row\n",
    "    for j in range(1,n):\n",
    "        dp[0][j] =  dp[0][j-1] + A[0][j-1]\n",
    "        \n",
    "    \n",
    "    # set left most column\n",
    "    for i in range(1,m):\n",
    "        dp[i][0] =  dp[i-1][0] + A[i-1][0]\n",
    "     \n",
    "    #work on rest of them\n",
    "    for i in range(1,m): # why up to m+1? because you add till end.\n",
    "        for j in range(1,n):\n",
    "            # pick the minimim one\n",
    "            dp[i][j] = min(dp[i-1][j], dp[i][j-1]) + A[i][j]\n",
    "    \n",
    "    return dp[m-1][n-1]       "
   ]
  },
  {
   "cell_type": "code",
   "execution_count": 120,
   "metadata": {},
   "outputs": [
    {
     "data": {
      "text/plain": [
       "20"
      ]
     },
     "execution_count": 120,
     "metadata": {},
     "output_type": "execute_result"
    }
   ],
   "source": [
    "A = [[1,2,3,4],[2,3,5,6],[5,3,6,7]]\n",
    "minPathSum(A)"
   ]
  },
  {
   "cell_type": "markdown",
   "metadata": {},
   "source": [
    "### 72. Edit Distance***\n",
    "\n",
    "Given two words word1 and word2, find the minimum number of operations required to convert word1 to word2.\n",
    "\n",
    "You have the following 3 operations permitted on a word:\n",
    "\n",
    "    Insert a character\n",
    "    Delete a character\n",
    "    Replace a character\n",
    "    Example 1:\n",
    "\n",
    "    Input: word1 = \"horse\", word2 = \"ros\"\n",
    "    Output: 3\n",
    "    Explanation: \n",
    "    horse -> rorse (replace 'h' with 'r')\n",
    "    rorse -> rose (remove 'r')\n",
    "    rose -> ros (remove 'e')"
   ]
  },
  {
   "cell_type": "code",
   "execution_count": 33,
   "metadata": {},
   "outputs": [],
   "source": [
    "def minDistance(self, word1, word2):\n",
    "        \"\"\"\n",
    "        :type word1: str\n",
    "        :type word2: str\n",
    "        :rtype: int\n",
    "        \"\"\"\n",
    "        n = len(word1)\n",
    "        m = len(word2)\n",
    "        \n",
    "        # if one of the strings is empty\n",
    "        if n * m == 0:\n",
    "            return n + m\n",
    "        \n",
    "        # array to store the convertion history\n",
    "        d = [ [0] * (m + 1) for _ in range(n + 1)]\n",
    "        \n",
    "        # init boundaries\n",
    "        for i in range(n + 1):\n",
    "            d[i][0] = i\n",
    "        for j in range(m + 1):\n",
    "            d[0][j] = j\n",
    "        \n",
    "        # DP compute \n",
    "        for i in range(1, n + 1):\n",
    "            for j in range(1, m + 1):\n",
    "                left = d[i - 1][j] + 1\n",
    "                down = d[i][j - 1] + 1\n",
    "                left_down = d[i - 1][j - 1] \n",
    "                if word1[i - 1] != word2[j - 1]:\n",
    "                    left_down += 1\n",
    "                d[i][j] = min(left, down, left_down)\n",
    "        \n",
    "        return d[n][m]"
   ]
  },
  {
   "cell_type": "markdown",
   "metadata": {},
   "source": [
    "### 12. Find Maximun ractange of 1s"
   ]
  },
  {
   "cell_type": "code",
   "execution_count": 35,
   "metadata": {},
   "outputs": [],
   "source": [
    "class Solution:\n",
    "    def maximalRectangle(self, matrix):\n",
    "        maxarea = 0\n",
    "\n",
    "        dp = [[0] * len(matrix[0]) for _ in range(len(matrix))]\n",
    "        \n",
    "        for i in range(len(matrix)):\n",
    "            for j in range(len(matrix[0])):\n",
    "                \n",
    "                if matrix[i][j] == '0': continue\n",
    "\n",
    "                # compute the maximum width and update dp with it\n",
    "                width = dp[i][j] = dp[i][j-1] + 1 if j else 1\n",
    "\n",
    "                # compute the maximum area rectangle with a lower right corner at [i, j]\n",
    "                for k in range(i, -1, -1):\n",
    "                    width = min(width, dp[k][j])\n",
    "                    maxarea = max(maxarea, width * (i-k+1))\n",
    "                    \n",
    "        return maxarea\n"
   ]
  },
  {
   "cell_type": "markdown",
   "metadata": {},
   "source": [
    "### Numbers to Letters"
   ]
  },
  {
   "cell_type": "code",
   "execution_count": 38,
   "metadata": {},
   "outputs": [],
   "source": [
    "class Solution:\n",
    "    def __init__(self):\n",
    "        self.memo = {}\n",
    "\n",
    "    def recursive_with_memo(self, index, s) -> int:\n",
    "        # If you reach the end of the string\n",
    "        # Return 1 for success.\n",
    "        if index == len(s):\n",
    "            return 1\n",
    "\n",
    "        # If the string starts with a zero, it can't be decoded\n",
    "        if s[index] == '0':\n",
    "            return 0\n",
    "\n",
    "        if index == len(s)-1:\n",
    "            return 1\n",
    "\n",
    "        # Memoization is needed since we might encounter the same sub-string.\n",
    "        if index in self.memo:\n",
    "            return self.memo[index]\n",
    "\n",
    "        ans = self.recursive_with_memo(index+1, s) \\\n",
    "                + (self.recursive_with_memo(index+2, s) if (int(s[index : index+2]) <= 26) else 0)\n",
    "\n",
    "        # Save for memoization\n",
    "        self.memo[index] = ans\n",
    "\n",
    "        return ans\n",
    "\n",
    "    def numDecodings(self, s: str) -> int:\n",
    "        if not s:\n",
    "            return 0\n",
    "        return self.recursive_with_memo(0, s)"
   ]
  },
  {
   "cell_type": "markdown",
   "metadata": {},
   "source": [
    "### Generate all BST"
   ]
  },
  {
   "cell_type": "code",
   "execution_count": 37,
   "metadata": {},
   "outputs": [],
   "source": [
    "class Solution:\n",
    "    def generateTrees(self, n):\n",
    "        \"\"\"\n",
    "        :type n: int\n",
    "        :rtype: List[TreeNode]\n",
    "        \"\"\"\n",
    "        def generate_trees(start, end):\n",
    "            if start > end:\n",
    "                return [None,]\n",
    "            \n",
    "            all_trees = []\n",
    "            for i in range(start, end + 1):  # pick up a root\n",
    "                # all possible left subtrees if i is choosen to be a root\n",
    "                left_trees = generate_trees(start, i - 1)\n",
    "                \n",
    "                # all possible right subtrees if i is choosen to be a root\n",
    "                right_trees = generate_trees(i + 1, end)\n",
    "                \n",
    "                # connect left and right subtrees to the root i\n",
    "                for l in left_trees:\n",
    "                    for r in right_trees:\n",
    "                        current_tree = TreeNode(i)\n",
    "                        current_tree.left = l\n",
    "                        current_tree.right = r\n",
    "                        all_trees.append(current_tree)\n",
    "            \n",
    "            return all_trees\n",
    "        \n",
    "        return generate_trees(1, n) if n else []"
   ]
  },
  {
   "cell_type": "code",
   "execution_count": null,
   "metadata": {},
   "outputs": [],
   "source": []
  },
  {
   "cell_type": "code",
   "execution_count": null,
   "metadata": {},
   "outputs": [],
   "source": []
  },
  {
   "cell_type": "code",
   "execution_count": null,
   "metadata": {},
   "outputs": [],
   "source": []
  }
 ],
 "metadata": {
  "kernelspec": {
   "display_name": "Python 3",
   "language": "python",
   "name": "python3"
  },
  "language_info": {
   "codemirror_mode": {
    "name": "ipython",
    "version": 3
   },
   "file_extension": ".py",
   "mimetype": "text/x-python",
   "name": "python",
   "nbconvert_exporter": "python",
   "pygments_lexer": "ipython3",
   "version": "3.8.8"
  }
 },
 "nbformat": 4,
 "nbformat_minor": 2
}
