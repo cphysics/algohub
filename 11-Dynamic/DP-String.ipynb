{
 "cells": [
  {
   "cell_type": "markdown",
   "metadata": {},
   "source": [
    "## Dynamic Algorithm"
   ]
  },
  {
   "cell_type": "markdown",
   "metadata": {},
   "source": [
    "### Longest Palindromic Substring\n",
    "\n",
    "Given a string s, find the longest palindromic substring in s. You may assume that the maximum length of s is 1000.\n",
    "\n",
    "    Example 1:\n",
    "\n",
    "    Input: \"babad\"\n",
    "    Output: \"bab\"\n",
    "    Note: \"aba\" is also a valid answer."
   ]
  },
  {
   "cell_type": "code",
   "execution_count": 100,
   "metadata": {},
   "outputs": [],
   "source": [
    "# method-1: fast and slow pointers\n",
    "def longestPalindrom(s):\n",
    "    n = len(s)\n",
    "    if not s: return s\n",
    "    rs = ''\n",
    "    \n",
    "    #slow pointer 'i' and fast pointer 'j'\n",
    "    for i in range(n):\n",
    "        \n",
    "        #start j from next to i\n",
    "        j = i+1\n",
    "        \n",
    "        # j sould not cross n and \n",
    "        # palindrom string can not be longer then rest of the string\n",
    "        while j<= n and len(rs)<= len(s[i:]):\n",
    "            \n",
    "            # stretch out to include all palindromicity\n",
    "            if s[i:j] == s[i:j][::-1] and len(s[i:j])>len(rs):\n",
    "                \n",
    "                # got the longer one?\n",
    "                rs = s[i:j]\n",
    "            \n",
    "            j +=1\n",
    "            \n",
    "    return rs\n",
    "                "
   ]
  },
  {
   "cell_type": "code",
   "execution_count": 101,
   "metadata": {},
   "outputs": [
    {
     "data": {
      "text/plain": [
       "'abcba'"
      ]
     },
     "execution_count": 101,
     "metadata": {},
     "output_type": "execute_result"
    }
   ],
   "source": [
    "s = 'abcba'\n",
    "longestPalindrom(s)"
   ]
  },
  {
   "cell_type": "code",
   "execution_count": 102,
   "metadata": {},
   "outputs": [
    {
     "data": {
      "text/plain": [
       "[[False, False, False, False, False, False, False, False, False, False],\n",
       " [False, False, False, False, False, False, False, False, False, False]]"
      ]
     },
     "execution_count": 102,
     "metadata": {},
     "output_type": "execute_result"
    }
   ],
   "source": [
    "[[False]*10]*2"
   ]
  },
  {
   "cell_type": "code",
   "execution_count": 103,
   "metadata": {},
   "outputs": [],
   "source": [
    "# method 2: dp (do it again)\n",
    "def longestPalindrom(s):\n",
    "    if not s: return s\n",
    "    \n",
    "    rs = ''\n",
    "    n = len(s)\n",
    "    \n",
    "    dp = [[False for _ in range(n)] for _ in range(n)]\n",
    "    max = 0\n",
    "    \n",
    "    for i in range(n):\n",
    "        for j in range(0,i+1):\n",
    "            dp[i][j] = ((s[j] == s[i]) and ((i - j <= 2) or dp[j+1][i-1]))\n",
    "            \n",
    "               \n",
    "            if dp[j][i]:\n",
    "                if (i-j+1) > max:\n",
    "                    max = i-j+1\n",
    "                    rs = s[j:i+1]\n",
    "    print(dp)\n",
    "    return rs"
   ]
  },
  {
   "cell_type": "code",
   "execution_count": 104,
   "metadata": {},
   "outputs": [
    {
     "name": "stdout",
     "output_type": "stream",
     "text": [
      "[[True, False, False, False, False], [False, True, False, False, False], [False, False, True, False, False], [False, True, False, True, False], [False, False, False, False, True]]\n"
     ]
    },
    {
     "data": {
      "text/plain": [
       "'a'"
      ]
     },
     "execution_count": 104,
     "metadata": {},
     "output_type": "execute_result"
    }
   ],
   "source": [
    "longestPalindrom(s)"
   ]
  },
  {
   "cell_type": "markdown",
   "metadata": {},
   "source": [
    "### [Decode Ways](https://leetcode.com/problems/decode-ways/)\n",
    "\n",
    "A message containing letters from A-Z can be encoded into numbers using the following mapping:\n",
    "\n",
    "'A' -> \"1\"\n",
    "'B' -> \"2\"\n",
    "...\n",
    "'Z' -> \"26\"\n",
    "To decode an encoded message, all the digits must be grouped then mapped back into letters using the reverse of the mapping above (there may be multiple ways). For example, \"11106\" can be mapped into:\n",
    "\n",
    "\"AAJF\" with the grouping (1 1 10 6)\n",
    "\"KJF\" with the grouping (11 10 6)\n",
    "Note that the grouping (1 11 06) is invalid because \"06\" cannot be mapped into 'F' since \"6\" is different from \"06\".\n",
    "\n",
    "Given a string s containing only digits, return the number of ways to decode it.\n",
    "\n",
    "The test cases are generated so that the answer fits in a 32-bit integer.\n",
    "\n",
    "![img](https://leetcode.com/problems/decode-ways/Figures/91/91_Decode_Ways_1.png)"
   ]
  },
  {
   "cell_type": "code",
   "execution_count": null,
   "metadata": {},
   "outputs": [],
   "source": [
    "class Solution:\n",
    "\n",
    "    @lru_cache(maxsize=None)\n",
    "    def recursiveWithMemo(self, index, s) -> int:\n",
    "        # If you reach the end of the string\n",
    "        # Return 1 for success.\n",
    "        if index == len(s):\n",
    "            return 1\n",
    "\n",
    "        # If the string starts with a zero, it can't be decoded\n",
    "        if s[index] == '0':\n",
    "            return 0\n",
    "\n",
    "        if index == len(s)-1:\n",
    "            return 1\n",
    "        \n",
    "        answer = self.recursiveWithMemo(index + 1, s)\n",
    "        if int(s[index : index + 2]) <= 26:\n",
    "            answer += self.recursiveWithMemo(index + 2, s)\n",
    "\n",
    "        return answer\n",
    "\n",
    "    def numDecodings(self, s: str) -> int:\n",
    "        return self.recursiveWithMemo(0, s)"
   ]
  },
  {
   "cell_type": "code",
   "execution_count": null,
   "metadata": {},
   "outputs": [],
   "source": [
    "class Solution:\n",
    "    def numDecodings(self, s: str) -> int:\n",
    "        # Array to store the subproblem results\n",
    "        dp = [0 for _ in range(len(s) + 1)]\n",
    "\n",
    "        dp[0] = 1\n",
    "        # Ways to decode a string of size 1 is 1. Unless the string is '0'.\n",
    "        # '0' doesn't have a single digit decode.\n",
    "        dp[1] = 0 if s[0] == '0' else 1\n",
    "\n",
    "\n",
    "        for i in range(2, len(dp)):\n",
    "\n",
    "            # Check if successful single digit decode is possible.\n",
    "            if s[i - 1] != '0':\n",
    "                dp[i] = dp[i - 1]\n",
    "\n",
    "            # Check if successful two digit decode is possible.\n",
    "            two_digit = int(s[i - 2 : i])\n",
    "            if two_digit >= 10 and two_digit <= 26:\n",
    "                dp[i] += dp[i - 2]\n",
    "                \n",
    "        return dp[len(s)]"
   ]
  },
  {
   "cell_type": "code",
   "execution_count": null,
   "metadata": {},
   "outputs": [],
   "source": [
    "class Solution:\n",
    "    def numDecodings(self, s: str) -> int:\n",
    "        if s[0] == \"0\":\n",
    "            return 0\n",
    "    \n",
    "        two_back = 1\n",
    "        one_back = 1\n",
    "        for i in range(1, len(s)):\n",
    "            current = 0\n",
    "            if s[i] != \"0\":\n",
    "                current = one_back\n",
    "            two_digit = int(s[i - 1: i + 1])\n",
    "            if two_digit >= 10 and two_digit <= 26:\n",
    "                current += two_back\n",
    "            two_back = one_back\n",
    "            one_back = current\n",
    "        \n",
    "        return one_back"
   ]
  },
  {
   "cell_type": "code",
   "execution_count": null,
   "metadata": {},
   "outputs": [],
   "source": []
  },
  {
   "cell_type": "code",
   "execution_count": null,
   "metadata": {},
   "outputs": [],
   "source": []
  },
  {
   "cell_type": "code",
   "execution_count": null,
   "metadata": {},
   "outputs": [],
   "source": []
  },
  {
   "cell_type": "code",
   "execution_count": null,
   "metadata": {},
   "outputs": [],
   "source": []
  },
  {
   "cell_type": "code",
   "execution_count": null,
   "metadata": {},
   "outputs": [],
   "source": []
  },
  {
   "cell_type": "code",
   "execution_count": null,
   "metadata": {},
   "outputs": [],
   "source": []
  },
  {
   "cell_type": "code",
   "execution_count": null,
   "metadata": {},
   "outputs": [],
   "source": []
  },
  {
   "cell_type": "code",
   "execution_count": null,
   "metadata": {},
   "outputs": [],
   "source": []
  }
 ],
 "metadata": {
  "kernelspec": {
   "display_name": "Python 3",
   "language": "python",
   "name": "python3"
  },
  "language_info": {
   "codemirror_mode": {
    "name": "ipython",
    "version": 3
   },
   "file_extension": ".py",
   "mimetype": "text/x-python",
   "name": "python",
   "nbconvert_exporter": "python",
   "pygments_lexer": "ipython3",
   "version": "3.8.8"
  }
 },
 "nbformat": 4,
 "nbformat_minor": 2
}
