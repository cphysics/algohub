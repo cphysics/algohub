{
 "cells": [
  {
   "cell_type": "markdown",
   "metadata": {},
   "source": [
    "## Dynamic Algorithm"
   ]
  },
  {
   "cell_type": "markdown",
   "metadata": {},
   "source": [
    "### Product of Array Except Self **\n",
    "\n",
    "Given an array nums of n integers where n > 1,  return an array output such that output[i] is equal to the product of all the elements of nums except nums[i].\n",
    "\n",
    "    Example:\n",
    "\n",
    "    Input:  [1,2,3,4]\n",
    "    Output: [24,12,8,6]"
   ]
  },
  {
   "cell_type": "code",
   "execution_count": 9,
   "metadata": {},
   "outputs": [
    {
     "name": "stdout",
     "output_type": "stream",
     "text": [
      "[1, 3, 4, 5, 6]\n"
     ]
    }
   ],
   "source": [
    "A = [1,2,3,4,5,6]\n",
    "A.remove(2)\n",
    "print(A)"
   ]
  },
  {
   "cell_type": "code",
   "execution_count": 10,
   "metadata": {},
   "outputs": [
    {
     "name": "stdout",
     "output_type": "stream",
     "text": [
      "None\n"
     ]
    }
   ],
   "source": [
    "A = [1,2,3,4,5,6]\n",
    "B = A.remove(2)\n",
    "print(B)"
   ]
  },
  {
   "cell_type": "code",
   "execution_count": 13,
   "metadata": {},
   "outputs": [],
   "source": [
    "def productExceptSelf(A):\n",
    "    Result = []\n",
    "    for i in range(len(A)):\n",
    "\n",
    "        lt = A.remove(A[i])\n",
    "        \n",
    "        p = 1\n",
    "        for t in lt:\n",
    "            p *=t\n",
    "        Result.append(p)\n",
    "    \n",
    "    return Result"
   ]
  },
  {
   "cell_type": "code",
   "execution_count": 14,
   "metadata": {},
   "outputs": [
    {
     "ename": "TypeError",
     "evalue": "'NoneType' object is not iterable",
     "output_type": "error",
     "traceback": [
      "\u001b[0;31m---------------------------------------------------------------------------\u001b[0m",
      "\u001b[0;31mTypeError\u001b[0m                                 Traceback (most recent call last)",
      "\u001b[0;32m<ipython-input-14-88f9b7c5fa27>\u001b[0m in \u001b[0;36m<module>\u001b[0;34m\u001b[0m\n\u001b[1;32m      1\u001b[0m \u001b[0mA\u001b[0m \u001b[0;34m=\u001b[0m \u001b[0;34m[\u001b[0m\u001b[0;36m1\u001b[0m\u001b[0;34m,\u001b[0m\u001b[0;36m2\u001b[0m\u001b[0;34m,\u001b[0m\u001b[0;36m3\u001b[0m\u001b[0;34m,\u001b[0m\u001b[0;36m4\u001b[0m\u001b[0;34m,\u001b[0m\u001b[0;36m5\u001b[0m\u001b[0;34m,\u001b[0m\u001b[0;36m6\u001b[0m\u001b[0;34m]\u001b[0m\u001b[0;34m\u001b[0m\u001b[0;34m\u001b[0m\u001b[0m\n\u001b[0;32m----> 2\u001b[0;31m \u001b[0mproductExceptSelf\u001b[0m\u001b[0;34m(\u001b[0m\u001b[0mA\u001b[0m\u001b[0;34m)\u001b[0m\u001b[0;34m\u001b[0m\u001b[0;34m\u001b[0m\u001b[0m\n\u001b[0m",
      "\u001b[0;32m<ipython-input-13-36da7ccbd74b>\u001b[0m in \u001b[0;36mproductExceptSelf\u001b[0;34m(A)\u001b[0m\n\u001b[1;32m      6\u001b[0m \u001b[0;34m\u001b[0m\u001b[0m\n\u001b[1;32m      7\u001b[0m         \u001b[0mp\u001b[0m \u001b[0;34m=\u001b[0m \u001b[0;36m1\u001b[0m\u001b[0;34m\u001b[0m\u001b[0;34m\u001b[0m\u001b[0m\n\u001b[0;32m----> 8\u001b[0;31m         \u001b[0;32mfor\u001b[0m \u001b[0mt\u001b[0m \u001b[0;32min\u001b[0m \u001b[0mlt\u001b[0m\u001b[0;34m:\u001b[0m\u001b[0;34m\u001b[0m\u001b[0;34m\u001b[0m\u001b[0m\n\u001b[0m\u001b[1;32m      9\u001b[0m             \u001b[0mp\u001b[0m \u001b[0;34m*=\u001b[0m\u001b[0mt\u001b[0m\u001b[0;34m\u001b[0m\u001b[0;34m\u001b[0m\u001b[0m\n\u001b[1;32m     10\u001b[0m         \u001b[0mResult\u001b[0m\u001b[0;34m.\u001b[0m\u001b[0mappend\u001b[0m\u001b[0;34m(\u001b[0m\u001b[0mp\u001b[0m\u001b[0;34m)\u001b[0m\u001b[0;34m\u001b[0m\u001b[0;34m\u001b[0m\u001b[0m\n",
      "\u001b[0;31mTypeError\u001b[0m: 'NoneType' object is not iterable"
     ]
    }
   ],
   "source": [
    "A = [1,2,3,4,5,6]\n",
    "productExceptSelf(A)"
   ]
  },
  {
   "cell_type": "code",
   "execution_count": 42,
   "metadata": {},
   "outputs": [
    {
     "data": {
      "text/plain": [
       "[9, 8, 7, 6, 5, 4, 3, 2, 1, 0]"
      ]
     },
     "execution_count": 42,
     "metadata": {},
     "output_type": "execute_result"
    }
   ],
   "source": [
    "[i for i in reversed(range(10))]"
   ]
  },
  {
   "cell_type": "code",
   "execution_count": 47,
   "metadata": {},
   "outputs": [],
   "source": [
    "def productExceptSelf(A):\n",
    "    n = len(A)\n",
    "    \n",
    "    L,R,Z = [0]*n, [0]*n, [0]*n\n",
    "    \n",
    "    L[0] = 1\n",
    "    #toward right (------------->)\n",
    "    for i in range(1,n):\n",
    "        # look, A[i] is not in the product\n",
    "        L[i] = A[i-1]*L[i-1]\n",
    "        \n",
    "        \n",
    "    R[n-1] = 1\n",
    "    # toward the left (<-------------)\n",
    "    for j in reversed(range(n-1)):\n",
    "        \n",
    "        # look, A[j] is not in the product\n",
    "        R[j] = A[j+1]*R[j+1]\n",
    "        \n",
    "    for k in range(n):\n",
    "        Z[k] = L[k]*R[k]\n",
    "        \n",
    "    \n",
    "    return Z"
   ]
  },
  {
   "cell_type": "code",
   "execution_count": 48,
   "metadata": {},
   "outputs": [
    {
     "data": {
      "text/plain": [
       "[720, 360, 240, 180, 144, 120]"
      ]
     },
     "execution_count": 48,
     "metadata": {},
     "output_type": "execute_result"
    }
   ],
   "source": [
    "A = [1,2,3,4,5,6]\n",
    "productExceptSelf(A)"
   ]
  },
  {
   "cell_type": "markdown",
   "metadata": {},
   "source": [
    "### The Skyline Problem***\n",
    "\n",
    "A city's skyline is the outer contour of the silhouette formed by all the buildings in that city when viewed from a distance. Now suppose you are given the locations and height of all the buildings as shown on a cityscape photo (Figure A), write a program to output the skyline formed by these buildings collectively (Figure B).\n",
    "\n"
   ]
  },
  {
   "cell_type": "code",
   "execution_count": null,
   "metadata": {},
   "outputs": [],
   "source": [
    "class Solution:\n",
    "    def getSkyline(self, buildings):\n",
    "        \"\"\"\n",
    "        Divide-and-conquer algorithm to solve skyline problem,\n",
    "        which is similar with the merge sort algorithm.\n",
    "        \"\"\"\n",
    "        n = len(buildings)\n",
    "        # The base cases\n",
    "        if n == 0:\n",
    "            return []\n",
    "        if n == 1:\n",
    "            x_start, x_end, y = buildings[0]\n",
    "            \n",
    "            return [[x_start, y], [x_end, 0]] \n",
    "         \n",
    "        # If there is more than one building, \n",
    "        # recursively divide the input into two subproblems.\n",
    "        left_skyline = self.getSkyline(buildings[: n // 2])\n",
    "        right_skyline = self.getSkyline(buildings[n // 2 :])\n",
    "        \n",
    "        # Merge the results of subproblem together.\n",
    "        return self.merge_skylines(left_skyline, right_skyline)\n",
    "    \n",
    "    def merge_skylines(self, left, right):\n",
    "        \"\"\"\n",
    "        Merge two skylines together.\n",
    "        \"\"\"\n",
    "        def update_output(x, y):\n",
    "            \"\"\"\n",
    "            Update the final output with the new element.\n",
    "            \"\"\"\n",
    "            # if skyline change is not vertical - \n",
    "            # add the new point\n",
    "            if not output or output[-1][0] != x:\n",
    "                output.append([x, y])\n",
    "            # if skyline change is vertical - \n",
    "            # update the last point\n",
    "            else:\n",
    "                output[-1][1] = y\n",
    "        \n",
    "        def append_skyline(p, lst, n, y, curr_y):\n",
    "            \"\"\"\n",
    "            Append the rest of the skyline elements with indice (p, n)\n",
    "            to the final output.\n",
    "            \"\"\"\n",
    "            while p < n: \n",
    "                x, y = lst[p]\n",
    "                p += 1\n",
    "                if curr_y != y:\n",
    "                    update_output(x, y)\n",
    "                    curr_y = y\n",
    "                \n",
    "        n_l, n_r = len(left), len(right)\n",
    "        p_l = p_r = 0\n",
    "        curr_y  = left_y = right_y = 0\n",
    "        output = []\n",
    "            \n",
    "        # while we're in the region where both skylines are present\n",
    "        while p_l < n_l and p_r < n_r:\n",
    "            point_l, point_r = left[p_l], right[p_r]\n",
    "            # pick up the smallest x\n",
    "            if point_l[0] < point_r[0]: \n",
    "                x, left_y = point_l\n",
    "                p_l += 1\n",
    "            else: \n",
    "                x, right_y = point_r \n",
    "                p_r += 1\n",
    "            # max height (i.e. y) between both skylines\n",
    "            max_y = max(left_y, right_y)\n",
    "            # if there is a skyline change\n",
    "            if curr_y != max_y:\n",
    "                update_output(x, max_y)\n",
    "                curr_y = max_y\n",
    "\n",
    "        # there is only left skyline\n",
    "        append_skyline(p_l, left, n_l, left_y, curr_y)\n",
    "\n",
    "        # there is only right skyline\n",
    "        append_skyline(p_r, right, n_r, right_y, curr_y)\n",
    "                \n",
    "        return output"
   ]
  },
  {
   "cell_type": "markdown",
   "metadata": {},
   "source": [
    "### Maximum Product Subarray\n",
    "\n",
    "Given an integer array nums, find the contiguous subarray within an array (containing at least one number) which has the largest product.\n",
    "\n",
    "    Example 1:\n",
    "\n",
    "    Input: [2,3,-2,4]\n",
    "    Output: 6\n",
    "    Explanation: [2,3] has the largest product 6."
   ]
  },
  {
   "cell_type": "code",
   "execution_count": 54,
   "metadata": {},
   "outputs": [],
   "source": [
    "# How is this a dynamic programming?\n",
    "# there is another solution in geek for geek\n",
    "def maxProduct(A):\n",
    "    n = len(A)\n",
    "    \n",
    "    if n ==0:\n",
    "        return 0\n",
    "    \n",
    "    result = A[0]\n",
    "    \n",
    "    for i in range(n):\n",
    "        pd = 1\n",
    "        for j in range(i,n):\n",
    "            pd *= A[i]\n",
    "            result = max(pd,result)\n",
    "    return result"
   ]
  },
  {
   "cell_type": "code",
   "execution_count": 55,
   "metadata": {},
   "outputs": [
    {
     "data": {
      "text/plain": [
       "81"
      ]
     },
     "execution_count": 55,
     "metadata": {},
     "output_type": "execute_result"
    }
   ],
   "source": [
    "A  = [1,2,-3,4,5,-6]\n",
    "maxProduct(A)"
   ]
  },
  {
   "cell_type": "markdown",
   "metadata": {},
   "source": [
    "### Maximum Product of Three Numbers\n",
    "\n",
    "Given an integer array, find three numbers whose product is maximum and output the maximum product.\n",
    "\n",
    "    Example 1:\n",
    "\n",
    "    Input: [1,2,3]\n",
    "    Output: 6"
   ]
  },
  {
   "cell_type": "code",
   "execution_count": 56,
   "metadata": {},
   "outputs": [],
   "source": [
    "import heapq"
   ]
  },
  {
   "cell_type": "code",
   "execution_count": 57,
   "metadata": {},
   "outputs": [],
   "source": [
    "def maximumProduct(self, array):\n",
    "        largest = heapq.nlargest(3, array)\n",
    "        smallest = heapq.nsmallest(2,array)\n",
    "\n",
    "        return max(largest[0] * largest[1] * largest[2],\\\n",
    "                   largest[0] * smallest[0] * smallest[1] )"
   ]
  },
  {
   "cell_type": "markdown",
   "metadata": {},
   "source": [
    "### [Longest Increasing Subsequence](https://leetcode.com/problems/longest-increasing-subsequence/)\n",
    "\n",
    "Given an integer array nums, return the length of the longest strictly increasing subsequence.\n",
    "\n",
    "A subsequence is a sequence that can be derived from an array by deleting some or no elements without changing the order of the remaining elements. For example, [3,6,2,7] is a subsequence of the array [0,3,1,6,2,2,7].\n",
    "\n",
    "        Input: nums = [10,9,2,5,3,7,101,18]\n",
    "        Output: 4\n",
    "        Explanation: The longest increasing subsequence is [2,3,7,101], therefore the length is 4."
   ]
  },
  {
   "cell_type": "code",
   "execution_count": null,
   "metadata": {},
   "outputs": [],
   "source": [
    "class Solution:\n",
    "    def lengthOfLIS(self, nums: List[int]) -> int:\n",
    "        dp = [1] * len(nums)\n",
    "        for i in range(1, len(nums)):\n",
    "            for j in range(i):\n",
    "                if nums[i] > nums[j]:\n",
    "                    dp[i] = max(dp[i], dp[j] + 1)\n",
    "\n",
    "        return max(dp)"
   ]
  },
  {
   "cell_type": "code",
   "execution_count": null,
   "metadata": {},
   "outputs": [],
   "source": [
    "class Solution:\n",
    "    def lengthOfLIS(self, nums: List[int]) -> int:\n",
    "        sub = [nums[0]]\n",
    "        \n",
    "        for num in nums[1:]:\n",
    "            if num > sub[-1]:\n",
    "                sub.append(num)\n",
    "            else:\n",
    "                # Find the first element in sub that is greater than or equal to num\n",
    "                i = 0\n",
    "                while num > sub[i]:\n",
    "                    i += 1\n",
    "                sub[i] = num\n",
    "\n",
    "        return len(sub)"
   ]
  },
  {
   "cell_type": "code",
   "execution_count": null,
   "metadata": {},
   "outputs": [],
   "source": [
    "class Solution:\n",
    "    def lengthOfLIS(self, nums: List[int]) -> int:\n",
    "        sub = []\n",
    "        for num in nums:\n",
    "            i = bisect_left(sub, num)\n",
    "\n",
    "            # If num is greater than any element in sub\n",
    "            if i == len(sub):\n",
    "                sub.append(num)\n",
    "            \n",
    "            # Otherwise, replace the first element in sub greater than or equal to num\n",
    "            else:\n",
    "                sub[i] = num\n",
    "        \n",
    "        return len(sub)"
   ]
  },
  {
   "cell_type": "markdown",
   "metadata": {},
   "source": [
    "### [Longest Common Subsequence](https://leetcode.com/problems/longest-common-subsequence/)\n",
    "\n",
    "Given two strings text1 and text2, return the length of their longest common subsequence. If there is no common subsequence, return 0.\n",
    "\n",
    "A subsequence of a string is a new string generated from the original string with some characters (can be none) deleted without changing the relative order of the remaining characters.\n",
    "\n",
    "For example, \"ace\" is a subsequence of \"abcde\".\n",
    "A common subsequence of two strings is a subsequence that is common to both strings.\n",
    "\n"
   ]
  },
  {
   "cell_type": "code",
   "execution_count": null,
   "metadata": {},
   "outputs": [],
   "source": [
    "from functools import lru_cache\n",
    "\n",
    "class Solution:\n",
    "    def longestCommonSubsequence(self, text1: str, text2: str) -> int:\n",
    "        \n",
    "        @lru_cache(maxsize=None)\n",
    "        def memo_solve(p1, p2):\n",
    "            \n",
    "            # Base case: If either string is now empty, we can't match\n",
    "            # up anymore characters.\n",
    "            if p1 == len(text1) or p2 == len(text2):\n",
    "                return 0\n",
    "            \n",
    "            # Option 1: We don't include text1[p1] in the solution.\n",
    "            option_1 = memo_solve(p1 + 1, p2)\n",
    "            \n",
    "            # Option 2: We include text1[p1] in the solution, as long as\n",
    "            # a match for it in text2 at or after p2 exists.\n",
    "            first_occurence = text2.find(text1[p1], p2)\n",
    "            option_2 = 0\n",
    "            if first_occurence != -1:\n",
    "                option_2 = 1 + memo_solve(p1 + 1, first_occurence + 1)\n",
    "            \n",
    "            # Return the best option.\n",
    "            return max(option_1, option_2)\n",
    "                \n",
    "        return memo_solve(0, 0)"
   ]
  },
  {
   "cell_type": "code",
   "execution_count": null,
   "metadata": {},
   "outputs": [],
   "source": [
    "from functools import lru_cache\n",
    "class Solution:\n",
    "    def longestCommonSubsequence(self, text1: str, text2: str) -> int:\n",
    "        \n",
    "        @lru_cache(maxsize=None)\n",
    "        def memo_solve(p1, p2):\n",
    "            \n",
    "            # Base case: If either string is now empty, we can't match\n",
    "            # up anymore characters.\n",
    "            if p1 == len(text1) or p2 == len(text2):\n",
    "                return 0\n",
    "            \n",
    "            # Recursive case 1.\n",
    "            if text1[p1] == text2[p2]:\n",
    "                return 1 + memo_solve(p1 + 1, p2 + 1)\n",
    "            \n",
    "            # Recursive case 2.\n",
    "            else:\n",
    "                return max(memo_solve(p1, p2 + 1), memo_solve(p1 + 1, p2))\n",
    "            \n",
    "        return memo_solve(0, 0)"
   ]
  },
  {
   "cell_type": "code",
   "execution_count": null,
   "metadata": {},
   "outputs": [],
   "source": [
    "class Solution:\n",
    "    def longestCommonSubsequence(self, text1: str, text2: str) -> int:\n",
    "        \n",
    "        # Make a grid of 0's with len(text2) + 1 columns \n",
    "        # and len(text1) + 1 rows.\n",
    "        dp_grid = [[0] * (len(text2) + 1) for _ in range(len(text1) + 1)]\n",
    "        \n",
    "        # Iterate up each column, starting from the last one.\n",
    "        for col in reversed(range(len(text2))):\n",
    "            for row in reversed(range(len(text1))):\n",
    "                # If the corresponding characters for this cell are the same...\n",
    "                if text2[col] == text1[row]:\n",
    "                    dp_grid[row][col] = 1 + dp_grid[row + 1][col + 1]\n",
    "                # Otherwise they must be different...\n",
    "                else:\n",
    "                    dp_grid[row][col] = max(dp_grid[row + 1][col], dp_grid[row][col + 1])\n",
    "        \n",
    "        # The original problem's answer is in dp_grid[0][0]. Return it.\n",
    "        return dp_grid[0][0]"
   ]
  },
  {
   "cell_type": "code",
   "execution_count": null,
   "metadata": {},
   "outputs": [],
   "source": [
    "class Solution:\n",
    "    def longestCommonSubsequence(self, text1: str, text2: str) -> int:\n",
    "        \n",
    "        # If text1 doesn't reference the shortest string, swap them.\n",
    "        if len(text2) < len(text1):\n",
    "            text1, text2 = text2, text1\n",
    "        \n",
    "        \n",
    "        # The previous and current column starts with all 0's and like \n",
    "        # before is 1 more than the length of the first word.\n",
    "        previous = [0] * (len(text1) + 1)\n",
    "        current = [0] * (len(text1) + 1)\n",
    "        \n",
    "        # Iterate up each column, starting from the last one.\n",
    "        for col in reversed(range(len(text2))):\n",
    "            for row in reversed(range(len(text1))):\n",
    "                if text2[col] == text1[row]:\n",
    "                    current[row] = 1 + previous[row + 1]\n",
    "                else:\n",
    "                    current[row] = max(previous[row], current[row + 1])\n",
    "            # The current column becomes the previous one, and vice versa.\n",
    "            previous, current = current, previous\n",
    "        \n",
    "        # The original problem's answer is in previous[0]. Return it.\n",
    "        return previous[0]"
   ]
  },
  {
   "cell_type": "markdown",
   "metadata": {},
   "source": [
    "### [Combination Sum IV](https://leetcode.com/problems/combination-sum-iv/)\n",
    "\n",
    "Given an array of distinct integers nums and a target integer target, return the number of possible combinations that add up to target.\n",
    "\n",
    "The test cases are generated so that the answer can fit in a 32-bit integer.\n",
    "\n",
    " "
   ]
  },
  {
   "cell_type": "code",
   "execution_count": null,
   "metadata": {},
   "outputs": [],
   "source": [
    "class Solution:\n",
    "    def combinationSum4(self, nums: List[int], target: int) -> int:\n",
    "        # potential optimization\n",
    "        # nums.sort()\n",
    "\n",
    "        @functools.lru_cache(maxsize = None)\n",
    "        def combs(remain):\n",
    "            if remain == 0:\n",
    "                return 1\n",
    "\n",
    "            result = 0\n",
    "            for num in nums:\n",
    "                if remain - num >= 0:\n",
    "                    result += combs(remain - num)\n",
    "                # potential optimization\n",
    "                # else:\n",
    "                #     break\n",
    "\n",
    "            return result\n",
    "\n",
    "        return combs(target)"
   ]
  },
  {
   "cell_type": "code",
   "execution_count": null,
   "metadata": {},
   "outputs": [],
   "source": [
    "class Solution:\n",
    "    def combinationSum4(self, nums: List[int], target: int) -> int:\n",
    "        # minor optimization\n",
    "        # nums.sort()\n",
    "        dp = [0 for i in range(target+1)]\n",
    "        dp[0] = 1\n",
    "\n",
    "        for comb_sum in range(target+1):\n",
    "\n",
    "            for num in nums:\n",
    "                if comb_sum - num >= 0:\n",
    "                    dp[comb_sum] += dp[comb_sum-num]\n",
    "                # minor optimization, early stopping.\n",
    "                # else:\n",
    "                #    break\n",
    "        return dp[target]"
   ]
  },
  {
   "cell_type": "code",
   "execution_count": null,
   "metadata": {},
   "outputs": [],
   "source": []
  },
  {
   "cell_type": "code",
   "execution_count": null,
   "metadata": {},
   "outputs": [],
   "source": []
  },
  {
   "cell_type": "code",
   "execution_count": null,
   "metadata": {},
   "outputs": [],
   "source": []
  },
  {
   "cell_type": "code",
   "execution_count": null,
   "metadata": {},
   "outputs": [],
   "source": []
  },
  {
   "cell_type": "code",
   "execution_count": null,
   "metadata": {},
   "outputs": [],
   "source": []
  },
  {
   "cell_type": "code",
   "execution_count": null,
   "metadata": {},
   "outputs": [],
   "source": []
  }
 ],
 "metadata": {
  "kernelspec": {
   "display_name": "Python 3",
   "language": "python",
   "name": "python3"
  },
  "language_info": {
   "codemirror_mode": {
    "name": "ipython",
    "version": 3
   },
   "file_extension": ".py",
   "mimetype": "text/x-python",
   "name": "python",
   "nbconvert_exporter": "python",
   "pygments_lexer": "ipython3",
   "version": "3.8.8"
  }
 },
 "nbformat": 4,
 "nbformat_minor": 2
}
