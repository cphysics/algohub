{
 "cells": [
  {
   "cell_type": "markdown",
   "id": "bc5044f9",
   "metadata": {},
   "source": [
    "### 1. Prime numbers"
   ]
  },
  {
   "cell_type": "code",
   "execution_count": 15,
   "id": "fb768ac9",
   "metadata": {},
   "outputs": [
    {
     "data": {
      "text/plain": [
       "[False,\n",
       " True,\n",
       " False,\n",
       " False,\n",
       " True,\n",
       " True,\n",
       " True,\n",
       " True,\n",
       " False,\n",
       " True,\n",
       " True,\n",
       " True,\n",
       " True,\n",
       " True,\n",
       " True,\n",
       " True,\n",
       " True,\n",
       " True]"
      ]
     },
     "execution_count": 15,
     "metadata": {},
     "output_type": "execute_result"
    }
   ],
   "source": [
    "[ 20%i !=0 for i in range(2,20)]"
   ]
  },
  {
   "cell_type": "code",
   "execution_count": 18,
   "id": "f8beb603",
   "metadata": {},
   "outputs": [
    {
     "data": {
      "text/plain": [
       "[True,\n",
       " True,\n",
       " True,\n",
       " True,\n",
       " True,\n",
       " True,\n",
       " True,\n",
       " True,\n",
       " True,\n",
       " True,\n",
       " True,\n",
       " True,\n",
       " True,\n",
       " True,\n",
       " True,\n",
       " True,\n",
       " True]"
      ]
     },
     "execution_count": 18,
     "metadata": {},
     "output_type": "execute_result"
    }
   ],
   "source": [
    "[ 19%i !=0 for i in range(2,19)]"
   ]
  },
  {
   "cell_type": "code",
   "execution_count": 16,
   "id": "6f6d9ccb",
   "metadata": {},
   "outputs": [
    {
     "data": {
      "text/plain": [
       "False"
      ]
     },
     "execution_count": 16,
     "metadata": {},
     "output_type": "execute_result"
    }
   ],
   "source": [
    "all([ 20%i !=0 for i in range(2,20)])"
   ]
  },
  {
   "cell_type": "code",
   "execution_count": 19,
   "id": "28caf54e",
   "metadata": {},
   "outputs": [
    {
     "data": {
      "text/plain": [
       "True"
      ]
     },
     "execution_count": 19,
     "metadata": {},
     "output_type": "execute_result"
    }
   ],
   "source": [
    "all(19%i !=0 for i in range(2,19))"
   ]
  },
  {
   "cell_type": "code",
   "execution_count": 4,
   "id": "d19b6f41",
   "metadata": {},
   "outputs": [
    {
     "name": "stdout",
     "output_type": "stream",
     "text": [
      "101\n",
      "103\n",
      "107\n",
      "109\n",
      "113\n",
      "127\n",
      "131\n",
      "137\n",
      "139\n",
      "149\n"
     ]
    }
   ],
   "source": [
    "#Print all Prime Numbers between 100 to 150\n",
    "#check each number by number\n",
    "for num in range(100,150):\n",
    "    #find if not divisible by other except 1 and self\n",
    "    if all(num%i !=0 for i in range(2,num)):\n",
    "        # print if true\n",
    "        print(num)"
   ]
  },
  {
   "cell_type": "code",
   "execution_count": 6,
   "id": "81a55902",
   "metadata": {},
   "outputs": [
    {
     "name": "stdout",
     "output_type": "stream",
     "text": [
      "25\n"
     ]
    }
   ],
   "source": [
    "#Count all Prime Numbers between 0 to 100\n",
    "c = 1 # 2 is prime\n",
    "for num in range(3,100):\n",
    "    if all(num%i !=0 for i in range(2,num)):\n",
    "        c +=1\n",
    "print(c)"
   ]
  },
  {
   "cell_type": "code",
   "execution_count": 9,
   "id": "710a5ead",
   "metadata": {},
   "outputs": [],
   "source": [
    "#check if a number is prime or not\n",
    "num = 70\n",
    "if all(num%i!=0 for i in range(2,num)):\n",
    "    print(\"it is prime\")"
   ]
  },
  {
   "cell_type": "markdown",
   "id": "2185581c",
   "metadata": {},
   "source": [
    "### 2. Sort an Array"
   ]
  },
  {
   "cell_type": "code",
   "execution_count": 22,
   "id": "189041df",
   "metadata": {},
   "outputs": [
    {
     "data": {
      "text/plain": [
       "[74, 64, 53, 46, 32, 27, 13, 12]"
      ]
     },
     "execution_count": 22,
     "metadata": {},
     "output_type": "execute_result"
    }
   ],
   "source": [
    "A = [12,64,13,46,32,74,53,27]\n",
    "A.sort(reverse = True)\n",
    "A"
   ]
  },
  {
   "cell_type": "code",
   "execution_count": null,
   "id": "f57fdc1d",
   "metadata": {},
   "outputs": [],
   "source": [
    "#implement selection sort\n",
    "\n",
    "# you need new sorted list\n",
    "sA = []\n",
    "\n",
    "#set minimum as first element\n",
    "mn = A[0]\n",
    "\n",
    "# run while untill A is empty\n",
    "# array A is running out of elements ha ha..\n",
    "#because we are spitting out the minimum one by one\n",
    "while A:\n",
    "    \n",
    "    #find where is minimum\n",
    "    for i in range(len(A)):\n",
    "        if mn>A[i]:\n",
    "            #update the minimum with new minimum\n",
    "            mn = A[i]\n",
    "    # you must have got the one minimum\n",
    "    #add it to the sA array\n",
    "    sA.append(mn)\n",
    "    \n",
    "    #remove that minimim from A\n",
    "    A.remove(mn)\n",
    "        \n",
    "    "
   ]
  },
  {
   "cell_type": "markdown",
   "id": "298aba96",
   "metadata": {},
   "source": [
    "### 3. Fibonacy no"
   ]
  },
  {
   "cell_type": "code",
   "execution_count": 24,
   "id": "608cbd00",
   "metadata": {},
   "outputs": [
    {
     "data": {
      "text/plain": [
       "55"
      ]
     },
     "execution_count": 24,
     "metadata": {},
     "output_type": "execute_result"
    }
   ],
   "source": [
    "# recursion\n",
    "def fib(n):\n",
    "    if n ==0: return 0\n",
    "    elif n ==1: return 1\n",
    "    else :\n",
    "        return fib(n-1)+fib(n-2)\n",
    "fib(10)    "
   ]
  },
  {
   "cell_type": "code",
   "execution_count": 39,
   "id": "09807b65",
   "metadata": {},
   "outputs": [
    {
     "data": {
      "text/plain": [
       "[0, 0, 0, 0, 0, 0, 0, 0, 0, 0]"
      ]
     },
     "execution_count": 39,
     "metadata": {},
     "output_type": "execute_result"
    }
   ],
   "source": [
    "[0]*10"
   ]
  },
  {
   "cell_type": "code",
   "execution_count": 42,
   "id": "1f5ac2ac",
   "metadata": {},
   "outputs": [
    {
     "data": {
      "text/plain": [
       "55"
      ]
     },
     "execution_count": 42,
     "metadata": {},
     "output_type": "execute_result"
    }
   ],
   "source": [
    "# dynamic\n",
    "def fib(n):\n",
    "    \n",
    "    F= [0 for i in range(n+1)]\n",
    "    \n",
    "    F[0] = 0\n",
    "    F[1] = 1\n",
    "    \n",
    "    for i in range(2,n+1):\n",
    "        \n",
    "        F[i] = F[i-1] + F[i-2]\n",
    "        \n",
    "    return F[n]\n",
    "\n",
    "fib(10)"
   ]
  },
  {
   "cell_type": "code",
   "execution_count": 43,
   "id": "5585ae7e",
   "metadata": {},
   "outputs": [
    {
     "data": {
      "text/plain": [
       "55"
      ]
     },
     "execution_count": 43,
     "metadata": {},
     "output_type": "execute_result"
    }
   ],
   "source": [
    "#two state pointers\n",
    "def fib(n):\n",
    "    a = 0\n",
    "    b = 1\n",
    "    i = 2\n",
    "\n",
    "    while i < n+1:\n",
    "        a,b = b,a+b\n",
    "        i += 1\n",
    "        \n",
    "    return b\n",
    "fib(10)"
   ]
  },
  {
   "cell_type": "markdown",
   "id": "9bc43981",
   "metadata": {},
   "source": [
    "### 4. Reverse a list"
   ]
  },
  {
   "cell_type": "code",
   "execution_count": 45,
   "id": "a81071b7",
   "metadata": {},
   "outputs": [
    {
     "data": {
      "text/plain": [
       "[9, 8, 7, 6, 5, 4, 3, 2, 1]"
      ]
     },
     "execution_count": 45,
     "metadata": {},
     "output_type": "execute_result"
    }
   ],
   "source": [
    "A = [1,2,3,4,5,6,7,8,9]\n",
    "\n",
    "# method 1\n",
    "rA = []\n",
    "for item in reversed(A):\n",
    "    rA.append(item)\n",
    "rA"
   ]
  },
  {
   "cell_type": "code",
   "execution_count": 46,
   "id": "e0369beb",
   "metadata": {},
   "outputs": [
    {
     "data": {
      "text/plain": [
       "[9, 8, 7, 6, 5, 4, 3, 2, 1]"
      ]
     },
     "execution_count": 46,
     "metadata": {},
     "output_type": "execute_result"
    }
   ],
   "source": [
    "# method 2\n",
    "rA = A[::-1]\n",
    "rA"
   ]
  },
  {
   "cell_type": "code",
   "execution_count": 50,
   "id": "0c2d74e3",
   "metadata": {},
   "outputs": [
    {
     "data": {
      "text/plain": [
       "[9, 8, 7, 6, 5, 4, 3, 2, 1]"
      ]
     },
     "execution_count": 50,
     "metadata": {},
     "output_type": "execute_result"
    }
   ],
   "source": [
    "# method 3: two pointer and swap\n",
    "def rev(A):\n",
    "    \n",
    "    i,j = 0,len(A)-1\n",
    "    \n",
    "    while i<j:\n",
    "        A[i],A[j] = A[j], A[i]\n",
    "        i +=1\n",
    "        j -=1\n",
    "    return A\n",
    "\n",
    "rev(A)"
   ]
  },
  {
   "cell_type": "markdown",
   "id": "38a56d4b",
   "metadata": {},
   "source": [
    "### 5. check if string 's' palindrom"
   ]
  },
  {
   "cell_type": "code",
   "execution_count": 57,
   "id": "0602707f",
   "metadata": {},
   "outputs": [],
   "source": [
    "# method 1: check with reversed string\n",
    "def isPalindrom(s):\n",
    "    rs = ''.join(reversed(s))\n",
    "    if s == rs:\n",
    "        return True\n",
    "    else:\n",
    "        return False"
   ]
  },
  {
   "cell_type": "code",
   "execution_count": 58,
   "id": "257a4fea",
   "metadata": {},
   "outputs": [
    {
     "data": {
      "text/plain": [
       "True"
      ]
     },
     "execution_count": 58,
     "metadata": {},
     "output_type": "execute_result"
    }
   ],
   "source": [
    "s = 'abcdcba'\n",
    "isPalindrom(s)"
   ]
  },
  {
   "cell_type": "code",
   "execution_count": 59,
   "id": "ba1e584f",
   "metadata": {},
   "outputs": [
    {
     "data": {
      "text/plain": [
       "False"
      ]
     },
     "execution_count": 59,
     "metadata": {},
     "output_type": "execute_result"
    }
   ],
   "source": [
    "s = 'abcdcbaetc'\n",
    "isPalindrom(s)"
   ]
  },
  {
   "cell_type": "code",
   "execution_count": 51,
   "id": "30006918",
   "metadata": {},
   "outputs": [],
   "source": [
    "# using two pointer:\n",
    "def isPalindrom(s):\n",
    "    i = 0\n",
    "    j = len(s)-1\n",
    "    \n",
    "    while i<j:\n",
    "        if s[i] == s[j]:\n",
    "            i += 1\n",
    "            j -=1\n",
    "        else:\n",
    "            return False\n",
    "    return True       "
   ]
  },
  {
   "cell_type": "code",
   "execution_count": 52,
   "id": "d606bd72",
   "metadata": {},
   "outputs": [
    {
     "data": {
      "text/plain": [
       "True"
      ]
     },
     "execution_count": 52,
     "metadata": {},
     "output_type": "execute_result"
    }
   ],
   "source": [
    "s = 'abcdcba'\n",
    "isPalindrom(s)"
   ]
  },
  {
   "cell_type": "code",
   "execution_count": 53,
   "id": "c5171e65",
   "metadata": {},
   "outputs": [
    {
     "data": {
      "text/plain": [
       "False"
      ]
     },
     "execution_count": 53,
     "metadata": {},
     "output_type": "execute_result"
    }
   ],
   "source": [
    "s = 'abcdcbadf'\n",
    "isPalindrom(s)"
   ]
  },
  {
   "cell_type": "markdown",
   "id": "659daf45",
   "metadata": {},
   "source": [
    "### 6. set of duplicates in a list"
   ]
  },
  {
   "cell_type": "code",
   "execution_count": 62,
   "id": "5d2f1a54",
   "metadata": {},
   "outputs": [],
   "source": [
    "#method 1: using list comprehension\n",
    "def findDuplicates(A):\n",
    "    return set([x for x in A if A.count(x)>1 ])"
   ]
  },
  {
   "cell_type": "code",
   "execution_count": 63,
   "id": "1680880c",
   "metadata": {},
   "outputs": [
    {
     "data": {
      "text/plain": [
       "{1, 4, 6}"
      ]
     },
     "execution_count": 63,
     "metadata": {},
     "output_type": "execute_result"
    }
   ],
   "source": [
    "A = [1,1,2,3,4,4,5,6,6]\n",
    "findDuplicates(A)"
   ]
  },
  {
   "cell_type": "code",
   "execution_count": 67,
   "id": "62849a94",
   "metadata": {},
   "outputs": [
    {
     "data": {
      "text/plain": [
       "Counter({1: 2, 2: 1, 3: 1, 4: 2, 5: 1, 6: 2})"
      ]
     },
     "execution_count": 67,
     "metadata": {},
     "output_type": "execute_result"
    }
   ],
   "source": [
    "import collections\n",
    "count = collections.Counter(A)\n",
    "count"
   ]
  },
  {
   "cell_type": "code",
   "execution_count": 69,
   "id": "47f46f0c",
   "metadata": {},
   "outputs": [],
   "source": [
    "# method 2: using collections.Counter\n",
    "def findDuplicates(A):\n",
    "    count = collections.Counter(A)\n",
    "    D = []\n",
    "    for key,value in count.items():\n",
    "        if value>1: D.append(key)\n",
    "    return D"
   ]
  },
  {
   "cell_type": "code",
   "execution_count": 70,
   "id": "2f9d96d7",
   "metadata": {},
   "outputs": [
    {
     "data": {
      "text/plain": [
       "[1, 4, 6]"
      ]
     },
     "execution_count": 70,
     "metadata": {},
     "output_type": "execute_result"
    }
   ],
   "source": [
    "findDuplicates(A)"
   ]
  },
  {
   "cell_type": "markdown",
   "id": "58ce1b79",
   "metadata": {},
   "source": [
    "- How many elements are duplicates?"
   ]
  },
  {
   "cell_type": "code",
   "execution_count": 71,
   "id": "5940467c",
   "metadata": {},
   "outputs": [
    {
     "data": {
      "text/plain": [
       "3"
      ]
     },
     "execution_count": 71,
     "metadata": {},
     "output_type": "execute_result"
    }
   ],
   "source": [
    "len(A) - len(set(A))"
   ]
  },
  {
   "cell_type": "code",
   "execution_count": 72,
   "id": "5fb05ec8",
   "metadata": {},
   "outputs": [],
   "source": [
    "# method 3: using hash table\n",
    "# is A sorted? lets assume it is not sorted.\n",
    "\n",
    "def findDuplicates(A):\n",
    "    seen = {}\n",
    "\n",
    "    for ele in A:\n",
    "        if ele in seen:\n",
    "            seen[ele] +=1\n",
    "        else:\n",
    "            seen[ele] = 1\n",
    "            \n",
    "    return [key for (key,value) in seen.items() if value>1]"
   ]
  },
  {
   "cell_type": "code",
   "execution_count": 74,
   "id": "2ae4f67b",
   "metadata": {},
   "outputs": [
    {
     "data": {
      "text/plain": [
       "[1, 4, 6]"
      ]
     },
     "execution_count": 74,
     "metadata": {},
     "output_type": "execute_result"
    }
   ],
   "source": [
    "findDuplicates(A)"
   ]
  },
  {
   "cell_type": "markdown",
   "id": "90ec5700",
   "metadata": {},
   "source": [
    "- Note: find duplicates is different from remove duplicates"
   ]
  },
  {
   "cell_type": "markdown",
   "id": "71134711",
   "metadata": {},
   "source": [
    "### 7. number of words in a sentence"
   ]
  },
  {
   "cell_type": "code",
   "execution_count": 82,
   "id": "dd683a98",
   "metadata": {},
   "outputs": [],
   "source": [
    "s = \"hello how are you?\""
   ]
  },
  {
   "cell_type": "code",
   "execution_count": 80,
   "id": "d1651b14",
   "metadata": {},
   "outputs": [],
   "source": [
    "def countWords(s):\n",
    "    return len(s.split(\" \"))"
   ]
  },
  {
   "cell_type": "code",
   "execution_count": 81,
   "id": "515d3f32",
   "metadata": {},
   "outputs": [
    {
     "data": {
      "text/plain": [
       "4"
      ]
     },
     "execution_count": 81,
     "metadata": {},
     "output_type": "execute_result"
    }
   ],
   "source": [
    "countWords(s)"
   ]
  },
  {
   "cell_type": "markdown",
   "id": "58d23b8c",
   "metadata": {},
   "source": [
    "- count word frequencies in a text"
   ]
  },
  {
   "cell_type": "code",
   "execution_count": 95,
   "id": "0d5f6603",
   "metadata": {},
   "outputs": [],
   "source": [
    "text =  \"Hello how are you,I am asking you,Is it fine,Thank you\""
   ]
  },
  {
   "cell_type": "code",
   "execution_count": 96,
   "id": "85955db8",
   "metadata": {},
   "outputs": [],
   "source": [
    "def freq(text):\n",
    "    wc = {}\n",
    "    for sen in text.split(\",\"):\n",
    "        for word in sen.split(\" \"):\n",
    "            if word in wc:\n",
    "                wc[word] +=1\n",
    "            else:\n",
    "                wc[word] = 1\n",
    "    return wc"
   ]
  },
  {
   "cell_type": "code",
   "execution_count": 97,
   "id": "6eb16cae",
   "metadata": {},
   "outputs": [
    {
     "data": {
      "text/plain": [
       "{'Hello': 1,\n",
       " 'how': 1,\n",
       " 'are': 1,\n",
       " 'you': 3,\n",
       " 'I': 1,\n",
       " 'am': 1,\n",
       " 'asking': 1,\n",
       " 'Is': 1,\n",
       " 'it': 1,\n",
       " 'fine': 1,\n",
       " 'Thank': 1}"
      ]
     },
     "execution_count": 97,
     "metadata": {},
     "output_type": "execute_result"
    }
   ],
   "source": [
    "freq(text)"
   ]
  },
  {
   "cell_type": "markdown",
   "id": "73b08a73",
   "metadata": {},
   "source": [
    "### 8. Find a element in the array"
   ]
  },
  {
   "cell_type": "code",
   "execution_count": 114,
   "id": "3cea4e96",
   "metadata": {},
   "outputs": [],
   "source": [
    "A = [1,2,3,4,5,6,7,8]"
   ]
  },
  {
   "cell_type": "code",
   "execution_count": 117,
   "id": "f54fb32a",
   "metadata": {},
   "outputs": [],
   "source": [
    "# linear search with list comprehension\n",
    "def findx(x,A):\n",
    "    return any(e == x for e in A )"
   ]
  },
  {
   "cell_type": "code",
   "execution_count": 118,
   "id": "6092d481",
   "metadata": {},
   "outputs": [
    {
     "data": {
      "text/plain": [
       "False"
      ]
     },
     "execution_count": 118,
     "metadata": {},
     "output_type": "execute_result"
    }
   ],
   "source": [
    "findx(9,A)"
   ]
  },
  {
   "cell_type": "code",
   "execution_count": 119,
   "id": "1216062c",
   "metadata": {},
   "outputs": [],
   "source": [
    "# linear search\n",
    "def findx(A,x):\n",
    "    for e in A:\n",
    "        if e==x: return True\n",
    "    return False"
   ]
  },
  {
   "cell_type": "code",
   "execution_count": 120,
   "id": "5b151c86",
   "metadata": {},
   "outputs": [
    {
     "data": {
      "text/plain": [
       "False"
      ]
     },
     "execution_count": 120,
     "metadata": {},
     "output_type": "execute_result"
    }
   ],
   "source": [
    "findx(A,9)"
   ]
  },
  {
   "cell_type": "markdown",
   "id": "08fc8f7f",
   "metadata": {},
   "source": [
    "### 9. Binary Search"
   ]
  },
  {
   "cell_type": "code",
   "execution_count": 155,
   "id": "e0f89065",
   "metadata": {},
   "outputs": [],
   "source": [
    "A = [1,2,3,4,5,6,7,8]"
   ]
  },
  {
   "cell_type": "code",
   "execution_count": 172,
   "id": "2cddbf63",
   "metadata": {},
   "outputs": [],
   "source": [
    "# method 1: recursive and pointers\n",
    "# return index of x in A if exist otherwise return -1\n",
    "def bSearch(A,x,l,r):\n",
    "    \n",
    "    m = (l+r) // 2\n",
    "    \n",
    "    # is that middle one the number?\n",
    "    if A[m] == x:\n",
    "        return m\n",
    "    \n",
    "    elif x > A[m]:\n",
    "        # middle one is already checked; go for the rest\n",
    "        bSearch(A,x,m+1,r)\n",
    "    else:\n",
    "        # middle one is already checked; go for the rest\n",
    "        bSearch(A,x,l,m-1)\n",
    "        \n",
    "    return -1"
   ]
  },
  {
   "cell_type": "code",
   "execution_count": 173,
   "id": "08f13fde",
   "metadata": {},
   "outputs": [
    {
     "data": {
      "text/plain": [
       "-1"
      ]
     },
     "execution_count": 173,
     "metadata": {},
     "output_type": "execute_result"
    }
   ],
   "source": [
    "l = 0\n",
    "r = len(A)-1\n",
    "bSearch(A,8,l,r) # why ? -1"
   ]
  },
  {
   "cell_type": "code",
   "execution_count": 174,
   "id": "02f3ba1f",
   "metadata": {},
   "outputs": [],
   "source": [
    "#method 2: two pointers only\n",
    "\n",
    "def bSearch(A,x):\n",
    "    \n",
    "    # set two pointers\n",
    "    l,r = 0,len(A)\n",
    "    \n",
    "    # move to each other \n",
    "    while l<r:\n",
    "        m =  l+(r-l)//2\n",
    "        if A[m] ==x:\n",
    "            return m\n",
    "        elif x > A[m]:\n",
    "            l = m\n",
    "        elif x< A[m]:\n",
    "            r = m"
   ]
  },
  {
   "cell_type": "code",
   "execution_count": 175,
   "id": "07ae2417",
   "metadata": {},
   "outputs": [
    {
     "data": {
      "text/plain": [
       "7"
      ]
     },
     "execution_count": 175,
     "metadata": {},
     "output_type": "execute_result"
    }
   ],
   "source": [
    "bSearch(A,8)"
   ]
  },
  {
   "cell_type": "markdown",
   "id": "5ae14b82",
   "metadata": {},
   "source": [
    "### 10. Extract digit from a string"
   ]
  },
  {
   "cell_type": "code",
   "execution_count": 176,
   "id": "cdbe6839",
   "metadata": {},
   "outputs": [],
   "source": [
    "s = 'we23dferg56ghtrfe7'"
   ]
  },
  {
   "cell_type": "code",
   "execution_count": 177,
   "id": "0357ba96",
   "metadata": {},
   "outputs": [
    {
     "data": {
      "text/plain": [
       "'23567'"
      ]
     },
     "execution_count": 177,
     "metadata": {},
     "output_type": "execute_result"
    }
   ],
   "source": [
    "digit = \"\".join(filter(lambda x : x.isdigit(), s))\n",
    "digit"
   ]
  },
  {
   "cell_type": "markdown",
   "id": "8d06eaa0",
   "metadata": {},
   "source": [
    "### 11. Delete duplicate (repeated) chr in the string"
   ]
  },
  {
   "cell_type": "code",
   "execution_count": 184,
   "id": "0d764d3a",
   "metadata": {},
   "outputs": [],
   "source": [
    "# set two pointers\n",
    "def removeDup(s):\n",
    "    ns = \"\"\n",
    "    seen = {}\n",
    "    for cr in s:\n",
    "        if cr not in seen:\n",
    "            seen[cr] = True\n",
    "            ns += cr\n",
    "    return ns  "
   ]
  },
  {
   "cell_type": "code",
   "execution_count": 185,
   "id": "e94eaf42",
   "metadata": {},
   "outputs": [
    {
     "data": {
      "text/plain": [
       "'abcdefrgh'"
      ]
     },
     "execution_count": 185,
     "metadata": {},
     "output_type": "execute_result"
    }
   ],
   "source": [
    "s = 'aaaabbbbcdddefrghhhh'\n",
    "removeDup(s)"
   ]
  },
  {
   "cell_type": "markdown",
   "id": "c7480fe7",
   "metadata": {},
   "source": [
    "- why dont you use two pointers? "
   ]
  },
  {
   "cell_type": "code",
   "execution_count": null,
   "id": "da08d763",
   "metadata": {},
   "outputs": [],
   "source": []
  },
  {
   "cell_type": "code",
   "execution_count": null,
   "id": "562ad211",
   "metadata": {},
   "outputs": [],
   "source": []
  },
  {
   "cell_type": "code",
   "execution_count": null,
   "id": "9e48d8e6",
   "metadata": {},
   "outputs": [],
   "source": []
  }
 ],
 "metadata": {
  "kernelspec": {
   "display_name": "Python 3",
   "language": "python",
   "name": "python3"
  },
  "language_info": {
   "codemirror_mode": {
    "name": "ipython",
    "version": 3
   },
   "file_extension": ".py",
   "mimetype": "text/x-python",
   "name": "python",
   "nbconvert_exporter": "python",
   "pygments_lexer": "ipython3",
   "version": "3.8.8"
  }
 },
 "nbformat": 4,
 "nbformat_minor": 5
}
