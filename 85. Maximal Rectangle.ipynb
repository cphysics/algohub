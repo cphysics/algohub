{
 "cells": [
  {
   "cell_type": "markdown",
   "metadata": {},
   "source": [
    "### Maximal Rectangle\n",
    "\n",
    "Given a 2D binary matrix filled with 0's and 1's, find the largest rectangle containing only 1's and return its area."
   ]
  },
  {
   "cell_type": "code",
   "execution_count": 67,
   "metadata": {},
   "outputs": [],
   "source": [
    "class Solution:\n",
    "    def maximalRectangle(self, matrix):\n",
    "        maxarea = 0\n",
    "\n",
    "        dp = [[0] * len(matrix[0]) for t in range(len(matrix))]\n",
    "        \n",
    "        for i in range(len(matrix)):\n",
    "            for j in range(len(matrix[0])):\n",
    "                \n",
    "                if matrix[i][j] == 0:\n",
    "                    continue\n",
    "                else:\n",
    "                    # compute the maximum width and update dp with it\n",
    "                    dp[i][j] = dp[i][j-1] + 1 if j else 1\n",
    "                    width = dp[i][j]\n",
    "                    \n",
    "                    print(i,j,dp)\n",
    "                    \n",
    "                    # compute the maximum area rectangle with a lower right corner at [i, j]\n",
    "                    for k in range(i, -1, -1):\n",
    "                        width = min(width, dp[k][j])\n",
    "                        maxarea = max(maxarea, width * (i-k+1))\n",
    "                        \n",
    "        return maxarea\n"
   ]
  },
  {
   "cell_type": "code",
   "execution_count": 68,
   "metadata": {},
   "outputs": [],
   "source": [
    "mm = [[0,0,0,0,0,0],\n",
    "      [0,0,1,1,1,0],\n",
    "      [0,0,1,1,1,0],\n",
    "      [0,0,0,0,0,0]]"
   ]
  },
  {
   "cell_type": "code",
   "execution_count": 69,
   "metadata": {},
   "outputs": [
    {
     "name": "stdout",
     "output_type": "stream",
     "text": [
      "1 2 [[0, 0, 0, 0, 0, 0], [0, 0, 1, 0, 0, 0], [0, 0, 0, 0, 0, 0], [0, 0, 0, 0, 0, 0]]\n",
      "1 3 [[0, 0, 0, 0, 0, 0], [0, 0, 1, 2, 0, 0], [0, 0, 0, 0, 0, 0], [0, 0, 0, 0, 0, 0]]\n",
      "1 4 [[0, 0, 0, 0, 0, 0], [0, 0, 1, 2, 3, 0], [0, 0, 0, 0, 0, 0], [0, 0, 0, 0, 0, 0]]\n",
      "2 2 [[0, 0, 0, 0, 0, 0], [0, 0, 1, 2, 3, 0], [0, 0, 1, 0, 0, 0], [0, 0, 0, 0, 0, 0]]\n",
      "2 3 [[0, 0, 0, 0, 0, 0], [0, 0, 1, 2, 3, 0], [0, 0, 1, 2, 0, 0], [0, 0, 0, 0, 0, 0]]\n",
      "2 4 [[0, 0, 0, 0, 0, 0], [0, 0, 1, 2, 3, 0], [0, 0, 1, 2, 3, 0], [0, 0, 0, 0, 0, 0]]\n"
     ]
    },
    {
     "data": {
      "text/plain": [
       "6"
      ]
     },
     "execution_count": 69,
     "metadata": {},
     "output_type": "execute_result"
    }
   ],
   "source": [
    "Solution().maximalRectangle(mm)"
   ]
  },
  {
   "cell_type": "markdown",
   "metadata": {},
   "source": [
    "- Complexity Analysis\n",
    "\n",
    "- Time complexity : O(N^2M)O(N \n",
    "2\n",
    " M). Computing the maximum area for one point takes O(N)O(N) time, since it iterates over the values in the same column. This is done for all N * MN∗M points, giving O(N) * O(NM) = O(N^2M)O(N)∗O(NM)=O(N \n",
    "2\n",
    " M).\n",
    "\n",
    "- Space complexity : O(NM)O(NM). We allocate an equal sized array to store the maximum width at each point.\n"
   ]
  },
  {
   "cell_type": "code",
   "execution_count": null,
   "metadata": {},
   "outputs": [],
   "source": []
  }
 ],
 "metadata": {
  "kernelspec": {
   "display_name": "Python 3",
   "language": "python",
   "name": "python3"
  },
  "language_info": {
   "codemirror_mode": {
    "name": "ipython",
    "version": 3
   },
   "file_extension": ".py",
   "mimetype": "text/x-python",
   "name": "python",
   "nbconvert_exporter": "python",
   "pygments_lexer": "ipython3",
   "version": "3.7.3"
  }
 },
 "nbformat": 4,
 "nbformat_minor": 2
}
