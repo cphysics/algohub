{
 "cells": [
  {
   "cell_type": "markdown",
   "metadata": {},
   "source": [
    "### Maximal Rectangle\n",
    "\n",
    "Given a 2D binary matrix filled with 0's and 1's, find the largest rectangle containing only 1's and return its area."
   ]
  },
  {
   "cell_type": "code",
   "execution_count": 35,
   "metadata": {},
   "outputs": [],
   "source": [
    "class Solution:\n",
    "    def maximalRectangle(self, matrix):\n",
    "        maxarea = 0\n",
    "\n",
    "        dp = [[0] * len(matrix[0]) for _ in range(len(matrix))]\n",
    "        for i in range(len(matrix)):\n",
    "            for j in range(len(matrix[0])):\n",
    "                if matrix[i][j] == '0': continue\n",
    "\n",
    "                # compute the maximum width and update dp with it\n",
    "                width = dp[i][j] = dp[i][j-1] + 1 if j else 1\n",
    "\n",
    "                # compute the maximum area rectangle with a lower right corner at [i, j]\n",
    "                for k in range(i, -1, -1):\n",
    "                    width = min(width, dp[k][j])\n",
    "                    maxarea = max(maxarea, width * (i-k+1))\n",
    "        return maxarea\n"
   ]
  },
  {
   "cell_type": "code",
   "execution_count": null,
   "metadata": {},
   "outputs": [],
   "source": []
  },
  {
   "cell_type": "code",
   "execution_count": null,
   "metadata": {},
   "outputs": [],
   "source": []
  },
  {
   "cell_type": "code",
   "execution_count": null,
   "metadata": {},
   "outputs": [],
   "source": []
  }
 ],
 "metadata": {
  "kernelspec": {
   "display_name": "Python 3",
   "language": "python",
   "name": "python3"
  },
  "language_info": {
   "codemirror_mode": {
    "name": "ipython",
    "version": 3
   },
   "file_extension": ".py",
   "mimetype": "text/x-python",
   "name": "python",
   "nbconvert_exporter": "python",
   "pygments_lexer": "ipython3",
   "version": "3.7.6"
  }
 },
 "nbformat": 4,
 "nbformat_minor": 2
}
