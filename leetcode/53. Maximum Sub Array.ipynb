{
 "cells": [
  {
   "cell_type": "markdown",
   "metadata": {},
   "source": [
    "### Maximum Sub Array"
   ]
  },
  {
   "cell_type": "markdown",
   "metadata": {},
   "source": [
    "Given an integer array nums, find the contiguous subarray (containing at least one number) which has the largest sum and return its sum."
   ]
  },
  {
   "cell_type": "code",
   "execution_count": 12,
   "metadata": {},
   "outputs": [],
   "source": [
    "class Solution:\n",
    "    def maxSubArray(self, nums: 'List[int]') -> 'int':\n",
    "        n = len(nums)\n",
    "        curr_sum = max_sum = nums[0]\n",
    "\n",
    "        for i in range(1, n):\n",
    "            curr_sum = max(nums[i], curr_sum + nums[i])\n",
    "            max_sum = max(max_sum, curr_sum)\n",
    "            print(\"i|\",i,\"curr_sum|\", curr_sum, \"max_sum|\",max_sum)\n",
    "            \n",
    "        return max_sum"
   ]
  },
  {
   "cell_type": "code",
   "execution_count": 13,
   "metadata": {},
   "outputs": [],
   "source": [
    "nums = [2,-4,5,7,-4,6,4,1,7,4,-6,6,4,-9,20,45,-35]"
   ]
  },
  {
   "cell_type": "code",
   "execution_count": 14,
   "metadata": {},
   "outputs": [
    {
     "name": "stdout",
     "output_type": "stream",
     "text": [
      "i| 1 curr_sum| -2 max_sum| 2\n",
      "i| 2 curr_sum| 5 max_sum| 5\n",
      "i| 3 curr_sum| 12 max_sum| 12\n",
      "i| 4 curr_sum| 8 max_sum| 12\n",
      "i| 5 curr_sum| 14 max_sum| 14\n",
      "i| 6 curr_sum| 18 max_sum| 18\n",
      "i| 7 curr_sum| 19 max_sum| 19\n",
      "i| 8 curr_sum| 26 max_sum| 26\n",
      "i| 9 curr_sum| 30 max_sum| 30\n",
      "i| 10 curr_sum| 24 max_sum| 30\n",
      "i| 11 curr_sum| 30 max_sum| 30\n",
      "i| 12 curr_sum| 34 max_sum| 34\n",
      "i| 13 curr_sum| 25 max_sum| 34\n",
      "i| 14 curr_sum| 45 max_sum| 45\n",
      "i| 15 curr_sum| 90 max_sum| 90\n",
      "i| 16 curr_sum| 55 max_sum| 90\n"
     ]
    },
    {
     "data": {
      "text/plain": [
       "90"
      ]
     },
     "execution_count": 14,
     "metadata": {},
     "output_type": "execute_result"
    }
   ],
   "source": [
    "Solution().maxSubArray(nums)"
   ]
  },
  {
   "cell_type": "code",
   "execution_count": null,
   "metadata": {},
   "outputs": [],
   "source": []
  }
 ],
 "metadata": {
  "kernelspec": {
   "display_name": "Python 3",
   "language": "python",
   "name": "python3"
  },
  "language_info": {
   "codemirror_mode": {
    "name": "ipython",
    "version": 3
   },
   "file_extension": ".py",
   "mimetype": "text/x-python",
   "name": "python",
   "nbconvert_exporter": "python",
   "pygments_lexer": "ipython3",
   "version": "3.7.6"
  }
 },
 "nbformat": 4,
 "nbformat_minor": 2
}
