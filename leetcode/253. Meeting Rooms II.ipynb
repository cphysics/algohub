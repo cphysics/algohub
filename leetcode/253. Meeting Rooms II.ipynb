{
 "cells": [
  {
   "cell_type": "markdown",
   "id": "0b9bba2a-039d-487a-a1f8-3e31f150475d",
   "metadata": {},
   "source": [
    "### 253. Meeting Rooms II"
   ]
  },
  {
   "cell_type": "code",
   "execution_count": 1,
   "id": "5adadfd6",
   "metadata": {},
   "outputs": [],
   "source": [
    "import heapq"
   ]
  },
  {
   "cell_type": "code",
   "execution_count": 2,
   "id": "2cf4ebb8-d797-459f-a955-62033d5b9057",
   "metadata": {},
   "outputs": [],
   "source": [
    "class Solution:\n",
    "    def minMeetingRooms(self, intervals):\n",
    "        \n",
    "        # If there is no meeting to schedule then no room needs to be allocated.\n",
    "        if not intervals:\n",
    "            return 0\n",
    "\n",
    "        # The heap initialization\n",
    "        free_rooms = []\n",
    "\n",
    "        # Sort the meetings in increasing order of their start time.\n",
    "        intervals.sort(key= lambda x: x[0])\n",
    "\n",
    "        # Add the first meeting. We have to give a new room to the first meeting.\n",
    "        heapq.heappush(free_rooms, intervals[0][1])\n",
    "\n",
    "        # For all the remaining meeting rooms\n",
    "        for i in intervals[1:]:\n",
    "\n",
    "            # If the room due to free up the earliest is free, assign that room to this meeting.\n",
    "            if free_rooms[0] <= i[0]:\n",
    "                heapq.heappop(free_rooms)\n",
    "\n",
    "            # If a new room is to be assigned, then also we add to the heap,\n",
    "            # If an old room is allocated, then also we have to add to the heap with updated end time.\n",
    "            heapq.heappush(free_rooms, i[1])\n",
    "\n",
    "        # The size of the heap tells us the minimum rooms required for all the meetings.\n",
    "        return len(free_rooms)"
   ]
  },
  {
   "cell_type": "code",
   "execution_count": 3,
   "id": "aaa05709-2019-4847-a22e-3778f1103246",
   "metadata": {},
   "outputs": [],
   "source": [
    "intervals = [[1,2],[3,4],[5,6],[7,8]]"
   ]
  },
  {
   "cell_type": "code",
   "execution_count": 5,
   "id": "ae884185-566b-4d4e-b765-3fe4009bf08e",
   "metadata": {},
   "outputs": [
    {
     "data": {
      "text/plain": [
       "1"
      ]
     },
     "execution_count": 5,
     "metadata": {},
     "output_type": "execute_result"
    }
   ],
   "source": [
    "Solution().minMeetingRooms(intervals)"
   ]
  },
  {
   "cell_type": "code",
   "execution_count": 6,
   "id": "78fc5fa5-81b2-478f-928d-40b4e433f4d6",
   "metadata": {},
   "outputs": [],
   "source": [
    "intervals = [[1,4],[3,4],[5,8],[7,8]]"
   ]
  },
  {
   "cell_type": "code",
   "execution_count": 8,
   "id": "6c260096-40dd-427b-b3b5-fe78a356a8ca",
   "metadata": {},
   "outputs": [
    {
     "data": {
      "text/plain": [
       "2"
      ]
     },
     "execution_count": 8,
     "metadata": {},
     "output_type": "execute_result"
    }
   ],
   "source": [
    "Solution().minMeetingRooms(intervals)"
   ]
  },
  {
   "cell_type": "code",
   "execution_count": 9,
   "id": "3a974d61-ac17-4e80-bd1f-29c95f32194f",
   "metadata": {},
   "outputs": [],
   "source": [
    "intervals = [[1,4],[1,5],[1,6],[1,8]]"
   ]
  },
  {
   "cell_type": "code",
   "execution_count": 10,
   "id": "c8fa0643-d288-4935-9ae9-00572770b32f",
   "metadata": {},
   "outputs": [
    {
     "data": {
      "text/plain": [
       "4"
      ]
     },
     "execution_count": 10,
     "metadata": {},
     "output_type": "execute_result"
    }
   ],
   "source": [
    "Solution().minMeetingRooms(intervals)"
   ]
  },
  {
   "cell_type": "code",
   "execution_count": null,
   "id": "8e4c5c4f",
   "metadata": {},
   "outputs": [],
   "source": []
  }
 ],
 "metadata": {
  "kernelspec": {
   "display_name": "Python 3",
   "language": "python",
   "name": "python3"
  },
  "language_info": {
   "codemirror_mode": {
    "name": "ipython",
    "version": 3
   },
   "file_extension": ".py",
   "mimetype": "text/x-python",
   "name": "python",
   "nbconvert_exporter": "python",
   "pygments_lexer": "ipython3",
   "version": "3.8.8"
  }
 },
 "nbformat": 4,
 "nbformat_minor": 5
}
