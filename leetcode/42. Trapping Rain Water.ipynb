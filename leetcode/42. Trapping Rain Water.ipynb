{
 "cells": [
  {
   "cell_type": "markdown",
   "metadata": {},
   "source": [
    "### Trapping Rain Water\n",
    "\n",
    "Given n non-negative integers representing an elevation map where the width of each bar is 1, compute how much water it is able to trap after raining.\n",
    "\n"
   ]
  },
  {
   "cell_type": "code",
   "execution_count": 94,
   "metadata": {},
   "outputs": [
    {
     "data": {
      "text/plain": [
       "10"
      ]
     },
     "execution_count": 94,
     "metadata": {},
     "output_type": "execute_result"
    }
   ],
   "source": [
    "A = [101,2,40,0,5,0,4,6,100,10]\n",
    "len(A)"
   ]
  },
  {
   "cell_type": "code",
   "execution_count": 95,
   "metadata": {},
   "outputs": [
    {
     "data": {
      "text/plain": [
       "10"
      ]
     },
     "execution_count": 95,
     "metadata": {},
     "output_type": "execute_result"
    }
   ],
   "source": [
    "A[9]"
   ]
  },
  {
   "cell_type": "code",
   "execution_count": 96,
   "metadata": {},
   "outputs": [],
   "source": [
    "class Solution:\n",
    "    def trap(self, height):\n",
    "        \"\"\"\n",
    "        :type height: List[int]\n",
    "        :rtype: int\n",
    "        \"\"\"\n",
    "        areas = 0\n",
    "        max_l = max_r = 0\n",
    "        l = 0\n",
    "        r = len(height)-1\n",
    "        \n",
    "        while l < r:\n",
    "            if height[l] < height[r]:\n",
    "                m = \" h[l] is less then h[r]\"\n",
    "                if height[l] > max_l:\n",
    "                    max_l = height[l]\n",
    "                else:\n",
    "                    areas += max_l - height[l]\n",
    "                    \n",
    "                print(l,r,\"|\",height[l],height[r],\"|\",areas,m, A,\"|\",max_l,max_r)\n",
    "                l +=1\n",
    "                \n",
    "            else:\n",
    "                m = \" h[l] is grater then h[r]\"\n",
    "                if height[r] > max_r:\n",
    "                    max_r = height[r]\n",
    "                else:\n",
    "                    areas += max_r - height[r]\n",
    "                \n",
    "                print(l,r,\"|\",height[l],height[r],\"|\",areas, m, A, \"|\",max_l,max_r)\n",
    "                r -=1\n",
    "                \n",
    "        return areas"
   ]
  },
  {
   "cell_type": "code",
   "execution_count": 97,
   "metadata": {},
   "outputs": [
    {
     "name": "stdout",
     "output_type": "stream",
     "text": [
      "0 9 | 101 10 | 0  h[l] is grater then h[r] [101, 2, 40, 0, 5, 0, 4, 6, 100, 10] | 0 10\n",
      "0 8 | 101 100 | 0  h[l] is grater then h[r] [101, 2, 40, 0, 5, 0, 4, 6, 100, 10] | 0 100\n",
      "0 7 | 101 6 | 94  h[l] is grater then h[r] [101, 2, 40, 0, 5, 0, 4, 6, 100, 10] | 0 100\n",
      "0 6 | 101 4 | 190  h[l] is grater then h[r] [101, 2, 40, 0, 5, 0, 4, 6, 100, 10] | 0 100\n",
      "0 5 | 101 0 | 290  h[l] is grater then h[r] [101, 2, 40, 0, 5, 0, 4, 6, 100, 10] | 0 100\n",
      "0 4 | 101 5 | 385  h[l] is grater then h[r] [101, 2, 40, 0, 5, 0, 4, 6, 100, 10] | 0 100\n",
      "0 3 | 101 0 | 485  h[l] is grater then h[r] [101, 2, 40, 0, 5, 0, 4, 6, 100, 10] | 0 100\n",
      "0 2 | 101 40 | 545  h[l] is grater then h[r] [101, 2, 40, 0, 5, 0, 4, 6, 100, 10] | 0 100\n",
      "0 1 | 101 2 | 643  h[l] is grater then h[r] [101, 2, 40, 0, 5, 0, 4, 6, 100, 10] | 0 100\n"
     ]
    },
    {
     "data": {
      "text/plain": [
       "643"
      ]
     },
     "execution_count": 97,
     "metadata": {},
     "output_type": "execute_result"
    }
   ],
   "source": [
    "Solution().trap(A)"
   ]
  },
  {
   "cell_type": "code",
   "execution_count": null,
   "metadata": {},
   "outputs": [],
   "source": []
  }
 ],
 "metadata": {
  "kernelspec": {
   "display_name": "Python 3",
   "language": "python",
   "name": "python3"
  },
  "language_info": {
   "codemirror_mode": {
    "name": "ipython",
    "version": 3
   },
   "file_extension": ".py",
   "mimetype": "text/x-python",
   "name": "python",
   "nbconvert_exporter": "python",
   "pygments_lexer": "ipython3",
   "version": "3.7.6"
  }
 },
 "nbformat": 4,
 "nbformat_minor": 2
}
