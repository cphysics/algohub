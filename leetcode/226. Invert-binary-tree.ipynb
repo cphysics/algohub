{
 "cells": [
  {
   "cell_type": "markdown",
   "metadata": {},
   "source": [
    "### Invert Binary Tree"
   ]
  },
  {
   "cell_type": "markdown",
   "metadata": {},
   "source": [
    "Invert a binary tree."
   ]
  },
  {
   "cell_type": "markdown",
   "metadata": {},
   "source": [
    "- Implementing queue"
   ]
  },
  {
   "cell_type": "code",
   "execution_count": 2,
   "metadata": {},
   "outputs": [],
   "source": [
    "# Definition for a binary tree node.\n",
    "class TreeNode:\n",
    "    \n",
    "    def __init__(self, val=0, left=None, right=None):\n",
    "        self.val = val\n",
    "        elf.left = left\n",
    "        self.right = right\n",
    "            \n",
    "            \n",
    "class Solution:\n",
    "    def invertTree(self, root: TreeNode) -> TreeNode:\n",
    "        \n",
    "        if root:\n",
    "            queue = [root]\n",
    "            \n",
    "            while queue:\n",
    "                temp = queue.pop(0)\n",
    "                \n",
    "                'swap right to left and vise versa'\n",
    "                temp.right, temp.left = temp.left, temp.right\n",
    "                \n",
    "                \n",
    "                if temp.left:\n",
    "                    queue.append(temp.left)\n",
    "                    \n",
    "                    \n",
    "                if temp.right:\n",
    "                    queue.append(temp.right)\n",
    "                    \n",
    "                    \n",
    "        return root  \n",
    "        "
   ]
  },
  {
   "cell_type": "markdown",
   "metadata": {},
   "source": [
    "- Complexity Analysis\n",
    "\n",
    "- Since each node in the tree is visited / added to the queue only once, the time complexity is O(n)O(n), where nn is the number of nodes in the tree.\n",
    "\n",
    "- Space complexity is O(n)O(n), since in the worst case, the queue will contain all nodes in one level of the binary tree. For a full binary tree, the leaf level has \\lceil \\frac{n}{2}\\rceil=O(n)⌈ \n",
    "2\n",
    "n\n",
    "​\t\n",
    " ⌉=O(n) leaves."
   ]
  },
  {
   "cell_type": "markdown",
   "metadata": {},
   "source": [
    "- Implementing recursive approach"
   ]
  },
  {
   "cell_type": "code",
   "execution_count": 3,
   "metadata": {},
   "outputs": [],
   "source": [
    "class Solution:\n",
    "    def invertTree(self, root):\n",
    "        if root is None:\n",
    "            return None\n",
    "        \n",
    "        root.left, root.right = \\\n",
    "            self.invertTree(root.right), self.invertTree(root.left)\n",
    "        \n",
    "        return root"
   ]
  },
  {
   "cell_type": "markdown",
   "metadata": {},
   "source": [
    "- Complexity Analysis\n",
    "\n",
    "- Since each node in the tree is visited only once, the time complexity is O(n)O(n), where nn is the number of nodes in the tree. We cannot do better than that, since at the very least we have to visit each node to invert it.\n",
    "\n",
    "- Because of recursion, O(h)O(h) function calls will be placed on the stack in the worst case, where hh is the height of the tree. Because h\\in O(n)h∈O(n), the space complexity is O(n)O(n)."
   ]
  },
  {
   "cell_type": "code",
   "execution_count": null,
   "metadata": {},
   "outputs": [],
   "source": []
  }
 ],
 "metadata": {
  "kernelspec": {
   "display_name": "Python 3",
   "language": "python",
   "name": "python3"
  },
  "language_info": {
   "codemirror_mode": {
    "name": "ipython",
    "version": 3
   },
   "file_extension": ".py",
   "mimetype": "text/x-python",
   "name": "python",
   "nbconvert_exporter": "python",
   "pygments_lexer": "ipython3",
   "version": "3.7.6"
  }
 },
 "nbformat": 4,
 "nbformat_minor": 4
}
