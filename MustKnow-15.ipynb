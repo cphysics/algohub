{
 "cells": [
  {
   "cell_type": "markdown",
   "id": "2f00fe53",
   "metadata": {},
   "source": [
    "### 1. Prime numbers"
   ]
  },
  {
   "cell_type": "code",
   "execution_count": 15,
   "id": "49f735e0",
   "metadata": {},
   "outputs": [
    {
     "data": {
      "text/plain": [
       "[False,\n",
       " True,\n",
       " False,\n",
       " False,\n",
       " True,\n",
       " True,\n",
       " True,\n",
       " True,\n",
       " False,\n",
       " True,\n",
       " True,\n",
       " True,\n",
       " True,\n",
       " True,\n",
       " True,\n",
       " True,\n",
       " True,\n",
       " True]"
      ]
     },
     "execution_count": 15,
     "metadata": {},
     "output_type": "execute_result"
    }
   ],
   "source": [
    "[ 20%i !=0 for i in range(2,20)]"
   ]
  },
  {
   "cell_type": "code",
   "execution_count": 18,
   "id": "5951099d",
   "metadata": {},
   "outputs": [
    {
     "data": {
      "text/plain": [
       "[True,\n",
       " True,\n",
       " True,\n",
       " True,\n",
       " True,\n",
       " True,\n",
       " True,\n",
       " True,\n",
       " True,\n",
       " True,\n",
       " True,\n",
       " True,\n",
       " True,\n",
       " True,\n",
       " True,\n",
       " True,\n",
       " True]"
      ]
     },
     "execution_count": 18,
     "metadata": {},
     "output_type": "execute_result"
    }
   ],
   "source": [
    "[ 19%i !=0 for i in range(2,19)]"
   ]
  },
  {
   "cell_type": "code",
   "execution_count": 16,
   "id": "b44ffefd",
   "metadata": {},
   "outputs": [
    {
     "data": {
      "text/plain": [
       "False"
      ]
     },
     "execution_count": 16,
     "metadata": {},
     "output_type": "execute_result"
    }
   ],
   "source": [
    "all([ 20%i !=0 for i in range(2,20)])"
   ]
  },
  {
   "cell_type": "code",
   "execution_count": 19,
   "id": "9ab2fefb",
   "metadata": {},
   "outputs": [
    {
     "data": {
      "text/plain": [
       "True"
      ]
     },
     "execution_count": 19,
     "metadata": {},
     "output_type": "execute_result"
    }
   ],
   "source": [
    "all(19%i !=0 for i in range(2,19))"
   ]
  },
  {
   "cell_type": "code",
   "execution_count": 4,
   "id": "58f9745f",
   "metadata": {},
   "outputs": [
    {
     "name": "stdout",
     "output_type": "stream",
     "text": [
      "101\n",
      "103\n",
      "107\n",
      "109\n",
      "113\n",
      "127\n",
      "131\n",
      "137\n",
      "139\n",
      "149\n"
     ]
    }
   ],
   "source": [
    "#Print all Prime Numbers between 100 to 150\n",
    "#check each number by number\n",
    "for num in range(100,150):\n",
    "    #find if not divisible by other except 1 and self\n",
    "    if all(num%i !=0 for i in range(2,num)):\n",
    "        # print if true\n",
    "        print(num)"
   ]
  },
  {
   "cell_type": "code",
   "execution_count": 6,
   "id": "4ca585c4",
   "metadata": {},
   "outputs": [
    {
     "name": "stdout",
     "output_type": "stream",
     "text": [
      "25\n"
     ]
    }
   ],
   "source": [
    "#Count all Prime Numbers between 0 to 100\n",
    "c = 1 # 2 is prime\n",
    "for num in range(3,100):\n",
    "    if all(num%i !=0 for i in range(2,num)):\n",
    "        c +=1\n",
    "print(c)"
   ]
  },
  {
   "cell_type": "code",
   "execution_count": 9,
   "id": "3d89ee3e",
   "metadata": {},
   "outputs": [],
   "source": [
    "#check if a number is prime or not\n",
    "num = 70\n",
    "if all(num%i!=0 for i in range(2,num)):\n",
    "    print(\"it is prime\")"
   ]
  },
  {
   "cell_type": "markdown",
   "id": "2f5160df",
   "metadata": {},
   "source": [
    "### 2. Sort an Array"
   ]
  },
  {
   "cell_type": "code",
   "execution_count": 22,
   "id": "b8a92edc",
   "metadata": {},
   "outputs": [
    {
     "data": {
      "text/plain": [
       "[74, 64, 53, 46, 32, 27, 13, 12]"
      ]
     },
     "execution_count": 22,
     "metadata": {},
     "output_type": "execute_result"
    }
   ],
   "source": [
    "A = [12,64,13,46,32,74,53,27]\n",
    "A.sort(reverse = True)\n",
    "A"
   ]
  },
  {
   "cell_type": "code",
   "execution_count": null,
   "id": "0888b685",
   "metadata": {},
   "outputs": [],
   "source": [
    "#implement selection sort\n",
    "\n",
    "# you need new sorted list\n",
    "sA = []\n",
    "\n",
    "#set minimum as first element\n",
    "mn = A[0]\n",
    "\n",
    "# run while untill A is empty\n",
    "# array A is running out of elements ha ha..\n",
    "#because we are spitting out the minimum one by one\n",
    "while A:\n",
    "    \n",
    "    #find where is minimum\n",
    "    for i in range(len(A)):\n",
    "        if mn>A[i]:\n",
    "            #update the minimum with new minimum\n",
    "            mn = A[i]\n",
    "    # you must have got the one minimum\n",
    "    #add it to the sA array\n",
    "    sA.append(mn)\n",
    "    \n",
    "    #remove that minimim from A\n",
    "    A.remove(mn)\n",
    "        \n",
    "    "
   ]
  },
  {
   "cell_type": "markdown",
   "id": "eff52100",
   "metadata": {},
   "source": [
    "### 3. Fibonacy no"
   ]
  },
  {
   "cell_type": "code",
   "execution_count": 24,
   "id": "40d4d4a3",
   "metadata": {},
   "outputs": [
    {
     "data": {
      "text/plain": [
       "55"
      ]
     },
     "execution_count": 24,
     "metadata": {},
     "output_type": "execute_result"
    }
   ],
   "source": [
    "# recursion\n",
    "def fib(n):\n",
    "    if n ==0: return 0\n",
    "    elif n ==1: return 1\n",
    "    else :\n",
    "        return fib(n-1)+fib(n-2)\n",
    "fib(10)    "
   ]
  },
  {
   "cell_type": "code",
   "execution_count": 39,
   "id": "bb01dfc1",
   "metadata": {},
   "outputs": [
    {
     "data": {
      "text/plain": [
       "[0, 0, 0, 0, 0, 0, 0, 0, 0, 0]"
      ]
     },
     "execution_count": 39,
     "metadata": {},
     "output_type": "execute_result"
    }
   ],
   "source": [
    "[0]*10"
   ]
  },
  {
   "cell_type": "code",
   "execution_count": 42,
   "id": "3ecd9d9f",
   "metadata": {},
   "outputs": [
    {
     "data": {
      "text/plain": [
       "55"
      ]
     },
     "execution_count": 42,
     "metadata": {},
     "output_type": "execute_result"
    }
   ],
   "source": [
    "# dynamic\n",
    "def fib(n):\n",
    "    \n",
    "    F= [0 for i in range(n+1)]\n",
    "    \n",
    "    F[0] = 0\n",
    "    F[1] = 1\n",
    "    \n",
    "    for i in range(2,n+1):\n",
    "        \n",
    "        F[i] = F[i-1] + F[i-2]\n",
    "        \n",
    "    return F[n]\n",
    "\n",
    "fib(10)"
   ]
  },
  {
   "cell_type": "code",
   "execution_count": 43,
   "id": "1888b581",
   "metadata": {},
   "outputs": [
    {
     "data": {
      "text/plain": [
       "55"
      ]
     },
     "execution_count": 43,
     "metadata": {},
     "output_type": "execute_result"
    }
   ],
   "source": [
    "#two state pointers\n",
    "def fib(n):\n",
    "    a = 0\n",
    "    b = 1\n",
    "    i = 2\n",
    "\n",
    "    while i < n+1:\n",
    "        a,b = b,a+b\n",
    "        i += 1\n",
    "        \n",
    "    return b\n",
    "fib(10)"
   ]
  },
  {
   "cell_type": "markdown",
   "id": "a17130b1",
   "metadata": {},
   "source": [
    "### 4. Reverse a list"
   ]
  },
  {
   "cell_type": "code",
   "execution_count": 45,
   "id": "fc0f12e5",
   "metadata": {},
   "outputs": [
    {
     "data": {
      "text/plain": [
       "[9, 8, 7, 6, 5, 4, 3, 2, 1]"
      ]
     },
     "execution_count": 45,
     "metadata": {},
     "output_type": "execute_result"
    }
   ],
   "source": [
    "A = [1,2,3,4,5,6,7,8,9]\n",
    "\n",
    "# method 1\n",
    "rA = []\n",
    "for item in reversed(A):\n",
    "    rA.append(item)\n",
    "rA"
   ]
  },
  {
   "cell_type": "code",
   "execution_count": 46,
   "id": "84120e60",
   "metadata": {},
   "outputs": [
    {
     "data": {
      "text/plain": [
       "[9, 8, 7, 6, 5, 4, 3, 2, 1]"
      ]
     },
     "execution_count": 46,
     "metadata": {},
     "output_type": "execute_result"
    }
   ],
   "source": [
    "# method 2\n",
    "rA = A[::-1]\n",
    "rA"
   ]
  },
  {
   "cell_type": "code",
   "execution_count": 50,
   "id": "aef800ac",
   "metadata": {},
   "outputs": [
    {
     "data": {
      "text/plain": [
       "[9, 8, 7, 6, 5, 4, 3, 2, 1]"
      ]
     },
     "execution_count": 50,
     "metadata": {},
     "output_type": "execute_result"
    }
   ],
   "source": [
    "# method 3: two pointer and swap\n",
    "def rev(A):\n",
    "    \n",
    "    i,j = 0,len(A)-1\n",
    "    \n",
    "    while i<j:\n",
    "        A[i],A[j] = A[j], A[i]\n",
    "        i +=1\n",
    "        j -=1\n",
    "    return A\n",
    "\n",
    "rev(A)"
   ]
  },
  {
   "cell_type": "markdown",
   "id": "09c78113",
   "metadata": {},
   "source": [
    "### 5. check if string 's' palindrom"
   ]
  },
  {
   "cell_type": "code",
   "execution_count": 57,
   "id": "24388e27",
   "metadata": {},
   "outputs": [],
   "source": [
    "# method 1: check with reversed string\n",
    "def isPalindrom(s):\n",
    "    rs = ''.join(reversed(s))\n",
    "    if s == rs:\n",
    "        return True\n",
    "    else:\n",
    "        return False"
   ]
  },
  {
   "cell_type": "code",
   "execution_count": 58,
   "id": "88fa7832",
   "metadata": {},
   "outputs": [
    {
     "data": {
      "text/plain": [
       "True"
      ]
     },
     "execution_count": 58,
     "metadata": {},
     "output_type": "execute_result"
    }
   ],
   "source": [
    "s = 'abcdcba'\n",
    "isPalindrom(s)"
   ]
  },
  {
   "cell_type": "code",
   "execution_count": 59,
   "id": "f9d86cfa",
   "metadata": {},
   "outputs": [
    {
     "data": {
      "text/plain": [
       "False"
      ]
     },
     "execution_count": 59,
     "metadata": {},
     "output_type": "execute_result"
    }
   ],
   "source": [
    "s = 'abcdcbaetc'\n",
    "isPalindrom(s)"
   ]
  },
  {
   "cell_type": "code",
   "execution_count": 51,
   "id": "ca268fcc",
   "metadata": {},
   "outputs": [],
   "source": [
    "# using two pointer:\n",
    "def isPalindrom(s):\n",
    "    i = 0\n",
    "    j = len(s)-1\n",
    "    \n",
    "    while i<j:\n",
    "        if s[i] == s[j]:\n",
    "            i += 1\n",
    "            j -=1\n",
    "        else:\n",
    "            return False\n",
    "    return True       "
   ]
  },
  {
   "cell_type": "code",
   "execution_count": 52,
   "id": "3d063670",
   "metadata": {},
   "outputs": [
    {
     "data": {
      "text/plain": [
       "True"
      ]
     },
     "execution_count": 52,
     "metadata": {},
     "output_type": "execute_result"
    }
   ],
   "source": [
    "s = 'abcdcba'\n",
    "isPalindrom(s)"
   ]
  },
  {
   "cell_type": "code",
   "execution_count": 53,
   "id": "8e3b5e36",
   "metadata": {},
   "outputs": [
    {
     "data": {
      "text/plain": [
       "False"
      ]
     },
     "execution_count": 53,
     "metadata": {},
     "output_type": "execute_result"
    }
   ],
   "source": [
    "s = 'abcdcbadf'\n",
    "isPalindrom(s)"
   ]
  },
  {
   "cell_type": "markdown",
   "id": "853e840a",
   "metadata": {},
   "source": [
    "### 6. set of duplicates in a list"
   ]
  },
  {
   "cell_type": "code",
   "execution_count": 62,
   "id": "099e8cfb",
   "metadata": {},
   "outputs": [],
   "source": [
    "#method 1: using list comprehension\n",
    "def findDuplicates(A):\n",
    "    return set([x for x in A if A.count(x)>1 ])"
   ]
  },
  {
   "cell_type": "code",
   "execution_count": 63,
   "id": "8160beb1",
   "metadata": {},
   "outputs": [
    {
     "data": {
      "text/plain": [
       "{1, 4, 6}"
      ]
     },
     "execution_count": 63,
     "metadata": {},
     "output_type": "execute_result"
    }
   ],
   "source": [
    "A = [1,1,2,3,4,4,5,6,6]\n",
    "findDuplicates(A)"
   ]
  },
  {
   "cell_type": "code",
   "execution_count": 67,
   "id": "7786a387",
   "metadata": {},
   "outputs": [
    {
     "data": {
      "text/plain": [
       "Counter({1: 2, 2: 1, 3: 1, 4: 2, 5: 1, 6: 2})"
      ]
     },
     "execution_count": 67,
     "metadata": {},
     "output_type": "execute_result"
    }
   ],
   "source": [
    "import collections\n",
    "count = collections.Counter(A)\n",
    "count"
   ]
  },
  {
   "cell_type": "code",
   "execution_count": 69,
   "id": "58e0f986",
   "metadata": {},
   "outputs": [],
   "source": [
    "# method 2: using collections.Counter\n",
    "def findDuplicates(A):\n",
    "    count = collections.Counter(A)\n",
    "    D = []\n",
    "    for key,value in count.items():\n",
    "        if value>1: D.append(key)\n",
    "    return D"
   ]
  },
  {
   "cell_type": "code",
   "execution_count": 70,
   "id": "82b4cbff",
   "metadata": {},
   "outputs": [
    {
     "data": {
      "text/plain": [
       "[1, 4, 6]"
      ]
     },
     "execution_count": 70,
     "metadata": {},
     "output_type": "execute_result"
    }
   ],
   "source": [
    "findDuplicates(A)"
   ]
  },
  {
   "cell_type": "markdown",
   "id": "ee3d3fd6",
   "metadata": {},
   "source": [
    "- How many elements are duplicates?"
   ]
  },
  {
   "cell_type": "code",
   "execution_count": 71,
   "id": "3aec872b",
   "metadata": {},
   "outputs": [
    {
     "data": {
      "text/plain": [
       "3"
      ]
     },
     "execution_count": 71,
     "metadata": {},
     "output_type": "execute_result"
    }
   ],
   "source": [
    "len(A) - len(set(A))"
   ]
  },
  {
   "cell_type": "code",
   "execution_count": 72,
   "id": "dd9c4637",
   "metadata": {},
   "outputs": [],
   "source": [
    "# method 3: using hash table\n",
    "# is A sorted? lets assume it is not sorted.\n",
    "\n",
    "def findDuplicates(A):\n",
    "    seen = {}\n",
    "\n",
    "    for ele in A:\n",
    "        if ele in seen:\n",
    "            seen[ele] +=1\n",
    "        else:\n",
    "            seen[ele] = 1\n",
    "            \n",
    "    return [key for (key,value) in seen.items() if value>1]"
   ]
  },
  {
   "cell_type": "code",
   "execution_count": 74,
   "id": "26413443",
   "metadata": {},
   "outputs": [
    {
     "data": {
      "text/plain": [
       "[1, 4, 6]"
      ]
     },
     "execution_count": 74,
     "metadata": {},
     "output_type": "execute_result"
    }
   ],
   "source": [
    "findDuplicates(A)"
   ]
  },
  {
   "cell_type": "markdown",
   "id": "f06d327a",
   "metadata": {},
   "source": [
    "- Note: find duplicates is different from remove duplicates"
   ]
  },
  {
   "cell_type": "markdown",
   "id": "4e4038a5",
   "metadata": {},
   "source": [
    "### 7. number of words in a sentence"
   ]
  },
  {
   "cell_type": "code",
   "execution_count": 82,
   "id": "ac90447b",
   "metadata": {},
   "outputs": [],
   "source": [
    "s = \"hello how are you?\""
   ]
  },
  {
   "cell_type": "code",
   "execution_count": 80,
   "id": "79ef0c6a",
   "metadata": {},
   "outputs": [],
   "source": [
    "def countWords(s):\n",
    "    return len(s.split(\" \"))"
   ]
  },
  {
   "cell_type": "code",
   "execution_count": 81,
   "id": "9dd6a6f8",
   "metadata": {},
   "outputs": [
    {
     "data": {
      "text/plain": [
       "4"
      ]
     },
     "execution_count": 81,
     "metadata": {},
     "output_type": "execute_result"
    }
   ],
   "source": [
    "countWords(s)"
   ]
  },
  {
   "cell_type": "markdown",
   "id": "41159fa2",
   "metadata": {},
   "source": [
    "- count word frequencies in a text"
   ]
  },
  {
   "cell_type": "code",
   "execution_count": 95,
   "id": "5606f563",
   "metadata": {},
   "outputs": [],
   "source": [
    "text =  \"Hello how are you,I am asking you,Is it fine,Thank you\""
   ]
  },
  {
   "cell_type": "code",
   "execution_count": 96,
   "id": "a6dbb551",
   "metadata": {},
   "outputs": [],
   "source": [
    "def freq(text):\n",
    "    wc = {}\n",
    "    for sen in text.split(\",\"):\n",
    "        for word in sen.split(\" \"):\n",
    "            if word in wc:\n",
    "                wc[word] +=1\n",
    "            else:\n",
    "                wc[word] = 1\n",
    "    return wc"
   ]
  },
  {
   "cell_type": "code",
   "execution_count": 97,
   "id": "383f160f",
   "metadata": {},
   "outputs": [
    {
     "data": {
      "text/plain": [
       "{'Hello': 1,\n",
       " 'how': 1,\n",
       " 'are': 1,\n",
       " 'you': 3,\n",
       " 'I': 1,\n",
       " 'am': 1,\n",
       " 'asking': 1,\n",
       " 'Is': 1,\n",
       " 'it': 1,\n",
       " 'fine': 1,\n",
       " 'Thank': 1}"
      ]
     },
     "execution_count": 97,
     "metadata": {},
     "output_type": "execute_result"
    }
   ],
   "source": [
    "freq(text)"
   ]
  },
  {
   "cell_type": "markdown",
   "id": "6eb5b8da",
   "metadata": {},
   "source": [
    "### 8. Find a element in the array"
   ]
  },
  {
   "cell_type": "code",
   "execution_count": 114,
   "id": "2382064e",
   "metadata": {},
   "outputs": [],
   "source": [
    "A = [1,2,3,4,5,6,7,8]"
   ]
  },
  {
   "cell_type": "code",
   "execution_count": 117,
   "id": "f2cb394f",
   "metadata": {},
   "outputs": [],
   "source": [
    "# linear search with list comprehension\n",
    "def findx(x,A):\n",
    "    return any(e == x for e in A )"
   ]
  },
  {
   "cell_type": "code",
   "execution_count": 118,
   "id": "307f9601",
   "metadata": {},
   "outputs": [
    {
     "data": {
      "text/plain": [
       "False"
      ]
     },
     "execution_count": 118,
     "metadata": {},
     "output_type": "execute_result"
    }
   ],
   "source": [
    "findx(9,A)"
   ]
  },
  {
   "cell_type": "code",
   "execution_count": 119,
   "id": "2af2e7cd",
   "metadata": {},
   "outputs": [],
   "source": [
    "# linear search\n",
    "def findx(A,x):\n",
    "    for e in A:\n",
    "        if e==x: return True\n",
    "    return False"
   ]
  },
  {
   "cell_type": "code",
   "execution_count": 120,
   "id": "29bb7ca9",
   "metadata": {},
   "outputs": [
    {
     "data": {
      "text/plain": [
       "False"
      ]
     },
     "execution_count": 120,
     "metadata": {},
     "output_type": "execute_result"
    }
   ],
   "source": [
    "findx(A,9)"
   ]
  },
  {
   "cell_type": "markdown",
   "id": "f0202372",
   "metadata": {},
   "source": [
    "### 9. Binary Search"
   ]
  },
  {
   "cell_type": "code",
   "execution_count": 155,
   "id": "9889c6d3",
   "metadata": {},
   "outputs": [],
   "source": [
    "A = [1,2,3,4,5,6,7,8]"
   ]
  },
  {
   "cell_type": "code",
   "execution_count": 172,
   "id": "0aefae90",
   "metadata": {},
   "outputs": [],
   "source": [
    "# method 1: recursive and pointers\n",
    "# return index of x in A if exist otherwise return -1\n",
    "def bSearch(A,x,l,r):\n",
    "    \n",
    "    m = (l+r) // 2\n",
    "    \n",
    "    # is that middle one the number?\n",
    "    if A[m] == x:\n",
    "        return m\n",
    "    \n",
    "    elif x > A[m]:\n",
    "        # middle one is already checked; go for the rest\n",
    "        bSearch(A,x,m+1,r)\n",
    "    else:\n",
    "        # middle one is already checked; go for the rest\n",
    "        bSearch(A,x,l,m-1)\n",
    "        \n",
    "    return -1"
   ]
  },
  {
   "cell_type": "code",
   "execution_count": 173,
   "id": "07065ce2",
   "metadata": {},
   "outputs": [
    {
     "data": {
      "text/plain": [
       "-1"
      ]
     },
     "execution_count": 173,
     "metadata": {},
     "output_type": "execute_result"
    }
   ],
   "source": [
    "l = 0\n",
    "r = len(A)-1\n",
    "bSearch(A,8,l,r) # why ? -1"
   ]
  },
  {
   "cell_type": "code",
   "execution_count": 174,
   "id": "1774c45e",
   "metadata": {},
   "outputs": [],
   "source": [
    "#method 2: two pointers only\n",
    "\n",
    "def bSearch(A,x):\n",
    "    \n",
    "    # set two pointers\n",
    "    l,r = 0,len(A)\n",
    "    \n",
    "    # move to each other \n",
    "    while l<r:\n",
    "        m =  l+(r-l)//2\n",
    "        if A[m] ==x:\n",
    "            return m\n",
    "        elif x > A[m]:\n",
    "            l = m\n",
    "        elif x< A[m]:\n",
    "            r = m"
   ]
  },
  {
   "cell_type": "code",
   "execution_count": 175,
   "id": "eaf968e5",
   "metadata": {},
   "outputs": [
    {
     "data": {
      "text/plain": [
       "7"
      ]
     },
     "execution_count": 175,
     "metadata": {},
     "output_type": "execute_result"
    }
   ],
   "source": [
    "bSearch(A,8)"
   ]
  },
  {
   "cell_type": "markdown",
   "id": "e3c035dc",
   "metadata": {},
   "source": [
    "### 10. Extract digit from a string"
   ]
  },
  {
   "cell_type": "code",
   "execution_count": 176,
   "id": "35604359",
   "metadata": {},
   "outputs": [],
   "source": [
    "s = 'we23dferg56ghtrfe7'"
   ]
  },
  {
   "cell_type": "code",
   "execution_count": 177,
   "id": "37883f8d",
   "metadata": {},
   "outputs": [
    {
     "data": {
      "text/plain": [
       "'23567'"
      ]
     },
     "execution_count": 177,
     "metadata": {},
     "output_type": "execute_result"
    }
   ],
   "source": [
    "digit = \"\".join(filter(lambda x : x.isdigit(), s))\n",
    "digit"
   ]
  },
  {
   "cell_type": "markdown",
   "id": "79173c8a",
   "metadata": {},
   "source": [
    "### 11. Delete duplicate (repeated) chr in the string"
   ]
  },
  {
   "cell_type": "code",
   "execution_count": 184,
   "id": "4548c5a0",
   "metadata": {},
   "outputs": [],
   "source": [
    "# set two pointers\n",
    "def removeDup(s):\n",
    "    ns = \"\"\n",
    "    seen = {}\n",
    "    for cr in s:\n",
    "        if cr not in seen:\n",
    "            seen[cr] = True\n",
    "            ns += cr\n",
    "    return ns  "
   ]
  },
  {
   "cell_type": "code",
   "execution_count": 185,
   "id": "b211c3bc",
   "metadata": {},
   "outputs": [
    {
     "data": {
      "text/plain": [
       "'abcdefrgh'"
      ]
     },
     "execution_count": 185,
     "metadata": {},
     "output_type": "execute_result"
    }
   ],
   "source": [
    "s = 'aaaabbbbcdddefrghhhh'\n",
    "removeDup(s)"
   ]
  },
  {
   "cell_type": "markdown",
   "id": "3013fcdd",
   "metadata": {},
   "source": [
    "- why dont you use two pointers? "
   ]
  },
  {
   "cell_type": "code",
   "execution_count": 187,
   "id": "560684c2",
   "metadata": {},
   "outputs": [],
   "source": [
    "from itertools import groupby\n",
    "def removeDup(s):\n",
    "    ns = \"\"\n",
    "    for (key,group) in groupby(s):\n",
    "        ns += key\n",
    "    return ns"
   ]
  },
  {
   "cell_type": "code",
   "execution_count": 188,
   "id": "75d8339d",
   "metadata": {},
   "outputs": [
    {
     "data": {
      "text/plain": [
       "'shdgferdferfsrw'"
      ]
     },
     "execution_count": 188,
     "metadata": {},
     "output_type": "execute_result"
    }
   ],
   "source": [
    "s = \"shhhhhhhdgfferdferfsrw\"\n",
    "removeDup(s)"
   ]
  },
  {
   "cell_type": "code",
   "execution_count": null,
   "id": "946a7d0b",
   "metadata": {},
   "outputs": [],
   "source": []
  },
  {
   "cell_type": "code",
   "execution_count": null,
   "id": "772a9ed8",
   "metadata": {},
   "outputs": [],
   "source": []
  }
 ],
 "metadata": {
  "kernelspec": {
   "display_name": "Python 3",
   "language": "python",
   "name": "python3"
  },
  "language_info": {
   "codemirror_mode": {
    "name": "ipython",
    "version": 3
   },
   "file_extension": ".py",
   "mimetype": "text/x-python",
   "name": "python",
   "nbconvert_exporter": "python",
   "pygments_lexer": "ipython3",
   "version": "3.8.8"
  }
 },
 "nbformat": 4,
 "nbformat_minor": 5
}
