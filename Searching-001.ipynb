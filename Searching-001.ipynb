{
 "cells": [
  {
   "cell_type": "markdown",
   "id": "54221254",
   "metadata": {},
   "source": [
    "## All Search"
   ]
  },
  {
   "cell_type": "markdown",
   "id": "8657f0ff",
   "metadata": {},
   "source": [
    "### Linear Search"
   ]
  },
  {
   "cell_type": "code",
   "execution_count": 1,
   "id": "9b41642a",
   "metadata": {},
   "outputs": [
    {
     "name": "stdout",
     "output_type": "stream",
     "text": [
      "Element is present at index 3\n"
     ]
    }
   ],
   "source": [
    "# Python3 code to linearly search x in arr[].\n",
    "# If x is present then return its location,\n",
    "# otherwise return -1\n",
    "\n",
    "\n",
    "def search(arr, n, x):\n",
    "\n",
    "\tfor i in range(0, n):\n",
    "\t\tif (arr[i] == x):\n",
    "\t\t\treturn i\n",
    "\treturn -1\n",
    "\n",
    "\n",
    "# Driver Code\n",
    "arr = [2, 3, 4, 10, 40]\n",
    "x = 10\n",
    "n = len(arr)\n",
    "\n",
    "# Function call\n",
    "result = search(arr, n, x)\n",
    "if(result == -1):\n",
    "\tprint(\"Element is not present in array\")\n",
    "else:\n",
    "\tprint(\"Element is present at index\", result)"
   ]
  },
  {
   "cell_type": "markdown",
   "id": "cecefda2",
   "metadata": {},
   "source": [
    "### Binary Search"
   ]
  },
  {
   "cell_type": "code",
   "execution_count": 2,
   "id": "3ee00044",
   "metadata": {},
   "outputs": [
    {
     "name": "stdout",
     "output_type": "stream",
     "text": [
      "Element is present at index  3\n"
     ]
    }
   ],
   "source": [
    "# Python3 Program for recursive binary search.\n",
    "\n",
    "# Returns index of x in arr if present, else -1\n",
    "\n",
    "\n",
    "def binarySearch(arr, l, r, x):\n",
    "\n",
    "\t# Check base case\n",
    "\tif r >= l:\n",
    "\n",
    "\t\tmid = l + (r - l) // 2\n",
    "\n",
    "\t\t# If element is present at the middle itself\n",
    "\t\tif arr[mid] == x:\n",
    "\t\t\treturn mid\n",
    "\n",
    "\t\t# If element is smaller than mid, then it\n",
    "\t\t# can only be present in left subarray\n",
    "\t\telif arr[mid] > x:\n",
    "\t\t\treturn binarySearch(arr, l, mid-1, x)\n",
    "\n",
    "\t\t# Else the element can only be present\n",
    "\t\t# in right subarray\n",
    "\t\telse:\n",
    "\t\t\treturn binarySearch(arr, mid + 1, r, x)\n",
    "\n",
    "\telse:\n",
    "\t\t# Element is not present in the array\n",
    "\t\treturn -1\n",
    "\n",
    "\n",
    "# Driver Code\n",
    "arr = [2, 3, 4, 10, 40]\n",
    "x = 10\n",
    "\n",
    "# Function call\n",
    "result = binarySearch(arr, 0, len(arr)-1, x)\n",
    "\n",
    "if result != -1:\n",
    "\tprint(\"Element is present at index % d\" % result)\n",
    "else:\n",
    "\tprint(\"Element is not present in array\")"
   ]
  },
  {
   "cell_type": "markdown",
   "id": "f8ba2d72",
   "metadata": {},
   "source": [
    "### Jump Search"
   ]
  },
  {
   "cell_type": "code",
   "execution_count": 1,
   "id": "47d2a834",
   "metadata": {},
   "outputs": [
    {
     "name": "stdout",
     "output_type": "stream",
     "text": [
      "Number 55 is at index 10\n"
     ]
    }
   ],
   "source": [
    "# Python3 code to implement Jump Search\n",
    "import math\n",
    "\n",
    "def jumpSearch( arr , x , n ):\n",
    "\t\n",
    "\t# Finding block size to be jumped\n",
    "\tstep = math.sqrt(n)\n",
    "\t\n",
    "\t# Finding the block where element is\n",
    "\t# present (if it is present)\n",
    "\tprev = 0\n",
    "\twhile arr[int(min(step, n)-1)] < x:\n",
    "\t\tprev = step\n",
    "\t\tstep += math.sqrt(n)\n",
    "\t\tif prev >= n:\n",
    "\t\t\treturn -1\n",
    "\t\n",
    "\t# Doing a linear search for x in\n",
    "\t# block beginning with prev.\n",
    "\twhile arr[int(prev)] < x:\n",
    "\t\tprev += 1\n",
    "\t\t\n",
    "\t\t# If we reached next block or end\n",
    "\t\t# of array, element is not present.\n",
    "\t\tif prev == min(step, n):\n",
    "\t\t\treturn -1\n",
    "\t\n",
    "\t# If element is found\n",
    "\tif arr[int(prev)] == x:\n",
    "\t\treturn prev\n",
    "\t\n",
    "\treturn -1\n",
    "\n",
    "# Driver code to test function\n",
    "arr = [ 0, 1, 1, 2, 3, 5, 8, 13, 21,\n",
    "\t34, 55, 89, 144, 233, 377, 610 ]\n",
    "x = 55\n",
    "n = len(arr)\n",
    "\n",
    "# Find the index of 'x' using Jump Search\n",
    "index = jumpSearch(arr, x, n)\n",
    "\n",
    "# Print the index where 'x' is located\n",
    "print(\"Number\" , x, \"is at index\" ,\"%.0f\"%index)\n",
    "\n",
    "# This code is contributed by \"Sharad_Bhardwaj\".\n",
    "\n"
   ]
  },
  {
   "cell_type": "markdown",
   "id": "14a47c56",
   "metadata": {},
   "source": [
    "### Interpolation Search"
   ]
  },
  {
   "cell_type": "code",
   "execution_count": null,
   "id": "a3889c31",
   "metadata": {},
   "outputs": [],
   "source": [
    "# Python3 program to implement\n",
    "# interpolation search\n",
    "# with recursion\n",
    "\n",
    "# If x is present in arr[0..n-1], then\n",
    "# returns index of it, else returns -1.\n",
    "\n",
    "\n",
    "def interpolationSearch(arr, lo, hi, x):\n",
    "\n",
    "\t# Since array is sorted, an element present\n",
    "\t# in array must be in range defined by corner\n",
    "\tif (lo <= hi and x >= arr[lo] and x <= arr[hi]):\n",
    "\n",
    "\t\t# Probing the position with keeping\n",
    "\t\t# uniform distribution in mind.\n",
    "\t\tpos = lo + ((hi - lo) // (arr[hi] - arr[lo]) *\n",
    "\t\t\t\t\t(x - arr[lo]))\n",
    "\n",
    "\t\t# Condition of target found\n",
    "\t\tif arr[pos] == x:\n",
    "\t\t\treturn pos\n",
    "\n",
    "\t\t# If x is larger, x is in right subarray\n",
    "\t\tif arr[pos] < x:\n",
    "\t\t\treturn interpolationSearch(arr, pos + 1,\n",
    "\t\t\t\t\t\t\t\t\thi, x)\n",
    "\n",
    "\t\t# If x is smaller, x is in left subarray\n",
    "\t\tif arr[pos] > x:\n",
    "\t\t\treturn interpolationSearch(arr, lo,\n",
    "\t\t\t\t\t\t\t\t\tpos - 1, x)\n",
    "\treturn -1\n",
    "\n",
    "# Driver code\n",
    "\n",
    "\n",
    "# Array of items in which\n",
    "# search will be conducted\n",
    "arr = [10, 12, 13, 16, 18, 19, 20,\n",
    "\t21, 22, 23, 24, 33, 35, 42, 47]\n",
    "n = len(arr)\n",
    "\n",
    "# Element to be searched\n",
    "x = 18\n",
    "index = interpolationSearch(arr, 0, n - 1, x)\n",
    "\n",
    "if index != -1:\n",
    "\tprint(\"Element found at index\", index)\n",
    "else:\n",
    "\tprint(\"Element not found\")\n",
    "\n",
    "# This code is contributed by Hardik Jain\n",
    "\n"
   ]
  },
  {
   "cell_type": "markdown",
   "id": "daadaf0b",
   "metadata": {},
   "source": [
    "### Exponential search"
   ]
  },
  {
   "cell_type": "code",
   "execution_count": null,
   "id": "49a919ba",
   "metadata": {},
   "outputs": [],
   "source": [
    "# Python program to find an element x\n",
    "# in a sorted array using Exponential Search\n",
    "\n",
    "# A recursive binary search function returns\n",
    "# location of x in given array arr[l..r] is\n",
    "# present, otherwise -1\n",
    "def binarySearch( arr, l, r, x):\n",
    "\tif r >= l:\n",
    "\t\tmid = l + ( r-l ) // 2\n",
    "\t\t\n",
    "\t\t# If the element is present at\n",
    "\t\t# the middle itself\n",
    "\t\tif arr[mid] == x:\n",
    "\t\t\treturn mid\n",
    "\t\t\n",
    "\t\t# If the element is smaller than mid,\n",
    "\t\t# then it can only be present in the\n",
    "\t\t# left subarray\n",
    "\t\tif arr[mid] > x:\n",
    "\t\t\treturn binarySearch(arr, l,\n",
    "\t\t\t\t\t\t\t\tmid - 1, x)\n",
    "\t\t\n",
    "\t\t# Else he element can only be\n",
    "\t\t# present in the right\n",
    "\t\treturn binarySearch(arr, mid + 1, r, x)\n",
    "\t\t\n",
    "\t# We reach here if the element is not present\n",
    "\treturn -1\n",
    "\n",
    "# Returns the position of first\n",
    "# occurrence of x in array\n",
    "def exponentialSearch(arr, n, x):\n",
    "\t# IF x is present at first\n",
    "\t# location itself\n",
    "\tif arr[0] == x:\n",
    "\t\treturn 0\n",
    "\t\t\n",
    "\t# Find range for binary search\n",
    "\t# j by repeated doubling\n",
    "\ti = 1\n",
    "\twhile i < n and arr[i] <= x:\n",
    "\t\ti = i * 2\n",
    "\t\n",
    "\t# Call binary search for the found range\n",
    "\treturn binarySearch( arr, i // 2,\n",
    "\t\t\t\t\t\tmin(i, n-1), x)\n",
    "\t\n",
    "\n",
    "# Driver Code\n",
    "arr = [2, 3, 4, 10, 40]\n",
    "n = len(arr)\n",
    "x = 10\n",
    "result = exponentialSearch(arr, n, x)\n",
    "if result == -1:\n",
    "\tprint (\"Element not found in the array\")\n",
    "else:\n",
    "\tprint (\"Element is present at index %d\" %(result))\n",
    "\n",
    "# This code is contributed by Harshit Agrawal\n",
    "\n"
   ]
  },
  {
   "cell_type": "markdown",
   "id": "3a6a65e8",
   "metadata": {},
   "source": [
    "# Problems"
   ]
  },
  {
   "cell_type": "markdown",
   "id": "07215b53",
   "metadata": {},
   "source": [
    "### 1. Missing number:\n",
    "    \n",
    "You are given a list of n-1 integers and these integers are in the range of 1 to n. There are no duplicates in the list. One of the integers is missing in the list. Write an efficient code to find the missing integer."
   ]
  },
  {
   "cell_type": "code",
   "execution_count": 2,
   "id": "177e175b",
   "metadata": {},
   "outputs": [
    {
     "name": "stdout",
     "output_type": "stream",
     "text": [
      "3.0\n"
     ]
    }
   ],
   "source": [
    "# getMissingNo takes list as argument\n",
    "def getMissingNo(A):\n",
    "\tn = len(A)\n",
    "\ttotal = (n + 1)*(n + 2)/2\n",
    "\tsum_of_A = sum(A)\n",
    "\treturn total - sum_of_A\n",
    "\n",
    "\n",
    "# Driver program to test the above function\n",
    "A = [1, 2, 4, 5, 6]\n",
    "miss = getMissingNo(A)\n",
    "print(miss)\n",
    "# This code is contributed by Pratik Chhajer\n",
    "\n"
   ]
  },
  {
   "cell_type": "markdown",
   "id": "30ac5826",
   "metadata": {},
   "source": [
    "### 2. Find a element in the sorted and rotated array:"
   ]
  },
  {
   "cell_type": "code",
   "execution_count": 3,
   "id": "ca212f39",
   "metadata": {},
   "outputs": [
    {
     "name": "stdout",
     "output_type": "stream",
     "text": [
      "Index of the element is :  8\n"
     ]
    }
   ],
   "source": [
    "# Python Program to search an element\n",
    "# in a sorted and pivoted array\n",
    "\n",
    "# Searches an element key in a pivoted\n",
    "# sorted array arrp[] of size n\n",
    "def pivotedBinarySearch(arr, n, key):\n",
    "\n",
    "\tpivot = findPivot(arr, 0, n-1);\n",
    "\n",
    "\t# If we didn't find a pivot,\n",
    "\t# then array is not rotated at all\n",
    "\tif pivot == -1:\n",
    "\t\treturn binarySearch(arr, 0, n-1, key);\n",
    "\n",
    "\t# If we found a pivot, then first\n",
    "\t# compare with pivot and then\n",
    "\t# search in two subarrays around pivot\n",
    "\tif arr[pivot] == key:\n",
    "\t\treturn pivot\n",
    "\tif arr[0] <= key:\n",
    "\t\treturn binarySearch(arr, 0, pivot-1, key);\n",
    "\treturn binarySearch(arr, pivot + 1, n-1, key);\n",
    "\n",
    "\n",
    "# Function to get pivot. For array\n",
    "# 3, 4, 5, 6, 1, 2 it returns 3\n",
    "# (index of 6)\n",
    "def findPivot(arr, low, high):\n",
    "\t\n",
    "\t# base cases\n",
    "\tif high < low:\n",
    "\t\treturn -1\n",
    "\tif high == low:\n",
    "\t\treturn low\n",
    "\t\n",
    "\t# low + (high - low)/2;\n",
    "\tmid = int((low + high)/2)\n",
    "\t\n",
    "\tif mid < high and arr[mid] > arr[mid + 1]:\n",
    "\t\treturn mid\n",
    "\tif mid > low and arr[mid] < arr[mid - 1]:\n",
    "\t\treturn (mid-1)\n",
    "\tif arr[low] >= arr[mid]:\n",
    "\t\treturn findPivot(arr, low, mid-1)\n",
    "\treturn findPivot(arr, mid + 1, high)\n",
    "\n",
    "# Standard Binary Search function*/\n",
    "def binarySearch(arr, low, high, key):\n",
    "\n",
    "\tif high < low:\n",
    "\t\treturn -1\n",
    "\t\t\n",
    "\t# low + (high - low)/2;\n",
    "\tmid = int((low + high)/2)\n",
    "\t\n",
    "\tif key == arr[mid]:\n",
    "\t\treturn mid\n",
    "\tif key > arr[mid]:\n",
    "\t\treturn binarySearch(arr, (mid + 1), high,\n",
    "\t\t\t\t\t\t\t\t\t\t\tkey);\n",
    "\treturn binarySearch(arr, low, (mid -1), key);\n",
    "\n",
    "\n",
    "# Driver program to check above functions */\n",
    "# Let us search 3 in below array\n",
    "arr1 = [5, 6, 7, 8, 9, 10, 1, 2, 3]\n",
    "n = len(arr1)\n",
    "key = 3\n",
    "print(\"Index of the element is : \",\n",
    "\tpivotedBinarySearch(arr1, n, key))\n",
    "\t\n",
    "# This is contributed by Smitha Dinesh Semwal\n",
    "\n"
   ]
  },
  {
   "cell_type": "markdown",
   "id": "adde81dc",
   "metadata": {},
   "source": [
    "### 3. Median of two sorted arrays of same size"
   ]
  },
  {
   "cell_type": "code",
   "execution_count": null,
   "id": "f84f3279",
   "metadata": {},
   "outputs": [],
   "source": []
  },
  {
   "cell_type": "code",
   "execution_count": null,
   "id": "1bed6ff2",
   "metadata": {},
   "outputs": [],
   "source": []
  },
  {
   "cell_type": "code",
   "execution_count": null,
   "id": "e097f3ef",
   "metadata": {},
   "outputs": [],
   "source": []
  },
  {
   "cell_type": "code",
   "execution_count": null,
   "id": "8351bf42",
   "metadata": {},
   "outputs": [],
   "source": []
  },
  {
   "cell_type": "code",
   "execution_count": null,
   "id": "1d563d9d",
   "metadata": {},
   "outputs": [],
   "source": []
  }
 ],
 "metadata": {
  "kernelspec": {
   "display_name": "Python 3",
   "language": "python",
   "name": "python3"
  },
  "language_info": {
   "codemirror_mode": {
    "name": "ipython",
    "version": 3
   },
   "file_extension": ".py",
   "mimetype": "text/x-python",
   "name": "python",
   "nbconvert_exporter": "python",
   "pygments_lexer": "ipython3",
   "version": "3.8.8"
  }
 },
 "nbformat": 4,
 "nbformat_minor": 5
}
