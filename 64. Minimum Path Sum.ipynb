{
 "cells": [
  {
   "cell_type": "markdown",
   "metadata": {},
   "source": [
    "### 64. Minimum Path Sum\n",
    "\n",
    "Given a m x n grid filled with non-negative numbers, find a path from top left to bottom right which minimizes the sum of all numbers along its path.\n",
    "\n",
    "Note: You can only move either down or right at any point in time."
   ]
  },
  {
   "cell_type": "code",
   "execution_count": null,
   "metadata": {},
   "outputs": [],
   "source": [
    "class Solution:\n",
    "    def minPathSum(self, grid: List[List[int]]) -> int:\n",
    "        m = len(grid)\n",
    "        if m == 0:\n",
    "            return 0\n",
    "        \n",
    "        n = len(grid[0])\n",
    "        T = [[0 for _ in range(n+1)] for _ in range(m+1)]\n",
    "\t\t\n",
    "\t\t# If just first row is given then result would be cumulative sum\n",
    "        for j in range(1, n+1):\n",
    "            T[0][j] = T[0][j-1] + grid[0][j-1]\n",
    "\t\t\t\n",
    "\t\t# If just first column is given then result would be cumulative sum\n",
    "        for i in range(1, m+1):\n",
    "            T[i][0] = T[i-1][0] + grid[i-1][0]\n",
    "            \n",
    "        for i in range(1, m+1):\n",
    "            for j in range(1, n+1):\n",
    "                if i == 1 and j == 1:\n",
    "                    T[i][j] = grid[i-1][j-1]\n",
    "                else:\n",
    "                    T[i][j] = min(T[i-1][j], T[i][j-1]) + grid[i-1][j-1]        \n",
    "        return T[m][n]"
   ]
  },
  {
   "cell_type": "code",
   "execution_count": null,
   "metadata": {},
   "outputs": [],
   "source": []
  },
  {
   "cell_type": "code",
   "execution_count": null,
   "metadata": {},
   "outputs": [],
   "source": []
  },
  {
   "cell_type": "code",
   "execution_count": null,
   "metadata": {},
   "outputs": [],
   "source": []
  }
 ],
 "metadata": {
  "kernelspec": {
   "display_name": "Python 3",
   "language": "python",
   "name": "python3"
  },
  "language_info": {
   "codemirror_mode": {
    "name": "ipython",
    "version": 3
   },
   "file_extension": ".py",
   "mimetype": "text/x-python",
   "name": "python",
   "nbconvert_exporter": "python",
   "pygments_lexer": "ipython3",
   "version": "3.7.6"
  }
 },
 "nbformat": 4,
 "nbformat_minor": 2
}
