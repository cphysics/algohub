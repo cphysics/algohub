{
 "cells": [
  {
   "cell_type": "markdown",
   "id": "39cc4683",
   "metadata": {},
   "source": [
    "# Top 10"
   ]
  },
  {
   "cell_type": "markdown",
   "id": "ca9d9c2a",
   "metadata": {},
   "source": [
    "### 1. Valid Anagram (Hash)\n",
    "\n",
    "nameless | salseman"
   ]
  },
  {
   "cell_type": "code",
   "execution_count": 7,
   "id": "c5e64496",
   "metadata": {},
   "outputs": [],
   "source": [
    "def are_anagram(s1, s2):\n",
    "    if len(s1)!=len(s2):\n",
    "        return False\n",
    "    \n",
    "    freq1 = {}\n",
    "    freq2 = {}\n",
    "    \n",
    "    for ch in s2:# n*O(1)\n",
    "        if ch in freq1:\n",
    "            freq1[ch] +=1\n",
    "        else:\n",
    "            freq1[ch] =1\n",
    "            \n",
    "    for ch in s2:# n*O(1)\n",
    "        if ch in freq2:\n",
    "            freq2[ch] +=1\n",
    "        else:\n",
    "            freq2[ch] = 1\n",
    "            \n",
    "    for key in freq1: # n*O(1)\n",
    "        if key not in freq2 or freq1[key] !=freq2[key]:\n",
    "            return False\n",
    "    return True\n",
    "        \n",
    "# O(n) + O(n) + O(n) = O(n)"
   ]
  },
  {
   "cell_type": "code",
   "execution_count": 8,
   "id": "cd208c4f",
   "metadata": {},
   "outputs": [
    {
     "data": {
      "text/plain": [
       "True"
      ]
     },
     "execution_count": 8,
     "metadata": {},
     "output_type": "execute_result"
    }
   ],
   "source": [
    "are_anagram(\"nameless\", \"selseman\")"
   ]
  },
  {
   "cell_type": "code",
   "execution_count": 9,
   "id": "b11b1d46",
   "metadata": {},
   "outputs": [],
   "source": [
    "import collections\n",
    "def are_anagram(s1,s2):\n",
    "    if len(s1) != len(s2):\n",
    "        return Fales\n",
    "    return collections.Counter(s1) == collections.Counter(s2)"
   ]
  },
  {
   "cell_type": "code",
   "execution_count": 10,
   "id": "6eca354d",
   "metadata": {},
   "outputs": [
    {
     "data": {
      "text/plain": [
       "True"
      ]
     },
     "execution_count": 10,
     "metadata": {},
     "output_type": "execute_result"
    }
   ],
   "source": [
    "are_anagram(\"nameless\", \"selseman\")"
   ]
  },
  {
   "cell_type": "code",
   "execution_count": 11,
   "id": "6d07d8b4",
   "metadata": {},
   "outputs": [],
   "source": [
    "def are_anagram(s1,s2):\n",
    "    if len(s1) != len(s2):\n",
    "        return Fales\n",
    "    #     O(nlogn) + O(n) + O(nlogn) = O(nlogn)\n",
    "    return sorted(s1) == sorted(s2)\n",
    "    "
   ]
  },
  {
   "cell_type": "code",
   "execution_count": 12,
   "id": "db611c7d",
   "metadata": {},
   "outputs": [
    {
     "data": {
      "text/plain": [
       "True"
      ]
     },
     "execution_count": 12,
     "metadata": {},
     "output_type": "execute_result"
    }
   ],
   "source": [
    "are_anagram(\"nameless\", \"selseman\")"
   ]
  },
  {
   "cell_type": "markdown",
   "id": "74f57367",
   "metadata": {},
   "source": [
    "### 2. First and last position of target element in a sorted array (two pointers)\n",
    "\n",
    "Target = 5, array = [1,2,3,4,5,5,5,6,7,8]\n",
    "Ans : 4,6"
   ]
  },
  {
   "cell_type": "code",
   "execution_count": 16,
   "id": "2581fcca",
   "metadata": {},
   "outputs": [],
   "source": [
    "def find_first_and_last(arr,target):\n",
    "    for i in range(len(arr)):\n",
    "        if arr[i] == target:\n",
    "            start = i\n",
    "            while i+1 < len(arr) and arr[i+1] == target:\n",
    "                    i +=1\n",
    "            return [start,i]\n",
    "    return [-1,1]"
   ]
  },
  {
   "cell_type": "code",
   "execution_count": 17,
   "id": "19bc632e",
   "metadata": {},
   "outputs": [
    {
     "data": {
      "text/plain": [
       "[4, 6]"
      ]
     },
     "execution_count": 17,
     "metadata": {},
     "output_type": "execute_result"
    }
   ],
   "source": [
    "target = 5\n",
    "arr = [1,2,3,4,5,5,5,6,7,8] \n",
    "find_first_and_last(arr,target)"
   ]
  },
  {
   "cell_type": "code",
   "execution_count": 18,
   "id": "fa7dc556",
   "metadata": {},
   "outputs": [],
   "source": [
    "def find_first_and_last(arr,target):\n",
    "    for i in range(len(arr)):\n",
    "        if arr[i] == target:\n",
    "            j = i\n",
    "            while j+1 < len(arr) and arr[j+1] == target:\n",
    "                    j +=1\n",
    "            return [i,j]\n",
    "    return [-1,1]\n",
    "\n",
    "#T(n) = O(n)\n",
    "#S(n) = O(1)"
   ]
  },
  {
   "cell_type": "code",
   "execution_count": 19,
   "id": "6ba73170",
   "metadata": {},
   "outputs": [
    {
     "data": {
      "text/plain": [
       "[4, 6]"
      ]
     },
     "execution_count": 19,
     "metadata": {},
     "output_type": "execute_result"
    }
   ],
   "source": [
    "target = 5\n",
    "arr = [1,2,3,4,5,5,5,6,7,8] \n",
    "find_first_and_last(arr,target)"
   ]
  },
  {
   "cell_type": "code",
   "execution_count": null,
   "id": "33ae4ba2",
   "metadata": {},
   "outputs": [],
   "source": [
    "# Binery search------------"
   ]
  },
  {
   "cell_type": "markdown",
   "id": "c24fc504",
   "metadata": {},
   "source": [
    "### 3. Kth largest element (Sort, Heap)\n",
    "arr = [1,2,3,4,5,6,7],k= 3\n",
    "Ans = 5"
   ]
  },
  {
   "cell_type": "code",
   "execution_count": 21,
   "id": "93a405ff",
   "metadata": {},
   "outputs": [],
   "source": [
    "def kth_largest(arr,k):\n",
    "    #O(k-1)\n",
    "    for i in range(k-1):\n",
    "        #remove - O(n); max -  O(n)\n",
    "        arr.remove(max(arr))\n",
    "    #O(n)\n",
    "    return max(arr)\n",
    "\n",
    "#T(n,k) = (k-1)*(2n+n)\n",
    "#T(n,k) = 2kn-n = O(kn)"
   ]
  },
  {
   "cell_type": "code",
   "execution_count": 22,
   "id": "2918f9e4",
   "metadata": {},
   "outputs": [
    {
     "data": {
      "text/plain": [
       "5"
      ]
     },
     "execution_count": 22,
     "metadata": {},
     "output_type": "execute_result"
    }
   ],
   "source": [
    "arr = [1,2,3,4,5,6,7]\n",
    "k= 3 \n",
    "kth_largest(arr,k)"
   ]
  },
  {
   "cell_type": "code",
   "execution_count": 23,
   "id": "1a22bd0f",
   "metadata": {},
   "outputs": [],
   "source": [
    "def kth_largest(arr,k):\n",
    "    #O(nlogn)\n",
    "    arr.sort()\n",
    "    #-----------O(n)-----\n",
    "    return arr[len(arr)-k]"
   ]
  },
  {
   "cell_type": "code",
   "execution_count": 24,
   "id": "39eeae76",
   "metadata": {},
   "outputs": [
    {
     "data": {
      "text/plain": [
       "5"
      ]
     },
     "execution_count": 24,
     "metadata": {},
     "output_type": "execute_result"
    }
   ],
   "source": [
    "arr = [1,2,3,4,5,6,7]\n",
    "k= 3 \n",
    "kth_largest(arr,k)"
   ]
  },
  {
   "cell_type": "code",
   "execution_count": 28,
   "id": "0e64a0a1",
   "metadata": {},
   "outputs": [],
   "source": [
    "# priority queue (heap)\n",
    "import heapq\n",
    "def kth_largest(arr,k):\n",
    "    #n\n",
    "    arr = [-elem for elem in arr]\n",
    "    #n\n",
    "    heapq.heapify(arr)\n",
    "    #logn\n",
    "    for i in range(k-1):\n",
    "        heapq.heappop(arr)\n",
    "    #logn   \n",
    "    return -heapq.heappop(arr)\n",
    "#T(n,k) = 2n + (k-1)*logn + logn = O(n + klogn)"
   ]
  },
  {
   "cell_type": "code",
   "execution_count": 29,
   "id": "de3f6a34",
   "metadata": {},
   "outputs": [
    {
     "data": {
      "text/plain": [
       "5"
      ]
     },
     "execution_count": 29,
     "metadata": {},
     "output_type": "execute_result"
    }
   ],
   "source": [
    "arr = [1,2,3,4,5,6,7]\n",
    "k= 3 \n",
    "kth_largest(arr,k)"
   ]
  },
  {
   "cell_type": "markdown",
   "id": "f3a80178",
   "metadata": {},
   "source": [
    "### 4. Symmetric tree (DFS)"
   ]
  },
  {
   "cell_type": "code",
   "execution_count": 38,
   "id": "f7d02ed2",
   "metadata": {},
   "outputs": [],
   "source": [
    "def are_symmetric(root1, root2):\n",
    "    \n",
    "    if not root1 and not root2:\n",
    "        return True\n",
    "    \n",
    "    if not root1 or not root2:\n",
    "        return False\n",
    "    \n",
    "    return(root1.val == root2.val \\\n",
    "           and are_symmetric(root1.left,root2.right) \\\n",
    "           and are_symmetric(root1.right,root2.left))"
   ]
  },
  {
   "cell_type": "code",
   "execution_count": 39,
   "id": "97b6ad3a",
   "metadata": {},
   "outputs": [],
   "source": [
    "def is_symmetric(root):\n",
    "    if root:\n",
    "        return are_symmetric(root.left, root.right)\n",
    "    #O(log n)\n",
    "    return True"
   ]
  },
  {
   "cell_type": "markdown",
   "id": "6ca6773b",
   "metadata": {},
   "source": [
    "### 5. Generate Parenthesis (back tracking)\n",
    "Generate combination of all valid parenthesis (\"(())()()((()))\")"
   ]
  },
  {
   "cell_type": "code",
   "execution_count": 1,
   "id": "ce48f250",
   "metadata": {},
   "outputs": [],
   "source": [
    "def is_valid(combination):\n",
    "    stack =[]\n",
    "    for par in combination:\n",
    "        if par ==\"(\":\n",
    "            stack.append(par)\n",
    "        else:\n",
    "            # stack can not be empty\n",
    "            # otherwise parenthesis starts with closing one\n",
    "            if len(stack)==0:\n",
    "                return False\n",
    "            else:\n",
    "                stack.pop()\n",
    "                \n",
    "    #stack must be empty at the end otherwise it \n",
    "    #means that we have opening parentheses that\n",
    "    # we did not close\n",
    "    return len(stack)==0"
   ]
  },
  {
   "cell_type": "code",
   "execution_count": 2,
   "id": "58eac69b",
   "metadata": {},
   "outputs": [
    {
     "data": {
      "text/plain": [
       "True"
      ]
     },
     "execution_count": 2,
     "metadata": {},
     "output_type": "execute_result"
    }
   ],
   "source": [
    "is_valid(\"(())()()((()))\")"
   ]
  },
  {
   "cell_type": "code",
   "execution_count": 3,
   "id": "03be4755",
   "metadata": {},
   "outputs": [
    {
     "data": {
      "text/plain": [
       "False"
      ]
     },
     "execution_count": 3,
     "metadata": {},
     "output_type": "execute_result"
    }
   ],
   "source": [
    "is_valid(\"(())()()((()))(\")"
   ]
  },
  {
   "cell_type": "code",
   "execution_count": null,
   "id": "f88a0f2c",
   "metadata": {},
   "outputs": [],
   "source": [
    "def generate(n):\n",
    "    -----------"
   ]
  },
  {
   "cell_type": "markdown",
   "id": "42928882",
   "metadata": {},
   "source": [
    "### 6. Gas Station"
   ]
  },
  {
   "cell_type": "markdown",
   "id": "bb113ec6",
   "metadata": {},
   "source": [
    "There are ```n``` gas stations along a circular route, where the amount of gas at the ith station is ```gas[i]```.\n",
    "\n",
    "You have a car with an unlimited gas tank and it costs ```cost[i]``` of gas to travel from the ```ith``` station to its next ```(i + 1)th``` station. You begin the journey with an empty tank at one of the gas stations.\n",
    "\n",
    "Given two integer arrays gas and cost, return the starting gas station's index if you can travel around the circuit once in the clockwise direction, otherwise return -1. If there exists a solution, it is guaranteed to be unique"
   ]
  },
  {
   "cell_type": "code",
   "execution_count": null,
   "id": "7c81d93a",
   "metadata": {},
   "outputs": [],
   "source": [
    "class Solution:\n",
    "    def canCompleteCircuit(self, gas, cost):\n",
    "        \"\"\"\n",
    "        :type gas: List[int]\n",
    "        :type cost: List[int]\n",
    "        :rtype: int\n",
    "        \"\"\"\n",
    "        n = len(gas)\n",
    "        \n",
    "        total_tank, curr_tank = 0, 0\n",
    "        starting_station = 0\n",
    "        for i in range(n):\n",
    "            total_tank += gas[i] - cost[i]\n",
    "            curr_tank += gas[i] - cost[i]\n",
    "            # If one couldn't get here,\n",
    "            if curr_tank < 0:\n",
    "                # Pick up the next station as the starting one.\n",
    "                starting_station = i + 1\n",
    "                # Start with an empty tank.\n",
    "                curr_tank = 0\n",
    "        \n",
    "        return starting_station if total_tank >= 0 else -1"
   ]
  },
  {
   "cell_type": "code",
   "execution_count": null,
   "id": "570c3099",
   "metadata": {},
   "outputs": [],
   "source": []
  },
  {
   "cell_type": "code",
   "execution_count": null,
   "id": "669e4350",
   "metadata": {},
   "outputs": [],
   "source": [
    "### 7. Course Schedule"
   ]
  },
  {
   "cell_type": "code",
   "execution_count": null,
   "id": "fe9c66c4",
   "metadata": {},
   "outputs": [],
   "source": []
  },
  {
   "cell_type": "code",
   "execution_count": null,
   "id": "650c9494",
   "metadata": {},
   "outputs": [],
   "source": []
  },
  {
   "cell_type": "code",
   "execution_count": null,
   "id": "ace97339",
   "metadata": {},
   "outputs": [],
   "source": [
    "### 8. Kth Permutation"
   ]
  },
  {
   "cell_type": "code",
   "execution_count": null,
   "id": "ef47b26b",
   "metadata": {},
   "outputs": [],
   "source": []
  },
  {
   "cell_type": "code",
   "execution_count": null,
   "id": "b402938c",
   "metadata": {},
   "outputs": [],
   "source": []
  },
  {
   "cell_type": "code",
   "execution_count": null,
   "id": "97d4afe9",
   "metadata": {},
   "outputs": [],
   "source": [
    "### 9. Find shortest substring of s that contains characters of t"
   ]
  },
  {
   "cell_type": "code",
   "execution_count": null,
   "id": "938c949a",
   "metadata": {},
   "outputs": [],
   "source": []
  },
  {
   "cell_type": "code",
   "execution_count": null,
   "id": "8dd478e9",
   "metadata": {},
   "outputs": [],
   "source": [
    "### 10. Area of largest rectangle in the histogram "
   ]
  },
  {
   "cell_type": "code",
   "execution_count": null,
   "id": "beafa30c",
   "metadata": {},
   "outputs": [],
   "source": []
  },
  {
   "cell_type": "code",
   "execution_count": null,
   "id": "d41767eb",
   "metadata": {},
   "outputs": [],
   "source": []
  },
  {
   "cell_type": "code",
   "execution_count": null,
   "id": "c7c03044",
   "metadata": {},
   "outputs": [],
   "source": []
  },
  {
   "cell_type": "code",
   "execution_count": null,
   "id": "963e6ae7",
   "metadata": {},
   "outputs": [],
   "source": []
  },
  {
   "cell_type": "code",
   "execution_count": null,
   "id": "868ace8e",
   "metadata": {},
   "outputs": [],
   "source": []
  }
 ],
 "metadata": {
  "kernelspec": {
   "display_name": "Python 3",
   "language": "python",
   "name": "python3"
  },
  "language_info": {
   "codemirror_mode": {
    "name": "ipython",
    "version": 3
   },
   "file_extension": ".py",
   "mimetype": "text/x-python",
   "name": "python",
   "nbconvert_exporter": "python",
   "pygments_lexer": "ipython3",
   "version": "3.8.8"
  }
 },
 "nbformat": 4,
 "nbformat_minor": 5
}
