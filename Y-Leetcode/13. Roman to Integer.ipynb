{
 "cells": [
  {
   "cell_type": "markdown",
   "id": "ac0f1ef0",
   "metadata": {},
   "source": [
    "### Roman to Integer"
   ]
  },
  {
   "cell_type": "markdown",
   "id": "4ded3aec",
   "metadata": {},
   "source": [
    "From Roman to Integer"
   ]
  },
  {
   "cell_type": "code",
   "execution_count": 6,
   "id": "abb9eb26",
   "metadata": {},
   "outputs": [],
   "source": [
    "values = {\n",
    "    \"I\": 1,\n",
    "    \"V\": 5,\n",
    "    \"X\": 10,\n",
    "    \"L\": 50,\n",
    "    \"C\": 100,\n",
    "    \"D\": 500,\n",
    "    \"M\": 1000,\n",
    "}\n",
    "\n",
    "class Solution(object):\n",
    "    def romanToInt(self, s):\n",
    "        \"\"\"\n",
    "        :type s: str\n",
    "        :rtype: int\n",
    "        \"\"\"\n",
    "        total = 0\n",
    "        i = 0\n",
    "        \n",
    "        while i < len(s):\n",
    "            \n",
    "            \n",
    "            # If this is the subtractive case.\n",
    "            # for example IV, IX\n",
    "            if i + 1 < len(s) and values[s[i]] < values[s[i + 1]]:\n",
    "                total += values[s[i + 1]] - values[s[i]]\n",
    "                i += 2\n",
    "                \n",
    "                \n",
    "                \n",
    "            # Else this is NOT the subtractive case.\n",
    "            # for example I,II,III,VI,V,VI,VII,VIII,XI,XII\n",
    "            else:\n",
    "                total += values[s[i]]\n",
    "                i += 1\n",
    "                \n",
    "                \n",
    "        return total"
   ]
  },
  {
   "cell_type": "code",
   "execution_count": 8,
   "id": "d5335e9f",
   "metadata": {},
   "outputs": [
    {
     "data": {
      "text/plain": [
       "12"
      ]
     },
     "execution_count": 8,
     "metadata": {},
     "output_type": "execute_result"
    }
   ],
   "source": [
    "Solution().romanToInt(\"XII\")"
   ]
  },
  {
   "cell_type": "code",
   "execution_count": 9,
   "id": "68cd5146",
   "metadata": {},
   "outputs": [
    {
     "data": {
      "text/plain": [
       "3"
      ]
     },
     "execution_count": 9,
     "metadata": {},
     "output_type": "execute_result"
    }
   ],
   "source": [
    "Solution().romanToInt(\"III\")"
   ]
  },
  {
   "cell_type": "markdown",
   "id": "4fdc3d8a",
   "metadata": {},
   "source": [
    "### 12. Integer to Roman"
   ]
  },
  {
   "cell_type": "code",
   "execution_count": 11,
   "id": "3c954708",
   "metadata": {},
   "outputs": [],
   "source": [
    "digits = [(1000, \"M\"),\n",
    "          (900, \"CM\"),\n",
    "          (500, \"D\"),\n",
    "          (400, \"CD\"),\n",
    "          (100, \"C\"),\n",
    "          (90, \"XC\"), \n",
    "          (50, \"L\"), \n",
    "          (40, \"XL\"),\n",
    "          (10, \"X\"),\n",
    "          (9, \"IX\"),\n",
    "          (5, \"V\"),\n",
    "          (4, \"IV\"),\n",
    "          (1, \"I\")]\n",
    "\n",
    "class Solution(object):\n",
    "    \n",
    "    def intToRoman(self, num):\n",
    "        \n",
    "        roman_digits = []\n",
    "        \n",
    "        # Loop through each symbol.\n",
    "        for value, symbol in digits:\n",
    "            \n",
    "            # We don't want to continue looping if we're done.\n",
    "            if num == 0: break\n",
    "                \n",
    "            count, num = divmod(num, value)\n",
    "            \n",
    "            # Append \"count\" copies of \"symbol\" to roman_digits.\n",
    "            roman_digits.append(symbol * count)\n",
    "            \n",
    "        return \"\".join(roman_digits)\n",
    "        "
   ]
  },
  {
   "cell_type": "code",
   "execution_count": 14,
   "id": "94589372",
   "metadata": {},
   "outputs": [
    {
     "data": {
      "text/plain": [
       "'MMMCCLXXIII'"
      ]
     },
     "execution_count": 14,
     "metadata": {},
     "output_type": "execute_result"
    }
   ],
   "source": [
    "Solution().intToRoman(3273)"
   ]
  },
  {
   "cell_type": "markdown",
   "id": "e4afd741",
   "metadata": {},
   "source": [
    "### 273. Integer to English Words"
   ]
  },
  {
   "cell_type": "code",
   "execution_count": 3,
   "id": "59b5faaa",
   "metadata": {},
   "outputs": [],
   "source": [
    "class Solution:\n",
    "    def numberToWords(self, num):\n",
    "        \"\"\"\n",
    "        :type num: int\n",
    "        :rtype: str\n",
    "        \"\"\"\n",
    "        def one(num):\n",
    "            switcher = {\n",
    "                1: 'One',\n",
    "                2: 'Two',\n",
    "                3: 'Three',\n",
    "                4: 'Four',\n",
    "                5: 'Five',\n",
    "                6: 'Six',\n",
    "                7: 'Seven',\n",
    "                8: 'Eight',\n",
    "                9: 'Nine'\n",
    "            }\n",
    "            return switcher.get(num)\n",
    "\n",
    "        def two_less_20(num):\n",
    "            switcher = {\n",
    "                10: 'Ten',\n",
    "                11: 'Eleven',\n",
    "                12: 'Twelve',\n",
    "                13: 'Thirteen',\n",
    "                14: 'Fourteen',\n",
    "                15: 'Fifteen',\n",
    "                16: 'Sixteen',\n",
    "                17: 'Seventeen',\n",
    "                18: 'Eighteen',\n",
    "                19: 'Nineteen'\n",
    "            }\n",
    "            return switcher.get(num)\n",
    "        \n",
    "        def ten(num):\n",
    "            switcher = {\n",
    "                2: 'Twenty',\n",
    "                3: 'Thirty',\n",
    "                4: 'Forty',\n",
    "                5: 'Fifty',\n",
    "                6: 'Sixty',\n",
    "                7: 'Seventy',\n",
    "                8: 'Eighty',\n",
    "                9: 'Ninety'\n",
    "            }\n",
    "            return switcher.get(num)\n",
    "        \n",
    "\n",
    "        def two(num):\n",
    "            if not num:\n",
    "                return ''\n",
    "            elif num < 10:\n",
    "                return one(num)\n",
    "            elif num < 20:\n",
    "                return two_less_20(num)\n",
    "            else:\n",
    "                tenner = num // 10\n",
    "                rest = num - tenner * 10\n",
    "                return ten(tenner) + ' ' + one(rest) if rest else ten(tenner)\n",
    "        \n",
    "        def three(num):\n",
    "            hundred = num // 100\n",
    "            rest = num - hundred * 100\n",
    "            if hundred and rest:\n",
    "                return one(hundred) + ' Hundred ' + two(rest) \n",
    "            elif not hundred and rest: \n",
    "                return two(rest)\n",
    "            elif hundred and not rest:\n",
    "                return one(hundred) + ' Hundred'\n",
    "        \n",
    "        billion = num // 1000000000\n",
    "        million = (num - billion * 1000000000) // 1000000\n",
    "        thousand = (num - billion * 1000000000 - million * 1000000) // 1000\n",
    "        rest = num - billion * 1000000000 - million * 1000000 - thousand * 1000\n",
    "        \n",
    "        if not num:\n",
    "            return 'Zero'\n",
    "        \n",
    "        result = ''\n",
    "        if billion:        \n",
    "            result = three(billion) + ' Billion'\n",
    "        if million:\n",
    "            result += ' ' if result else ''    \n",
    "            result += three(million) + ' Million'\n",
    "        if thousand:\n",
    "            result += ' ' if result else ''\n",
    "            result += three(thousand) + ' Thousand'\n",
    "        if rest:\n",
    "            result += ' ' if result else ''\n",
    "            result += three(rest)\n",
    "        return result"
   ]
  },
  {
   "cell_type": "code",
   "execution_count": null,
   "id": "58688752",
   "metadata": {},
   "outputs": [],
   "source": []
  },
  {
   "cell_type": "code",
   "execution_count": null,
   "id": "8c304b44",
   "metadata": {},
   "outputs": [],
   "source": []
  },
  {
   "cell_type": "code",
   "execution_count": null,
   "id": "5c887233",
   "metadata": {},
   "outputs": [],
   "source": []
  },
  {
   "cell_type": "code",
   "execution_count": null,
   "id": "99cb894e",
   "metadata": {},
   "outputs": [],
   "source": []
  },
  {
   "cell_type": "code",
   "execution_count": null,
   "id": "2d37e653",
   "metadata": {},
   "outputs": [],
   "source": []
  }
 ],
 "metadata": {
  "kernelspec": {
   "display_name": "Python 3",
   "language": "python",
   "name": "python3"
  },
  "language_info": {
   "codemirror_mode": {
    "name": "ipython",
    "version": 3
   },
   "file_extension": ".py",
   "mimetype": "text/x-python",
   "name": "python",
   "nbconvert_exporter": "python",
   "pygments_lexer": "ipython3",
   "version": "3.8.8"
  }
 },
 "nbformat": 4,
 "nbformat_minor": 5
}
