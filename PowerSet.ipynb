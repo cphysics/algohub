{
 "cells": [
  {
   "cell_type": "markdown",
   "metadata": {},
   "source": [
    "### PowerSet"
   ]
  },
  {
   "cell_type": "markdown",
   "metadata": {},
   "source": [
    "Find a power set of a set."
   ]
  },
  {
   "cell_type": "code",
   "execution_count": 28,
   "metadata": {},
   "outputs": [],
   "source": [
    "def powerset(A,idx =None):\n",
    "    \n",
    "    if idx is None:\n",
    "        idx = len(A)-1\n",
    "        \n",
    "    if idx<0:\n",
    "        return [[]]\n",
    "    \n",
    "\n",
    "    e = A[idx]\n",
    "    S = powerset(A,idx-1)\n",
    "    \n",
    "    print(\"current idx is:\", idx,\"|\",\"powerset is:\", S, \"element is:\", e)\n",
    "    print(\"======================\")\n",
    "    \n",
    "    for i in range(len(S)):\n",
    "        cs = S[i]\n",
    "        S.append(cs+[e])\n",
    "        print(\"current i:\",i,\"current subset:\", cs,\"| current powerset:\",S)\n",
    "        print(\"--------------------\")\n",
    "    return S"
   ]
  },
  {
   "cell_type": "code",
   "execution_count": 29,
   "metadata": {},
   "outputs": [
    {
     "name": "stdout",
     "output_type": "stream",
     "text": [
      "current idx is: 0 | powerset is: [[]] element is: A\n",
      "======================\n",
      "current i: 0 current subset: [] | current powerset: [[], ['A']]\n",
      "--------------------\n",
      "current idx is: 1 | powerset is: [[], ['A']] element is: B\n",
      "======================\n",
      "current i: 0 current subset: [] | current powerset: [[], ['A'], ['B']]\n",
      "--------------------\n",
      "current i: 1 current subset: ['A'] | current powerset: [[], ['A'], ['B'], ['A', 'B']]\n",
      "--------------------\n",
      "current idx is: 2 | powerset is: [[], ['A'], ['B'], ['A', 'B']] element is: C\n",
      "======================\n",
      "current i: 0 current subset: [] | current powerset: [[], ['A'], ['B'], ['A', 'B'], ['C']]\n",
      "--------------------\n",
      "current i: 1 current subset: ['A'] | current powerset: [[], ['A'], ['B'], ['A', 'B'], ['C'], ['A', 'C']]\n",
      "--------------------\n",
      "current i: 2 current subset: ['B'] | current powerset: [[], ['A'], ['B'], ['A', 'B'], ['C'], ['A', 'C'], ['B', 'C']]\n",
      "--------------------\n",
      "current i: 3 current subset: ['A', 'B'] | current powerset: [[], ['A'], ['B'], ['A', 'B'], ['C'], ['A', 'C'], ['B', 'C'], ['A', 'B', 'C']]\n",
      "--------------------\n"
     ]
    },
    {
     "data": {
      "text/plain": [
       "[[], ['A'], ['B'], ['A', 'B'], ['C'], ['A', 'C'], ['B', 'C'], ['A', 'B', 'C']]"
      ]
     },
     "execution_count": 29,
     "metadata": {},
     "output_type": "execute_result"
    }
   ],
   "source": [
    "A = [\"A\",\"B\",\"C\"]\n",
    "powerset(A,idx=None)"
   ]
  },
  {
   "cell_type": "code",
   "execution_count": null,
   "metadata": {},
   "outputs": [],
   "source": []
  },
  {
   "cell_type": "code",
   "execution_count": null,
   "metadata": {},
   "outputs": [],
   "source": []
  },
  {
   "cell_type": "code",
   "execution_count": null,
   "metadata": {},
   "outputs": [],
   "source": []
  },
  {
   "cell_type": "code",
   "execution_count": null,
   "metadata": {},
   "outputs": [],
   "source": []
  }
 ],
 "metadata": {
  "kernelspec": {
   "display_name": "Python 3",
   "language": "python",
   "name": "python3"
  },
  "language_info": {
   "codemirror_mode": {
    "name": "ipython",
    "version": 3
   },
   "file_extension": ".py",
   "mimetype": "text/x-python",
   "name": "python",
   "nbconvert_exporter": "python",
   "pygments_lexer": "ipython3",
   "version": "3.7.3"
  }
 },
 "nbformat": 4,
 "nbformat_minor": 2
}
