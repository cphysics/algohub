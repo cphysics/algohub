{
 "cells": [
  {
   "cell_type": "markdown",
   "metadata": {},
   "source": [
    "### Gas Station\n",
    "\n",
    "There are N gas stations along a circular route, where the amount of gas at station i is gas[i].\n",
    "\n",
    "You have a car with an unlimited gas tank and it costs cost[i] of gas to travel from station i to its next station (i+1). You begin the journey with an empty tank at one of the gas stations.\n",
    "\n",
    "Return the starting gas station's index if you can travel around the circuit once in the clockwise direction, otherwise return -1."
   ]
  },
  {
   "cell_type": "markdown",
   "metadata": {},
   "source": [
    "    Input: \n",
    "    gas  = [1,2,3,4,5]\n",
    "    cost = [3,4,5,1,2]\n",
    "\n",
    "    Output: 3\n",
    "\n",
    "    Explanation:\n",
    "    Start at station 3 (index 3) and fill up with 4 unit of gas. Your tank = 0 + 4 = 4\n",
    "    Travel to station 4. Your tank = 4 - 1 + 5 = 8\n",
    "    Travel to station 0. Your tank = 8 - 2 + 1 = 7\n",
    "    Travel to station 1. Your tank = 7 - 3 + 2 = 6\n",
    "    Travel to station 2. Your tank = 6 - 4 + 3 = 5\n",
    "    Travel to station 3. The cost is 5. Your gas is just enough to travel back to station 3.\n",
    "    Therefore, return 3 as the starting index.'''"
   ]
  },
  {
   "cell_type": "code",
   "execution_count": 26,
   "metadata": {},
   "outputs": [],
   "source": [
    "class Solution:\n",
    "    def canCompleteCircuit(self, gas, cost):\n",
    "        \"\"\"\n",
    "        :type gas: List[int]\n",
    "        :type cost: List[int]\n",
    "        :rtype: int\n",
    "        \"\"\"\n",
    "        n = len(gas)\n",
    "        \n",
    "        total_tank, curr_tank = 0, 0\n",
    "        starting_station = 0\n",
    "        for i in range(n):\n",
    "            total_tank += gas[i] - cost[i]\n",
    "            curr_tank += gas[i] - cost[i]\n",
    "            # If one couldn't get here,\n",
    "            if curr_tank < 0:\n",
    "                # Pick up the next station as the starting one.\n",
    "                starting_station = i + 1\n",
    "                # Start with an empty tank.\n",
    "                curr_tank = 0\n",
    "        \n",
    "        return starting_station if total_tank >= 0 else -1"
   ]
  },
  {
   "cell_type": "code",
   "execution_count": null,
   "metadata": {},
   "outputs": [],
   "source": []
  },
  {
   "cell_type": "code",
   "execution_count": null,
   "metadata": {},
   "outputs": [],
   "source": []
  }
 ],
 "metadata": {
  "kernelspec": {
   "display_name": "Python 3",
   "language": "python",
   "name": "python3"
  },
  "language_info": {
   "codemirror_mode": {
    "name": "ipython",
    "version": 3
   },
   "file_extension": ".py",
   "mimetype": "text/x-python",
   "name": "python",
   "nbconvert_exporter": "python",
   "pygments_lexer": "ipython3",
   "version": "3.7.6"
  }
 },
 "nbformat": 4,
 "nbformat_minor": 2
}
