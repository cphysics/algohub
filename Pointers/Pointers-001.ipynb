{
 "cells": [
  {
   "cell_type": "markdown",
   "id": "f76f45fa",
   "metadata": {},
   "source": [
    "## Pointers"
   ]
  },
  {
   "cell_type": "markdown",
   "id": "670d0a90",
   "metadata": {},
   "source": [
    "![img](https://i.imgur.com/xS5ZHoY.png)"
   ]
  },
  {
   "cell_type": "markdown",
   "id": "54849804",
   "metadata": {},
   "source": [
    "#### 1. Reverse the Array"
   ]
  },
  {
   "cell_type": "code",
   "execution_count": 22,
   "id": "19ce1a64",
   "metadata": {},
   "outputs": [],
   "source": [
    "def reverse(A):\n",
    "    i,j = 0, len(A)-1\n",
    "\n",
    "    while i<j:\n",
    "        # move from left and right toward the middle\n",
    "        #(-----> ..collision.. <-----)\n",
    "        A[i],A[j] = A[j],A[i]\n",
    "        i += 1\n",
    "        j -= 1\n",
    "    return A"
   ]
  },
  {
   "cell_type": "code",
   "execution_count": 23,
   "id": "d301ee12",
   "metadata": {},
   "outputs": [
    {
     "data": {
      "text/plain": [
       "[10, 9, 8, 7, 6, 5, 4, 3, 2, 1]"
      ]
     },
     "execution_count": 23,
     "metadata": {},
     "output_type": "execute_result"
    }
   ],
   "source": [
    "A = [1,2,3,4,5,6,7,8,9,10]\n",
    "reverse(A)"
   ]
  },
  {
   "cell_type": "markdown",
   "id": "c1b9fddb",
   "metadata": {},
   "source": [
    "#### 2. Given an integer array sorted in non-decreasing order, return an array of the squares of each number sorted in non-decreasing order."
   ]
  },
  {
   "cell_type": "code",
   "execution_count": 24,
   "id": "82ee0c26",
   "metadata": {},
   "outputs": [],
   "source": [
    "def sortedSquares(A):\n",
    "    i,j = 0,len(A)-1\n",
    "    \n",
    "    #create same sized new array\n",
    "    R = [0]*len(A)\n",
    "    \n",
    "    # abs of both end are max valued elements\n",
    "    idx = len(A)-1\n",
    "    \n",
    "    while i<j:\n",
    "        # lets check head and tail\n",
    "        if abs(A[i])>abs(A[j]):\n",
    "            # add head squared in result  list\n",
    "            R[idx] = A[i]*A[i]\n",
    "            i += 1\n",
    "        else:\n",
    "            #add tail in the result list\n",
    "            R[idx] = A[j]*A[j]\n",
    "            j -= 1\n",
    "            \n",
    "        #move left (<----) in R list    \n",
    "        idx -=1\n",
    "    return R\n",
    "        \n",
    "    "
   ]
  },
  {
   "cell_type": "code",
   "execution_count": 25,
   "id": "63cf42f1",
   "metadata": {},
   "outputs": [],
   "source": [
    "A = [-5,-4,-3,-2,-1,0,1,2,3,4,5]\n",
    "B = [0,1,1,4,4,9,9,16,16,25,25]"
   ]
  },
  {
   "cell_type": "code",
   "execution_count": 26,
   "id": "52b38394",
   "metadata": {},
   "outputs": [
    {
     "data": {
      "text/plain": [
       "[0, 1, 1, 4, 4, 9, 9, 16, 16, 25, 25]"
      ]
     },
     "execution_count": 26,
     "metadata": {},
     "output_type": "execute_result"
    }
   ],
   "source": [
    "sortedSquares(A)"
   ]
  },
  {
   "cell_type": "markdown",
   "id": "fdd4c207",
   "metadata": {},
   "source": [
    "#### 3. Given a string s, find the length of the longest substring without repeating characters."
   ]
  },
  {
   "cell_type": "code",
   "execution_count": 45,
   "id": "76c6f27b",
   "metadata": {},
   "outputs": [],
   "source": [
    "def lengthOfLongestSubstring(s):\n",
    "    n = len(s)\n",
    "    \n",
    "    #initiate subset length\n",
    "    R_len = 0\n",
    "    \n",
    "    #iterate over left pointer\n",
    "    for left in range(n):\n",
    "        \n",
    "        #set the right pointer\n",
    "        right = left\n",
    "        \n",
    "        #take a set 'kamandalu'\n",
    "        seen = set()\n",
    "        \n",
    "        # stretch right till it breaks by seen chr\n",
    "        while right < n and s[right] not in seen:\n",
    "            seen.add(s[right])\n",
    "            #this is tricky\n",
    "            right +=1\n",
    "            \n",
    "            \n",
    "        #update the max R_len if any\n",
    "        R_len = max(R_len, right-left)\n",
    "        \n",
    "    return R_len\n",
    "        "
   ]
  },
  {
   "cell_type": "code",
   "execution_count": 46,
   "id": "0d32016e",
   "metadata": {},
   "outputs": [
    {
     "name": "stdout",
     "output_type": "stream",
     "text": [
      "8\n"
     ]
    }
   ],
   "source": [
    "print(lengthOfLongestSubstring(\"abcabtpqrscbb\"))"
   ]
  },
  {
   "cell_type": "code",
   "execution_count": 49,
   "id": "14089263",
   "metadata": {},
   "outputs": [
    {
     "name": "stdout",
     "output_type": "stream",
     "text": [
      "26\n"
     ]
    }
   ],
   "source": [
    "print(lengthOfLongestSubstring(\"abcdefghijklmnopqrstuvwxyz\"))"
   ]
  },
  {
   "cell_type": "code",
   "execution_count": 50,
   "id": "8d4936d8",
   "metadata": {},
   "outputs": [
    {
     "name": "stdout",
     "output_type": "stream",
     "text": [
      "16\n"
     ]
    }
   ],
   "source": [
    "print(lengthOfLongestSubstring(\"abcdefghijklmnopkqrstuvwxyz\"))"
   ]
  },
  {
   "cell_type": "markdown",
   "id": "f846c16a",
   "metadata": {},
   "source": [
    "#### 4. Given three sorted arrays A, B, and C \n",
    "of not necessarily the same sizes. Calculate the minimum absolute difference between the maximum and minimum number of any triplet A[i], B[j], C[k] such that they belong to arrays A, B and C respectively, i.e., minimize (max(A[i], B[j], C[k]) — min(A[i], B[j], C[k]))"
   ]
  },
  {
   "cell_type": "code",
   "execution_count": 55,
   "id": "93fba751",
   "metadata": {},
   "outputs": [],
   "source": [
    "def solve(A,B,C):\n",
    "    \n",
    "    #initialize i,j,k\n",
    "    i,j,k = 0,0,0\n",
    "    \n",
    "    #what are lengths?\n",
    "    M,N,P = len(A),len(B),len(C)\n",
    "    \n",
    "    # set min difference with all first elements of A,B,C\n",
    "    min_diff = abs(max(A[i],B[j],C[k]) - min(A[i],B[j],C[k]))\n",
    "    \n",
    "    #lets go with while loops; where is stopping condition?\n",
    "    # you need three pointers\n",
    "    while i<M and j<N and k<P:\n",
    "        \n",
    "        #calculate current min value\n",
    "        curr_diff = abs(max(A[i],B[j],C[k])-min(A[i],B[j],C[k]))\n",
    "        \n",
    "        # is current min less then previous min value\n",
    "        if curr_diff < min_diff:\n",
    "            min_diff = curr_diff\n",
    "            \n",
    "        # keep recording the min term, you need it finally   \n",
    "        min_term = min(A[i], B[j], C[k])\n",
    "        \n",
    "        if A[i] == min_term:\n",
    "            i +=1\n",
    "        elif B[j] == min_term:\n",
    "            j +=1\n",
    "        else:\n",
    "            k +=1\n",
    "            \n",
    "        return min_diff"
   ]
  },
  {
   "cell_type": "code",
   "execution_count": 56,
   "id": "269b2cc1",
   "metadata": {},
   "outputs": [
    {
     "name": "stdout",
     "output_type": "stream",
     "text": [
      "5\n"
     ]
    }
   ],
   "source": [
    "A = [1,4,5,8,10]\n",
    "B = [6,9,15]\n",
    "C = [2,3,6,6]\n",
    "print(solve(A, B, C))"
   ]
  },
  {
   "cell_type": "markdown",
   "id": "5d282515",
   "metadata": {},
   "source": [
    "#### 5. Find pair of given sum:\n",
    "Given a sorted array A(sorted in ascending order), having N integers, find if there exists any pair of elements (A[i], A[j]) such that their sum is equal to X."
   ]
  },
  {
   "cell_type": "code",
   "execution_count": 58,
   "id": "a847f28d",
   "metadata": {},
   "outputs": [],
   "source": [
    "def findPair(A,X):\n",
    "    \n",
    "    #note that A is sorted array\n",
    "    \n",
    "    n = len(A)\n",
    "    left,right = 0,len(A)\n",
    "    \n",
    "    # move from (right ----> ...collision ... <-----right)\n",
    "    while left<right:\n",
    "        \n",
    "        # did you find it?\n",
    "        if A[left]+A[right] ==X:\n",
    "            return True\n",
    "        \n",
    "        # No worries! move from left toward right\n",
    "        # since array is sorted\n",
    "        elif A[left] + A[right] <X:\n",
    "            left +=1\n",
    "            \n",
    "        #in case sum is larger then target X\n",
    "        # leave that right point, move toward left\n",
    "        else:\n",
    "            right -=1\n",
    "        "
   ]
  },
  {
   "cell_type": "markdown",
   "id": "78bdfcff",
   "metadata": {},
   "source": [
    "#### 6. Find a pair (x,y) that is close to target sum N\n",
    "Given two sorted arrays and a number x, find the pair whose sum is closest to x and the pair has an element from each array."
   ]
  },
  {
   "cell_type": "code",
   "execution_count": null,
   "id": "67614e91",
   "metadata": {},
   "outputs": [],
   "source": [
    "def findClosest(A,B,X):"
   ]
  },
  {
   "cell_type": "markdown",
   "id": "fcdb6139",
   "metadata": {},
   "source": [
    "#### 7. Merge two sorted Linked Lists"
   ]
  },
  {
   "cell_type": "code",
   "execution_count": 57,
   "id": "59a49430",
   "metadata": {},
   "outputs": [],
   "source": [
    "class ListNode:\n",
    "     def __init__(self, val=0, next=None):\n",
    "        self.val = val\n",
    "        self.next = next"
   ]
  },
  {
   "cell_type": "code",
   "execution_count": null,
   "id": "2cb6c5c1",
   "metadata": {},
   "outputs": [],
   "source": [
    "def merge(L1,L2):\n",
    "    \n",
    "    #Initiate a new linked lidt\n",
    "    L = ListNode(0)\n",
    "    \n",
    "    #if Both L1 and L2 exixt\n",
    "    while L1 and L2:\n",
    "        new_node = ListNode()\n",
    "        \n",
    "        if L1.val <= L2.val:\n",
    "            new_node.val = L1.val\n",
    "            L1 =L1.next\n",
    "            \n",
    "        else:\n",
    "            new_node.val = L2.next\n",
    "            L2 = L2.next\n",
    "            \n",
    "        L.next = new_node\n",
    "            \n",
    "    if not L1:\n",
    "            \n",
    "    \n",
    "    \n",
    "    \n",
    "    return L\n",
    "    "
   ]
  },
  {
   "cell_type": "markdown",
   "id": "1d2f30a1",
   "metadata": {},
   "source": [
    "#### 8. Intersection of two array without using set\n",
    "Given two integer arrays nums1 and nums2, return an array of their intersection. Repeated elements could exist. \n",
    "\n",
    "Case-easy: Each element in the result must be unique and you may return the result in any order.\n",
    "\n"
   ]
  },
  {
   "cell_type": "code",
   "execution_count": 60,
   "id": "231e7e0d",
   "metadata": {},
   "outputs": [],
   "source": [
    "import collections"
   ]
  },
  {
   "cell_type": "code",
   "execution_count": 71,
   "id": "748f72fb",
   "metadata": {},
   "outputs": [
    {
     "data": {
      "text/plain": [
       "Counter({1: 1, 2: 2, 3: 1, 4: 2, 5: 2, 6: 1, 7: 1, 8: 1, 9: 2})"
      ]
     },
     "execution_count": 71,
     "metadata": {},
     "output_type": "execute_result"
    }
   ],
   "source": [
    "A = [1,2,2,3,4,5,5,4,6,7,8,9,9]\n",
    "collections.Counter(A)"
   ]
  },
  {
   "cell_type": "code",
   "execution_count": 72,
   "id": "6ae64708",
   "metadata": {},
   "outputs": [
    {
     "data": {
      "text/plain": [
       "Counter({1: 1, 2: 2, 3: 1, 4: 1, 11: 1, 23: 1, 45: 1, 67: 1, 89: 1})"
      ]
     },
     "execution_count": 72,
     "metadata": {},
     "output_type": "execute_result"
    }
   ],
   "source": [
    "B = [1,2,2,3,4,11,23,45,67,89]\n",
    "collections.Counter(B)"
   ]
  },
  {
   "cell_type": "code",
   "execution_count": 73,
   "id": "3e5a52e8",
   "metadata": {},
   "outputs": [
    {
     "data": {
      "text/plain": [
       "Counter({1: 1, 2: 2, 3: 1, 4: 1})"
      ]
     },
     "execution_count": 73,
     "metadata": {},
     "output_type": "execute_result"
    }
   ],
   "source": [
    "collections.Counter(A) & collections.Counter(B)"
   ]
  },
  {
   "cell_type": "code",
   "execution_count": 74,
   "id": "f1ac2794",
   "metadata": {},
   "outputs": [],
   "source": [
    "def intersection(A,B):\n",
    "    \n",
    "    #create count dictionary for A\n",
    "    A_count = collections.Counter(A)\n",
    "    \n",
    "    #create count dictionary for B\n",
    "    B_count = collections.Counter(B)\n",
    "    \n",
    "    #create intersection dictionary\n",
    "    AB_dict = A_count & B_count\n",
    "    \n",
    "    AB_list = []\n",
    "    \n",
    "    for key, value in AB_dict.items():\n",
    "        AB_list.extend([key]*value)\n",
    "            \n",
    "    return AB_list"
   ]
  },
  {
   "cell_type": "code",
   "execution_count": 75,
   "id": "0f551a8f",
   "metadata": {},
   "outputs": [
    {
     "data": {
      "text/plain": [
       "[1, 2, 2, 3, 4]"
      ]
     },
     "execution_count": 75,
     "metadata": {},
     "output_type": "execute_result"
    }
   ],
   "source": [
    "intersection(A,B)"
   ]
  },
  {
   "cell_type": "markdown",
   "id": "db949a91",
   "metadata": {},
   "source": [
    "### 9 Traping rain water\n",
    "Given n non-negative integers representing an elevation map where the width of each bar is 1, compute how much water it can trap after raining.\n",
    "\n"
   ]
  },
  {
   "cell_type": "code",
   "execution_count": 88,
   "id": "ef8a31e3",
   "metadata": {},
   "outputs": [],
   "source": [
    "def trap(H):\n",
    "    \n",
    "    # set the pointers\n",
    "    l = 0\n",
    "    r = len(H)-1\n",
    "    \n",
    "    #initiate max of left and right\n",
    "    max_l = 0\n",
    "    max_r = 0\n",
    "    \n",
    "    #initiate the area\n",
    "    A = 0\n",
    "    \n",
    "    #lets move (--->...collision...<----)\n",
    "    while l<r:\n",
    "        \n",
    "        #check if left height is lower then righ height\n",
    "        if H[l]<=H[r]:\n",
    "            \n",
    "            #find if water runs toward left 'oralo'\n",
    "            #just update max height of left\n",
    "            if H[l]>max_l:\n",
    "                max_l = H[l]\n",
    "                \n",
    "            # otherwise here you get water trapped\n",
    "            else:\n",
    "                A += max_l-H[l]\n",
    "                \n",
    "            #you move anyway\n",
    "            l += 1\n",
    "                \n",
    "        #check if right height is lower then left height  \n",
    "        # role swithched, yes?\n",
    "        else:\n",
    "            \n",
    "            #find if water runs toward left 'oralo'\n",
    "            #just update max height of left\n",
    "            if H[r]> max_r:\n",
    "                    max_r = H[r]\n",
    "                    \n",
    "            # otherwise here you get water trapped\n",
    "            else:\n",
    "                A += max_r-H[r]\n",
    "                \n",
    "            #you move anyway\n",
    "            r -=1\n",
    "            \n",
    "        return A  "
   ]
  },
  {
   "cell_type": "code",
   "execution_count": 89,
   "id": "7ccf3ca9",
   "metadata": {},
   "outputs": [
    {
     "data": {
      "text/plain": [
       "0"
      ]
     },
     "execution_count": 89,
     "metadata": {},
     "output_type": "execute_result"
    }
   ],
   "source": [
    "H = [1,2,3,4,5,4,3,2,1]\n",
    "trap(H)"
   ]
  },
  {
   "cell_type": "code",
   "execution_count": 93,
   "id": "b8be15de",
   "metadata": {},
   "outputs": [
    {
     "data": {
      "text/plain": [
       "0"
      ]
     },
     "execution_count": 93,
     "metadata": {},
     "output_type": "execute_result"
    }
   ],
   "source": [
    "HH = [5,4,3,2,1,2,3,4]\n",
    "trap(HH)"
   ]
  },
  {
   "cell_type": "markdown",
   "id": "f4216a1f",
   "metadata": {},
   "source": [
    "### 10. Remove duplicates. (fast and slow pointers)\n",
    "Given a sorted array nums, remove the duplicates in place such that each element appear only once and return the new length.\n",
    "[source](https://www.pluralsight.com/guides/algorithm-templates:-two-pointers-part-1)"
   ]
  },
  {
   "cell_type": "code",
   "execution_count": 95,
   "id": "742c0fed",
   "metadata": {},
   "outputs": [],
   "source": [
    "def removeDuplicates(A):\n",
    "    n = len(A)\n",
    "    \n",
    "    # slow pointer\n",
    "    i = 0\n",
    "    \n",
    "    # iterate with fast pointer 'j'\n",
    "    for j in range(1,n):\n",
    "        \n",
    "        #keep it in mind that A is sorted\n",
    "        if A[i] != A[j]:\n",
    "            # increase i if there in no duplicate\n",
    "            i +=1\n",
    "            # nun duplictae elements are kept in A\n",
    "            A[i] =A[j]\n",
    "            \n",
    "    return i+1 # it will be final length of non duplicate array"
   ]
  },
  {
   "cell_type": "code",
   "execution_count": 96,
   "id": "6f5ba58d",
   "metadata": {},
   "outputs": [
    {
     "data": {
      "text/plain": [
       "9"
      ]
     },
     "execution_count": 96,
     "metadata": {},
     "output_type": "execute_result"
    }
   ],
   "source": [
    "A = [1,2,3,4,4,5,6,7,7,8,9]\n",
    "removeDuplicates(A)"
   ]
  },
  {
   "cell_type": "markdown",
   "id": "36a925c4",
   "metadata": {},
   "source": [
    "### 11. Two state in Fibonacci (two states pointer)\n",
    "A simple and classic example is calculating a Fibonacci number."
   ]
  },
  {
   "cell_type": "code",
   "execution_count": 106,
   "id": "f470b437",
   "metadata": {},
   "outputs": [],
   "source": [
    "def fibonacci(n):\n",
    "    a,b = 0,1\n",
    "    for i in range(n+1):\n",
    "        # 'a' is fibonacci sequence\n",
    "        # 'b' is to carry current state \n",
    "        a,b = b,a+b\n",
    "        print(a,b)\n",
    "    return a"
   ]
  },
  {
   "cell_type": "code",
   "execution_count": 107,
   "id": "d21a8b56",
   "metadata": {},
   "outputs": [
    {
     "name": "stdout",
     "output_type": "stream",
     "text": [
      "1 1\n",
      "1 2\n",
      "2 3\n",
      "3 5\n",
      "5 8\n",
      "8 13\n",
      "13 21\n",
      "21 34\n",
      "34 55\n",
      "55 89\n",
      "89 144\n"
     ]
    },
    {
     "data": {
      "text/plain": [
       "89"
      ]
     },
     "execution_count": 107,
     "metadata": {},
     "output_type": "execute_result"
    }
   ],
   "source": [
    "fibonacci(10)"
   ]
  },
  {
   "cell_type": "markdown",
   "id": "38fc1d94",
   "metadata": {},
   "source": [
    "#### 12 Robbing houses (two state pointers)\n",
    " Determine the maximum amount of money you can steal tonight without robbing adjacent houses."
   ]
  },
  {
   "cell_type": "code",
   "execution_count": 111,
   "id": "121287d5",
   "metadata": {},
   "outputs": [],
   "source": [
    "def rob(A):\n",
    "    last,now = 0,0\n",
    "    \n",
    "    for i in A:\n",
    "        last,now = now, max(last+i,now)\n",
    "        print (last,now)\n",
    "    return now"
   ]
  },
  {
   "cell_type": "code",
   "execution_count": 112,
   "id": "1f1dc399",
   "metadata": {},
   "outputs": [
    {
     "name": "stdout",
     "output_type": "stream",
     "text": [
      "0 12\n",
      "12 34\n",
      "34 76\n",
      "76 76\n",
      "76 152\n",
      "152 152\n",
      "152 241\n",
      "241 241\n",
      "241 265\n",
      "265 308\n",
      "308 358\n",
      "358 358\n",
      "358 404\n",
      "404 444\n"
     ]
    },
    {
     "data": {
      "text/plain": [
       "444"
      ]
     },
     "execution_count": 112,
     "metadata": {},
     "output_type": "execute_result"
    }
   ],
   "source": [
    "A = [12,34,64,36,76,34,89,54,24,67,93,27,46,86]\n",
    "rob(A)"
   ]
  },
  {
   "cell_type": "code",
   "execution_count": null,
   "id": "9d3b5971",
   "metadata": {},
   "outputs": [],
   "source": []
  },
  {
   "cell_type": "code",
   "execution_count": null,
   "id": "5fd95929",
   "metadata": {},
   "outputs": [],
   "source": []
  }
 ],
 "metadata": {
  "kernelspec": {
   "display_name": "Python 3",
   "language": "python",
   "name": "python3"
  },
  "language_info": {
   "codemirror_mode": {
    "name": "ipython",
    "version": 3
   },
   "file_extension": ".py",
   "mimetype": "text/x-python",
   "name": "python",
   "nbconvert_exporter": "python",
   "pygments_lexer": "ipython3",
   "version": "3.8.8"
  }
 },
 "nbformat": 4,
 "nbformat_minor": 5
}
