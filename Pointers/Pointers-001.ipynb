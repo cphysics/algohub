{
 "cells": [
  {
   "cell_type": "markdown",
   "id": "67711cb4",
   "metadata": {},
   "source": [
    "## Pointers"
   ]
  },
  {
   "cell_type": "markdown",
   "id": "ba5e3b28",
   "metadata": {},
   "source": [
    "![img](https://i.imgur.com/xS5ZHoY.png)"
   ]
  },
  {
   "cell_type": "markdown",
   "id": "4600d8ad",
   "metadata": {},
   "source": [
    "#### 1. Reverse the Array"
   ]
  },
  {
   "cell_type": "code",
   "execution_count": 22,
   "id": "cf570b6b",
   "metadata": {},
   "outputs": [],
   "source": [
    "def reverse(A):\n",
    "    i,j = 0, len(A)-1\n",
    "\n",
    "    while i<j:\n",
    "        # move from left and right toward the middle\n",
    "        #(-----> ..collision.. <-----)\n",
    "        A[i],A[j] = A[j],A[i]\n",
    "        i += 1\n",
    "        j -= 1\n",
    "    return A"
   ]
  },
  {
   "cell_type": "code",
   "execution_count": 23,
   "id": "603684bf",
   "metadata": {},
   "outputs": [
    {
     "data": {
      "text/plain": [
       "[10, 9, 8, 7, 6, 5, 4, 3, 2, 1]"
      ]
     },
     "execution_count": 23,
     "metadata": {},
     "output_type": "execute_result"
    }
   ],
   "source": [
    "A = [1,2,3,4,5,6,7,8,9,10]\n",
    "reverse(A)"
   ]
  },
  {
   "cell_type": "markdown",
   "id": "8b59b18b",
   "metadata": {},
   "source": [
    "#### 2. Given an integer array sorted in non-decreasing order, return an array of the squares of each number sorted in non-decreasing order."
   ]
  },
  {
   "cell_type": "code",
   "execution_count": 24,
   "id": "b68e251b",
   "metadata": {},
   "outputs": [],
   "source": [
    "def sortedSquares(A):\n",
    "    i,j = 0,len(A)-1\n",
    "    \n",
    "    #create same sized new array\n",
    "    R = [0]*len(A)\n",
    "    \n",
    "    # abs of both end are max valued elements\n",
    "    idx = len(A)-1\n",
    "    \n",
    "    while i<j:\n",
    "        # lets check head and tail\n",
    "        if abs(A[i])>abs(A[j]):\n",
    "            # add head squared in result  list\n",
    "            R[idx] = A[i]*A[i]\n",
    "            i += 1\n",
    "        else:\n",
    "            #add tail in the result list\n",
    "            R[idx] = A[j]*A[j]\n",
    "            j -= 1\n",
    "            \n",
    "        #move left (<----) in R list    \n",
    "        idx -=1\n",
    "    return R\n",
    "        \n",
    "    "
   ]
  },
  {
   "cell_type": "code",
   "execution_count": 25,
   "id": "27c92d09",
   "metadata": {},
   "outputs": [],
   "source": [
    "A = [-5,-4,-3,-2,-1,0,1,2,3,4,5]\n",
    "B = [0,1,1,4,4,9,9,16,16,25,25]"
   ]
  },
  {
   "cell_type": "code",
   "execution_count": 26,
   "id": "d2cb036b",
   "metadata": {},
   "outputs": [
    {
     "data": {
      "text/plain": [
       "[0, 1, 1, 4, 4, 9, 9, 16, 16, 25, 25]"
      ]
     },
     "execution_count": 26,
     "metadata": {},
     "output_type": "execute_result"
    }
   ],
   "source": [
    "sortedSquares(A)"
   ]
  },
  {
   "cell_type": "markdown",
   "id": "b0ad002e",
   "metadata": {},
   "source": [
    "#### 3. Given a string s, find the length of the longest substring without repeating characters."
   ]
  },
  {
   "cell_type": "code",
   "execution_count": 45,
   "id": "d130652d",
   "metadata": {},
   "outputs": [],
   "source": [
    "def lengthOfLongestSubstring(s):\n",
    "    n = len(s)\n",
    "    \n",
    "    #initiate subset length\n",
    "    R_len = 0\n",
    "    \n",
    "    #iterate over left pointer\n",
    "    for left in range(n):\n",
    "        \n",
    "        #set the right pointer\n",
    "        right = left\n",
    "        \n",
    "        #take a set 'kamandalu'\n",
    "        seen = set()\n",
    "        \n",
    "        # stretch right till it breaks by seen chr\n",
    "        while right < n and s[right] not in seen:\n",
    "            seen.add(s[right])\n",
    "            #this is tricky\n",
    "            right +=1\n",
    "            \n",
    "            \n",
    "        #update the max R_len if any\n",
    "        R_len = max(R_len, right-left)\n",
    "        \n",
    "    return R_len\n",
    "        "
   ]
  },
  {
   "cell_type": "code",
   "execution_count": 46,
   "id": "035eadc8",
   "metadata": {},
   "outputs": [
    {
     "name": "stdout",
     "output_type": "stream",
     "text": [
      "8\n"
     ]
    }
   ],
   "source": [
    "print(lengthOfLongestSubstring(\"abcabtpqrscbb\"))"
   ]
  },
  {
   "cell_type": "code",
   "execution_count": 49,
   "id": "94700b27",
   "metadata": {},
   "outputs": [
    {
     "name": "stdout",
     "output_type": "stream",
     "text": [
      "26\n"
     ]
    }
   ],
   "source": [
    "print(lengthOfLongestSubstring(\"abcdefghijklmnopqrstuvwxyz\"))"
   ]
  },
  {
   "cell_type": "code",
   "execution_count": 50,
   "id": "aa4e3237",
   "metadata": {},
   "outputs": [
    {
     "name": "stdout",
     "output_type": "stream",
     "text": [
      "16\n"
     ]
    }
   ],
   "source": [
    "print(lengthOfLongestSubstring(\"abcdefghijklmnopkqrstuvwxyz\"))"
   ]
  },
  {
   "cell_type": "markdown",
   "id": "3644fa6d",
   "metadata": {},
   "source": [
    "#### 4. Given three sorted arrays A, B, and C \n",
    "of not necessarily the same sizes. Calculate the minimum absolute difference between the maximum and minimum number of any triplet A[i], B[j], C[k] such that they belong to arrays A, B and C respectively, i.e., minimize (max(A[i], B[j], C[k]) — min(A[i], B[j], C[k]))"
   ]
  },
  {
   "cell_type": "code",
   "execution_count": 55,
   "id": "f608a132",
   "metadata": {},
   "outputs": [],
   "source": [
    "def solve(A,B,C):\n",
    "    \n",
    "    #initialize i,j,k\n",
    "    i,j,k = 0,0,0\n",
    "    \n",
    "    #what are lengths?\n",
    "    M,N,P = len(A),len(B),len(C)\n",
    "    \n",
    "    # set min difference with all first elements of A,B,C\n",
    "    min_diff = abs(max(A[i],B[j],C[k]) - min(A[i],B[j],C[k]))\n",
    "    \n",
    "    #lets go with while loops; where is stopping condition?\n",
    "    # you need three pointers\n",
    "    while i<M and j<N and k<P:\n",
    "        \n",
    "        #calculate current min value\n",
    "        curr_diff = abs(max(A[i],B[j],C[k])-min(A[i],B[j],C[k]))\n",
    "        \n",
    "        # is current min less then previous min value\n",
    "        if curr_diff < min_diff:\n",
    "            min_diff = curr_diff\n",
    "            \n",
    "        # keep recording the min term, you need it finally   \n",
    "        min_term = min(A[i], B[j], C[k])\n",
    "        \n",
    "        if A[i] == min_term:\n",
    "            i +=1\n",
    "        elif B[j] == min_term:\n",
    "            j +=1\n",
    "        else:\n",
    "            k +=1\n",
    "            \n",
    "        return min_diff"
   ]
  },
  {
   "cell_type": "code",
   "execution_count": 56,
   "id": "113814b1",
   "metadata": {},
   "outputs": [
    {
     "name": "stdout",
     "output_type": "stream",
     "text": [
      "5\n"
     ]
    }
   ],
   "source": [
    "A = [1,4,5,8,10]\n",
    "B = [6,9,15]\n",
    "C = [2,3,6,6]\n",
    "print(solve(A, B, C))"
   ]
  },
  {
   "cell_type": "markdown",
   "id": "9ff8baff",
   "metadata": {},
   "source": [
    "#### 5. Find pair of given sum:\n",
    "Given a sorted array A(sorted in ascending order), having N integers, find if there exists any pair of elements (A[i], A[j]) such that their sum is equal to X."
   ]
  },
  {
   "cell_type": "code",
   "execution_count": 58,
   "id": "e0f310ed",
   "metadata": {},
   "outputs": [],
   "source": [
    "def findPair(A,X):\n",
    "    \n",
    "    #note that A is sorted array\n",
    "    \n",
    "    n = len(A)\n",
    "    left,right = 0,len(A)\n",
    "    \n",
    "    # move from (right ----> ...collision ... <-----right)\n",
    "    while left<right:\n",
    "        \n",
    "        # did you find it?\n",
    "        if A[left]+A[right] ==X:\n",
    "            return True\n",
    "        \n",
    "        # No worries! move from left toward right\n",
    "        # since array is sorted\n",
    "        elif A[left] + A[right] <X:\n",
    "            left +=1\n",
    "            \n",
    "        #in case sum is larger then target X\n",
    "        # leave that right point, move toward left\n",
    "        else:\n",
    "            right -=1\n",
    "        "
   ]
  },
  {
   "cell_type": "markdown",
   "id": "849c0d69",
   "metadata": {},
   "source": [
    "#### 6. Find a pair (x,y) that is close to target sum N\n",
    "Given two sorted arrays and a number x, find the pair whose sum is closest to x and the pair has an element from each array."
   ]
  },
  {
   "cell_type": "code",
   "execution_count": null,
   "id": "ffe204b0",
   "metadata": {},
   "outputs": [],
   "source": [
    "def findClosest(A,B,X):"
   ]
  },
  {
   "cell_type": "markdown",
   "id": "6799691b",
   "metadata": {},
   "source": [
    "#### 7. Merge two sorted Linked Lists"
   ]
  },
  {
   "cell_type": "code",
   "execution_count": 57,
   "id": "ff6d6f11",
   "metadata": {},
   "outputs": [],
   "source": [
    "class ListNode:\n",
    "     def __init__(self, val=0, next=None):\n",
    "        self.val = val\n",
    "        self.next = next"
   ]
  },
  {
   "cell_type": "code",
   "execution_count": null,
   "id": "e7d60907",
   "metadata": {},
   "outputs": [],
   "source": [
    "def merge(L1,L2):\n",
    "    \n",
    "    #Initiate a new linked lidt\n",
    "    L = ListNode(0)\n",
    "    \n",
    "    #if Both L1 and L2 exixt\n",
    "    while L1 and L2:\n",
    "        new_node = ListNode()\n",
    "        \n",
    "        if L1.val <= L2.val:\n",
    "            new_node.val = L1.val\n",
    "            L1 =L1.next\n",
    "            \n",
    "        else:\n",
    "            new_node.val = L2.next\n",
    "            L2 = L2.next\n",
    "            \n",
    "        L.next = new_node\n",
    "            \n",
    "    if not L1:\n",
    "            \n",
    "    \n",
    "    \n",
    "    \n",
    "    return L\n",
    "    "
   ]
  },
  {
   "cell_type": "markdown",
   "id": "a13ff9a3",
   "metadata": {},
   "source": [
    "#### 8. Intersection of two array without using set\n",
    "Given two integer arrays nums1 and nums2, return an array of their intersection. Repeated elements could exist. \n",
    "\n",
    "Case-easy: Each element in the result must be unique and you may return the result in any order.\n",
    "\n"
   ]
  },
  {
   "cell_type": "code",
   "execution_count": 60,
   "id": "e345b4a4",
   "metadata": {},
   "outputs": [],
   "source": [
    "import collections"
   ]
  },
  {
   "cell_type": "code",
   "execution_count": 71,
   "id": "3c62ae71",
   "metadata": {},
   "outputs": [
    {
     "data": {
      "text/plain": [
       "Counter({1: 1, 2: 2, 3: 1, 4: 2, 5: 2, 6: 1, 7: 1, 8: 1, 9: 2})"
      ]
     },
     "execution_count": 71,
     "metadata": {},
     "output_type": "execute_result"
    }
   ],
   "source": [
    "A = [1,2,2,3,4,5,5,4,6,7,8,9,9]\n",
    "collections.Counter(A)"
   ]
  },
  {
   "cell_type": "code",
   "execution_count": 72,
   "id": "81708903",
   "metadata": {},
   "outputs": [
    {
     "data": {
      "text/plain": [
       "Counter({1: 1, 2: 2, 3: 1, 4: 1, 11: 1, 23: 1, 45: 1, 67: 1, 89: 1})"
      ]
     },
     "execution_count": 72,
     "metadata": {},
     "output_type": "execute_result"
    }
   ],
   "source": [
    "B = [1,2,2,3,4,11,23,45,67,89]\n",
    "collections.Counter(B)"
   ]
  },
  {
   "cell_type": "code",
   "execution_count": 73,
   "id": "805821be",
   "metadata": {},
   "outputs": [
    {
     "data": {
      "text/plain": [
       "Counter({1: 1, 2: 2, 3: 1, 4: 1})"
      ]
     },
     "execution_count": 73,
     "metadata": {},
     "output_type": "execute_result"
    }
   ],
   "source": [
    "collections.Counter(A) & collections.Counter(B)"
   ]
  },
  {
   "cell_type": "code",
   "execution_count": 74,
   "id": "61e892bc",
   "metadata": {},
   "outputs": [],
   "source": [
    "def intersection(A,B):\n",
    "    \n",
    "    #create count dictionary for A\n",
    "    A_count = collections.Counter(A)\n",
    "    \n",
    "    #create count dictionary for B\n",
    "    B_count = collections.Counter(B)\n",
    "    \n",
    "    #create intersection dictionary\n",
    "    AB_dict = A_count & B_count\n",
    "    \n",
    "    AB_list = []\n",
    "    \n",
    "    for key, value in AB_dict.items():\n",
    "        AB_list.extend([key]*value)\n",
    "            \n",
    "    return AB_list"
   ]
  },
  {
   "cell_type": "code",
   "execution_count": 75,
   "id": "d27c4091",
   "metadata": {},
   "outputs": [
    {
     "data": {
      "text/plain": [
       "[1, 2, 2, 3, 4]"
      ]
     },
     "execution_count": 75,
     "metadata": {},
     "output_type": "execute_result"
    }
   ],
   "source": [
    "intersection(A,B)"
   ]
  },
  {
   "cell_type": "markdown",
   "id": "2a972bd9",
   "metadata": {},
   "source": [
    "### 9 Traping rain water\n",
    "Given n non-negative integers representing an elevation map where the width of each bar is 1, compute how much water it can trap after raining.\n",
    "\n"
   ]
  },
  {
   "cell_type": "code",
   "execution_count": 88,
   "id": "3bdce497",
   "metadata": {},
   "outputs": [],
   "source": [
    "def trap(H):\n",
    "    \n",
    "    # set the pointers\n",
    "    l = 0\n",
    "    r = len(H)-1\n",
    "    \n",
    "    #initiate max of left and right\n",
    "    max_l = 0\n",
    "    max_r = 0\n",
    "    \n",
    "    #initiate the area\n",
    "    A = 0\n",
    "    \n",
    "    #lets move (--->...collision...<----)\n",
    "    while l<r:\n",
    "        \n",
    "        #check if left height is lower then righ height\n",
    "        if H[l]<=H[r]:\n",
    "            \n",
    "            #find if water runs toward left 'oralo'\n",
    "            #just update max height of left\n",
    "            if H[l]>max_l:\n",
    "                max_l = H[l]\n",
    "                \n",
    "            # otherwise here you get water trapped\n",
    "            else:\n",
    "                A += max_l-H[l]\n",
    "                \n",
    "            #you move anyway\n",
    "            l += 1\n",
    "                \n",
    "        #check if right height is lower then left height  \n",
    "        # role swithched, yes?\n",
    "        else:\n",
    "            \n",
    "            #find if water runs toward left 'oralo'\n",
    "            #just update max height of left\n",
    "            if H[r]> max_r:\n",
    "                    max_r = H[r]\n",
    "                    \n",
    "            # otherwise here you get water trapped\n",
    "            else:\n",
    "                A += max_r-H[r]\n",
    "                \n",
    "            #you move anyway\n",
    "            r -=1\n",
    "            \n",
    "        return A  "
   ]
  },
  {
   "cell_type": "code",
   "execution_count": 89,
   "id": "a899b6f0",
   "metadata": {},
   "outputs": [
    {
     "data": {
      "text/plain": [
       "0"
      ]
     },
     "execution_count": 89,
     "metadata": {},
     "output_type": "execute_result"
    }
   ],
   "source": [
    "H = [1,2,3,4,5,4,3,2,1]\n",
    "trap(H)"
   ]
  },
  {
   "cell_type": "code",
   "execution_count": 93,
   "id": "5a46e99c",
   "metadata": {},
   "outputs": [
    {
     "data": {
      "text/plain": [
       "0"
      ]
     },
     "execution_count": 93,
     "metadata": {},
     "output_type": "execute_result"
    }
   ],
   "source": [
    "HH = [5,4,3,2,1,2,3,4]\n",
    "trap(HH)"
   ]
  },
  {
   "cell_type": "markdown",
   "id": "e1296bbf",
   "metadata": {},
   "source": [
    "### 10. Remove duplicates.\n",
    "Given a sorted array nums, remove the duplicates in place such that each element appear only once and return the new length.\n",
    "[source](https://www.pluralsight.com/guides/algorithm-templates:-two-pointers-part-1)"
   ]
  },
  {
   "cell_type": "code",
   "execution_count": null,
   "id": "f518ee45",
   "metadata": {},
   "outputs": [],
   "source": [
    "# [26] https://leetcode.com/problems/remove-duplicates-from-sorted-array/\n",
    "2def removeDuplicates(nums: 'List[int]') -> int:\n",
    "3    if not nums:\n",
    "4        return 0\n",
    "5    slow = 0\n",
    "6    for fast in range(1, len(nums)):\n",
    "7        # if current element is not duplicate, \n",
    "8        # slow runner grows one step and copys the current value\n",
    "9        if nums[slow] != nums[fast]:\n",
    "10            slow += 1\n",
    "11            nums[slow] = nums[fast]\n",
    "12    return slow + 1"
   ]
  },
  {
   "cell_type": "code",
   "execution_count": null,
   "id": "63ae069d",
   "metadata": {},
   "outputs": [],
   "source": [
    "def removeDuplicates(A):\n",
    "    n = len(A)\n",
    "    slow = 0\n",
    "    for fast in range(1,n):\n",
    "        \n",
    "    "
   ]
  },
  {
   "cell_type": "code",
   "execution_count": null,
   "id": "b7191234",
   "metadata": {},
   "outputs": [],
   "source": []
  },
  {
   "cell_type": "code",
   "execution_count": null,
   "id": "e57297bf",
   "metadata": {},
   "outputs": [],
   "source": []
  },
  {
   "cell_type": "code",
   "execution_count": null,
   "id": "9fa163d1",
   "metadata": {},
   "outputs": [],
   "source": []
  },
  {
   "cell_type": "code",
   "execution_count": null,
   "id": "2b634104",
   "metadata": {},
   "outputs": [],
   "source": []
  },
  {
   "cell_type": "code",
   "execution_count": null,
   "id": "5c19ed07",
   "metadata": {},
   "outputs": [],
   "source": []
  },
  {
   "cell_type": "code",
   "execution_count": null,
   "id": "0c50e08b",
   "metadata": {},
   "outputs": [],
   "source": []
  }
 ],
 "metadata": {
  "kernelspec": {
   "display_name": "Python 3",
   "language": "python",
   "name": "python3"
  },
  "language_info": {
   "codemirror_mode": {
    "name": "ipython",
    "version": 3
   },
   "file_extension": ".py",
   "mimetype": "text/x-python",
   "name": "python",
   "nbconvert_exporter": "python",
   "pygments_lexer": "ipython3",
   "version": "3.8.8"
  }
 },
 "nbformat": 4,
 "nbformat_minor": 5
}
