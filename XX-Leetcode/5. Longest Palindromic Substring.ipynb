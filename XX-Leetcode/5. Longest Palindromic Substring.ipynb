{
 "cells": [
  {
   "cell_type": "markdown",
   "metadata": {},
   "source": [
    "### 5. Longest Palindromic Substring\n",
    "\n",
    "Given a string s, find the longest palindromic substring in s. You may assume that the maximum length of s is 1000.\n",
    "\n",
    "    Example 1:\n",
    "\n",
    "    Input: \"babad\"\n",
    "    Output: \"bab\"\n",
    "    Note: \"aba\" is also a valid answer."
   ]
  },
  {
   "cell_type": "code",
   "execution_count": 16,
   "metadata": {},
   "outputs": [],
   "source": [
    "class Solution:\n",
    "    def longestPalindrome(self, s):\n",
    "        \"\"\"\n",
    "        :type s: str\n",
    "        :rtype: str\n",
    "        \"\"\"\n",
    "        # Return if string is empty\n",
    "        if not s: return s\n",
    "\n",
    "        res = \"\"\n",
    "        for i in range(len(s)):\n",
    "            j = i + 1\n",
    "            # While j is less than length of string\n",
    "            # AND res is *not* longer than substring s[i:]\n",
    "            while j <= len(s) and len(res) <= len(s[i:]):\n",
    "                # If substring s[i:j] is a palindrome\n",
    "                # AND substring is longer than res\n",
    "                if s[i:j] == s[i:j][::-1] and len(s[i:j]) > len(res):\n",
    "                    res = s[i:j]\n",
    "                j += 1\n",
    "                \n",
    "                print( i, j ,\"|\", s[i:j], \"|\", res)\n",
    "\n",
    "        return res"
   ]
  },
  {
   "cell_type": "code",
   "execution_count": 3,
   "metadata": {},
   "outputs": [],
   "source": [
    "s = 'abcdefedcba'"
   ]
  },
  {
   "cell_type": "code",
   "execution_count": 18,
   "metadata": {
    "scrolled": false
   },
   "outputs": [
    {
     "name": "stdout",
     "output_type": "stream",
     "text": [
      "0 2 | ab | a\n",
      "0 3 | abc | a\n",
      "0 4 | abcd | a\n",
      "0 5 | abcde | a\n",
      "0 6 | abcdef | a\n",
      "0 7 | abcdefe | a\n",
      "0 8 | abcdefed | a\n",
      "0 9 | abcdefedc | a\n",
      "0 10 | abcdefedcb | a\n",
      "0 11 | abcdefedcba | a\n",
      "0 12 | abcdefedcba | abcdefedcba\n"
     ]
    },
    {
     "data": {
      "text/plain": [
       "'abcdefedcba'"
      ]
     },
     "execution_count": 18,
     "metadata": {},
     "output_type": "execute_result"
    }
   ],
   "source": [
    "Solution().longestPalindrome(s)"
   ]
  },
  {
   "cell_type": "code",
   "execution_count": 6,
   "metadata": {},
   "outputs": [],
   "source": [
    "class Solution:\n",
    "    def longestPalindrome(self, s):\n",
    "        \"\"\"\n",
    "        :type s: str\n",
    "        :rtype: str\n",
    "        \"\"\"\n",
    "        if not s: return s\n",
    "        res = ''\n",
    "        n = len(s)\n",
    "        dp = [[False for _ in range(n)] for _ in range(n)]\n",
    "        \n",
    "        max = 0\n",
    "        for i in range(n):\n",
    "            for j in range(0, i+1):\n",
    "                \n",
    "                dp[j][i] = ((s[j] == s[i]) and ((i - j <= 2) or dp[j+1][i-1]))\n",
    "                \n",
    "                print(i,j, dp[j][i])\n",
    "                \n",
    "                \n",
    "                if dp[j][i]:\n",
    "                    if (i-j+1) > max:\n",
    "                        max = i-j+1\n",
    "                        res = s[j:i+1]\n",
    "        print(dp)\n",
    "        return res"
   ]
  },
  {
   "cell_type": "code",
   "execution_count": 7,
   "metadata": {},
   "outputs": [
    {
     "name": "stdout",
     "output_type": "stream",
     "text": [
      "0 0 True\n",
      "1 0 False\n",
      "1 1 True\n",
      "2 0 False\n",
      "2 1 False\n",
      "2 2 True\n",
      "3 0 False\n",
      "3 1 False\n",
      "3 2 False\n",
      "3 3 True\n",
      "4 0 False\n",
      "4 1 False\n",
      "4 2 False\n",
      "4 3 False\n",
      "4 4 True\n",
      "5 0 False\n",
      "5 1 False\n",
      "5 2 False\n",
      "5 3 False\n",
      "5 4 False\n",
      "5 5 True\n",
      "6 0 False\n",
      "6 1 False\n",
      "6 2 False\n",
      "6 3 False\n",
      "6 4 True\n",
      "6 5 False\n",
      "6 6 True\n",
      "7 0 False\n",
      "7 1 False\n",
      "7 2 False\n",
      "7 3 True\n",
      "7 4 False\n",
      "7 5 False\n",
      "7 6 False\n",
      "7 7 True\n",
      "8 0 False\n",
      "8 1 False\n",
      "8 2 True\n",
      "8 3 False\n",
      "8 4 False\n",
      "8 5 False\n",
      "8 6 False\n",
      "8 7 False\n",
      "8 8 True\n",
      "9 0 False\n",
      "9 1 True\n",
      "9 2 False\n",
      "9 3 False\n",
      "9 4 False\n",
      "9 5 False\n",
      "9 6 False\n",
      "9 7 False\n",
      "9 8 False\n",
      "9 9 True\n",
      "10 0 True\n",
      "10 1 False\n",
      "10 2 False\n",
      "10 3 False\n",
      "10 4 False\n",
      "10 5 False\n",
      "10 6 False\n",
      "10 7 False\n",
      "10 8 False\n",
      "10 9 False\n",
      "10 10 True\n",
      "[[True, False, False, False, False, False, False, False, False, False, True], [False, True, False, False, False, False, False, False, False, True, False], [False, False, True, False, False, False, False, False, True, False, False], [False, False, False, True, False, False, False, True, False, False, False], [False, False, False, False, True, False, True, False, False, False, False], [False, False, False, False, False, True, False, False, False, False, False], [False, False, False, False, False, False, True, False, False, False, False], [False, False, False, False, False, False, False, True, False, False, False], [False, False, False, False, False, False, False, False, True, False, False], [False, False, False, False, False, False, False, False, False, True, False], [False, False, False, False, False, False, False, False, False, False, True]]\n"
     ]
    },
    {
     "data": {
      "text/plain": [
       "'abcdefedcba'"
      ]
     },
     "execution_count": 7,
     "metadata": {},
     "output_type": "execute_result"
    }
   ],
   "source": [
    "Solution().longestPalindrome(s)"
   ]
  },
  {
   "cell_type": "code",
   "execution_count": null,
   "metadata": {},
   "outputs": [],
   "source": []
  },
  {
   "cell_type": "code",
   "execution_count": null,
   "metadata": {},
   "outputs": [],
   "source": []
  },
  {
   "cell_type": "code",
   "execution_count": null,
   "metadata": {},
   "outputs": [],
   "source": []
  }
 ],
 "metadata": {
  "kernelspec": {
   "display_name": "Python 3",
   "language": "python",
   "name": "python3"
  },
  "language_info": {
   "codemirror_mode": {
    "name": "ipython",
    "version": 3
   },
   "file_extension": ".py",
   "mimetype": "text/x-python",
   "name": "python",
   "nbconvert_exporter": "python",
   "pygments_lexer": "ipython3",
   "version": "3.7.6"
  }
 },
 "nbformat": 4,
 "nbformat_minor": 2
}
