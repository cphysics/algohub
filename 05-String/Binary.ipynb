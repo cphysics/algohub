{
 "cells": [
  {
   "cell_type": "markdown",
   "id": "347fa16a",
   "metadata": {},
   "source": [
    "## Binary"
   ]
  },
  {
   "cell_type": "markdown",
   "id": "86f638b7",
   "metadata": {},
   "source": [
    "### [Sum of Two Integers](https://leetcode.com/problems/sum-of-two-integers/)\n",
    "\n",
    "Given two integers a and b, return the sum of the two integers without using the operators + and -.\n",
    "\n"
   ]
  },
  {
   "cell_type": "code",
   "execution_count": null,
   "id": "9c204447",
   "metadata": {},
   "outputs": [],
   "source": [
    "class Solution:\n",
    "    def getSum(self, a: int, b: int) -> int:\n",
    "        \n",
    "        x, y = abs(a), abs(b)\n",
    "        \n",
    "        # ensure that abs(a) >= abs(b)\n",
    "        if x < y:\n",
    "            return self.getSum(b, a)\n",
    "        \n",
    "        \n",
    "        \n",
    "        # abs(a) >= abs(b) --> \n",
    "        # a determines the sign\n",
    "        sign = 1 if a > 0 else -1\n",
    "        \n",
    "        \n",
    "        \n",
    "        if a * b >= 0:\n",
    "            # sum of two positive integers x + y\n",
    "            # where x > y\n",
    "            while y:\n",
    "                answer = x ^ y\n",
    "                carry = (x & y) << 1\n",
    "                x, y = answer, carry\n",
    "                \n",
    "                \n",
    "        else:\n",
    "            # difference of two integers x - y\n",
    "            # where x > y\n",
    "            while y:\n",
    "                answer = x ^ y\n",
    "                borrow = ((~x) & y) << 1\n",
    "                x, y = answer, borrow\n",
    "                \n",
    "                \n",
    "        \n",
    "        return x * sign"
   ]
  },
  {
   "cell_type": "markdown",
   "id": "e9be9951",
   "metadata": {},
   "source": [
    "### [Number of 1 Bits](https://leetcode.com/problems/number-of-1-bits/)\n",
    "\n",
    "Write a function that takes an unsigned integer and returns the number of '1' bits it has (also known as the Hamming weight).\n",
    "\n",
    "Note:\n",
    "\n",
    "- Note that in some languages, such as Java, there is no unsigned integer type. In this case, the input will be given as a signed integer type. It should not affect your implementation, as the integer's internal binary representation is the same, whether it is signed or unsigned.\n",
    "- In Java, the compiler represents the signed integers using 2's complement notation. Therefore, in Example 3, the input represents the signed integer. -3.\n"
   ]
  },
  {
   "cell_type": "code",
   "execution_count": null,
   "id": "852db44f",
   "metadata": {},
   "outputs": [],
   "source": [
    "def hammingWeight(self, n):\n",
    "        ans=0\n",
    "        while n>0:\n",
    "            if n%2==1:\n",
    "                ans+=1\n",
    "            n=n/2\n",
    "        return ans"
   ]
  },
  {
   "cell_type": "markdown",
   "id": "142a8669",
   "metadata": {},
   "source": [
    "### [Counting Bits](https://leetcode.com/problems/counting-bits/)\n",
    "\n",
    "Given an integer n, return an array ans of length n + 1 such that for each i (0 <= i <= n), ans[i] is the number of 1's in the binary representation of i."
   ]
  },
  {
   "cell_type": "code",
   "execution_count": null,
   "id": "f4d80c9d",
   "metadata": {},
   "outputs": [],
   "source": [
    "class Solution:\n",
    "    def countBits(self, n: int) -> List[int]:\n",
    "        \n",
    "        def pop_count(x: int) -> int:\n",
    "            count = 0\n",
    "            while x != 0:\n",
    "                x &= x - 1 # zeroing out the least significant nonzero bit\n",
    "                count += 1\n",
    "            return count\n",
    "            \n",
    "        ans = [0] * (n + 1)\n",
    "        for x in range(n + 1):\n",
    "            ans[x] = pop_count(x)\n",
    "    \n",
    "        return ans                                "
   ]
  },
  {
   "cell_type": "code",
   "execution_count": null,
   "id": "45f1765b",
   "metadata": {},
   "outputs": [],
   "source": [
    "class Solution:\n",
    "    def countBits(self, n: int) -> List[int]:\n",
    "        ans = [0] * (n + 1)\n",
    "        x = 0\n",
    "        b = 1\n",
    "        \n",
    "        # [0, b) is calculated\n",
    "        while b <= n:\n",
    "            # generate [b, 2b) or [b, n) from [0, b)\n",
    "            while x < b and x + b <= n:\n",
    "                ans[x + b] = ans[x] + 1\n",
    "                x += 1\n",
    "            x = 0 # reset x\n",
    "            b <<= 1 # b = 2b\n",
    "            \n",
    "        return ans               "
   ]
  },
  {
   "cell_type": "code",
   "execution_count": null,
   "id": "6c0866d3",
   "metadata": {},
   "outputs": [],
   "source": [
    "class Solution:\n",
    "    def countBits(self, n: int) -> List[int]:\n",
    "        ans = [0] * (n + 1)\n",
    "        for x in range(1, n + 1):\n",
    "            # x // 2 is x >> 1 and x % 2 is x & 1\n",
    "            ans[x] = ans[x >> 1] + (x & 1) \n",
    "        return ans "
   ]
  },
  {
   "cell_type": "code",
   "execution_count": null,
   "id": "2ae09699",
   "metadata": {},
   "outputs": [],
   "source": [
    "class Solution:\n",
    "    def countBits(self, n: int) -> List[int]:\n",
    "        ans = [0] * (n + 1)\n",
    "        for x in range(1, n + 1):\n",
    "            ans[x] = ans[x & (x - 1)] + 1\n",
    "        return ans "
   ]
  },
  {
   "cell_type": "markdown",
   "id": "273cfbfe",
   "metadata": {},
   "source": [
    "### [Missing Number](https://leetcode.com/problems/missing-number/)\n",
    "\n",
    "Given an array nums containing n distinct numbers in the range [0, n], return the only number in the range that is missing from the array.\n",
    "\n"
   ]
  },
  {
   "cell_type": "code",
   "execution_count": null,
   "id": "ab768e06",
   "metadata": {},
   "outputs": [],
   "source": [
    "class Solution:\n",
    "    def missingNumber(self, nums):\n",
    "        nums.sort()\n",
    "\n",
    "        # Ensure that n is at the last index\n",
    "        if nums[-1] != len(nums):\n",
    "            return len(nums)\n",
    "        # Ensure that 0 is at the first index\n",
    "        elif nums[0] != 0:\n",
    "            return 0\n",
    "\n",
    "        # If we get here, then the missing number is on the range (0, n)\n",
    "        for i in range(1, len(nums)):\n",
    "            expected_num = nums[i-1] + 1\n",
    "            if nums[i] != expected_num:\n",
    "                return expected_num"
   ]
  },
  {
   "cell_type": "code",
   "execution_count": null,
   "id": "e43eb8b3",
   "metadata": {},
   "outputs": [],
   "source": [
    "class Solution:\n",
    "    def missingNumber(self, nums):\n",
    "        num_set = set(nums)\n",
    "        n = len(nums) + 1\n",
    "        for number in range(n):\n",
    "            if number not in num_set:\n",
    "                return number"
   ]
  },
  {
   "cell_type": "code",
   "execution_count": null,
   "id": "5886ca2c",
   "metadata": {},
   "outputs": [],
   "source": [
    "class Solution:\n",
    "    def missingNumber(self, nums):\n",
    "        missing = len(nums)\n",
    "        for i, num in enumerate(nums):\n",
    "            missing ^= i ^ num\n",
    "        return missing"
   ]
  },
  {
   "cell_type": "code",
   "execution_count": null,
   "id": "786480cc",
   "metadata": {},
   "outputs": [],
   "source": [
    "class Solution:\n",
    "    def missingNumber(self, nums):\n",
    "        expected_sum = len(nums)*(len(nums)+1)//2\n",
    "        actual_sum = sum(nums)\n",
    "        return expected_sum - actual_sum"
   ]
  },
  {
   "cell_type": "markdown",
   "id": "4fd3b72c",
   "metadata": {},
   "source": [
    "### [Reverse Bits](https://leetcode.com/problems/reverse-bits/)\n",
    "\n",
    "Reverse bits of a given 32 bits unsigned integer.\n",
    "\n",
    "Note:\n",
    "\n",
    "- Note that in some languages, such as Java, there is no unsigned integer type. In this case, both input and output will be given as a signed integer type. They should not affect your implementation, as the integer's internal binary representation is the same, whether it is signed or unsigned.\n",
    "- In Java, the compiler represents the signed integers using 2's complement notation. Therefore, in Example 2 above, the input represents the signed integer -3 and the output represents the signed integer -1073741825."
   ]
  },
  {
   "cell_type": "code",
   "execution_count": null,
   "id": "a187a1ff",
   "metadata": {},
   "outputs": [],
   "source": [
    "class Solution:\n",
    "    # @param n, an integer\n",
    "    # @return an integer\n",
    "    def reverseBits(self, n):\n",
    "        ret, power = 0, 31\n",
    "        while n:\n",
    "            ret += (n & 1) << power\n",
    "            n = n >> 1\n",
    "            power -= 1\n",
    "        return ret"
   ]
  },
  {
   "cell_type": "code",
   "execution_count": null,
   "id": "cc308745",
   "metadata": {},
   "outputs": [],
   "source": [
    "class Solution:\n",
    "    # @param n, an integer\n",
    "    # @return an integer\n",
    "    def reverseBits(self, n):\n",
    "        ret, power = 0, 24\n",
    "        cache = dict()\n",
    "        while n:\n",
    "            ret += self.reverseByte(n & 0xff, cache) << power\n",
    "            n = n >> 8\n",
    "            power -= 8\n",
    "        return ret\n",
    "\n",
    "    def reverseByte(self, byte, cache):\n",
    "        if byte not in cache:\n",
    "            cache[byte] = (byte * 0x0202020202 & 0x010884422010) % 1023 \n",
    "        return cache[byte]"
   ]
  },
  {
   "cell_type": "code",
   "execution_count": null,
   "id": "380631ab",
   "metadata": {},
   "outputs": [],
   "source": [
    "class Solution:\n",
    "    # @param n, an integer\n",
    "    # @return an integer\n",
    "    def reverseBits(self, n):\n",
    "        n = (n >> 16) | (n << 16)\n",
    "        n = ((n & 0xff00ff00) >> 8) | ((n & 0x00ff00ff) << 8)\n",
    "        n = ((n & 0xf0f0f0f0) >> 4) | ((n & 0x0f0f0f0f) << 4)\n",
    "        n = ((n & 0xcccccccc) >> 2) | ((n & 0x33333333) << 2)\n",
    "        n = ((n & 0xaaaaaaaa) >> 1) | ((n & 0x55555555) << 1)\n",
    "        return n"
   ]
  },
  {
   "cell_type": "code",
   "execution_count": null,
   "id": "928d53e9",
   "metadata": {},
   "outputs": [],
   "source": []
  },
  {
   "cell_type": "code",
   "execution_count": null,
   "id": "c76ae931",
   "metadata": {},
   "outputs": [],
   "source": []
  },
  {
   "cell_type": "code",
   "execution_count": null,
   "id": "1fa55f04",
   "metadata": {},
   "outputs": [],
   "source": []
  }
 ],
 "metadata": {
  "kernelspec": {
   "display_name": "Python 3",
   "language": "python",
   "name": "python3"
  },
  "language_info": {
   "codemirror_mode": {
    "name": "ipython",
    "version": 3
   },
   "file_extension": ".py",
   "mimetype": "text/x-python",
   "name": "python",
   "nbconvert_exporter": "python",
   "pygments_lexer": "ipython3",
   "version": "3.8.8"
  }
 },
 "nbformat": 4,
 "nbformat_minor": 5
}
