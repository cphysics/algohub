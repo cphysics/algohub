{
 "cells": [
  {
   "cell_type": "markdown",
   "id": "33db1767",
   "metadata": {},
   "source": [
    "# String (Advanced)"
   ]
  },
  {
   "cell_type": "markdown",
   "id": "b1d576c7",
   "metadata": {},
   "source": [
    "### [Word Ladder](https://leetcode.com/problems/word-ladder/)\n",
    "\n",
    "A transformation sequence from word beginWord to word endWord using a dictionary wordList is a sequence of words beginWord -> s1 -> s2 -> ... -> sk such that:\n",
    "\n",
    "Every adjacent pair of words differs by a single letter.\n",
    "Every si for 1 <= i <= k is in wordList. Note that beginWord does not need to be in wordList.\n",
    "sk == endWord\n",
    "Given two words, beginWord and endWord, and a dictionary wordList, return the number of words in the shortest transformation sequence from beginWord to endWord, or 0 if no such sequence exists.\n",
    "\n"
   ]
  },
  {
   "cell_type": "code",
   "execution_count": null,
   "id": "b93b97b1",
   "metadata": {},
   "outputs": [],
   "source": [
    "from collections import defaultdict\n",
    "class Solution(object):\n",
    "    def ladderLength(self, beginWord, endWord, wordList):\n",
    "        \"\"\"\n",
    "        :type beginWord: str\n",
    "        :type endWord: str\n",
    "        :type wordList: List[str]\n",
    "        :rtype: int\n",
    "        \"\"\"\n",
    "\n",
    "        if endWord not in wordList or not endWord or not beginWord or not wordList:\n",
    "            return 0\n",
    "\n",
    "        # Since all words are of same length.\n",
    "        L = len(beginWord)\n",
    "\n",
    "        # Dictionary to hold combination of words that can be formed,\n",
    "        # from any given word. By changing one letter at a time.\n",
    "        all_combo_dict = defaultdict(list)\n",
    "        for word in wordList:\n",
    "            for i in range(L):\n",
    "                # Key is the generic word\n",
    "                # Value is a list of words which have the same intermediate generic word.\n",
    "                all_combo_dict[word[:i] + \"*\" + word[i+1:]].append(word)\n",
    "\n",
    "\n",
    "        # Queue for BFS\n",
    "        queue = collections.deque([(beginWord, 1)])\n",
    "        # Visited to make sure we don't repeat processing same word.\n",
    "        visited = {beginWord: True}\n",
    "        while queue:\n",
    "            current_word, level = queue.popleft()\n",
    "            for i in range(L):\n",
    "                # Intermediate words for current word\n",
    "                intermediate_word = current_word[:i] + \"*\" + current_word[i+1:]\n",
    "\n",
    "                # Next states are all the words which share the same intermediate state.\n",
    "                for word in all_combo_dict[intermediate_word]:\n",
    "                    # If at any point if we find what we are looking for\n",
    "                    # i.e. the end word - we can return with the answer.\n",
    "                    if word == endWord:\n",
    "                        return level + 1\n",
    "                    # Otherwise, add it to the BFS Queue. Also mark it visited\n",
    "                    if word not in visited:\n",
    "                        visited[word] = True\n",
    "                        queue.append((word, level + 1))\n",
    "                all_combo_dict[intermediate_word] = []\n",
    "        return 0"
   ]
  },
  {
   "cell_type": "code",
   "execution_count": null,
   "id": "07f0023f",
   "metadata": {},
   "outputs": [],
   "source": [
    "from collections import defaultdict\n",
    "class Solution(object):\n",
    "    def __init__(self):\n",
    "        self.length = 0\n",
    "        # Dictionary to hold combination of words that can be formed,\n",
    "        # from any given word. By changing one letter at a time.\n",
    "        self.all_combo_dict = defaultdict(list)\n",
    "\n",
    "    def visitWordNode(self, queue, visited, others_visited):\n",
    "        queue_size = len(queue)\n",
    "        for _ in range(queue_size):\n",
    "            current_word = queue.popleft()\n",
    "            for i in range(self.length):\n",
    "                # Intermediate words for current word\n",
    "                intermediate_word = current_word[:i] + \"*\" + current_word[i+1:]\n",
    "\n",
    "                # Next states are all the words which share the same intermediate state.\n",
    "                for word in self.all_combo_dict[intermediate_word]:\n",
    "                    # If the intermediate state/word has already been visited from the\n",
    "                    # other parallel traversal this means we have found the answer.\n",
    "                    if word in others_visited:\n",
    "                        return visited[current_word] + others_visited[word]\n",
    "                    if word not in visited:\n",
    "                        # Save the level as the value of the dictionary, to save number of hops.\n",
    "                        visited[word] = visited[current_word] + 1\n",
    "                        queue.append(word)\n",
    "                        \n",
    "        return None\n",
    "\n",
    "    def ladderLength(self, beginWord, endWord, wordList):\n",
    "        \"\"\"\n",
    "        :type beginWord: str\n",
    "        :type endWord: str\n",
    "        :type wordList: List[str]\n",
    "        :rtype: int\n",
    "        \"\"\"\n",
    "        if endWord not in wordList or not endWord or not beginWord or not wordList:\n",
    "            return 0\n",
    "\n",
    "        # Since all words are of same length.\n",
    "        self.length = len(beginWord)\n",
    "\n",
    "        for word in wordList:\n",
    "            for i in range(self.length):\n",
    "                # Key is the generic word\n",
    "                # Value is a list of words which have the same intermediate generic word.\n",
    "                self.all_combo_dict[word[:i] + \"*\" + word[i+1:]].append(word)\n",
    "\n",
    "        # Queues for birdirectional BFS\n",
    "        queue_begin = collections.deque([beginWord]) # BFS starting from beginWord\n",
    "        queue_end = collections.deque([endWord]) # BFS starting from endWord\n",
    "\n",
    "        # Visited to make sure we don't repeat processing same word\n",
    "        visited_begin = {beginWord : 1}\n",
    "        visited_end = {endWord : 1}\n",
    "        ans = None\n",
    "\n",
    "        # We do a birdirectional search starting one pointer from begin\n",
    "        # word and one pointer from end word. Hopping one by one.\n",
    "        while queue_begin and queue_end:\n",
    "            \n",
    "            # Progress forward one step from the shorter queue\n",
    "            if len(queue_begin) <= len(queue_end):\n",
    "                ans = self.visitWordNode(queue_begin, visited_begin, visited_end)\n",
    "            else:\n",
    "                ans = self.visitWordNode(queue_end, visited_end, visited_begin)\n",
    "            if ans:\n",
    "                return ans\n",
    "\n",
    "        return 0"
   ]
  },
  {
   "cell_type": "markdown",
   "id": "55c2fc68",
   "metadata": {},
   "source": [
    "### [Alien Dictionary](https://leetcode.com/problems/alien-dictionary/)\n",
    "\n",
    "There is a new alien language that uses the English alphabet. However, the order among the letters is unknown to you.\n",
    "\n",
    "You are given a list of strings words from the alien language's dictionary, where the strings in words are sorted lexicographically by the rules of this new language.\n",
    "\n",
    "Return a string of the unique letters in the new alien language sorted in lexicographically increasing order by the new language's rules. If there is no solution, return \"\". If there are multiple solutions, return any of them.\n",
    "\n",
    "A string s is lexicographically smaller than a string t if at the first letter where they differ, the letter in s comes before the letter in t in the alien language. If the first min(s.length, t.length) letters are the same, then s is smaller if and only if s.length < t.length.\n",
    "\n"
   ]
  },
  {
   "cell_type": "code",
   "execution_count": null,
   "id": "7d856929",
   "metadata": {},
   "outputs": [],
   "source": [
    "\n",
    "from collections import defaultdict, Counter, deque\n",
    "\n",
    "def alienOrder(self, words: List[str]) -> str:\n",
    "    \n",
    "    # Step 0: create data structures + the in_degree of each unique letter to 0.\n",
    "    adj_list = defaultdict(set)\n",
    "    in_degree = Counter({c : 0 for word in words for c in word})\n",
    "            \n",
    "    # Step 1: We need to populate adj_list and in_degree.\n",
    "    # For each pair of adjacent words...\n",
    "    for first_word, second_word in zip(words, words[1:]):\n",
    "        for c, d in zip(first_word, second_word):\n",
    "            if c != d:\n",
    "                if d not in adj_list[c]:\n",
    "                    adj_list[c].add(d)\n",
    "                    in_degree[d] += 1\n",
    "                break\n",
    "        else: # Check that second word isn't a prefix of first word.\n",
    "            if len(second_word) < len(first_word): return \"\"\n",
    "    \n",
    "    # Step 2: We need to repeatedly pick off nodes with an indegree of 0.\n",
    "    output = []\n",
    "    queue = deque([c for c in in_degree if in_degree[c] == 0])\n",
    "    while queue:\n",
    "        c = queue.popleft()\n",
    "        output.append(c)\n",
    "        for d in adj_list[c]:\n",
    "            in_degree[d] -= 1\n",
    "            if in_degree[d] == 0:\n",
    "                queue.append(d)\n",
    "                \n",
    "    # If not all letters are in output, that means there was a cycle and so\n",
    "    # no valid ordering. Return \"\" as per the problem description.\n",
    "    if len(output) < len(in_degree):\n",
    "        return \"\"\n",
    "    # Otherwise, convert the ordering we found into a string and return it.\n",
    "    return \"\".join(output)"
   ]
  },
  {
   "cell_type": "code",
   "execution_count": null,
   "id": "aa46e587",
   "metadata": {},
   "outputs": [],
   "source": [
    "\n",
    "def alienOrder(self, words: List[str]) -> str:\n",
    "\n",
    "    # Step 0: Put all unique letters into the adj list.\n",
    "    reverse_adj_list = {c : [] for word in words for c in word}\n",
    "\n",
    "    # Step 1: Find all edges and put them in reverse_adj_list.\n",
    "    for first_word, second_word in zip(words, words[1:]):\n",
    "        for c, d in zip(first_word, second_word):\n",
    "            if c != d: \n",
    "                reverse_adj_list[d].append(c)\n",
    "                break\n",
    "        else: # Check that second word isn't a prefix of first word.\n",
    "            if len(second_word) < len(first_word): \n",
    "                return \"\"\n",
    "\n",
    "    # Step 2: Depth-first search.\n",
    "    seen = {} # False = grey, True = black.\n",
    "    output = []\n",
    "    def visit(node):  # Return True iff there are no cycles.\n",
    "        if node in seen:\n",
    "            return seen[node] # If this node was grey (False), a cycle was detected.\n",
    "        seen[node] = False # Mark node as grey.\n",
    "        for next_node in reverse_adj_list[node]:\n",
    "            result = visit(next_node)\n",
    "            if not result: \n",
    "                return False # Cycle was detected lower down.\n",
    "        seen[node] = True # Mark node as black.\n",
    "        output.append(node)\n",
    "        return True\n",
    "\n",
    "    if not all(visit(node) for node in reverse_adj_list):\n",
    "        return \"\"\n",
    "\n",
    "    return \"\".join(output)"
   ]
  },
  {
   "cell_type": "markdown",
   "id": "addc2e1b",
   "metadata": {},
   "source": []
  },
  {
   "cell_type": "code",
   "execution_count": null,
   "id": "1d2601c1",
   "metadata": {},
   "outputs": [],
   "source": []
  },
  {
   "cell_type": "code",
   "execution_count": null,
   "id": "caae2b89",
   "metadata": {},
   "outputs": [],
   "source": []
  },
  {
   "cell_type": "markdown",
   "id": "6557002a",
   "metadata": {},
   "source": [
    "\n",
    "### longest common prefix\n",
    "Given a array of N strings, find the longest common prefix among all strings present in the array."
   ]
  },
  {
   "cell_type": "code",
   "execution_count": 1,
   "id": "4949864f",
   "metadata": {},
   "outputs": [],
   "source": [
    "\n",
    "# A python3 Program to find the longest \n",
    "# common prefix\n",
    "\n",
    "# A Utility Function to find the common \n",
    "# prefix between strings- str1 and str2\n",
    "def commonPrefixUtil(str1, str2):\n",
    "\n",
    "    result = \"\";\n",
    "    n1 = len(str1)\n",
    "    n2 = len(str2)\n",
    "\n",
    "    # Compare str1 and str2\n",
    "    i = 0\n",
    "    j = 0\n",
    "    while i <= n1 - 1 and j <= n2 - 1:\n",
    "    \n",
    "        if (str1[i] != str2[j]):\n",
    "            break\n",
    "            \n",
    "        result += str1[i]\n",
    "        i += 1\n",
    "        j += 1\n",
    "\n",
    "    return (result)\n",
    "\n",
    "# A Function that returns the longest \n",
    "# common prefix from the array of strings\n",
    "def commonPrefix (arr, n):\n",
    "\n",
    "    prefix = arr[0]\n",
    "\n",
    "    for i in range (1, n):\n",
    "        prefix = commonPrefixUtil(prefix, arr[i])\n",
    "\n",
    "    return (prefix)"
   ]
  },
  {
   "cell_type": "code",
   "execution_count": 2,
   "id": "39455d6a",
   "metadata": {},
   "outputs": [
    {
     "name": "stdout",
     "output_type": "stream",
     "text": [
      "The longest common prefix is - gee\n"
     ]
    }
   ],
   "source": [
    "# Driver Code\n",
    "if __name__ ==\"__main__\":\n",
    "\n",
    "    arr = [\"geeksforgeeks\", \"geeks\",\n",
    "                    \"geek\", \"geezer\"]\n",
    "    n = len(arr)\n",
    "\n",
    "    ans = commonPrefix(arr, n)\n",
    "\n",
    "    if (len(ans)):\n",
    "        print (\"The longest common prefix is -\",\n",
    "                ans);\n",
    "    else:\n",
    "        print(\"There is no common prefix\")\n",
    "\n",
    "# This code is contributed by ita_c\n",
    "\n"
   ]
  },
  {
   "cell_type": "markdown",
   "id": "a56145fa",
   "metadata": {},
   "source": [
    "### Equal point\n",
    "Given a string S of opening and closing brackets '(' and ')' only. The task is to find an equal point. An equal point is an index such that the number of closing brackets on right from that point must be equal to number of opening brackets before that point."
   ]
  },
  {
   "cell_type": "code",
   "execution_count": 3,
   "id": "8a0e336a",
   "metadata": {},
   "outputs": [
    {
     "name": "stdout",
     "output_type": "stream",
     "text": [
      "9\n"
     ]
    }
   ],
   "source": [
    "\n",
    "# Method to find an equal index\n",
    "def findIndex(str):\n",
    "    l = len(str)\n",
    "    open = [0] * (l + 1)\n",
    "    close = [0] * (l + 1)\n",
    "    index = -1\n",
    "    \n",
    "    open[0] = 0\n",
    "    close[l] = 0\n",
    "    if (str[0]=='('):\n",
    "        open[1] = 1\n",
    "    if (str[l - 1] == ')'):\n",
    "        close[l - 1] = 1\n",
    "    \n",
    "    # Store the number of\n",
    "    # opening brackets\n",
    "    # at each index\n",
    "    for i in range(1, l):\n",
    "        if (str[i] == '('):\n",
    "            open[i + 1] = open[i] + 1\n",
    "        else:\n",
    "            open[i + 1] = open[i]\n",
    "    \n",
    "    # Store the number\n",
    "    # of closing brackets\n",
    "    # at each index\n",
    "    for i in range(l - 2, -1, -1):\n",
    "        if ( str[i] == ')'):\n",
    "            close[i] = close[i + 1] + 1\n",
    "        else:\n",
    "            close[i] = close[i + 1]\n",
    "    \n",
    "    # check if there is no \n",
    "    # opening or closing brackets\n",
    "    if (open[l] == 0):\n",
    "        return len\n",
    "    if (close[0] == 0):\n",
    "        return 0\n",
    "    \n",
    "    # check if there is any \n",
    "    # index at which both\n",
    "    # brackets are equal\n",
    "    for i in range(l + 1):\n",
    "        if (open[i] == close[i]):\n",
    "            index = i\n",
    "    \n",
    "    return index\n",
    "    \n",
    "# Driver Code\n",
    "str = \"(()))(()()())))\"\n",
    "print(findIndex(str))\n",
    "\n",
    "# This code is contributed \n",
    "# by ChitraNayal\n",
    "\n"
   ]
  },
  {
   "cell_type": "markdown",
   "id": "77f99d06",
   "metadata": {},
   "source": [
    "### Minimum number of times A has to be repeated such that B is a Substring of it\n",
    "\n",
    "Given two strings A and B. Find minimum number of times A has to be repeated such that B is a Substring of it. If B can never be a substring then return -1."
   ]
  },
  {
   "cell_type": "code",
   "execution_count": null,
   "id": "dce88774",
   "metadata": {},
   "outputs": [],
   "source": [
    "class Solution:\n",
    "    # Function to check if a number  \n",
    "    # is a substring of other or not \n",
    "    def issubstring(self, str2, rep):\n",
    "        if str2 in rep:\n",
    "            return True  # str2 is a Substring of rep\n",
    "        return False     # not a substring\n",
    "    \n",
    "    def minRepeats(self, A, B):\n",
    "        ans = 1\n",
    "        S = A\n",
    "        \n",
    "        while len(S)<len(B):\n",
    "            S += A \n",
    "            ans += 1 \n",
    "            \n",
    "        if self.issubstring(B,S):\n",
    "            return ans \n",
    "        elif self.issubstring(B,S+A):\n",
    "            return ans+1 \n",
    "        else:\n",
    "            return -1"
   ]
  },
  {
   "cell_type": "markdown",
   "id": "4d08d206",
   "metadata": {},
   "source": [
    "4. We are given a binary string containing 1’s and 0’s. Find the maximum length of consecutive 1’s in it."
   ]
  },
  {
   "cell_type": "code",
   "execution_count": 7,
   "id": "0d2e3407",
   "metadata": {},
   "outputs": [
    {
     "name": "stdout",
     "output_type": "stream",
     "text": [
      "4\n"
     ]
    }
   ],
   "source": [
    "# Function to find Maximum length of consecutive 1's in a binary string\n",
    "\n",
    "def maxConsecutive1(input):\n",
    "\t# input.split('0') --> splits all sub-strings of consecutive 1's\n",
    "\t# separated by 0's, output will be like ['11','1111','1','1','111']\n",
    "\t# map(len,input.split('0')) --> map function maps len function on each\n",
    "\t# sub-string of consecutive 1's\n",
    "\t# max() returns maximum element from a list\n",
    "    \n",
    "\tprint(max(map(len,input.split('0'))))\n",
    "\n",
    "# Driver program\n",
    "if __name__ == \"__main__\":\n",
    "\tinput = '11000111101010111'\n",
    "\tmaxConsecutive1(input)\n",
    "\n"
   ]
  },
  {
   "cell_type": "code",
   "execution_count": 12,
   "id": "0ddae93e",
   "metadata": {},
   "outputs": [
    {
     "data": {
      "text/plain": [
       "['11', '', '', '1111', '1', '1', '111']"
      ]
     },
     "execution_count": 12,
     "metadata": {},
     "output_type": "execute_result"
    }
   ],
   "source": [
    "input = '11000111101010111'\n",
    "input.split('0')"
   ]
  },
  {
   "cell_type": "code",
   "execution_count": 11,
   "id": "f4861f6a",
   "metadata": {},
   "outputs": [
    {
     "data": {
      "text/plain": [
       "[2, 0, 0, 4, 1, 1, 3]"
      ]
     },
     "execution_count": 11,
     "metadata": {},
     "output_type": "execute_result"
    }
   ],
   "source": [
    "input = '11000111101010111'\n",
    "list(map(len,input.split('0')))"
   ]
  },
  {
   "cell_type": "code",
   "execution_count": 21,
   "id": "6b7d9074",
   "metadata": {},
   "outputs": [
    {
     "data": {
      "text/plain": [
       "<map at 0x7fa30096e100>"
      ]
     },
     "execution_count": 21,
     "metadata": {},
     "output_type": "execute_result"
    }
   ],
   "source": [
    "map(len,(100,10,1,0))"
   ]
  },
  {
   "cell_type": "markdown",
   "id": "104d35fc",
   "metadata": {},
   "source": [
    "### Print all the common characters in lexicographical order\n",
    "\n",
    "Given two strings, print all the common characters in lexicographical order. If there are no common letters, print -1. All letters are lower case."
   ]
  },
  {
   "cell_type": "code",
   "execution_count": null,
   "id": "b2591e2f",
   "metadata": {},
   "outputs": [],
   "source": [
    "# Function to print common characters of two Strings\n",
    "# in alphabetical order\n",
    "from collections import Counter\n",
    "\n",
    "def common(str1,str2):\n",
    "\t\n",
    "\t# convert both strings into counter dictionary\n",
    "\tdict1 = Counter(str1)\n",
    "\tdict2 = Counter(str2)\n",
    "\n",
    "\t# take intersection of these dictionaries\n",
    "\tcommonDict = dict1 & dict2\n",
    "\n",
    "\tif len(commonDict) == 0:\n",
    "\t\tprint (-1)\n",
    "\t\treturn\n",
    "\n",
    "\t# get a list of common elements\n",
    "\tcommonChars = list(commonDict.elements())\n",
    "\n",
    "\t# sort list in ascending order to print resultant\n",
    "\t# string on alphabetical order\n",
    "\tcommonChars = sorted(commonChars)\n",
    "\n",
    "\t# join characters without space to produce\n",
    "\t# resultant string\n",
    "\tprint (''.join(commonChars))\n",
    "\n",
    "# Driver program\n",
    "if __name__ == \"__main__\":\n",
    "\tstr1 = 'geeks'\n",
    "\tstr2 = 'forgeeks'\n",
    "\tcommon(str1, str2)\n",
    "\n"
   ]
  },
  {
   "cell_type": "markdown",
   "id": "3339c58c",
   "metadata": {},
   "source": [
    "### Make them Anagram\n",
    "Given two strings in lowercase, the task is to make them Anagram. The only allowed operation is to remove a character from any string. Find minimum number of characters to be deleted to make both the strings anagram?\n",
    "If two strings contains same data set in any order then strings are called Anagrams."
   ]
  },
  {
   "cell_type": "code",
   "execution_count": 22,
   "id": "d72738b3",
   "metadata": {},
   "outputs": [
    {
     "name": "stdout",
     "output_type": "stream",
     "text": [
      "3\n"
     ]
    }
   ],
   "source": [
    "# Function remove minimum number of characters so that\n",
    "# two strings become anagram\n",
    "from collections import Counter\n",
    "def removeChars(str1, str2):\n",
    "\n",
    "\t# make dictionaries from both strings\n",
    "\tdict1 = Counter(str1)\n",
    "\tdict2 = Counter(str2)\n",
    "\n",
    "\t# extract keys from dict1 and dict2\n",
    "\tkeys1 = dict1.keys()\n",
    "\tkeys2 = dict2.keys()\n",
    "\n",
    "\t# count number of keys in both lists of keys\n",
    "\tcount1 = len(keys1)\n",
    "\tcount2 = len(keys2)\n",
    "\n",
    "\t# convert list of keys in set to find common keys\n",
    "\tset1 = set(keys1)\n",
    "\tcommonKeys = len(set1.intersection(keys2))\n",
    "\n",
    "\tif (commonKeys == 0):\n",
    "\t\treturn count1 + count2\n",
    "\telse:\n",
    "\t\treturn (max(count1, count2)-commonKeys)\n",
    "\n",
    "# Driver program\n",
    "if __name__ == \"__main__\":\n",
    "\tstr1 ='bcadeh'\n",
    "\tstr2 ='hea'\n",
    "\tprint (removeChars(str1, str2))\n",
    "\n"
   ]
  },
  {
   "cell_type": "markdown",
   "id": "917d93ce",
   "metadata": {},
   "source": [
    "### Groupby to remove consecutive dublicates\n",
    "\n",
    "Group by method takes two input one is iterable (list,tuple,dictionary) and second is key function which calculates keys for each element present in iterable. It returns key and iterable of grouped items. If key function not specified or is None, key defaults to an identity function and returns the element unchanged. For example,"
   ]
  },
  {
   "cell_type": "code",
   "execution_count": 25,
   "id": "b7407b09",
   "metadata": {},
   "outputs": [
    {
     "name": "stdout",
     "output_type": "stream",
     "text": [
      "1 [1, 1, 1]\n",
      "3 [3, 3]\n",
      "2 [2, 2, 2]\n",
      "1 [1, 1]\n"
     ]
    }
   ],
   "source": [
    "numbers = [1, 1, 1, 3, 3, 2, 2, 2, 1, 1]\n",
    "import itertools\n",
    "for (key,group) in itertools.groupby(numbers):\n",
    "\tprint (key,list(group))\n",
    "\n"
   ]
  },
  {
   "cell_type": "code",
   "execution_count": 26,
   "id": "abf6b6a1",
   "metadata": {},
   "outputs": [
    {
     "name": "stdout",
     "output_type": "stream",
     "text": [
      "ab\n"
     ]
    }
   ],
   "source": [
    "# function to remove all consecutive duplicates\n",
    "# from the string in Python\n",
    "\n",
    "from itertools import groupby\n",
    "def removeAllConsecutive(input):\n",
    "\t\n",
    "\t# group all consecutive characters based on their\n",
    "\t# order in string and we are only concerned\n",
    "\t# about first character of each consecutive substring\n",
    "\t# in given string, so key value will work for us\n",
    "\t# and we will join these keys without space to\n",
    "\t# generate resultant string\n",
    "\tresult = []\n",
    "\tfor (key,group) in groupby(input):\n",
    "\t\tresult.append(key)\n",
    "\n",
    "\tprint (''.join(result))\n",
    "\t\n",
    "# Driver program\n",
    "if __name__ == \"__main__\":\n",
    "\tinput = 'aaaaabbbbbb'\n",
    "\tremoveAllConsecutive(input)\n",
    "\n"
   ]
  },
  {
   "cell_type": "markdown",
   "id": "81455762",
   "metadata": {},
   "source": [
    "### Mirror Characters\n",
    "\n",
    "Given a string and a number N, we need to mirror the characters from the N-th position up to the length of the string in alphabetical order. In mirror operation, we change ‘a’ to ‘z’, ‘b’ to ‘y’, and so on.\n"
   ]
  },
  {
   "cell_type": "code",
   "execution_count": 28,
   "id": "a947d7ee",
   "metadata": {},
   "outputs": [
    {
     "data": {
      "text/plain": [
       "{'a': 'z',\n",
       " 'b': 'y',\n",
       " 'c': 'x',\n",
       " 'd': 'w',\n",
       " 'e': 'v',\n",
       " 'f': 'u',\n",
       " 'g': 't',\n",
       " 'h': 's',\n",
       " 'i': 'r',\n",
       " 'j': 'q',\n",
       " 'k': 'p',\n",
       " 'l': 'o',\n",
       " 'm': 'n',\n",
       " 'n': 'm',\n",
       " 'o': 'l',\n",
       " 'p': 'k',\n",
       " 'q': 'j',\n",
       " 'r': 'i',\n",
       " 's': 'h',\n",
       " 't': 'g',\n",
       " 'u': 'f',\n",
       " 'v': 'e',\n",
       " 'w': 'd',\n",
       " 'x': 'c',\n",
       " 'y': 'b',\n",
       " 'z': 'a'}"
      ]
     },
     "execution_count": 28,
     "metadata": {},
     "output_type": "execute_result"
    }
   ],
   "source": [
    "original = 'abcdefghijklmnopqrstuvwxyz'\n",
    "reverse = 'zyxwvutsrqponmlkjihgfedcba'\n",
    "dictChars = dict(zip(original,reverse))\n",
    "dictChars"
   ]
  },
  {
   "cell_type": "code",
   "execution_count": 27,
   "id": "6c4d8c8b",
   "metadata": {},
   "outputs": [
    {
     "name": "stdout",
     "output_type": "stream",
     "text": [
      "paizwlc\n"
     ]
    }
   ],
   "source": [
    "# function to mirror characters of a string\n",
    "\n",
    "def mirrorChars(input,k):\n",
    "\n",
    "\t# create dictionary\n",
    "\toriginal = 'abcdefghijklmnopqrstuvwxyz'\n",
    "\treverse = 'zyxwvutsrqponmlkjihgfedcba'\n",
    "\tdictChars = dict(zip(original,reverse))\n",
    "\n",
    "\t# separate out string after length k to change\n",
    "\t# characters in mirror\n",
    "\tprefix = input[0:k-1]\n",
    "\tsuffix = input[k-1:]\n",
    "\tmirror = ''\n",
    "\n",
    "\t# change into mirror\n",
    "\tfor i in range(0,len(suffix)):\n",
    "\t\tmirror = mirror + dictChars[suffix[i]]\n",
    "\n",
    "\t# concat prefix and mirrored part\n",
    "\tprint (prefix+mirror)\n",
    "\t\t\n",
    "# Driver program\n",
    "if __name__ == \"__main__\":\n",
    "\tinput = 'paradox'\n",
    "\tk = 3\n",
    "\tmirrorChars(input,k)\n",
    "\n"
   ]
  },
  {
   "cell_type": "markdown",
   "id": "192dd6a3",
   "metadata": {},
   "source": [
    "### Given a string S, c1 and c2. Replace character c1 with c2 and c2 with c1."
   ]
  },
  {
   "cell_type": "code",
   "execution_count": 29,
   "id": "64523912",
   "metadata": {},
   "outputs": [
    {
     "name": "stdout",
     "output_type": "stream",
     "text": [
      "geeksforgeeks\n"
     ]
    }
   ],
   "source": [
    "# Function to replace a character c1 with c2\n",
    "# and c2 with c1 in a string S\n",
    "\n",
    "def replaceChars(input,c1,c2):\n",
    "\n",
    "\t# create lambda to replace c1 with c2, c2\n",
    "\t# with c1 and other will remain same\n",
    "\t# expression will be like \"lambda x:\n",
    "\t# x if (x!=c1 and x!=c2) else c1 if (x==c2) else c2\"\n",
    "\t# and map it onto each character of string\n",
    "    \n",
    "\tnewChars = map(lambda x: x if (x!=c1 and x!=c2) else \\\n",
    "\t\t\t\tc1 if (x==c2) else c2,input)\n",
    "\n",
    "\t# now join each character without space\n",
    "\t# to print resultant string\n",
    "\tprint (''.join(newChars))\n",
    "\n",
    "# Driver program\n",
    "if __name__ == \"__main__\":\n",
    "\tinput = 'grrksfoegrrks'\n",
    "\tc1 = 'e'\n",
    "\tc2 = 'r'\n",
    "\treplaceChars(input,c1,c2)\n",
    "\n"
   ]
  },
  {
   "cell_type": "code",
   "execution_count": null,
   "id": "4d0b569a",
   "metadata": {},
   "outputs": [],
   "source": []
  }
 ],
 "metadata": {
  "kernelspec": {
   "display_name": "Python 3",
   "language": "python",
   "name": "python3"
  },
  "language_info": {
   "codemirror_mode": {
    "name": "ipython",
    "version": 3
   },
   "file_extension": ".py",
   "mimetype": "text/x-python",
   "name": "python",
   "nbconvert_exporter": "python",
   "pygments_lexer": "ipython3",
   "version": "3.8.8"
  }
 },
 "nbformat": 4,
 "nbformat_minor": 5
}
