{
 "cells": [
  {
   "cell_type": "markdown",
   "id": "713cd6e0",
   "metadata": {},
   "source": [
    "## Strings (Intro)"
   ]
  },
  {
   "cell_type": "markdown",
   "id": "248552c5",
   "metadata": {},
   "source": [
    "### [Reverse a string](https://leetcode.com/problems/reverse-string/)\n",
    "\n",
    "Write a function that reverses a string. The input string is given as an array of characters s.\n",
    "\n",
    "You must do this by modifying the input array in-place with O(1) extra memory."
   ]
  },
  {
   "cell_type": "code",
   "execution_count": 4,
   "id": "7aabe620",
   "metadata": {},
   "outputs": [],
   "source": [
    "class Solution:\n",
    "    def reverseString(self, s):\n",
    "        s.reverse()"
   ]
  },
  {
   "cell_type": "code",
   "execution_count": 5,
   "id": "749ed360",
   "metadata": {},
   "outputs": [],
   "source": [
    "class Solution:\n",
    "    def reverseString(self, s):\n",
    "        def helper(left, right):\n",
    "            if left < right:\n",
    "                s[left], s[right] = s[right], s[left]\n",
    "                helper(left + 1, right - 1)\n",
    "\n",
    "        helper(0, len(s) - 1)"
   ]
  },
  {
   "cell_type": "code",
   "execution_count": 6,
   "id": "9847bbf4",
   "metadata": {},
   "outputs": [],
   "source": [
    "class Solution:\n",
    "    def reverseString(self, s):\n",
    "        left, right = 0, len(s) - 1\n",
    "        while left < right:\n",
    "            s[left], s[right] = s[right], s[left]\n",
    "            left, right = left + 1, right - 1"
   ]
  },
  {
   "cell_type": "markdown",
   "id": "9048c65b",
   "metadata": {},
   "source": [
    "### [Valid Palindrome](https://leetcode.com/problems/valid-palindrome/)\n",
    "\n",
    "A phrase is a palindrome if, after converting all uppercase letters into lowercase letters and removing all non-alphanumeric characters, it reads the same forward and backward. Alphanumeric characters include letters and numbers.\n",
    "\n",
    "Given a string s, return true if it is a palindrome, or false otherwise."
   ]
  },
  {
   "cell_type": "code",
   "execution_count": null,
   "id": "287e5313",
   "metadata": {},
   "outputs": [],
   "source": [
    "class Solution:\n",
    "    def isPalindrome(self, s: str) -> bool:\n",
    "\n",
    "        filtered_chars = filter(lambda ch: ch.isalnum(), s)\n",
    "        lowercase_filtered_chars = map(lambda ch: ch.lower(), filtered_chars)\n",
    "\n",
    "        filtered_chars_list = list(lowercase_filtered_chars)\n",
    "        reversed_chars_list = filtered_chars_list[::-1]\n",
    "\n",
    "        return filtered_chars_list == reversed_chars_list\n",
    "\n"
   ]
  },
  {
   "cell_type": "code",
   "execution_count": null,
   "id": "b82a951d",
   "metadata": {},
   "outputs": [],
   "source": [
    "class Solution:\n",
    "    def isPalindrome(self, s: str) -> bool:\n",
    "\n",
    "        i, j = 0, len(s) - 1\n",
    "\n",
    "        while i < j:\n",
    "            while i < j and not s[i].isalnum():\n",
    "                i += 1\n",
    "            while i < j and not s[j].isalnum():\n",
    "                j -= 1\n",
    "\n",
    "            if s[i].lower() != s[j].lower():\n",
    "                return False\n",
    "\n",
    "            i += 1\n",
    "            j -= 1\n",
    "\n",
    "        return True"
   ]
  },
  {
   "cell_type": "markdown",
   "id": "ac1b8dbb",
   "metadata": {},
   "source": [
    "### [Longest Palindrome]()\n",
    "\n",
    "Given a string s which consists of lowercase or uppercase letters, return the length of the longest palindrome that can be built with those letters.\n",
    "\n",
    "Letters are case sensitive, for example, \"Aa\" is not considered a palindrome here.\n",
    "\n"
   ]
  },
  {
   "cell_type": "code",
   "execution_count": 7,
   "id": "2bf8e379",
   "metadata": {},
   "outputs": [],
   "source": [
    "class Solution:\n",
    "    def longestPalindrome(self, s):\n",
    "        ans = 0\n",
    "        for v in collections.Counter(s).itervalues():\n",
    "            ans += v / 2 * 2\n",
    "            if ans % 2 == 0 and v % 2 == 1:\n",
    "                ans += 1\n",
    "        return ans"
   ]
  },
  {
   "cell_type": "markdown",
   "id": "9ab46591",
   "metadata": {},
   "source": [
    "### [Palindromic Substrings](https://leetcode.com/problems/palindromic-substrings/)\n",
    "\n",
    "Given a string s, return the number of palindromic substrings in it.\n",
    "\n",
    "A string is a palindrome when it reads the same backward as forward.\n",
    "\n",
    "A substring is a contiguous sequence of characters within the string.\n",
    "\n"
   ]
  },
  {
   "cell_type": "code",
   "execution_count": null,
   "id": "d529cc9f",
   "metadata": {},
   "outputs": [],
   "source": [
    "def countSubstrings(self, s: str) -> int:\n",
    "      \n",
    "        if not s: return None\n",
    "        n = len(s)\n",
    "        dp = [[False]*n for _ in range(n)]\n",
    "        ans = 0\n",
    "       \n",
    "        for i in reversed(range(n)): # bc dp[i][j] depends on dp[i+1][j], so check larger i first\n",
    "            for j in range(i, n):\n",
    "                if j - i < 2 and s[i] == s[j]:\n",
    "                    dp[i][j] = True\n",
    "                    ans += 1\n",
    "                elif dp[i+1][j-1] and s[i] == s[j]:\n",
    "                    dp[i][j] = True\n",
    "                    ans += 1\n",
    "        \n",
    "        return ans"
   ]
  },
  {
   "cell_type": "markdown",
   "id": "6031ef0c",
   "metadata": {},
   "source": [
    "### [Longest Palindromic Substring](https://leetcode.com/problems/longest-palindromic-substring/)\n",
    "\n",
    "Given a string s, return the longest palindromic substring in s."
   ]
  },
  {
   "cell_type": "code",
   "execution_count": null,
   "id": "28c6b091",
   "metadata": {},
   "outputs": [],
   "source": [
    "class Solution:\n",
    "    def longestPalindrome(self, s: str) -> str:\n",
    "        m = ''  # Memory to remember a palindrome\n",
    "        for i in range(len(s)):  # i = start, O = n\n",
    "            for j in range(len(s), i, -1):  # j = end, O = n^2\n",
    "                if len(m) >= j-i:  # To reduce time\n",
    "                    break\n",
    "                elif s[i:j] == s[i:j][::-1]:\n",
    "                    m = s[i:j]\n",
    "                    break\n",
    "        return m"
   ]
  },
  {
   "cell_type": "markdown",
   "id": "03c579f7",
   "metadata": {},
   "source": [
    "### [Valid Anagram](https://leetcode.com/problems/valid-anagram/solution/)\n",
    "\n",
    "Given two strings s and t, return true if t is an anagram of s, and false otherwise.\n",
    "\n",
    "An Anagram is a word or phrase formed by rearranging the letters of a different word or phrase, typically using all the original letters exactly once."
   ]
  },
  {
   "cell_type": "code",
   "execution_count": 1,
   "id": "339e7a75",
   "metadata": {},
   "outputs": [],
   "source": [
    "def are_anagram(s1, s2):\n",
    "    if len(s1)!=len(s2):\n",
    "        return False\n",
    "    \n",
    "    freq1 = {}\n",
    "    freq2 = {}\n",
    "    \n",
    "    for ch in s2:# n*O(1)\n",
    "        if ch in freq1:\n",
    "            freq1[ch] +=1\n",
    "        else:\n",
    "            freq1[ch] =1\n",
    "            \n",
    "    for ch in s2:# n*O(1)\n",
    "        if ch in freq2:\n",
    "            freq2[ch] +=1\n",
    "        else:\n",
    "            freq2[ch] = 1\n",
    "            \n",
    "    for key in freq1: # n*O(1)\n",
    "        if key not in freq2 or freq1[key] !=freq2[key]:\n",
    "            return False\n",
    "    return True\n",
    "        \n",
    "# O(n) + O(n) + O(n) = O(n)"
   ]
  },
  {
   "cell_type": "code",
   "execution_count": 2,
   "id": "1c0c23e5",
   "metadata": {},
   "outputs": [],
   "source": [
    "import collections\n",
    "def are_anagram(s1,s2):\n",
    "    if len(s1) != len(s2):\n",
    "        return Fales\n",
    "    return collections.Counter(s1) == collections.Counter(s2)"
   ]
  },
  {
   "cell_type": "code",
   "execution_count": 3,
   "id": "1c721166",
   "metadata": {},
   "outputs": [],
   "source": [
    "def are_anagram(s1,s2):\n",
    "    if len(s1) != len(s2):\n",
    "        return Fales\n",
    "    #     O(nlogn) + O(n) + O(nlogn) = O(nlogn)\n",
    "    return sorted(s1) == sorted(s2)\n",
    "    "
   ]
  },
  {
   "cell_type": "markdown",
   "id": "8690a98f",
   "metadata": {},
   "source": [
    "### [Longest Substring Without Repeating Characters](https://leetcode.com/problems/longest-substring-without-repeating-characters/solution/)\n",
    "\n",
    "Given a string s, find the length of the longest substring without repeating characters.\n",
    "\n"
   ]
  },
  {
   "cell_type": "code",
   "execution_count": null,
   "id": "54245d57",
   "metadata": {},
   "outputs": [],
   "source": [
    "class Solution:\n",
    "    def lengthOfLongestSubstring(self, s: str) -> int:\n",
    "        def check(start, end):\n",
    "            chars = [0] * 128\n",
    "            for i in range(start, end + 1):\n",
    "                c = s[i]\n",
    "                chars[ord(c)] += 1\n",
    "                if chars[ord(c)] > 1:\n",
    "                    return False\n",
    "            return True\n",
    "\n",
    "        n = len(s)\n",
    "\n",
    "        res = 0\n",
    "        for i in range(n):\n",
    "            for j in range(i, n):\n",
    "                if check(i, j):\n",
    "                    res = max(res, j - i + 1)\n",
    "        return res"
   ]
  },
  {
   "cell_type": "code",
   "execution_count": null,
   "id": "af45dac4",
   "metadata": {},
   "outputs": [],
   "source": [
    "class Solution:\n",
    "    def lengthOfLongestSubstring(self, s: str) -> int:\n",
    "        chars = [0] * 128\n",
    "\n",
    "        left = right = 0\n",
    "\n",
    "        res = 0\n",
    "        while right < len(s):\n",
    "            r = s[right]\n",
    "            chars[ord(r)] += 1\n",
    "\n",
    "            while chars[ord(r)] > 1:\n",
    "                l = s[left]\n",
    "                chars[ord(l)] -= 1\n",
    "                left += 1\n",
    "\n",
    "            res = max(res, right - left + 1)\n",
    "\n",
    "            right += 1\n",
    "        return res"
   ]
  },
  {
   "cell_type": "code",
   "execution_count": null,
   "id": "c4e429ce",
   "metadata": {},
   "outputs": [],
   "source": [
    "class Solution:\n",
    "    def lengthOfLongestSubstring(self, s: str) -> int:\n",
    "        n = len(s)\n",
    "        ans = 0\n",
    "        # mp stores the current index of a character\n",
    "        mp = {}\n",
    "\n",
    "        i = 0\n",
    "        # try to extend the range [i, j]\n",
    "        for j in range(n):\n",
    "            if s[j] in mp:\n",
    "                i = max(mp[s[j]], i)\n",
    "\n",
    "            ans = max(ans, j - i + 1)\n",
    "            mp[s[j]] = j + 1\n",
    "\n",
    "        return ans"
   ]
  },
  {
   "cell_type": "code",
   "execution_count": null,
   "id": "d81c3b0b",
   "metadata": {},
   "outputs": [],
   "source": [
    "class Solution:\n",
    "    def lengthOfLongestSubstring(self, s: str) -> int:\n",
    "        chars = [None] * 128\n",
    "\n",
    "        left = right = 0\n",
    "\n",
    "        res = 0\n",
    "        while right < len(s):\n",
    "            r = s[right]\n",
    "\n",
    "            index = chars[ord(r)]\n",
    "            if index != None and index >= left and index < right:\n",
    "                left = index + 1\n",
    "\n",
    "            res = max(res, right - left + 1)\n",
    "\n",
    "            chars[ord(r)] = right\n",
    "            right += 1\n",
    "        return res"
   ]
  },
  {
   "cell_type": "markdown",
   "id": "a3ee851c",
   "metadata": {},
   "source": [
    "### [Valid Parentheses](https://leetcode.com/problems/valid-parentheses/)\n",
    "\n",
    "Given a string s containing just the characters '(', ')', '{', '}', '[' and ']', determine if the input string is valid.\n",
    "\n",
    "An input string is valid if:\n",
    "\n",
    "Open brackets must be closed by the same type of brackets.\n",
    "Open brackets must be closed in the correct order."
   ]
  },
  {
   "cell_type": "code",
   "execution_count": null,
   "id": "c2287a35",
   "metadata": {},
   "outputs": [],
   "source": [
    "class Solution(object):\n",
    "    def isValid(self, s):\n",
    "        \"\"\"\n",
    "        :type s: str\n",
    "        :rtype: bool\n",
    "        \"\"\"\n",
    "\n",
    "        # The stack to keep track of opening brackets.\n",
    "        stack = []\n",
    "\n",
    "        # Hash map for keeping track of mappings. This keeps the code very clean.\n",
    "        # Also makes adding more types of parenthesis easier\n",
    "        mapping = {\")\": \"(\", \"}\": \"{\", \"]\": \"[\"}\n",
    "\n",
    "        # For every bracket in the expression.\n",
    "        for char in s:\n",
    "\n",
    "            # If the character is an closing bracket\n",
    "            if char in mapping:\n",
    "\n",
    "                # Pop the topmost element from the stack, if it is non empty\n",
    "                # Otherwise assign a dummy value of '#' to the top_element variable\n",
    "                top_element = stack.pop() if stack else '#'\n",
    "\n",
    "                # The mapping for the opening bracket in our hash and the top\n",
    "                # element of the stack don't match, return False\n",
    "                if mapping[char] != top_element:\n",
    "                    return False\n",
    "            else:\n",
    "                # We have an opening bracket, simply push it onto the stack.\n",
    "                stack.append(char)\n",
    "\n",
    "        # In the end, if the stack is empty, then we have a valid expression.\n",
    "        # The stack won't be empty for cases like ((()\n",
    "        return not stack"
   ]
  },
  {
   "cell_type": "markdown",
   "id": "b2609829",
   "metadata": {},
   "source": [
    "### [Generate Parentheses](https://leetcode.com/problems/generate-parentheses/)\n",
    "\n",
    "Given n pairs of parentheses, write a function to generate all combinations of well-formed parentheses.\n",
    "\n",
    " "
   ]
  },
  {
   "cell_type": "code",
   "execution_count": null,
   "id": "39fb9090",
   "metadata": {},
   "outputs": [],
   "source": [
    "class Solution:\n",
    "    def generateParenthesis(self, n: int) -> List[str]:\n",
    "        ans = []\n",
    "        def backtrack(S = [], left = 0, right = 0):\n",
    "            if len(S) == 2 * n:\n",
    "                ans.append(\"\".join(S))\n",
    "                return\n",
    "            if left < n:\n",
    "                S.append(\"(\")\n",
    "                backtrack(S, left+1, right)\n",
    "                S.pop()\n",
    "            if right < left:\n",
    "                S.append(\")\")\n",
    "                backtrack(S, left, right+1)\n",
    "                S.pop()\n",
    "        backtrack()\n",
    "        return ans"
   ]
  },
  {
   "cell_type": "code",
   "execution_count": null,
   "id": "7e7ebc3d",
   "metadata": {},
   "outputs": [],
   "source": [
    "class Solution(object):\n",
    "    def generateParenthesis(self, N):\n",
    "        if N == 0: return ['']\n",
    "        ans = []\n",
    "        for c in xrange(N):\n",
    "            for left in self.generateParenthesis(c):\n",
    "                for right in self.generateParenthesis(N-1-c):\n",
    "                    ans.append('({}){}'.format(left, right))\n",
    "        return ans"
   ]
  },
  {
   "cell_type": "code",
   "execution_count": null,
   "id": "cac76365",
   "metadata": {},
   "outputs": [],
   "source": []
  },
  {
   "cell_type": "code",
   "execution_count": null,
   "id": "5c4a1e7d",
   "metadata": {},
   "outputs": [],
   "source": []
  },
  {
   "cell_type": "code",
   "execution_count": null,
   "id": "e19c3ab0",
   "metadata": {},
   "outputs": [],
   "source": []
  },
  {
   "cell_type": "code",
   "execution_count": null,
   "id": "64ce6991",
   "metadata": {},
   "outputs": [],
   "source": []
  },
  {
   "cell_type": "code",
   "execution_count": null,
   "id": "7c4a17db",
   "metadata": {},
   "outputs": [],
   "source": []
  },
  {
   "cell_type": "code",
   "execution_count": null,
   "id": "aaa2621e",
   "metadata": {},
   "outputs": [],
   "source": []
  },
  {
   "cell_type": "code",
   "execution_count": null,
   "id": "1573356e",
   "metadata": {},
   "outputs": [],
   "source": []
  },
  {
   "cell_type": "code",
   "execution_count": null,
   "id": "49cc6125",
   "metadata": {},
   "outputs": [],
   "source": []
  },
  {
   "cell_type": "code",
   "execution_count": null,
   "id": "2296b89c",
   "metadata": {},
   "outputs": [],
   "source": []
  },
  {
   "cell_type": "code",
   "execution_count": null,
   "id": "f74be047",
   "metadata": {},
   "outputs": [],
   "source": []
  },
  {
   "cell_type": "code",
   "execution_count": null,
   "id": "c82ebc39",
   "metadata": {},
   "outputs": [],
   "source": []
  },
  {
   "cell_type": "code",
   "execution_count": null,
   "id": "7f3d16c3",
   "metadata": {},
   "outputs": [],
   "source": []
  },
  {
   "cell_type": "code",
   "execution_count": null,
   "id": "7ef0fb3a",
   "metadata": {},
   "outputs": [],
   "source": []
  },
  {
   "cell_type": "code",
   "execution_count": null,
   "id": "f27ce986",
   "metadata": {},
   "outputs": [],
   "source": []
  },
  {
   "cell_type": "code",
   "execution_count": null,
   "id": "b07107bc",
   "metadata": {},
   "outputs": [],
   "source": []
  }
 ],
 "metadata": {
  "kernelspec": {
   "display_name": "Python 3",
   "language": "python",
   "name": "python3"
  },
  "language_info": {
   "codemirror_mode": {
    "name": "ipython",
    "version": 3
   },
   "file_extension": ".py",
   "mimetype": "text/x-python",
   "name": "python",
   "nbconvert_exporter": "python",
   "pygments_lexer": "ipython3",
   "version": "3.8.8"
  }
 },
 "nbformat": 4,
 "nbformat_minor": 5
}
