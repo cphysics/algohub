{
 "cells": [
  {
   "cell_type": "markdown",
   "id": "baa11699",
   "metadata": {},
   "source": [
    "## String (Medium)"
   ]
  },
  {
   "cell_type": "markdown",
   "id": "5cf6dc9d",
   "metadata": {},
   "source": [
    "### [Minimum Remove to Make Valid Parentheses](https://leetcode.com/problems/minimum-remove-to-make-valid-parentheses/)\n",
    "\n",
    "Given a string s of '(' , ')' and lowercase English characters.\n",
    "\n",
    "Your task is to remove the minimum number of parentheses ( '(' or ')', in any positions ) so that the resulting parentheses string is valid and return any valid string.\n",
    "\n",
    "Formally, a parentheses string is valid if and only if:\n",
    "\n",
    "It is the empty string, contains only lowercase characters, or\n",
    "It can be written as AB (A concatenated with B), where A and B are valid strings, or\n",
    "It can be written as (A), where A is a valid string.\n"
   ]
  },
  {
   "cell_type": "code",
   "execution_count": null,
   "id": "388a8f81",
   "metadata": {},
   "outputs": [],
   "source": [
    "class Solution:\n",
    "    def minRemoveToMakeValid(self, s: str) -> str:\n",
    "        indexes_to_remove = set()\n",
    "        stack = []\n",
    "        for i, c in enumerate(s):\n",
    "            if c not in \"()\":\n",
    "                continue\n",
    "            if c == \"(\":\n",
    "                stack.append(i)\n",
    "            elif not stack:\n",
    "                indexes_to_remove.add(i)\n",
    "            else:\n",
    "                stack.pop()\n",
    "        indexes_to_remove = indexes_to_remove.union(set(stack))\n",
    "        string_builder = []\n",
    "        for i, c in enumerate(s):\n",
    "            if i not in indexes_to_remove:\n",
    "                string_builder.append(c)\n",
    "        return \"\".join(string_builder)"
   ]
  },
  {
   "cell_type": "code",
   "execution_count": null,
   "id": "09fa283d",
   "metadata": {},
   "outputs": [],
   "source": [
    "class Solution:\n",
    "    def minRemoveToMakeValid(self, s: str) -> str:\n",
    "\n",
    "        def delete_invalid_closing(string, open_symbol, close_symbol):\n",
    "            sb = []\n",
    "            balance = 0\n",
    "            for c in string:\n",
    "                if c == open_symbol:\n",
    "                    balance += 1\n",
    "                if c == close_symbol:\n",
    "                    if balance == 0:\n",
    "                        continue\n",
    "                    balance -= 1\n",
    "                sb.append(c)\n",
    "            return \"\".join(sb)\n",
    "\n",
    "        # Note that s[::-1] gets the reverse of s.\n",
    "        s = delete_invalid_closing(s, \"(\", \")\")\n",
    "        s = delete_invalid_closing(s[::-1], \")\", \"(\")\n",
    "        return s[::-1]"
   ]
  },
  {
   "cell_type": "code",
   "execution_count": null,
   "id": "15785af0",
   "metadata": {},
   "outputs": [],
   "source": [
    "class Solution:\n",
    "    def minRemoveToMakeValid(self, s: str) -> str:\n",
    "        # Pass 1: Remove all invalid \")\"\n",
    "        first_pass_chars = []\n",
    "        balance = 0\n",
    "        open_seen = 0\n",
    "        for c in s:\n",
    "            if c == \"(\":\n",
    "                balance += 1\n",
    "                open_seen += 1\n",
    "            if c == \")\":\n",
    "                if balance == 0:\n",
    "                    continue\n",
    "                balance -= 1\n",
    "            first_pass_chars.append(c)\n",
    "\n",
    "        # Pass 2: Remove the rightmost \"(\"\n",
    "        result = []\n",
    "        open_to_keep = open_seen - balance\n",
    "        for c in first_pass_chars:\n",
    "            if c == \"(\":\n",
    "                open_to_keep -= 1\n",
    "                if open_to_keep < 0:\n",
    "                    continue\n",
    "            result.append(c)\n",
    "\n",
    "        return \"\".join(result)"
   ]
  },
  {
   "cell_type": "code",
   "execution_count": null,
   "id": "29716595",
   "metadata": {},
   "outputs": [],
   "source": []
  },
  {
   "cell_type": "code",
   "execution_count": null,
   "id": "7a621c2f",
   "metadata": {},
   "outputs": [],
   "source": []
  },
  {
   "cell_type": "code",
   "execution_count": null,
   "id": "b93e718f",
   "metadata": {},
   "outputs": [],
   "source": []
  },
  {
   "cell_type": "code",
   "execution_count": null,
   "id": "7bda793f",
   "metadata": {},
   "outputs": [],
   "source": []
  },
  {
   "cell_type": "code",
   "execution_count": null,
   "id": "84034042",
   "metadata": {},
   "outputs": [],
   "source": []
  },
  {
   "cell_type": "code",
   "execution_count": null,
   "id": "24afcc14",
   "metadata": {},
   "outputs": [],
   "source": []
  },
  {
   "cell_type": "code",
   "execution_count": null,
   "id": "c54c8e07",
   "metadata": {},
   "outputs": [],
   "source": []
  },
  {
   "cell_type": "code",
   "execution_count": null,
   "id": "129ba5ef",
   "metadata": {},
   "outputs": [],
   "source": []
  },
  {
   "cell_type": "code",
   "execution_count": null,
   "id": "fcfd31c5",
   "metadata": {},
   "outputs": [],
   "source": []
  },
  {
   "cell_type": "code",
   "execution_count": null,
   "id": "50e08063",
   "metadata": {},
   "outputs": [],
   "source": []
  },
  {
   "cell_type": "code",
   "execution_count": null,
   "id": "84d49d92",
   "metadata": {},
   "outputs": [],
   "source": []
  },
  {
   "cell_type": "code",
   "execution_count": null,
   "id": "9cbc377a",
   "metadata": {},
   "outputs": [],
   "source": []
  },
  {
   "cell_type": "code",
   "execution_count": null,
   "id": "c03c91ba",
   "metadata": {},
   "outputs": [],
   "source": []
  },
  {
   "cell_type": "code",
   "execution_count": null,
   "id": "b36fc2bd",
   "metadata": {},
   "outputs": [],
   "source": []
  },
  {
   "cell_type": "code",
   "execution_count": null,
   "id": "74f11f27",
   "metadata": {},
   "outputs": [],
   "source": []
  },
  {
   "cell_type": "code",
   "execution_count": null,
   "id": "64c5ff0c",
   "metadata": {},
   "outputs": [],
   "source": []
  },
  {
   "cell_type": "code",
   "execution_count": null,
   "id": "fd9f89a8",
   "metadata": {},
   "outputs": [],
   "source": []
  },
  {
   "cell_type": "code",
   "execution_count": null,
   "id": "c5556f9f",
   "metadata": {},
   "outputs": [],
   "source": []
  },
  {
   "cell_type": "code",
   "execution_count": null,
   "id": "6b21a965",
   "metadata": {},
   "outputs": [],
   "source": []
  },
  {
   "cell_type": "code",
   "execution_count": null,
   "id": "71b77782",
   "metadata": {},
   "outputs": [],
   "source": []
  }
 ],
 "metadata": {
  "kernelspec": {
   "display_name": "Python 3",
   "language": "python",
   "name": "python3"
  },
  "language_info": {
   "codemirror_mode": {
    "name": "ipython",
    "version": 3
   },
   "file_extension": ".py",
   "mimetype": "text/x-python",
   "name": "python",
   "nbconvert_exporter": "python",
   "pygments_lexer": "ipython3",
   "version": "3.8.8"
  }
 },
 "nbformat": 4,
 "nbformat_minor": 5
}
