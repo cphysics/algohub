{
 "cells": [
  {
   "cell_type": "markdown",
   "metadata": {},
   "source": [
    "### 716. Max Stack\n",
    "\n",
    "Design a max stack that supports push, pop, top, peekMax and popMax.\n",
    "\n",
    "    push(x) -- Push element x onto stack.\n",
    "    pop() -- Remove the element on top of the stack and return it.\n",
    "    top() -- Get the element on the top.\n",
    "    peekMax() -- Retrieve the maximum element in the stack.\n",
    "    popMax() -- Retrieve the maximum element in the stack, and remove it. If you find more than one maximum elements, only remove the top-most one."
   ]
  },
  {
   "cell_type": "code",
   "execution_count": 31,
   "metadata": {},
   "outputs": [],
   "source": [
    "class MaxStack(list):\n",
    "    def push(self, x):\n",
    "        m = max(x, self[-1][1] if self else None)\n",
    "        self.append((x, m))\n",
    "\n",
    "    def pop(self):\n",
    "        return list.pop(self)[0]\n",
    "\n",
    "    def top(self):\n",
    "        return self[-1][0]\n",
    "\n",
    "    def peekMax(self):\n",
    "        return self[-1][1]\n",
    "\n",
    "    def popMax(self):\n",
    "        m = self[-1][1]\n",
    "        b = []\n",
    "        while self[-1][0] != m:\n",
    "            b.append(self.pop())\n",
    "\n",
    "        self.pop()\n",
    "        map(self.push, reversed(b))\n",
    "        return m"
   ]
  },
  {
   "cell_type": "code",
   "execution_count": null,
   "metadata": {},
   "outputs": [],
   "source": []
  },
  {
   "cell_type": "code",
   "execution_count": null,
   "metadata": {},
   "outputs": [],
   "source": []
  },
  {
   "cell_type": "code",
   "execution_count": null,
   "metadata": {},
   "outputs": [],
   "source": []
  },
  {
   "cell_type": "code",
   "execution_count": null,
   "metadata": {},
   "outputs": [],
   "source": []
  },
  {
   "cell_type": "code",
   "execution_count": null,
   "metadata": {},
   "outputs": [],
   "source": []
  }
 ],
 "metadata": {
  "kernelspec": {
   "display_name": "Python 3",
   "language": "python",
   "name": "python3"
  },
  "language_info": {
   "codemirror_mode": {
    "name": "ipython",
    "version": 3
   },
   "file_extension": ".py",
   "mimetype": "text/x-python",
   "name": "python",
   "nbconvert_exporter": "python",
   "pygments_lexer": "ipython3",
   "version": "3.7.6"
  }
 },
 "nbformat": 4,
 "nbformat_minor": 2
}
