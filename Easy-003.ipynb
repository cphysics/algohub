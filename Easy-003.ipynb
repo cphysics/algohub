{
 "cells": [
  {
   "cell_type": "markdown",
   "id": "cd203bd4",
   "metadata": {},
   "source": [
    "## EASY"
   ]
  },
  {
   "cell_type": "markdown",
   "id": "77131fd1",
   "metadata": {},
   "source": [
    "### 217. Contains Duplicate"
   ]
  },
  {
   "cell_type": "code",
   "execution_count": null,
   "id": "6adc854d",
   "metadata": {},
   "outputs": [],
   "source": [
    "class Solution(object):\n",
    "    def containsDuplicate(self, nums):\n",
    "        \"\"\"\n",
    "        :type nums: List[int]\n",
    "        :rtype: bool\n",
    "        \"\"\"\n",
    "        return True if len(set(nums)) < len(nums) else False"
   ]
  },
  {
   "cell_type": "markdown",
   "id": "3007bff9",
   "metadata": {},
   "source": [
    "### 268. Missing Number"
   ]
  },
  {
   "cell_type": "code",
   "execution_count": null,
   "id": "490949b1",
   "metadata": {},
   "outputs": [],
   "source": [
    "class Solution:\n",
    "    def missingNumber(self, nums):\n",
    "        num_set = set(nums)\n",
    "        n = len(nums) + 1\n",
    "        for number in range(n):\n",
    "            if number not in num_set:\n",
    "                return number"
   ]
  },
  {
   "cell_type": "markdown",
   "id": "dbdb6e48",
   "metadata": {},
   "source": [
    "### 448. Find All Numbers Disappeared in an Array"
   ]
  },
  {
   "cell_type": "markdown",
   "id": "e2b69df2",
   "metadata": {},
   "source": [
    "Given an array nums of n integers where nums[i] is in the range [1, n], return an array of all the integers in the range [1, n] that do not appear in nums.\n",
    "\n"
   ]
  },
  {
   "cell_type": "code",
   "execution_count": 1,
   "id": "e0514530",
   "metadata": {},
   "outputs": [],
   "source": [
    "class Solution(object):\n",
    "    def findDisappearedNumbers(self, nums):\n",
    "        \"\"\"\n",
    "        :type nums: List[int]\n",
    "        :rtype: List[int]\n",
    "        \"\"\"\n",
    "        \n",
    "        # Hash table for keeping track of the numbers in the array\n",
    "        # Note that we can also use a set here since we are not \n",
    "        # really concerned with the frequency of numbers.\n",
    "        hash_table = {}\n",
    "        \n",
    "        # Add each of the numbers to the hash table\n",
    "        for num in nums:\n",
    "            hash_table[num] = 1\n",
    "        \n",
    "        # Response array that would contain the missing numbers\n",
    "        result = []    \n",
    "        \n",
    "        # Iterate over the numbers from 1 to N and add all those\n",
    "        # that don't appear in the hash table. \n",
    "        for num in range(1, len(nums) + 1):\n",
    "            if num not in hash_table:\n",
    "                result.append(num)\n",
    "                \n",
    "        return result        "
   ]
  },
  {
   "cell_type": "markdown",
   "id": "2fb59eb4",
   "metadata": {},
   "source": [
    "### 136. Single Number"
   ]
  },
  {
   "cell_type": "markdown",
   "id": "6d8ba098",
   "metadata": {},
   "source": [
    "Given a non-empty array of integers nums, every element appears twice except for one. Find that single one."
   ]
  },
  {
   "cell_type": "code",
   "execution_count": 2,
   "id": "6475aaf3",
   "metadata": {},
   "outputs": [],
   "source": [
    "class Solution(object):\n",
    "    def singleNumber(self, nums):\n",
    "        \"\"\"\n",
    "        :type nums: List[int]\n",
    "        :rtype: int\n",
    "        \"\"\"\n",
    "        no_duplicate_list = []\n",
    "        for i in nums:\n",
    "            if i not in no_duplicate_list:\n",
    "                no_duplicate_list.append(i)\n",
    "            else:\n",
    "                no_duplicate_list.remove(i)\n",
    "        return no_duplicate_list.pop()"
   ]
  },
  {
   "cell_type": "code",
   "execution_count": 4,
   "id": "a949b4ae",
   "metadata": {},
   "outputs": [],
   "source": [
    "from collections import defaultdict\n",
    "class Solution:\n",
    "    def singleNumber(self, nums) -> int:\n",
    "        hash_table = defaultdict(int)\n",
    "        for i in nums:\n",
    "            hash_table[i] += 1\n",
    "        \n",
    "        for i in hash_table:\n",
    "            if hash_table[i] == 1:\n",
    "                return i"
   ]
  },
  {
   "cell_type": "code",
   "execution_count": null,
   "id": "1b06d740",
   "metadata": {},
   "outputs": [],
   "source": []
  }
 ],
 "metadata": {
  "kernelspec": {
   "display_name": "Python 3",
   "language": "python",
   "name": "python3"
  },
  "language_info": {
   "codemirror_mode": {
    "name": "ipython",
    "version": 3
   },
   "file_extension": ".py",
   "mimetype": "text/x-python",
   "name": "python",
   "nbconvert_exporter": "python",
   "pygments_lexer": "ipython3",
   "version": "3.8.8"
  }
 },
 "nbformat": 4,
 "nbformat_minor": 5
}
