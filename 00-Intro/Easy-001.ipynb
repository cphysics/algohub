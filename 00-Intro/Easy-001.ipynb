{
 "cells": [
  {
   "cell_type": "markdown",
   "metadata": {},
   "source": [
    "## Easy-I (Jun-5)"
   ]
  },
  {
   "cell_type": "markdown",
   "metadata": {},
   "source": [
    "### 1. Two Sum (1)"
   ]
  },
  {
   "cell_type": "markdown",
   "metadata": {},
   "source": [
    "Given an array of integers, return indices of the two numbers such that they add up to a specific target.\n",
    "\n",
    "You may assume that each input would have exactly one solution, and you may not use the same element twice."
   ]
  },
  {
   "cell_type": "code",
   "execution_count": 1,
   "metadata": {},
   "outputs": [],
   "source": [
    "class Solution(object):\n",
    "    def twoSum(self, nums, target):\n",
    "        \"\"\"\n",
    "        :type nums: List[int]\n",
    "        :type target: int\n",
    "        :rtype: List[int]\n",
    "        \"\"\"\n",
    "        for i,n in enumerate(nums):\n",
    "             for j,m in enumerate(nums):\n",
    "                    if n+m == target and i!=j:\n",
    "                        return [i,j]"
   ]
  },
  {
   "cell_type": "code",
   "execution_count": 2,
   "metadata": {},
   "outputs": [],
   "source": [
    "nums = [10,20,40,30,40,50,4,5,6,50,60,7,60,7,80,7,60,7,80,9,8,98,7,8,7,6,7,6,5,6]\n",
    "target = 100"
   ]
  },
  {
   "cell_type": "code",
   "execution_count": 3,
   "metadata": {},
   "outputs": [
    {
     "name": "stdout",
     "output_type": "stream",
     "text": [
      "[1, 14]\n"
     ]
    }
   ],
   "source": [
    "S= Solution()\n",
    "print(S.twoSum(nums,target))"
   ]
  },
  {
   "cell_type": "markdown",
   "metadata": {},
   "source": [
    "Complexity Analysis\n",
    "\n",
    "- Time complexity : O(n^2)O(n \n",
    "2\n",
    " ). For each element, we try to find its complement by looping through the rest of array which takes O(n)O(n) time. Therefore, the time complexity is O(n^2)O(n \n",
    "2\n",
    " ).\n",
    "\n",
    "- Space complexity : O(1)O(1).\n"
   ]
  },
  {
   "cell_type": "code",
   "execution_count": 5,
   "metadata": {},
   "outputs": [],
   "source": [
    "seen = {10:0,20:1,30:2,40:3}"
   ]
  },
  {
   "cell_type": "code",
   "execution_count": 7,
   "metadata": {},
   "outputs": [
    {
     "data": {
      "text/plain": [
       "(1, 3)"
      ]
     },
     "execution_count": 7,
     "metadata": {},
     "output_type": "execute_result"
    }
   ],
   "source": [
    "seen[20],seen[40]"
   ]
  },
  {
   "cell_type": "code",
   "execution_count": 8,
   "metadata": {},
   "outputs": [],
   "source": [
    "seen[50] = 4"
   ]
  },
  {
   "cell_type": "code",
   "execution_count": 9,
   "metadata": {},
   "outputs": [
    {
     "data": {
      "text/plain": [
       "{10: 0, 20: 1, 30: 2, 40: 3, 50: 4}"
      ]
     },
     "execution_count": 9,
     "metadata": {},
     "output_type": "execute_result"
    }
   ],
   "source": [
    "seen"
   ]
  },
  {
   "cell_type": "code",
   "execution_count": 10,
   "metadata": {},
   "outputs": [],
   "source": [
    "seen.update({4:5})"
   ]
  },
  {
   "cell_type": "code",
   "execution_count": 11,
   "metadata": {},
   "outputs": [
    {
     "data": {
      "text/plain": [
       "{10: 0, 20: 1, 30: 2, 40: 3, 50: 4, 4: 5}"
      ]
     },
     "execution_count": 11,
     "metadata": {},
     "output_type": "execute_result"
    }
   ],
   "source": [
    "seen"
   ]
  },
  {
   "cell_type": "code",
   "execution_count": 12,
   "metadata": {},
   "outputs": [],
   "source": [
    "seen[20] = 75"
   ]
  },
  {
   "cell_type": "code",
   "execution_count": 13,
   "metadata": {},
   "outputs": [
    {
     "data": {
      "text/plain": [
       "{10: 0, 20: 75, 30: 2, 40: 3, 50: 4, 4: 5}"
      ]
     },
     "execution_count": 13,
     "metadata": {},
     "output_type": "execute_result"
    }
   ],
   "source": [
    "seen"
   ]
  },
  {
   "cell_type": "markdown",
   "metadata": {},
   "source": [
    "#### Hash Map"
   ]
  },
  {
   "cell_type": "code",
   "execution_count": 15,
   "metadata": {},
   "outputs": [],
   "source": [
    "def twoSum(nums, target):\n",
    "        seen = {}\n",
    "        for i, v in enumerate(nums):\n",
    "            remaining = target - v\n",
    "            if remaining in seen:\n",
    "                return [seen[remaining], i]\n",
    "            seen[v] = i\n",
    "            print(i,v,seen)\n",
    "        return []"
   ]
  },
  {
   "cell_type": "code",
   "execution_count": 16,
   "metadata": {},
   "outputs": [
    {
     "name": "stdout",
     "output_type": "stream",
     "text": [
      "0 10 {10: 0}\n",
      "1 20 {10: 0, 20: 1}\n",
      "2 40 {10: 0, 20: 1, 40: 2}\n",
      "3 30 {10: 0, 20: 1, 40: 2, 30: 3}\n",
      "4 40 {10: 0, 20: 1, 40: 4, 30: 3}\n",
      "5 50 {10: 0, 20: 1, 40: 4, 30: 3, 50: 5}\n",
      "6 4 {10: 0, 20: 1, 40: 4, 30: 3, 50: 5, 4: 6}\n",
      "7 5 {10: 0, 20: 1, 40: 4, 30: 3, 50: 5, 4: 6, 5: 7}\n",
      "8 6 {10: 0, 20: 1, 40: 4, 30: 3, 50: 5, 4: 6, 5: 7, 6: 8}\n"
     ]
    },
    {
     "data": {
      "text/plain": [
       "[5, 9]"
      ]
     },
     "execution_count": 16,
     "metadata": {},
     "output_type": "execute_result"
    }
   ],
   "source": [
    "nums = [10,20,40,30,40,50,4,5,6,50,60,7,60,7,80,7,60,7,80,9,8,98,7,8,7,6,7,6,5,6]\n",
    "target = 100\n",
    "twoSum(nums, target)"
   ]
  },
  {
   "cell_type": "markdown",
   "metadata": {},
   "source": [
    "Complexity Analysis:\n",
    "\n",
    "- Time complexity : O(n). We traverse the list containing nn elements only once. Each look up in the table costs only O(1) time.\n",
    "\n",
    "- Space complexity : O(n). The extra space required depends on the number of items stored in the hash table, which stores at most nn elements."
   ]
  },
  {
   "cell_type": "markdown",
   "metadata": {},
   "source": [
    "### 2. Valid Parenthesis (20)"
   ]
  },
  {
   "cell_type": "markdown",
   "metadata": {},
   "source": [
    "Given a string containing just the characters '(', ')', '{', '}', '[' and ']', determine if the input string is valid.\n",
    "\n",
    "An input string is valid if:\n",
    "\n",
    "- Open brackets must be closed by the same type of brackets.\n",
    "- Open brackets must be closed in the correct order.\n",
    "- Note that an empty string is also considered valid."
   ]
  },
  {
   "cell_type": "code",
   "execution_count": 9,
   "metadata": {},
   "outputs": [],
   "source": [
    "class Solution(object):\n",
    "    def isValid(self, s):\n",
    "        \"\"\"\n",
    "        :type s: str\n",
    "        :rtype: bool\n",
    "        \"\"\"\n",
    "\n",
    "        # The stack to keep track of opening brackets.\n",
    "        stack = []\n",
    "\n",
    "        # Hash map for keeping track of mappings. This keeps the code very clean.\n",
    "        # Also makes adding more types of parenthesis easier\n",
    "        mapping = {\")\": \"(\", \"}\": \"{\", \"]\": \"[\"}\n",
    "\n",
    "        # For every bracket in the expression.\n",
    "        for char in s:\n",
    "\n",
    "            # If the character is an closing bracket\n",
    "            if char in mapping:\n",
    "\n",
    "                # Pop the topmost element from the stack, if it is non empty\n",
    "                # Otherwise assign a dummy value of '#' to the top_element variable\n",
    "                top_element = stack.pop() if stack else '#'\n",
    "\n",
    "                # The mapping for the opening bracket in our hash and the top\n",
    "                # element of the stack don't match, return False\n",
    "                if mapping[char] != top_element:\n",
    "                    return False\n",
    "            else:\n",
    "                # We have an opening bracket, simply push it onto the stack.\n",
    "                stack.append(char)\n",
    "\n",
    "        # In the end, if the stack is empty, then we have a valid expression.\n",
    "        # The stack won't be empty for cases like ((()\n",
    "        return not stack"
   ]
  },
  {
   "cell_type": "markdown",
   "metadata": {},
   "source": [
    "Complexity analysis\n",
    "\n",
    "- Time complexity : O(n)O(n) because we simply traverse the given string one character at a time and push and pop operations on a stack take O(1)O(1) time.\n",
    "- Space complexity : O(n)O(n) as we push all opening brackets onto the stack and in the worst case, we will end up pushing all the brackets onto the stack. e.g. ((((((((((."
   ]
  },
  {
   "cell_type": "markdown",
   "metadata": {},
   "source": [
    "### 3. Merge Two Sorted List(21)"
   ]
  },
  {
   "cell_type": "markdown",
   "metadata": {},
   "source": [
    "Merge two sorted linked lists and return it as a new sorted list. The new list should be made by splicing together the nodes of the first two lists."
   ]
  },
  {
   "cell_type": "code",
   "execution_count": 10,
   "metadata": {},
   "outputs": [],
   "source": [
    "class Solution:\n",
    "    def mergeTwoLists(self, l1, l2):\n",
    "        if l1 is None:\n",
    "            return l2\n",
    "        elif l2 is None:\n",
    "            return l1\n",
    "        elif l1.val < l2.val:\n",
    "            l1.next = self.mergeTwoLists(l1.next, l2)\n",
    "            return l1\n",
    "        else:\n",
    "            l2.next = self.mergeTwoLists(l1, l2.next)\n",
    "            return l2"
   ]
  },
  {
   "cell_type": "markdown",
   "metadata": {},
   "source": [
    "Complexity Analysis\n",
    "\n",
    "- Time complexity : O(n + m)O(n+m)\n",
    "\n",
    "Because each recursive call increments the pointer to l1 or l2 by one (approaching the dangling null at the end of each list), there will be exactly one call to mergeTwoLists per element in each list. Therefore, the time complexity is linear in the combined size of the lists.\n",
    "\n",
    "- Space complexity : O(n + m)O(n+m)\n",
    "\n",
    "The first call to mergeTwoLists does not return until the ends of both l1 and l2 have been reached, so n + mn+m stack frames consume O(n + m)O(n+m) space.\n",
    "\n"
   ]
  },
  {
   "cell_type": "markdown",
   "metadata": {},
   "source": [
    "### 4. Maximum Sub Array (53)"
   ]
  },
  {
   "cell_type": "markdown",
   "metadata": {},
   "source": [
    "Given an integer array nums, find the contiguous subarray (containing at least one number) which has the largest sum and return its sum."
   ]
  },
  {
   "cell_type": "code",
   "execution_count": 12,
   "metadata": {},
   "outputs": [],
   "source": [
    "class Solution:\n",
    "    def maxSubArray(self, nums: 'List[int]') -> 'int':\n",
    "        n = len(nums)\n",
    "        curr_sum = max_sum = nums[0]\n",
    "\n",
    "        for i in range(1, n):\n",
    "            curr_sum = max(nums[i], curr_sum + nums[i])\n",
    "            max_sum = max(max_sum, curr_sum)\n",
    "            print(\"i|\",i,\"curr_sum|\", curr_sum, \"max_sum|\",max_sum)\n",
    "            \n",
    "        return max_sum"
   ]
  },
  {
   "cell_type": "code",
   "execution_count": 13,
   "metadata": {},
   "outputs": [],
   "source": [
    "nums = [2,-4,5,7,-4,6,4,1,7,4,-6,6,4,-9,20,45,-35]"
   ]
  },
  {
   "cell_type": "code",
   "execution_count": 14,
   "metadata": {},
   "outputs": [
    {
     "name": "stdout",
     "output_type": "stream",
     "text": [
      "i| 1 curr_sum| -2 max_sum| 2\n",
      "i| 2 curr_sum| 5 max_sum| 5\n",
      "i| 3 curr_sum| 12 max_sum| 12\n",
      "i| 4 curr_sum| 8 max_sum| 12\n",
      "i| 5 curr_sum| 14 max_sum| 14\n",
      "i| 6 curr_sum| 18 max_sum| 18\n",
      "i| 7 curr_sum| 19 max_sum| 19\n",
      "i| 8 curr_sum| 26 max_sum| 26\n",
      "i| 9 curr_sum| 30 max_sum| 30\n",
      "i| 10 curr_sum| 24 max_sum| 30\n",
      "i| 11 curr_sum| 30 max_sum| 30\n",
      "i| 12 curr_sum| 34 max_sum| 34\n",
      "i| 13 curr_sum| 25 max_sum| 34\n",
      "i| 14 curr_sum| 45 max_sum| 45\n",
      "i| 15 curr_sum| 90 max_sum| 90\n",
      "i| 16 curr_sum| 55 max_sum| 90\n"
     ]
    },
    {
     "data": {
      "text/plain": [
       "90"
      ]
     },
     "execution_count": 14,
     "metadata": {},
     "output_type": "execute_result"
    }
   ],
   "source": [
    "Solution().maxSubArray(nums)"
   ]
  },
  {
   "cell_type": "markdown",
   "metadata": {},
   "source": [
    "### 5. Climbing Stairs (70)"
   ]
  },
  {
   "cell_type": "markdown",
   "metadata": {},
   "source": [
    "You are climbing a stair case. It takes n steps to reach to the top.\n",
    "\n",
    "Each time you can either climb 1 or 2 steps. In how many distinct ways can you climb to the top?"
   ]
  },
  {
   "cell_type": "code",
   "execution_count": 91,
   "metadata": {},
   "outputs": [],
   "source": [
    "class Solution(object):\n",
    "    def climbStairs(self, n):\n",
    "        \"\"\"\n",
    "        :type n: int\n",
    "        :rtype: int\n",
    "        \"\"\"\n",
    "        if (n == 1):\n",
    "            return 1\n",
    "        \n",
    "        dp =  [0  for i in range(n + 1)]\n",
    "        dp[1] = 1\n",
    "        dp[2] = 2\n",
    "        for i in range(3,n+1):\n",
    "            dp[i] = dp[i - 1] + dp[i - 2]\n",
    "            print('i|',i,dp[i])\n",
    "        print(dp)\n",
    "        return dp[n]"
   ]
  },
  {
   "cell_type": "code",
   "execution_count": 92,
   "metadata": {},
   "outputs": [
    {
     "name": "stdout",
     "output_type": "stream",
     "text": [
      "i| 3 3\n",
      "i| 4 5\n",
      "i| 5 8\n",
      "i| 6 13\n",
      "i| 7 21\n",
      "i| 8 34\n",
      "i| 9 55\n",
      "i| 10 89\n",
      "[0, 1, 2, 3, 5, 8, 13, 21, 34, 55, 89]\n"
     ]
    },
    {
     "data": {
      "text/plain": [
       "89"
      ]
     },
     "execution_count": 92,
     "metadata": {},
     "output_type": "execute_result"
    }
   ],
   "source": [
    "Solution().climbStairs(10)"
   ]
  },
  {
   "cell_type": "markdown",
   "metadata": {},
   "source": [
    "Complexity Analysis\n",
    "\n",
    "- Time complexity : O(n)O(n). Single loop upto nn is required to calculate n^{th}n \n",
    "th\n",
    "  fibonacci number.\n",
    "\n",
    "- Space complexity : O(1)O(1). Constant space is used.\n"
   ]
  },
  {
   "cell_type": "markdown",
   "metadata": {},
   "source": [
    "### 6. Symmetric Tree (101)"
   ]
  },
  {
   "cell_type": "code",
   "execution_count": 39,
   "metadata": {},
   "outputs": [],
   "source": [
    "def factorial(n):\n",
    "    if n == 0:\n",
    "        return 1\n",
    "    if n == 1:\n",
    "        return 1\n",
    "    print(n)\n",
    "    return n*factorial(n-1)"
   ]
  },
  {
   "cell_type": "code",
   "execution_count": 40,
   "metadata": {},
   "outputs": [
    {
     "name": "stdout",
     "output_type": "stream",
     "text": [
      "5\n",
      "4\n",
      "3\n",
      "2\n"
     ]
    },
    {
     "data": {
      "text/plain": [
       "120"
      ]
     },
     "execution_count": 40,
     "metadata": {},
     "output_type": "execute_result"
    }
   ],
   "source": [
    "factorial(5)"
   ]
  },
  {
   "cell_type": "markdown",
   "metadata": {},
   "source": [
    "Given a binary tree, check whether it is a mirror of itself (ie, symmetric around its center).\n",
    "\n",
    "For example, this binary tree [1,2,2,3,4,4,3] is symmetric:"
   ]
  },
  {
   "cell_type": "code",
   "execution_count": 26,
   "metadata": {},
   "outputs": [],
   "source": [
    "class TreeNode(object):\n",
    "     def __init__(self, val=0, left=None, right=None):\n",
    "        self.val = val\n",
    "        self.left = left\n",
    "        self.right = right"
   ]
  },
  {
   "cell_type": "code",
   "execution_count": 27,
   "metadata": {},
   "outputs": [
    {
     "data": {
      "text/plain": [
       "__main__.TreeNode"
      ]
     },
     "execution_count": 27,
     "metadata": {},
     "output_type": "execute_result"
    }
   ],
   "source": [
    "N = TreeNode(12)\n",
    "type(N)"
   ]
  },
  {
   "cell_type": "code",
   "execution_count": 28,
   "metadata": {},
   "outputs": [
    {
     "data": {
      "text/plain": [
       "(12, None)"
      ]
     },
     "execution_count": 28,
     "metadata": {},
     "output_type": "execute_result"
    }
   ],
   "source": [
    "N.val,N.left"
   ]
  },
  {
   "cell_type": "code",
   "execution_count": 30,
   "metadata": {},
   "outputs": [],
   "source": [
    "N.left = TreeNode(15)"
   ]
  },
  {
   "cell_type": "code",
   "execution_count": 32,
   "metadata": {},
   "outputs": [
    {
     "data": {
      "text/plain": [
       "15"
      ]
     },
     "execution_count": 32,
     "metadata": {},
     "output_type": "execute_result"
    }
   ],
   "source": [
    "N.left.val"
   ]
  },
  {
   "cell_type": "code",
   "execution_count": 19,
   "metadata": {},
   "outputs": [],
   "source": [
    "# Definition for a binary tree node.\n",
    "# class TreeNode(object):\n",
    "#     def __init__(self, val=0, left=None, right=None):\n",
    "#         self.val = val\n",
    "#         self.left = left\n",
    "#         self.right = right\n",
    "class Solution(object):\n",
    "    def isSymmetric(self, root):\n",
    "        \"\"\"\n",
    "        :type root: TreeNode\n",
    "        :rtype: bool\n",
    "        \"\"\"\n",
    "        def dfs(root1, root2):\n",
    "            \n",
    "            if not root1 and not root2:\n",
    "                return True\n",
    "            \n",
    "            if not root1 or not root2:\n",
    "                return False\n",
    "            \n",
    "            return (root1.val == root2.val \n",
    "                    and dfs(root1.left, root2.right)\n",
    "                    and dfs(root1.right, root2.left))\n",
    "        \n",
    "        if root:\n",
    "            return dfs(root.left, root.right)\n",
    "        return True"
   ]
  },
  {
   "cell_type": "markdown",
   "metadata": {},
   "source": [
    "### 7. Maximum of Tree Depth"
   ]
  },
  {
   "cell_type": "markdown",
   "metadata": {},
   "source": [
    "Given a binary tree, find its maximum depth.\n",
    "\n",
    "The maximum depth is the number of nodes along the longest path from the root node down to the farthest leaf node."
   ]
  },
  {
   "cell_type": "code",
   "execution_count": 21,
   "metadata": {},
   "outputs": [],
   "source": [
    "class TreeNode:\n",
    "    def __init__(self, val=0, left=None, right=None):\n",
    "         self.val = val\n",
    "         self.left = left\n",
    "         self.right = right\n",
    "class Solution:\n",
    "    def maxDepth(self, root: TreeNode) -> int:\n",
    "        \"\"\"\n",
    "        :type root: TreeNode\n",
    "        :rtype: int\n",
    "        \"\"\" \n",
    "        if root is None: \n",
    "            return 0 \n",
    "        else: \n",
    "            left_height = self.maxDepth(root.left) \n",
    "            right_height = self.maxDepth(root.right) \n",
    "            return max(left_height, right_height) + 1 "
   ]
  },
  {
   "cell_type": "code",
   "execution_count": null,
   "metadata": {},
   "outputs": [],
   "source": []
  },
  {
   "cell_type": "markdown",
   "metadata": {},
   "source": [
    "### 8 Buy ans sell Stocks"
   ]
  },
  {
   "cell_type": "markdown",
   "metadata": {},
   "source": [
    "Say you have an array for which the ith element is the price of a given stock on day i.\n",
    "\n",
    "If you were only permitted to complete at most one transaction (i.e., buy one and sell one share of the stock), design an algorithm to find the maximum profit.\n",
    "\n",
    "Note that you cannot sell a stock before you buy one."
   ]
  },
  {
   "cell_type": "code",
   "execution_count": 24,
   "metadata": {},
   "outputs": [],
   "source": [
    "class Solution:\n",
    "    def maxProfit(self, prices):\n",
    "        \n",
    "        min_price = float('inf')\n",
    "        max_profit = 0\n",
    "        \n",
    "        for price in prices:\n",
    "            min_price  = min(min_price, price)\n",
    "            max_profit = max(max_profit, price - min_price)\n",
    "        \n",
    "        return max_profit\n",
    "        "
   ]
  },
  {
   "cell_type": "code",
   "execution_count": 25,
   "metadata": {},
   "outputs": [
    {
     "data": {
      "text/plain": [
       "73"
      ]
     },
     "execution_count": 25,
     "metadata": {},
     "output_type": "execute_result"
    }
   ],
   "source": [
    "prices = [10,23,5,24,35,46,78,23,45,67,54]\n",
    "Solution().maxProfit(prices)"
   ]
  },
  {
   "cell_type": "code",
   "execution_count": null,
   "metadata": {},
   "outputs": [],
   "source": []
  },
  {
   "cell_type": "markdown",
   "metadata": {},
   "source": [
    "### 9. Single Number"
   ]
  },
  {
   "cell_type": "markdown",
   "metadata": {},
   "source": [
    "Given a non-empty array of integers, every element appears twice except for one. Find that single one."
   ]
  },
  {
   "cell_type": "code",
   "execution_count": 27,
   "metadata": {},
   "outputs": [],
   "source": [
    "class Solution:\n",
    "    def singleNumber(self, nums):\n",
    "        \"\"\"\n",
    "        :type nums: List[int]\n",
    "        :rtype: int\n",
    "        \"\"\"\n",
    "        no_duplicate_list = []\n",
    "        for i in nums:\n",
    "            if i not in no_duplicate_list:\n",
    "                no_duplicate_list.append(i)\n",
    "            else:\n",
    "                no_duplicate_list.remove(i)\n",
    "        return no_duplicate_list.pop()"
   ]
  },
  {
   "cell_type": "code",
   "execution_count": null,
   "metadata": {},
   "outputs": [],
   "source": []
  },
  {
   "cell_type": "markdown",
   "metadata": {},
   "source": [
    "### 10. Majority Count"
   ]
  },
  {
   "cell_type": "markdown",
   "metadata": {},
   "source": [
    "Given an array of size n, find the majority element. The majority element is the element that appears more than ⌊ n/2 ⌋ times."
   ]
  },
  {
   "cell_type": "code",
   "execution_count": 31,
   "metadata": {},
   "outputs": [],
   "source": [
    "import collections"
   ]
  },
  {
   "cell_type": "code",
   "execution_count": 32,
   "metadata": {},
   "outputs": [],
   "source": [
    "class Solution:\n",
    "    def majorityElement(self, nums):\n",
    "        mcount = len(nums)//2\n",
    "        for e in nums:\n",
    "            # map\n",
    "            #count = sum(1 for ee in nums if e == ee)\n",
    "            #if count> mcount:\n",
    "            #   return e\n",
    "            counts = collections.Counter(nums)\n",
    "            return max(counts.keys(), key=counts.get)"
   ]
  },
  {
   "cell_type": "code",
   "execution_count": 33,
   "metadata": {},
   "outputs": [
    {
     "data": {
      "text/plain": [
       "4"
      ]
     },
     "execution_count": 33,
     "metadata": {},
     "output_type": "execute_result"
    }
   ],
   "source": [
    "nums = [1,2,3,4,3,4,3,4,3,4,5,4,5]\n",
    "Solution().majorityElement(nums)"
   ]
  },
  {
   "cell_type": "markdown",
   "metadata": {},
   "source": [
    "### Bubble Sort"
   ]
  },
  {
   "cell_type": "code",
   "execution_count": 67,
   "metadata": {},
   "outputs": [],
   "source": [
    "A = [20,5,3,7,4,6,80,9,40]"
   ]
  },
  {
   "cell_type": "code",
   "execution_count": 68,
   "metadata": {},
   "outputs": [],
   "source": [
    "def sortit(A):\n",
    "    counter = 0\n",
    "    is_sorted = False\n",
    "    while not is_sorted:\n",
    "        is_sorted = True\n",
    "        for i in range(1,len(A)-counter):\n",
    "            if A[i]<A[i-1]:\n",
    "                is_sorted = False\n",
    "                A[i-1],A[i] = A[i],A[i-1]\n",
    "            print(i,A)\n",
    "        counter = counter+1\n",
    "    return A"
   ]
  },
  {
   "cell_type": "code",
   "execution_count": 69,
   "metadata": {},
   "outputs": [
    {
     "name": "stdout",
     "output_type": "stream",
     "text": [
      "1 [5, 20, 3, 7, 4, 6, 80, 9, 40]\n",
      "2 [5, 3, 20, 7, 4, 6, 80, 9, 40]\n",
      "3 [5, 3, 7, 20, 4, 6, 80, 9, 40]\n",
      "4 [5, 3, 7, 4, 20, 6, 80, 9, 40]\n",
      "5 [5, 3, 7, 4, 6, 20, 80, 9, 40]\n",
      "6 [5, 3, 7, 4, 6, 20, 80, 9, 40]\n",
      "7 [5, 3, 7, 4, 6, 20, 9, 80, 40]\n",
      "8 [5, 3, 7, 4, 6, 20, 9, 40, 80]\n",
      "1 [3, 5, 7, 4, 6, 20, 9, 40, 80]\n",
      "2 [3, 5, 7, 4, 6, 20, 9, 40, 80]\n",
      "3 [3, 5, 4, 7, 6, 20, 9, 40, 80]\n",
      "4 [3, 5, 4, 6, 7, 20, 9, 40, 80]\n",
      "5 [3, 5, 4, 6, 7, 20, 9, 40, 80]\n",
      "6 [3, 5, 4, 6, 7, 9, 20, 40, 80]\n",
      "7 [3, 5, 4, 6, 7, 9, 20, 40, 80]\n",
      "1 [3, 5, 4, 6, 7, 9, 20, 40, 80]\n",
      "2 [3, 4, 5, 6, 7, 9, 20, 40, 80]\n",
      "3 [3, 4, 5, 6, 7, 9, 20, 40, 80]\n",
      "4 [3, 4, 5, 6, 7, 9, 20, 40, 80]\n",
      "5 [3, 4, 5, 6, 7, 9, 20, 40, 80]\n",
      "6 [3, 4, 5, 6, 7, 9, 20, 40, 80]\n",
      "1 [3, 4, 5, 6, 7, 9, 20, 40, 80]\n",
      "2 [3, 4, 5, 6, 7, 9, 20, 40, 80]\n",
      "3 [3, 4, 5, 6, 7, 9, 20, 40, 80]\n",
      "4 [3, 4, 5, 6, 7, 9, 20, 40, 80]\n",
      "5 [3, 4, 5, 6, 7, 9, 20, 40, 80]\n"
     ]
    },
    {
     "data": {
      "text/plain": [
       "[3, 4, 5, 6, 7, 9, 20, 40, 80]"
      ]
     },
     "execution_count": 69,
     "metadata": {},
     "output_type": "execute_result"
    }
   ],
   "source": [
    "sortit(A)"
   ]
  },
  {
   "cell_type": "markdown",
   "metadata": {},
   "source": [
    "### Insertion Sort"
   ]
  },
  {
   "cell_type": "code",
   "execution_count": 87,
   "metadata": {},
   "outputs": [],
   "source": [
    "B = [100,99,98,97,96,92,81,72,63,54]"
   ]
  },
  {
   "cell_type": "code",
   "execution_count": 88,
   "metadata": {},
   "outputs": [],
   "source": [
    "def ins_sort(B):\n",
    "    for i in range(1,len(B)):\n",
    "        j = i\n",
    "        while j>0 and B[j] < B[j-1]:\n",
    "            B[j],B[j-1] = B[j-1],B[j]\n",
    "            print(i,j,B)\n",
    "            j = j-1"
   ]
  },
  {
   "cell_type": "code",
   "execution_count": 89,
   "metadata": {},
   "outputs": [
    {
     "name": "stdout",
     "output_type": "stream",
     "text": [
      "1 1 [99, 100, 98, 97, 96, 92, 81, 72, 63, 54]\n",
      "2 2 [99, 98, 100, 97, 96, 92, 81, 72, 63, 54]\n",
      "2 1 [98, 99, 100, 97, 96, 92, 81, 72, 63, 54]\n",
      "3 3 [98, 99, 97, 100, 96, 92, 81, 72, 63, 54]\n",
      "3 2 [98, 97, 99, 100, 96, 92, 81, 72, 63, 54]\n",
      "3 1 [97, 98, 99, 100, 96, 92, 81, 72, 63, 54]\n",
      "4 4 [97, 98, 99, 96, 100, 92, 81, 72, 63, 54]\n",
      "4 3 [97, 98, 96, 99, 100, 92, 81, 72, 63, 54]\n",
      "4 2 [97, 96, 98, 99, 100, 92, 81, 72, 63, 54]\n",
      "4 1 [96, 97, 98, 99, 100, 92, 81, 72, 63, 54]\n",
      "5 5 [96, 97, 98, 99, 92, 100, 81, 72, 63, 54]\n",
      "5 4 [96, 97, 98, 92, 99, 100, 81, 72, 63, 54]\n",
      "5 3 [96, 97, 92, 98, 99, 100, 81, 72, 63, 54]\n",
      "5 2 [96, 92, 97, 98, 99, 100, 81, 72, 63, 54]\n",
      "5 1 [92, 96, 97, 98, 99, 100, 81, 72, 63, 54]\n",
      "6 6 [92, 96, 97, 98, 99, 81, 100, 72, 63, 54]\n",
      "6 5 [92, 96, 97, 98, 81, 99, 100, 72, 63, 54]\n",
      "6 4 [92, 96, 97, 81, 98, 99, 100, 72, 63, 54]\n",
      "6 3 [92, 96, 81, 97, 98, 99, 100, 72, 63, 54]\n",
      "6 2 [92, 81, 96, 97, 98, 99, 100, 72, 63, 54]\n",
      "6 1 [81, 92, 96, 97, 98, 99, 100, 72, 63, 54]\n",
      "7 7 [81, 92, 96, 97, 98, 99, 72, 100, 63, 54]\n",
      "7 6 [81, 92, 96, 97, 98, 72, 99, 100, 63, 54]\n",
      "7 5 [81, 92, 96, 97, 72, 98, 99, 100, 63, 54]\n",
      "7 4 [81, 92, 96, 72, 97, 98, 99, 100, 63, 54]\n",
      "7 3 [81, 92, 72, 96, 97, 98, 99, 100, 63, 54]\n",
      "7 2 [81, 72, 92, 96, 97, 98, 99, 100, 63, 54]\n",
      "7 1 [72, 81, 92, 96, 97, 98, 99, 100, 63, 54]\n",
      "8 8 [72, 81, 92, 96, 97, 98, 99, 63, 100, 54]\n",
      "8 7 [72, 81, 92, 96, 97, 98, 63, 99, 100, 54]\n",
      "8 6 [72, 81, 92, 96, 97, 63, 98, 99, 100, 54]\n",
      "8 5 [72, 81, 92, 96, 63, 97, 98, 99, 100, 54]\n",
      "8 4 [72, 81, 92, 63, 96, 97, 98, 99, 100, 54]\n",
      "8 3 [72, 81, 63, 92, 96, 97, 98, 99, 100, 54]\n",
      "8 2 [72, 63, 81, 92, 96, 97, 98, 99, 100, 54]\n",
      "8 1 [63, 72, 81, 92, 96, 97, 98, 99, 100, 54]\n",
      "9 9 [63, 72, 81, 92, 96, 97, 98, 99, 54, 100]\n",
      "9 8 [63, 72, 81, 92, 96, 97, 98, 54, 99, 100]\n",
      "9 7 [63, 72, 81, 92, 96, 97, 54, 98, 99, 100]\n",
      "9 6 [63, 72, 81, 92, 96, 54, 97, 98, 99, 100]\n",
      "9 5 [63, 72, 81, 92, 54, 96, 97, 98, 99, 100]\n",
      "9 4 [63, 72, 81, 54, 92, 96, 97, 98, 99, 100]\n",
      "9 3 [63, 72, 54, 81, 92, 96, 97, 98, 99, 100]\n",
      "9 2 [63, 54, 72, 81, 92, 96, 97, 98, 99, 100]\n",
      "9 1 [54, 63, 72, 81, 92, 96, 97, 98, 99, 100]\n"
     ]
    }
   ],
   "source": [
    "ins_sort(B)"
   ]
  },
  {
   "cell_type": "code",
   "execution_count": 90,
   "metadata": {},
   "outputs": [
    {
     "data": {
      "text/plain": [
       "[54, 63, 72, 81, 92, 96, 97, 98, 99, 100]"
      ]
     },
     "execution_count": 90,
     "metadata": {},
     "output_type": "execute_result"
    }
   ],
   "source": [
    "sorted(B)"
   ]
  },
  {
   "cell_type": "code",
   "execution_count": null,
   "metadata": {},
   "outputs": [],
   "source": []
  }
 ],
 "metadata": {
  "kernelspec": {
   "display_name": "Python 3",
   "language": "python",
   "name": "python3"
  },
  "language_info": {
   "codemirror_mode": {
    "name": "ipython",
    "version": 3
   },
   "file_extension": ".py",
   "mimetype": "text/x-python",
   "name": "python",
   "nbconvert_exporter": "python",
   "pygments_lexer": "ipython3",
   "version": "3.8.8"
  }
 },
 "nbformat": 4,
 "nbformat_minor": 2
}
