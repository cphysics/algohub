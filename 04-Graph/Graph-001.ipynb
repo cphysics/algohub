{
 "cells": [
  {
   "cell_type": "markdown",
   "id": "edc95fb9",
   "metadata": {},
   "source": [
    "# Graph"
   ]
  },
  {
   "cell_type": "code",
   "execution_count": 15,
   "id": "8855b5b2",
   "metadata": {},
   "outputs": [
    {
     "name": "stdout",
     "output_type": "stream",
     "text": [
      "1 | [2, 3, 4, 5]\n"
     ]
    }
   ],
   "source": [
    "queue = [1,2,3,4,5]\n",
    "print(queue.pop(0), \"|\", queue)"
   ]
  },
  {
   "cell_type": "code",
   "execution_count": 16,
   "id": "8284a552",
   "metadata": {},
   "outputs": [
    {
     "name": "stdout",
     "output_type": "stream",
     "text": [
      "5 | [1, 2, 3, 4]\n"
     ]
    }
   ],
   "source": [
    "stack = [1,2,3,4,5]\n",
    "print(stack.pop(), \"|\", stack)"
   ]
  },
  {
   "cell_type": "markdown",
   "id": "eceb6def",
   "metadata": {},
   "source": [
    "### 1. BFS"
   ]
  },
  {
   "cell_type": "code",
   "execution_count": 235,
   "id": "276fa9f3",
   "metadata": {},
   "outputs": [],
   "source": [
    "from collections import defaultdict"
   ]
  },
  {
   "cell_type": "code",
   "execution_count": 236,
   "id": "6177760a",
   "metadata": {},
   "outputs": [],
   "source": [
    "class Graph(object):\n",
    "    \n",
    "    def __init__(self):\n",
    "        self.graph = defaultdict(list)\n",
    "        \n",
    "    def addEdge(self, u,v):\n",
    "        self.graph[u].append(v)\n",
    "        \n",
    "    def BFS_itr(self,root):\n",
    "        visited = [False]*(max(self.graph)+1)\n",
    "        queue = [root]\n",
    "        visited[root] = True\n",
    "        while len(queue)>0:\n",
    "            current = queue.pop(0)\n",
    "            print(current)\n",
    "            for nb in self.graph[current]:\n",
    "                if visited[nb] == False:\n",
    "                    queue.append(nb)\n",
    "                    visited[nb]=True\n",
    "        \n",
    "                    \n",
    "    def BFS_rec(self, queue, visited):\n",
    "        if len(queue)==0:\n",
    "            return\n",
    "        current = queue.pop(0)\n",
    "        print(current)\n",
    "        for nb in self.graph[current]:\n",
    "            if nb not in visited:\n",
    "                visited.append(nb)\n",
    "                queue.append(nb)\n",
    "        self.BFS_rec(queue, visited)"
   ]
  },
  {
   "cell_type": "code",
   "execution_count": 237,
   "id": "6d30feb3",
   "metadata": {},
   "outputs": [],
   "source": [
    "g = Graph()\n",
    "g.addEdge(0, 1)\n",
    "g.addEdge(0, 2)\n",
    "g.addEdge(1, 3)\n",
    "g.addEdge(1, 5)\n",
    "g.addEdge(2, 4)\n",
    "g.addEdge(2, 6)\n",
    "g.addEdge(3, 7)\n",
    "g.addEdge(3, 9)\n",
    "g.addEdge(4, 8)\n",
    "g.addEdge(4, 10)\n",
    "g.addEdge(5, 7)\n",
    "g.addEdge(6, 8)\n",
    "g.addEdge(7, 8)\n",
    "g.addEdge(8, 4)\n",
    "g.addEdge(9, 10)\n",
    "g.addEdge(10, 8)"
   ]
  },
  {
   "cell_type": "code",
   "execution_count": 238,
   "id": "f47866bc",
   "metadata": {},
   "outputs": [
    {
     "data": {
      "text/plain": [
       "defaultdict(list,\n",
       "            {0: [1, 2],\n",
       "             1: [3, 5],\n",
       "             2: [4, 6],\n",
       "             3: [7, 9],\n",
       "             4: [8, 10],\n",
       "             5: [7],\n",
       "             6: [8],\n",
       "             7: [8],\n",
       "             8: [4],\n",
       "             9: [10],\n",
       "             10: [8]})"
      ]
     },
     "execution_count": 238,
     "metadata": {},
     "output_type": "execute_result"
    }
   ],
   "source": [
    "g.graph"
   ]
  },
  {
   "cell_type": "code",
   "execution_count": 239,
   "id": "c7b2ddb2",
   "metadata": {},
   "outputs": [
    {
     "name": "stdout",
     "output_type": "stream",
     "text": [
      "0\n",
      "1\n",
      "2\n",
      "3\n",
      "5\n",
      "4\n",
      "6\n",
      "7\n",
      "9\n",
      "8\n",
      "10\n"
     ]
    }
   ],
   "source": [
    "g.BFS_itr(0)"
   ]
  },
  {
   "cell_type": "code",
   "execution_count": 240,
   "id": "2c6e4da5",
   "metadata": {},
   "outputs": [
    {
     "name": "stdout",
     "output_type": "stream",
     "text": [
      "0\n",
      "1\n",
      "2\n",
      "3\n",
      "5\n",
      "4\n",
      "6\n",
      "7\n",
      "9\n",
      "8\n",
      "10\n"
     ]
    }
   ],
   "source": [
    "g.BFS_rec([0],[0])"
   ]
  },
  {
   "cell_type": "markdown",
   "id": "10d3ed43",
   "metadata": {},
   "source": [
    "### 2. DFS"
   ]
  },
  {
   "cell_type": "markdown",
   "id": "f9fd15c6",
   "metadata": {},
   "source": [
    "- Iterative"
   ]
  },
  {
   "cell_type": "code",
   "execution_count": 229,
   "id": "e15fca36",
   "metadata": {},
   "outputs": [],
   "source": [
    "class Graph:\n",
    "    \n",
    "    def __init__(self):\n",
    "        self.graph = defaultdict(list)\n",
    "        \n",
    "    def addEdge(self, u,v):\n",
    "        self.graph[u].append(v)\n",
    "        \n",
    "    def DFS_itr(self, root):\n",
    "        stack = [root]\n",
    "        visited = [root]\n",
    "        while len(stack)>0:\n",
    "            current = stack.pop()\n",
    "            print(current)\n",
    "            for nb in self.graph[current]:\n",
    "                if nb not in visited:\n",
    "                    visited.append(nb)\n",
    "                    stack.append(nb)\n",
    "            \n",
    "\n",
    "    def DFS_rec(self, stack, visited):\n",
    "\n",
    "        if len(stack)==0:\n",
    "             return\n",
    "\n",
    "        current = stack.pop()\n",
    "        print(current)\n",
    "        \n",
    "        for nb in self.graph[current]:\n",
    "            if nb not in visited:\n",
    "                visited.append(nb)\n",
    "                stack.append(nb)\n",
    "                self.DFS_rec(stack, visited)"
   ]
  },
  {
   "cell_type": "code",
   "execution_count": 230,
   "id": "82d3d063",
   "metadata": {},
   "outputs": [],
   "source": [
    "g = Graph()\n",
    "g.addEdge(0, 1)\n",
    "g.addEdge(0, 2)\n",
    "g.addEdge(1, 3)\n",
    "g.addEdge(1, 5)\n",
    "g.addEdge(2, 4)\n",
    "g.addEdge(2, 6)\n",
    "g.addEdge(3, 7)\n",
    "g.addEdge(3, 9)\n",
    "g.addEdge(4, 8)\n",
    "g.addEdge(4, 10)\n",
    "g.addEdge(5, 7)\n",
    "g.addEdge(6, 8)\n",
    "g.addEdge(7, 8)\n",
    "g.addEdge(8, 4)\n",
    "g.addEdge(9, 10)\n",
    "g.addEdge(10, 8)"
   ]
  },
  {
   "cell_type": "code",
   "execution_count": 231,
   "id": "ae0bf266",
   "metadata": {},
   "outputs": [
    {
     "data": {
      "text/plain": [
       "defaultdict(list,\n",
       "            {0: [1, 2],\n",
       "             1: [3, 5],\n",
       "             2: [4, 6],\n",
       "             3: [7, 9],\n",
       "             4: [8, 10],\n",
       "             5: [7],\n",
       "             6: [8],\n",
       "             7: [8],\n",
       "             8: [4],\n",
       "             9: [10],\n",
       "             10: [8]})"
      ]
     },
     "execution_count": 231,
     "metadata": {},
     "output_type": "execute_result"
    }
   ],
   "source": [
    "g.graph"
   ]
  },
  {
   "cell_type": "code",
   "execution_count": 232,
   "id": "fb34dc3b",
   "metadata": {},
   "outputs": [
    {
     "name": "stdout",
     "output_type": "stream",
     "text": [
      "0\n",
      "2\n",
      "6\n",
      "8\n",
      "4\n",
      "10\n",
      "1\n",
      "5\n",
      "7\n",
      "3\n",
      "9\n"
     ]
    }
   ],
   "source": [
    "g.DFS_itr(0)"
   ]
  },
  {
   "cell_type": "code",
   "execution_count": 233,
   "id": "781b11c6",
   "metadata": {},
   "outputs": [
    {
     "name": "stdout",
     "output_type": "stream",
     "text": [
      "0\n",
      "1\n",
      "3\n",
      "7\n",
      "8\n",
      "4\n",
      "10\n",
      "9\n",
      "5\n",
      "2\n",
      "6\n"
     ]
    }
   ],
   "source": [
    "g.DFS_rec([0],[0])"
   ]
  },
  {
   "cell_type": "markdown",
   "id": "b6c43339",
   "metadata": {},
   "source": [
    "- Recursive:\n",
    "\n",
    "Time complexity: O(|V|+|E|). \n",
    "Space complexity: O(|V|)"
   ]
  },
  {
   "cell_type": "markdown",
   "id": "9ac0e4e8",
   "metadata": {},
   "source": [
    "### [Minimum Spanning Tree- Prism's Algorithm](https://www.geeksforgeeks.org/prims-minimum-spanning-tree-mst-greedy-algo-5/)"
   ]
  },
  {
   "cell_type": "code",
   "execution_count": 277,
   "id": "f64ce5dc",
   "metadata": {},
   "outputs": [],
   "source": [
    "class Graph():\n",
    "    \n",
    "    def __init__(self, N):\n",
    "        self.N = N\n",
    "        self.graph = [[0]*N]*N\n",
    "        \n",
    "    def minKey(self,key,mstSet):\n",
    "        m = float('inf')\n",
    "        for v in range(self.N):\n",
    "            if key[v]<m and mstSet[v]==False:\n",
    "                m=key[v]\n",
    "                im = v\n",
    "        return im\n",
    "    \n",
    "    def MST(self):\n",
    "        \n",
    "        key = [float('inf')]*self.N\n",
    "        key[0] = 0\n",
    "        \n",
    "        tree = []\n",
    "        \n",
    "        \n",
    "        mstSet = [False]*self.N\n",
    "        \n",
    "        for n in range(self.N):\n",
    "            u = self.minKey(key,mstSet)\n",
    "            mstSet[u] = True\n",
    "            \n",
    "            tree.append(u)\n",
    "            \n",
    "            for v in range(self.N):\n",
    "                if self.graph[u][v]>0 and mstSet[v]==False \\\n",
    "                and key[v]> self.graph[u][v]:\n",
    "                    key[v]= self.graph[u][v]\n",
    "                    \n",
    "                    \n",
    "        return tree"
   ]
  },
  {
   "cell_type": "code",
   "execution_count": 278,
   "id": "9861724d",
   "metadata": {},
   "outputs": [
    {
     "data": {
      "text/plain": [
       "[0, 1, 2, 4, 3]"
      ]
     },
     "execution_count": 278,
     "metadata": {},
     "output_type": "execute_result"
    }
   ],
   "source": [
    "g = Graph(5)\n",
    "\n",
    "g.graph = [ [0, 2, 0, 6, 0],\n",
    "[2, 0, 3, 8, 5],\n",
    "[0, 3, 0, 0, 7],\n",
    "[6, 8, 0, 0, 9],\n",
    "[0, 5, 7, 9, 0]]\n",
    "\n",
    "g.MST()"
   ]
  },
  {
   "cell_type": "markdown",
   "id": "3f1aa8c8",
   "metadata": {},
   "source": [
    "### [Shortest Path - Dijsktra's Algorithms](https://www.geeksforgeeks.org/dijkstras-shortest-path-algorithm-greedy-algo-7/?ref=lbp)"
   ]
  },
  {
   "cell_type": "code",
   "execution_count": 279,
   "id": "379b8616",
   "metadata": {},
   "outputs": [],
   "source": [
    "class Graph():\n",
    "    \n",
    "    def __init__(self, N):\n",
    "        self.N = N\n",
    "        self.graph = [[0]*N]*N\n",
    "        \n",
    "    def minDist(self,dist,mstSet):\n",
    "        m = float('inf')\n",
    "        for v in range(self.N):\n",
    "            if dist[v]<m and mstSet[v]==False:\n",
    "                m=dist[v]\n",
    "                im = v\n",
    "        return im\n",
    "    \n",
    "    def dijkstra(self,src):\n",
    "        \n",
    "        dist = [float('inf')]*self.N\n",
    "        dist[src] = 0\n",
    "        \n",
    "        path = []\n",
    "        \n",
    "        \n",
    "        sptSet = [False]*self.N\n",
    "        \n",
    "        for n in range(self.N):\n",
    "            \n",
    "            u = self.minDist(dist,sptSet)\n",
    "            path.append(u)\n",
    "            \n",
    "            sptSet[u] = True\n",
    "            \n",
    "            for v in range(self.N):\n",
    "                \n",
    "                if self.graph[u][v]>0 and sptSet[v]==False \\\n",
    "                and dist[v]> dist[u] + self.graph[u][v]:\n",
    "                    \n",
    "                    dist[v]= dist[u] + self.graph[u][v]\n",
    "                    \n",
    "                    \n",
    "                    \n",
    "        return path"
   ]
  },
  {
   "cell_type": "code",
   "execution_count": 281,
   "id": "560a155f",
   "metadata": {},
   "outputs": [
    {
     "data": {
      "text/plain": [
       "[0, 1, 2, 3, 4]"
      ]
     },
     "execution_count": 281,
     "metadata": {},
     "output_type": "execute_result"
    }
   ],
   "source": [
    "g = Graph(5)\n",
    "\n",
    "g.graph = [ [0, 2, 0, 6, 0],\n",
    "[2, 0, 3, 8, 5],\n",
    "[0, 3, 0, 0, 7],\n",
    "[6, 8, 0, 0, 9],\n",
    "[0, 5, 7, 9, 0]]\n",
    "\n",
    "g.dijkstra(0)"
   ]
  },
  {
   "cell_type": "markdown",
   "id": "93e8f7e6",
   "metadata": {},
   "source": [
    "### Detect Cycles"
   ]
  },
  {
   "cell_type": "code",
   "execution_count": 282,
   "id": "930e83d9",
   "metadata": {},
   "outputs": [],
   "source": [
    "class Graph(object):\n",
    "    \n",
    "    def __init__(self):\n",
    "        self.graph = defaultdict(list)\n",
    "        \n",
    "    def addEdge(self, u,v):\n",
    "        self.graph[u].append(v)\n",
    "        \n",
    "    def isCyclic(self,root):\n",
    "        visited = [root]\n",
    "        stack = [root]\n",
    "        \n",
    "        while len(stack)>0:\n",
    "            current = stack.pop()\n",
    "            for nb in self.graph[current]:\n",
    "                if nb not in visited:\n",
    "                    stack.append(nb)\n",
    "                    visited.append(nb)\n",
    "                else:\n",
    "                    return True\n",
    "        return False"
   ]
  },
  {
   "cell_type": "code",
   "execution_count": 283,
   "id": "845c15a0",
   "metadata": {},
   "outputs": [
    {
     "name": "stdout",
     "output_type": "stream",
     "text": [
      "Graph does not contain cycle \n"
     ]
    }
   ],
   "source": [
    "# Create a graph given in the above diagram\n",
    "g = Graph()\n",
    "g.addEdge(1, 0)\n",
    "g.addEdge(1, 2)\n",
    "g.addEdge(2, 0)\n",
    "g.addEdge(0, 3)\n",
    "g.addEdge(3, 4)\n",
    " \n",
    "if g.isCyclic(0):\n",
    "    print(\"Graph contains cycle\")\n",
    "else:\n",
    "    print(\"Graph does not contain cycle \")"
   ]
  },
  {
   "cell_type": "code",
   "execution_count": 284,
   "id": "45b52019",
   "metadata": {},
   "outputs": [
    {
     "name": "stdout",
     "output_type": "stream",
     "text": [
      "Graph does not contain cycle \n"
     ]
    }
   ],
   "source": [
    "g1 = Graph()\n",
    "g1.addEdge(0, 1)\n",
    "g1.addEdge(1, 2)\n",
    " \n",
    "if g1.isCyclic(0):\n",
    "    print(\"Graph contains cycle\")\n",
    "else:\n",
    "    print(\"Graph does not contain cycle \")"
   ]
  },
  {
   "cell_type": "markdown",
   "id": "c7e9592f",
   "metadata": {},
   "source": [
    "### Does path exist in between two nodes"
   ]
  },
  {
   "cell_type": "code",
   "execution_count": 285,
   "id": "de91e155",
   "metadata": {},
   "outputs": [],
   "source": [
    "class Graph(object):\n",
    "    \n",
    "    def __init__(self):\n",
    "        self.graph = defaultdict(list)\n",
    "        \n",
    "    def addEdge(self, u,v):\n",
    "        self.graph[u].append(v)\n",
    "        \n",
    "    def pathBFS(self,src,target):\n",
    "        \n",
    "        visited = [False]*(max(self.graph)+1)\n",
    "        \n",
    "        queue = [src]\n",
    "        \n",
    "        visited[src] = True\n",
    "        \n",
    "        while len(queue)>0:\n",
    "            \n",
    "            current = queue.pop(0)\n",
    "            \n",
    "            print(current)\n",
    "            \n",
    "            for nb in self.graph[current]:\n",
    "                if visited[nb] == False and nb != target:\n",
    "                    queue.append(nb)\n",
    "                    visited[nb]=True\n",
    "                elif visited[nb] == False and nb == target:\n",
    "                    return True\n",
    "        return False\n",
    "                "
   ]
  },
  {
   "cell_type": "code",
   "execution_count": 286,
   "id": "2660e9da",
   "metadata": {},
   "outputs": [],
   "source": [
    "g = Graph()\n",
    "g.addEdge(0, 1)\n",
    "g.addEdge(0, 2)\n",
    "g.addEdge(1, 3)\n",
    "g.addEdge(1, 5)\n",
    "g.addEdge(2, 4)\n",
    "g.addEdge(2, 6)\n",
    "g.addEdge(3, 7)\n",
    "g.addEdge(3, 9)\n",
    "g.addEdge(4, 8)\n",
    "g.addEdge(4, 10)\n",
    "g.addEdge(5, 7)\n",
    "g.addEdge(6, 8)\n",
    "g.addEdge(7, 8)\n",
    "g.addEdge(8, 4)\n",
    "g.addEdge(9, 10)\n",
    "g.addEdge(10, 8)"
   ]
  },
  {
   "cell_type": "code",
   "execution_count": 287,
   "id": "1896425a",
   "metadata": {},
   "outputs": [
    {
     "name": "stdout",
     "output_type": "stream",
     "text": [
      "0\n",
      "1\n",
      "2\n",
      "3\n",
      "5\n",
      "4\n"
     ]
    },
    {
     "data": {
      "text/plain": [
       "True"
      ]
     },
     "execution_count": 287,
     "metadata": {},
     "output_type": "execute_result"
    }
   ],
   "source": [
    "g.pathBFS(0,10)"
   ]
  },
  {
   "cell_type": "code",
   "execution_count": null,
   "id": "cff8f86c",
   "metadata": {},
   "outputs": [],
   "source": []
  },
  {
   "cell_type": "code",
   "execution_count": null,
   "id": "df216309",
   "metadata": {},
   "outputs": [],
   "source": []
  },
  {
   "cell_type": "code",
   "execution_count": null,
   "id": "ac02be8d",
   "metadata": {},
   "outputs": [],
   "source": []
  },
  {
   "cell_type": "code",
   "execution_count": null,
   "id": "36657a2c",
   "metadata": {},
   "outputs": [],
   "source": []
  }
 ],
 "metadata": {
  "kernelspec": {
   "display_name": "Python 3",
   "language": "python",
   "name": "python3"
  },
  "language_info": {
   "codemirror_mode": {
    "name": "ipython",
    "version": 3
   },
   "file_extension": ".py",
   "mimetype": "text/x-python",
   "name": "python",
   "nbconvert_exporter": "python",
   "pygments_lexer": "ipython3",
   "version": "3.8.8"
  }
 },
 "nbformat": 4,
 "nbformat_minor": 5
}
