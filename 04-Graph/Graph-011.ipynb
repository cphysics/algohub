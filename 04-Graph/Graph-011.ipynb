{
 "cells": [
  {
   "cell_type": "markdown",
   "id": "edc95fb9",
   "metadata": {},
   "source": [
    "# Graph"
   ]
  },
  {
   "cell_type": "code",
   "execution_count": 15,
   "id": "ac18c03e",
   "metadata": {},
   "outputs": [
    {
     "name": "stdout",
     "output_type": "stream",
     "text": [
      "1 | [2, 3, 4, 5]\n"
     ]
    }
   ],
   "source": [
    "queue = [1,2,3,4,5]\n",
    "print(queue.pop(0), \"|\", queue)"
   ]
  },
  {
   "cell_type": "code",
   "execution_count": 16,
   "id": "d70a9e4a",
   "metadata": {},
   "outputs": [
    {
     "name": "stdout",
     "output_type": "stream",
     "text": [
      "5 | [1, 2, 3, 4]\n"
     ]
    }
   ],
   "source": [
    "stack = [1,2,3,4,5]\n",
    "print(stack.pop(), \"|\", stack)"
   ]
  },
  {
   "cell_type": "markdown",
   "id": "f05d4de7",
   "metadata": {},
   "source": [
    "### [Number of Islands](https://leetcode.com/problems/number-of-islands/)\n",
    "\n",
    "Given an m x n 2D binary grid grid which represents a map of '1's (land) and '0's (water), return the number of islands.\n",
    "\n",
    "An island is surrounded by water and is formed by connecting adjacent lands horizontally or vertically. You may assume all four edges of the grid are all surrounded by water.\n",
    "\n",
    " "
   ]
  },
  {
   "cell_type": "code",
   "execution_count": null,
   "id": "eb2bfb91",
   "metadata": {},
   "outputs": [],
   "source": [
    "def numIslands(self, grid: List[List[str]]) -> int:\n",
    "    \n",
    "    if not grid:\n",
    "        return 0\n",
    "    \n",
    "    rows, cols = len(grid), len(grid[0])\n",
    "    visited = set()\n",
    "    islands = 0\n",
    "    \n",
    "    def bfs(r, c):\n",
    "        \n",
    "        q = collections.deque([(r, c)])\n",
    "        visited.add((r, c))\n",
    "        \n",
    "        while q:\n",
    "            \n",
    "            row, col = q.popleft()\n",
    "            directions = [[1, 0], [-1, 0], [0, 1], [0, -1]]\n",
    "            \n",
    "            for dr, dc in directions:\n",
    "                \n",
    "                r, c = row + dr, col + dc\n",
    "                \n",
    "                if (r in range(rows) and c in range(cols) \\\n",
    "                    and grid[r][c] == \"1\" and (r, c) not in visited):\n",
    "                    \n",
    "                    q.append((r, c))\n",
    "                    visited.add((r, c))\n",
    "                    \n",
    "    \n",
    "    for r in range(rows):\n",
    "        for c in range(cols):\n",
    "            \n",
    "            if grid[r][c] == \"1\" and (r, c) not in visited:\n",
    "                \n",
    "                bfs(r, c)\n",
    "                islands += 1\n",
    "                \n",
    "    return islands"
   ]
  },
  {
   "cell_type": "code",
   "execution_count": null,
   "id": "0d599144",
   "metadata": {},
   "outputs": [],
   "source": [
    "class Solution(object):\n",
    "    def numIslands(self, grid):\n",
    "        islands = 0\n",
    "        for i in range(len(grid)):  \n",
    "            for j in range(len(grid[0])):\n",
    "                if grid[i][j] == '1':\n",
    "                    islands += 1\n",
    "                    self.part_of_island(i,j,grid)\n",
    "        return islands\n",
    "\n",
    "    def part_of_island(self, i, j,grid):\n",
    "        if i < 0 or j < 0 or i == len(grid) or j == len(grid[0]) or grid[i][j] != '1':\n",
    "            return\n",
    "        else:\n",
    "            grid[i][j] = '0'\n",
    "        self.part_of_island(i,j+1,grid)\n",
    "        self.part_of_island(i,j-1,grid)\n",
    "        self.part_of_island(i+1,j,grid)\n",
    "        self.part_of_island(i-1,j,grid)  "
   ]
  },
  {
   "cell_type": "markdown",
   "id": "31a83c21",
   "metadata": {},
   "source": [
    "### 3. [Water Jug problem using BFS](https://www.geeksforgeeks.org/water-jug-problem-using-bfs/)"
   ]
  },
  {
   "cell_type": "code",
   "execution_count": null,
   "id": "c00db250",
   "metadata": {},
   "outputs": [],
   "source": [
    "from collections import deque\n",
    "\n",
    "def BFS(a, b, target):\n",
    "\t\n",
    "\t# Map is used to store the states, every\n",
    "\t# state is hashed to binary value to\n",
    "\t# indicate either that state is visited\n",
    "\t# before or not\n",
    "\tm = {}\n",
    "\tisSolvable = False\n",
    "\tpath = []\n",
    "\t\n",
    "\t# Queue to maintain states\n",
    "\tq = deque()\n",
    "\t\n",
    "\t# Initialing with initial state\n",
    "\tq.append((0, 0))\n",
    "\n",
    "\twhile (len(q) > 0):\n",
    "\t\t\n",
    "\t\t# Current state\n",
    "\t\tu = q.popleft()\n",
    "\n",
    "\t\t#q.pop() #pop off used state\n",
    "\n",
    "\t\t# If this state is already visited\n",
    "\t\tif ((u[0], u[1]) in m):\n",
    "\t\t\tcontinue\n",
    "\n",
    "\t\t# Doesn't met jug constraints\n",
    "\t\tif ((u[0] > a or u[1] > b or\n",
    "\t\t\tu[0] < 0 or u[1] < 0)):\n",
    "\t\t\tcontinue\n",
    "\n",
    "\t\t# Filling the vector for constructing\n",
    "\t\t# the solution path\n",
    "\t\tpath.append([u[0], u[1]])\n",
    "\n",
    "\t\t# Marking current state as visited\n",
    "\t\tm[(u[0], u[1])] = 1\n",
    "\n",
    "\t\t# If we reach solution state, put ans=1\n",
    "\t\tif (u[0] == target or u[1] == target):\n",
    "\t\t\tisSolvable = True\n",
    "\t\t\t\n",
    "\t\t\tif (u[0] == target):\n",
    "\t\t\t\tif (u[1] != 0):\n",
    "\t\t\t\t\t\n",
    "\t\t\t\t\t# Fill final state\n",
    "\t\t\t\t\tpath.append([u[0], 0])\n",
    "\t\t\telse:\n",
    "\t\t\t\tif (u[0] != 0):\n",
    "\n",
    "\t\t\t\t\t# Fill final state\n",
    "\t\t\t\t\tpath.append([0, u[1]])\n",
    "\n",
    "\t\t\t# Print the solution path\n",
    "\t\t\tsz = len(path)\n",
    "\t\t\tfor i in range(sz):\n",
    "\t\t\t\tprint(\"(\", path[i][0], \",\",\n",
    "\t\t\t\t\t\tpath[i][1], \")\")\n",
    "\t\t\tbreak\n",
    "\n",
    "\t\t# If we have not reached final state\n",
    "\t\t# then, start developing intermediate\n",
    "\t\t# states to reach solution state\n",
    "\t\tq.append([u[0], b]) # Fill Jug2\n",
    "\t\tq.append([a, u[1]]) # Fill Jug1\n",
    "\n",
    "\t\tfor ap in range(max(a, b) + 1):\n",
    "\n",
    "\t\t\t# Pour amount ap from Jug2 to Jug1\n",
    "\t\t\tc = u[0] + ap\n",
    "\t\t\td = u[1] - ap\n",
    "\n",
    "\t\t\t# Check if this state is possible or not\n",
    "\t\t\tif (c == a or (d == 0 and d >= 0)):\n",
    "\t\t\t\tq.append([c, d])\n",
    "\n",
    "\t\t\t# Pour amount ap from Jug 1 to Jug2\n",
    "\t\t\tc = u[0] - ap\n",
    "\t\t\td = u[1] + ap\n",
    "\n",
    "\t\t\t# Check if this state is possible or not\n",
    "\t\t\tif ((c == 0 and c >= 0) or d == b):\n",
    "\t\t\t\tq.append([c, d])\n",
    "\t\t\n",
    "\t\t# Empty Jug2\n",
    "\t\tq.append([a, 0])\n",
    "\t\t\n",
    "\t\t# Empty Jug1\n",
    "\t\tq.append([0, b])\n",
    "\n",
    "\t# No, solution exists if ans=0\n",
    "\tif (not isSolvable):\n",
    "\t\tprint (\"No solution\")\n",
    "\n",
    "# Driver code\n",
    "if __name__ == '__main__':\n",
    "\t\n",
    "\tJug1, Jug2, target = 4, 3, 2\n",
    "\tprint(\"Path from initial state \"\n",
    "\t\t\"to solution state ::\")\n",
    "\t\n",
    "\tBFS(Jug1, Jug2, target)\n",
    "\n",
    "# This code is contributed by mohit kumar 29"
   ]
  },
  {
   "cell_type": "code",
   "execution_count": null,
   "id": "d5f09a84",
   "metadata": {},
   "outputs": [],
   "source": [
    "### 5."
   ]
  },
  {
   "cell_type": "code",
   "execution_count": null,
   "id": "24d42abc",
   "metadata": {},
   "outputs": [],
   "source": []
  },
  {
   "cell_type": "code",
   "execution_count": null,
   "id": "930e83d9",
   "metadata": {},
   "outputs": [],
   "source": []
  }
 ],
 "metadata": {
  "kernelspec": {
   "display_name": "Python 3",
   "language": "python",
   "name": "python3"
  },
  "language_info": {
   "codemirror_mode": {
    "name": "ipython",
    "version": 3
   },
   "file_extension": ".py",
   "mimetype": "text/x-python",
   "name": "python",
   "nbconvert_exporter": "python",
   "pygments_lexer": "ipython3",
   "version": "3.8.8"
  }
 },
 "nbformat": 4,
 "nbformat_minor": 5
}
