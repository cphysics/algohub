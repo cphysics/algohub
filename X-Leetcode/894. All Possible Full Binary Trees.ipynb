{
 "cells": [
  {
   "cell_type": "markdown",
   "metadata": {},
   "source": [
    "### All Possible Full Binary Trees\n",
    "\n",
    "A full binary tree is a binary tree where each node has exactly 0 or 2 children.\n",
    "\n",
    "Return a list of all possible full binary trees with N nodes.  Each element of the answer is the root node of one possible tree.\n",
    "\n",
    "Each node of each tree in the answer must have node.val = 0.\n",
    "\n",
    "You may return the final list of trees in any order."
   ]
  },
  {
   "cell_type": "code",
   "execution_count": 37,
   "metadata": {},
   "outputs": [],
   "source": [
    "class Solution:\n",
    "    def generateTrees(self, n):\n",
    "        \"\"\"\n",
    "        :type n: int\n",
    "        :rtype: List[TreeNode]\n",
    "        \"\"\"\n",
    "        def generate_trees(start, end):\n",
    "            if start > end:\n",
    "                return [None,]\n",
    "            \n",
    "            all_trees = []\n",
    "            for i in range(start, end + 1):  # pick up a root\n",
    "                # all possible left subtrees if i is choosen to be a root\n",
    "                left_trees = generate_trees(start, i - 1)\n",
    "                \n",
    "                # all possible right subtrees if i is choosen to be a root\n",
    "                right_trees = generate_trees(i + 1, end)\n",
    "                \n",
    "                # connect left and right subtrees to the root i\n",
    "                for l in left_trees:\n",
    "                    for r in right_trees:\n",
    "                        current_tree = TreeNode(i)\n",
    "                        current_tree.left = l\n",
    "                        current_tree.right = r\n",
    "                        all_trees.append(current_tree)\n",
    "            \n",
    "            return all_trees\n",
    "        \n",
    "        return generate_trees(1, n) if n else []"
   ]
  },
  {
   "cell_type": "code",
   "execution_count": null,
   "metadata": {},
   "outputs": [],
   "source": []
  },
  {
   "cell_type": "code",
   "execution_count": null,
   "metadata": {},
   "outputs": [],
   "source": []
  },
  {
   "cell_type": "code",
   "execution_count": null,
   "metadata": {},
   "outputs": [],
   "source": []
  }
 ],
 "metadata": {
  "kernelspec": {
   "display_name": "Python 3",
   "language": "python",
   "name": "python3"
  },
  "language_info": {
   "codemirror_mode": {
    "name": "ipython",
    "version": 3
   },
   "file_extension": ".py",
   "mimetype": "text/x-python",
   "name": "python",
   "nbconvert_exporter": "python",
   "pygments_lexer": "ipython3",
   "version": "3.7.6"
  }
 },
 "nbformat": 4,
 "nbformat_minor": 2
}
