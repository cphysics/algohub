{
 "cells": [
  {
   "cell_type": "markdown",
   "metadata": {},
   "source": [
    "### Maximum Depth of binary tree\n",
    "\n",
    "Given a binary tree, find its maximum depth.\n",
    "\n",
    "The maximum depth is the number of nodes along the longest path from the root node down to the farthest leaf node."
   ]
  },
  {
   "cell_type": "code",
   "execution_count": 1,
   "metadata": {},
   "outputs": [],
   "source": [
    "class TreeNode(object):\n",
    "    def __init__(self, val=0, left=None, right=None):\n",
    "        self.val = val\n",
    "        self.left = left\n",
    "        self.right = right"
   ]
  },
  {
   "cell_type": "markdown",
   "metadata": {},
   "source": [
    "- 1. Recursion(DFS)"
   ]
  },
  {
   "cell_type": "code",
   "execution_count": 2,
   "metadata": {},
   "outputs": [],
   "source": [
    "class Solution:\n",
    "    def maxDepth(self, root):\n",
    "        \"\"\"\n",
    "        :type root: TreeNode\n",
    "        :rtype: int\n",
    "        \"\"\" \n",
    "        if root is None: \n",
    "            return 0\n",
    "        \n",
    "        \n",
    "        else: \n",
    "            \n",
    "            left_height = self.maxDepth(root.left)\n",
    "            \n",
    "            right_height = self.maxDepth(root.right) \n",
    "            \n",
    "            return max(left_height, right_height) + 1 \n",
    "        "
   ]
  },
  {
   "cell_type": "markdown",
   "metadata": {},
   "source": [
    "- Complexity analysis\n",
    "\n",
    "- Time complexity : we visit each node exactly once, thus the time complexity is \\mathcal{O}(N)O(N), where NN is the number of nodes.\n",
    "\n",
    "- Space complexity : in the worst case, the tree is completely unbalanced, e.g. each node has only left child node, the recursion call would occur NN times (the height of the tree), therefore the storage to keep the call stack would be \\mathcal{O}(N)O(N). But in the best case (the tree is completely balanced), the height of the tree would be \\log(N)log(N). Therefore, the space complexity in this case would be \\mathcal{O}(\\log(N))O(log(N))."
   ]
  },
  {
   "cell_type": "markdown",
   "metadata": {},
   "source": [
    "- 2.Iteration"
   ]
  },
  {
   "cell_type": "code",
   "execution_count": 3,
   "metadata": {},
   "outputs": [],
   "source": [
    "class Solution:\n",
    "    def maxDepth(self, root):\n",
    "        \"\"\"\n",
    "        :type root: TreeNode\n",
    "        :rtype: int\n",
    "        \"\"\" \n",
    "        stack = []\n",
    "        if root is not None:\n",
    "            stack.append((1, root))\n",
    "        \n",
    "        depth = 0\n",
    "        while stack != []:\n",
    "            current_depth, root = stack.pop()\n",
    "            if root is not None:\n",
    "                depth = max(depth, current_depth)\n",
    "                stack.append((current_depth + 1, root.left))\n",
    "                stack.append((current_depth + 1, root.right))\n",
    "        \n",
    "        return depth"
   ]
  },
  {
   "cell_type": "markdown",
   "metadata": {},
   "source": [
    "- Complexity analysis\n",
    "\n",
    "- Time complexity : \\mathcal{O}(N)O(N).\n",
    "\n",
    "- Space complexity : in the worst case, the tree is completely unbalanced, e.g. each node has only left child node, the recursion call would occur NN times (the height of the tree), therefore the storage to keep the call stack would be \\mathcal{O}(N)O(N). But in the average case (the tree is balanced), the height of the tree would be \\log(N)log(N). Therefore, the space complexity in this case would be \\mathcal{O}(\\log(N))O(log(N))."
   ]
  },
  {
   "cell_type": "code",
   "execution_count": null,
   "metadata": {},
   "outputs": [],
   "source": []
  }
 ],
 "metadata": {
  "kernelspec": {
   "display_name": "Python 3",
   "language": "python",
   "name": "python3"
  },
  "language_info": {
   "codemirror_mode": {
    "name": "ipython",
    "version": 3
   },
   "file_extension": ".py",
   "mimetype": "text/x-python",
   "name": "python",
   "nbconvert_exporter": "python",
   "pygments_lexer": "ipython3",
   "version": "3.7.6"
  }
 },
 "nbformat": 4,
 "nbformat_minor": 4
}
