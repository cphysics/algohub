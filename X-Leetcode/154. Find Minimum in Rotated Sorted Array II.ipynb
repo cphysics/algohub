{
 "cells": [
  {
   "cell_type": "markdown",
   "metadata": {},
   "source": [
    "### Find Minimum in Rotated Sorted Array\n",
    "\n",
    "Suppose an array sorted in ascending order is rotated at some pivot unknown to you beforehand.\n",
    "\n",
    "(i.e.,  [0,1,2,4,5,6,7] might become  [4,5,6,7,0,1,2]).\n",
    "\n",
    "Find the minimum element.\n",
    "\n",
    "You may assume no duplicate exists in the array.\n",
    "\n",
    "Example 1:\n",
    "\n",
    "Input: [3,4,5,1,2] \n",
    "    \n",
    "Output: 1"
   ]
  },
  {
   "cell_type": "code",
   "execution_count": 44,
   "metadata": {},
   "outputs": [],
   "source": [
    "class Solution(object):\n",
    "    def findMin(self, nums):\n",
    "        \"\"\"\n",
    "        :type nums: List[int]\n",
    "        :rtype: int\n",
    "        \"\"\"\n",
    "        # If the list has just one element then return that element.\n",
    "        if len(nums) == 1:\n",
    "            return nums[0]\n",
    "\n",
    "        # left pointer\n",
    "        left = 0\n",
    "        # right pointer\n",
    "        right = len(nums) - 1\n",
    "\n",
    "        # if the last element is greater than the first element then there is no rotation.\n",
    "        # e.g. 1 < 2 < 3 < 4 < 5 < 7. Already sorted array.\n",
    "        # Hence the smallest element is first element. A[0]\n",
    "        if nums[right] > nums[0]:\n",
    "            return nums[0]\n",
    "\n",
    "        # Binary search way\n",
    "        while right >= left:\n",
    "            # Find the mid element\n",
    "            mid = left + (right - left) / 2\n",
    "            # if the mid element is greater than its next element then mid+1 element is the smallest\n",
    "            # This point would be the point of change. From higher to lower value.\n",
    "            if nums[mid] > nums[mid + 1]:\n",
    "                return nums[mid + 1]\n",
    "            # if the mid element is lesser than its previous element then mid element is the smallest\n",
    "            if nums[mid - 1] > nums[mid]:\n",
    "                return nums[mid]\n",
    "\n",
    "            # if the mid elements value is greater than the 0th element this means\n",
    "            # the least value is still somewhere to the right as we are still dealing with elements greater than nums[0]\n",
    "            if nums[mid] > nums[0]:\n",
    "                left = mid + 1\n",
    "            # if nums[0] is greater than the mid value then this means the smallest value is somewhere to the left\n",
    "            else:\n",
    "                right = mid - 1"
   ]
  },
  {
   "cell_type": "code",
   "execution_count": null,
   "metadata": {},
   "outputs": [],
   "source": []
  },
  {
   "cell_type": "code",
   "execution_count": null,
   "metadata": {},
   "outputs": [],
   "source": []
  }
 ],
 "metadata": {
  "kernelspec": {
   "display_name": "Python 3",
   "language": "python",
   "name": "python3"
  },
  "language_info": {
   "codemirror_mode": {
    "name": "ipython",
    "version": 3
   },
   "file_extension": ".py",
   "mimetype": "text/x-python",
   "name": "python",
   "nbconvert_exporter": "python",
   "pygments_lexer": "ipython3",
   "version": "3.7.6"
  }
 },
 "nbformat": 4,
 "nbformat_minor": 2
}
