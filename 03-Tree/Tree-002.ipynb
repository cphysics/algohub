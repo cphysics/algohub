{
 "cells": [
  {
   "cell_type": "markdown",
   "metadata": {},
   "source": [
    "## Tree (Medium)"
   ]
  },
  {
   "cell_type": "code",
   "execution_count": 15,
   "metadata": {},
   "outputs": [],
   "source": [
    "A = [i for i in range(1,16)]\n",
    "\n",
    "class Node():\n",
    "    def __init__(self,value):\n",
    "        self.value = value\n",
    "        self.left = None\n",
    "        self.right = None\n",
    "        \n",
    "\n",
    "def create(A):\n",
    "    if not A:\n",
    "        return\n",
    "    mid = len(A)//2\n",
    "    root = Node(A[mid])\n",
    "    root.left = create(A[:mid])\n",
    "    root.right = create(A[mid+1:])\n",
    "    return root"
   ]
  },
  {
   "cell_type": "code",
   "execution_count": 16,
   "metadata": {},
   "outputs": [],
   "source": [
    "Tree = create(A)"
   ]
  },
  {
   "cell_type": "markdown",
   "metadata": {},
   "source": [
    "### [Maximum Depth of Binary Tree](https://leetcode.com/problems/maximum-depth-of-binary-tree/) \n",
    "\n",
    "Given the root of a binary tree, return its maximum depth.\n",
    "\n",
    "A binary tree's maximum depth is the number of nodes along the longest path from the root node down to the farthest leaf node."
   ]
  },
  {
   "cell_type": "code",
   "execution_count": 17,
   "metadata": {},
   "outputs": [],
   "source": [
    "def findHeight(node):\n",
    "    \n",
    "    # when you hit the leaf node\n",
    "    if node is None:\n",
    "        return 0\n",
    "    \n",
    "    #postorder buttom up\n",
    "    else :\n",
    "        # you finish the left first\n",
    "        lheight = findHeight(node.left)\n",
    "        \n",
    "        # you finish the right later\n",
    "        rheight = findHeight(node.right)\n",
    "        \n",
    "    # remember to add root contribution, why max?\n",
    "    return max(lheight,rheight)+1"
   ]
  },
  {
   "cell_type": "code",
   "execution_count": 18,
   "metadata": {},
   "outputs": [
    {
     "data": {
      "text/plain": [
       "4"
      ]
     },
     "execution_count": 18,
     "metadata": {},
     "output_type": "execute_result"
    }
   ],
   "source": [
    "height(Tree)"
   ]
  },
  {
   "cell_type": "code",
   "execution_count": 13,
   "metadata": {},
   "outputs": [],
   "source": [
    "class Solution:\n",
    "    def maxDepth(self, root):\n",
    "        \"\"\"\n",
    "        :type root: TreeNode\n",
    "        :rtype: int\n",
    "        \"\"\" \n",
    "        stack = []\n",
    "        if root is not None:\n",
    "            stack.append((1, root))\n",
    "        \n",
    "        depth = 0\n",
    "        while stack != []:\n",
    "            current_depth, root = stack.pop()\n",
    "            if root is not None:\n",
    "                depth = max(depth, current_depth)\n",
    "                stack.append((current_depth + 1, root.left))\n",
    "                stack.append((current_depth + 1, root.right))\n",
    "        \n",
    "        return depth"
   ]
  },
  {
   "cell_type": "markdown",
   "metadata": {},
   "source": [
    "### Minimum depth of the tree (min)"
   ]
  },
  {
   "cell_type": "code",
   "execution_count": 19,
   "metadata": {},
   "outputs": [
    {
     "data": {
      "text/plain": [
       "4"
      ]
     },
     "execution_count": 19,
     "metadata": {},
     "output_type": "execute_result"
    }
   ],
   "source": [
    "def minHeight(root):\n",
    "    \n",
    "    #when you hit the leaf node\n",
    "    if root is None:\n",
    "        return 0\n",
    "    \n",
    "    #postorder buttom up\n",
    "    if root:\n",
    "        # you finish the left first\n",
    "        lheight = minHeight(root.left)\n",
    "        \n",
    "        # you finish the right later\n",
    "        rheight = minHeight(root.right)\n",
    "     \n",
    "    # remember to add root contribution. why min?\n",
    "    return 1 + min(lheight,rheight)\n",
    "\n",
    "minHeight(Tree)"
   ]
  },
  {
   "cell_type": "markdown",
   "metadata": {},
   "source": [
    "### Sum of all elements\n",
    "How do you sum the elements in binary tree?"
   ]
  },
  {
   "cell_type": "code",
   "execution_count": 20,
   "metadata": {},
   "outputs": [],
   "source": [
    "def nodeSum(root): \n",
    "    \n",
    "    #when you hit the leaf nodes\n",
    "    if root is None:\n",
    "        return 0\n",
    "    \n",
    "    \n",
    "    #preorder top down\n",
    "    if root:  \n",
    "        # here is nothing to min or max; just add all\n",
    "        return root.value + nodeSum(root.left) + nodeSum(root.right)\n",
    "    "
   ]
  },
  {
   "cell_type": "code",
   "execution_count": 21,
   "metadata": {},
   "outputs": [
    {
     "data": {
      "text/plain": [
       "120"
      ]
     },
     "execution_count": 21,
     "metadata": {},
     "output_type": "execute_result"
    }
   ],
   "source": [
    "nodeSum(Tree)"
   ]
  },
  {
   "cell_type": "markdown",
   "metadata": {},
   "source": [
    "### Maximum and Minimum element in Tree"
   ]
  },
  {
   "cell_type": "code",
   "execution_count": 22,
   "metadata": {},
   "outputs": [
    {
     "data": {
      "text/plain": [
       "15"
      ]
     },
     "execution_count": 22,
     "metadata": {},
     "output_type": "execute_result"
    }
   ],
   "source": [
    "def maxNode(root): \n",
    "    \n",
    "        # when you hit leaf nodes\n",
    "        if root is None:\n",
    "            return -float('inf')\n",
    "        \n",
    "        \n",
    "        #preorder top down\n",
    "        else:  \n",
    "            # go to left first\n",
    "            left_max = maxNode(root.left)\n",
    "            \n",
    "            # go to right \n",
    "            right_max = maxNode(root.right)\n",
    "            \n",
    "        \n",
    "        return max(root.value, max(left_max,right_max))\n",
    "    \n",
    "maxNode(Tree)"
   ]
  },
  {
   "cell_type": "code",
   "execution_count": 23,
   "metadata": {},
   "outputs": [
    {
     "data": {
      "text/plain": [
       "1"
      ]
     },
     "execution_count": 23,
     "metadata": {},
     "output_type": "execute_result"
    }
   ],
   "source": [
    "def minNode(root): \n",
    "    \n",
    "        if root is None:\n",
    "            return float('inf')\n",
    "        \n",
    "        else:  \n",
    "            left_max = minNode(root.left)\n",
    "            right_max = minNode(root.right)\n",
    "            \n",
    "        #preorder top down\n",
    "        return min(root.value, min(left_max,right_max))\n",
    "    \n",
    "minNode(Tree)"
   ]
  },
  {
   "cell_type": "markdown",
   "metadata": {},
   "source": [
    "### Symmetric Tree (normal not BST)"
   ]
  },
  {
   "cell_type": "code",
   "execution_count": 28,
   "metadata": {},
   "outputs": [],
   "source": [
    "def isSymmetric(root):\n",
    "    \n",
    "    def dfs(root1, root2):\n",
    "        \n",
    "        # what if both roots hav nothing\n",
    "        if not root1 and not root2:\n",
    "            return True\n",
    "        \n",
    "        # what if one of the roots is empty\n",
    "        if not root1 or not root2:\n",
    "            return False\n",
    "        \n",
    "        \n",
    "        return (root1.value == root2.value \n",
    "                and dfs(root1.left, root2.right)\n",
    "                and dfs(root1.right, root2.left))\n",
    "        \n",
    "    if root:\n",
    "        return dfs(root.left, root.right)\n",
    "    return True"
   ]
  },
  {
   "cell_type": "code",
   "execution_count": 29,
   "metadata": {},
   "outputs": [
    {
     "data": {
      "text/plain": [
       "False"
      ]
     },
     "execution_count": 29,
     "metadata": {},
     "output_type": "execute_result"
    }
   ],
   "source": [
    "isSymmetric(Tree)"
   ]
  },
  {
   "cell_type": "markdown",
   "metadata": {},
   "source": [
    "### [Same Tree](https://leetcode.com/problems/same-tree/)\n",
    "Given the roots of two binary trees p and q, write a function to check if they are the same or not.\n",
    "\n",
    "Two binary trees are considered the same if they are structurally identical, and the nodes have the same value."
   ]
  },
  {
   "cell_type": "code",
   "execution_count": 30,
   "metadata": {},
   "outputs": [],
   "source": [
    "def isSame(t1,t2):\n",
    "    \n",
    "    if t1 is None and t2 is None:\n",
    "        return True\n",
    "    \n",
    "    if not t1 or not t2:\n",
    "        return False\n",
    "    \n",
    "    else:\n",
    "        return t1.value == t2.value \\\n",
    "        and isSame(t1.left, t2.left) \\\n",
    "        and isSame(t1.right,t2.right)\n",
    "        \n",
    "    return False"
   ]
  },
  {
   "cell_type": "code",
   "execution_count": 31,
   "metadata": {},
   "outputs": [
    {
     "data": {
      "text/plain": [
       "True"
      ]
     },
     "execution_count": 31,
     "metadata": {},
     "output_type": "execute_result"
    }
   ],
   "source": [
    "isSame(Tree, Tree)"
   ]
  },
  {
   "cell_type": "code",
   "execution_count": null,
   "metadata": {},
   "outputs": [],
   "source": [
    "from collections import deque\n",
    "class Solution:\n",
    "    def isSameTree(self, p, q):\n",
    "        \"\"\"\n",
    "        :type p: TreeNode\n",
    "        :type q: TreeNode\n",
    "        :rtype: bool\n",
    "        \"\"\"    \n",
    "        def check(p, q):\n",
    "            # if both are None\n",
    "            if not p and not q:\n",
    "                return True\n",
    "            # one of p and q is None\n",
    "            if not q or not p:\n",
    "                return False\n",
    "            if p.val != q.val:\n",
    "                return False\n",
    "            return True\n",
    "        \n",
    "        deq = deque([(p, q),])\n",
    "        while deq:\n",
    "            p, q = deq.popleft()\n",
    "            if not check(p, q):\n",
    "                return False\n",
    "            \n",
    "            if p:\n",
    "                deq.append((p.left, q.left))\n",
    "                deq.append((p.right, q.right))\n",
    "                    \n",
    "        return True"
   ]
  },
  {
   "cell_type": "markdown",
   "metadata": {},
   "source": [
    "### [Invert a binary Tree](https://leetcode.com/problems/invert-binary-tree/)\n",
    "\n",
    "Given the root of a binary tree, invert the tree, and return its root.\n",
    "\n",
    "![img](https://assets.leetcode.com/uploads/2021/03/14/invert1-tree.jpg)"
   ]
  },
  {
   "cell_type": "code",
   "execution_count": null,
   "metadata": {},
   "outputs": [],
   "source": [
    "class Solution:\n",
    "    def invertTree(self, root: Optional[TreeNode]) -> Optional[TreeNode]:\n",
    "        if not root:\n",
    "            return None\n",
    "        \n",
    "        right = self.invertTree(root.right)\n",
    "        left = self.invertTree(root.left)\n",
    "        root.left = right\n",
    "        root.right = left\n",
    "        return root"
   ]
  },
  {
   "cell_type": "code",
   "execution_count": 33,
   "metadata": {},
   "outputs": [],
   "source": [
    "def invert(root):\n",
    "    \n",
    "    if root:\n",
    "        queue = [root]\n",
    "    \n",
    "        while len(queue)>0:\n",
    "        \n",
    "            temp = queue.pop(0)\n",
    "        \n",
    "            temp.left, temp.right = temp.right, temp.left\n",
    "        \n",
    "            if temp.left:\n",
    "                queue.append(temp.left)\n",
    "            if temp.right:\n",
    "                queue.append(temp.right)\n",
    "        \n",
    "    return root\n",
    "\n",
    "iTree = invert(Tree)"
   ]
  },
  {
   "cell_type": "markdown",
   "metadata": {},
   "source": [
    "###  Collect Leaf nodes"
   ]
  },
  {
   "cell_type": "code",
   "execution_count": 141,
   "metadata": {},
   "outputs": [],
   "source": [
    "def collectLeaf(root):\n",
    "    \n",
    "    def helper(A,root):\n",
    "        if root is None:\n",
    "            return\n",
    "    \n",
    "        if root and root.right is None and root.left is None:\n",
    "            A.append(root.value)\n",
    "        else:\n",
    "            helper(A,root.left)\n",
    "            helper(A,root.right)\n",
    "        return\n",
    "        \n",
    "    A =[]\n",
    "    helper(A,root)\n",
    "    return A"
   ]
  },
  {
   "cell_type": "markdown",
   "metadata": {},
   "source": [
    "![img](https://encrypted-tbn0.gstatic.com/images?q=tbn:ANd9GcTzHTVUXfmjhlJo7rEYknB7ClRDqnQ_ZTHYpw&usqp=CAU)"
   ]
  },
  {
   "cell_type": "code",
   "execution_count": 142,
   "metadata": {},
   "outputs": [
    {
     "data": {
      "text/plain": [
       "[1, 3, 5, 7, 9, 11, 13, 15]"
      ]
     },
     "execution_count": 142,
     "metadata": {},
     "output_type": "execute_result"
    }
   ],
   "source": [
    "collectLeaf(Tree)"
   ]
  },
  {
   "cell_type": "markdown",
   "metadata": {},
   "source": [
    "###  Collect root to leaf sum of each path"
   ]
  },
  {
   "cell_type": "code",
   "execution_count": 177,
   "metadata": {},
   "outputs": [
    {
     "data": {
      "text/plain": [
       "[15, 17, 23, 25, 39, 41, 47, 49]"
      ]
     },
     "execution_count": 177,
     "metadata": {},
     "output_type": "execute_result"
    }
   ],
   "source": [
    "def findSum(root):\n",
    "    A = []\n",
    "    currentSum=0\n",
    "    def helper(root, currentSum):\n",
    "        \n",
    "        if root is None:\n",
    "            return\n",
    "        \n",
    "        currentSum = currentSum + root.value\n",
    "        \n",
    "        if root and root.right is None and root.left is None:\n",
    "            A.append(currentSum)\n",
    "            \n",
    "       \n",
    "        helper(root.left, currentSum)\n",
    "        helper(root.right, currentSum)\n",
    "        \n",
    "        return\n",
    "\n",
    "\n",
    "    helper(root,currentSum)\n",
    "    return A\n",
    "    \n",
    "findSum(Tree)        "
   ]
  },
  {
   "cell_type": "markdown",
   "metadata": {},
   "source": [
    "### Is there a path with given sum?"
   ]
  },
  {
   "cell_type": "code",
   "execution_count": 187,
   "metadata": {},
   "outputs": [
    {
     "data": {
      "text/plain": [
       "True"
      ]
     },
     "execution_count": 187,
     "metadata": {},
     "output_type": "execute_result"
    }
   ],
   "source": [
    "def isSum(root, Sum):\n",
    "        \n",
    "        if root is None:\n",
    "            return False\n",
    "        \n",
    "        Sum  -= root.value\n",
    "        \n",
    "        if root and root.right is None and root.left is None:\n",
    "            return Sum==0\n",
    "                \n",
    "        return isSum(root.left, Sum) or isSum(root.right,Sum)\n",
    "    \n",
    "isSum(Tree,15)"
   ]
  },
  {
   "cell_type": "markdown",
   "metadata": {},
   "source": [
    "### [Binary Tree Maximum Path Sum](https://leetcode.com/problems/binary-tree-maximum-path-sum/)\n",
    "\n",
    "A path in a binary tree is a sequence of nodes where each pair of adjacent nodes in the sequence has an edge connecting them. A node can only appear in the sequence at most once. Note that the path does not need to pass through the root.\n",
    "\n",
    "The path sum of a path is the sum of the node's values in the path.\n",
    "\n",
    "Given the root of a binary tree, return the maximum path sum of any non-empty path.\n",
    "\n"
   ]
  },
  {
   "cell_type": "code",
   "execution_count": 14,
   "metadata": {},
   "outputs": [],
   "source": [
    "class Solution:\n",
    "    def maxPathSum(self, root):\n",
    "        \"\"\"\n",
    "        :type root: TreeNode\n",
    "        :rtype: int\n",
    "        \"\"\"\n",
    "        def max_gain(node):\n",
    "            nonlocal max_sum\n",
    "            if not node:\n",
    "                return 0\n",
    "\n",
    "            # max sum on the left and right sub-trees of node\n",
    "            left_gain = max(max_gain(node.left), 0)\n",
    "            right_gain = max(max_gain(node.right), 0)\n",
    "            \n",
    "            # the price to start a new path where `node` is a highest node\n",
    "            price_newpath = node.val + left_gain + right_gain\n",
    "            \n",
    "            # update max_sum if it's better to start a new path\n",
    "            max_sum = max(max_sum, price_newpath)\n",
    "        \n",
    "            # for recursion :\n",
    "            # return the max gain if continue the same path\n",
    "            return node.val + max(left_gain, right_gain)\n",
    "   \n",
    "        max_sum = float('-inf')\n",
    "        max_gain(root)\n",
    "        return max_sum"
   ]
  },
  {
   "cell_type": "markdown",
   "metadata": {},
   "source": [
    "### Lief similar tree"
   ]
  },
  {
   "cell_type": "code",
   "execution_count": 11,
   "metadata": {},
   "outputs": [],
   "source": [
    "class Solution:\n",
    "    \n",
    "    def leafSimilar(self, root1, root2):\n",
    "        \n",
    "        def dfs(node):\n",
    "            if node:\n",
    "                if not node.left and not node.right:\n",
    "                    yield node.val\n",
    "                yield from dfs(node.left)\n",
    "                yield from dfs(node.right)\n",
    "            return\n",
    "        return list(dfs(root1)) == list(dfs(root2))"
   ]
  },
  {
   "cell_type": "markdown",
   "metadata": {},
   "source": [
    "### Univalued Binary Tree\n",
    "A binary tree is univalued if every node in the tree has the same value.\n",
    "Return true if and only if the given tree is univalued."
   ]
  },
  {
   "cell_type": "code",
   "execution_count": 12,
   "metadata": {},
   "outputs": [],
   "source": [
    "class Solution(object):\n",
    "    def isUnivalTree(self, root):\n",
    "        vals = []\n",
    "        def dfs(node):\n",
    "            if node:\n",
    "                vals.append(node.val)\n",
    "                dfs(node.left)\n",
    "                dfs(node.right)\n",
    "            return\n",
    "        dfs(root)\n",
    "        return len(set(vals)) == 1"
   ]
  },
  {
   "cell_type": "code",
   "execution_count": null,
   "metadata": {},
   "outputs": [],
   "source": []
  }
 ],
 "metadata": {
  "kernelspec": {
   "display_name": "Python 3",
   "language": "python",
   "name": "python3"
  },
  "language_info": {
   "codemirror_mode": {
    "name": "ipython",
    "version": 3
   },
   "file_extension": ".py",
   "mimetype": "text/x-python",
   "name": "python",
   "nbconvert_exporter": "python",
   "pygments_lexer": "ipython3",
   "version": "3.8.8"
  }
 },
 "nbformat": 4,
 "nbformat_minor": 2
}
