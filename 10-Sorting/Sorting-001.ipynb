{
 "cells": [
  {
   "cell_type": "markdown",
   "id": "7018d9d1",
   "metadata": {},
   "source": [
    "## All Sorting"
   ]
  },
  {
   "cell_type": "markdown",
   "id": "244c955f",
   "metadata": {},
   "source": [
    "### 1. Selection sort"
   ]
  },
  {
   "cell_type": "code",
   "execution_count": 1,
   "id": "0e436525",
   "metadata": {},
   "outputs": [
    {
     "name": "stdout",
     "output_type": "stream",
     "text": [
      "Sorted array\n",
      "11 12 22 25 64 "
     ]
    }
   ],
   "source": [
    "# Python program for implementation of Selection\n",
    "# Sort\n",
    "import sys\n",
    "A = [64, 25, 12, 22, 11]\n",
    "\n",
    "# Traverse through all array elements\n",
    "for i in range(len(A)):\n",
    "\t\n",
    "\t# Find the minimum element in remaining\n",
    "\t# unsorted array\n",
    "\tmin_idx = i\n",
    "\tfor j in range(i+1, len(A)):\n",
    "\t\tif A[min_idx] > A[j]:\n",
    "\t\t\tmin_idx = j\n",
    "\t\t\t\n",
    "\t# Swap the found minimum element with\n",
    "\t# the first element\t\t\n",
    "\tA[i], A[min_idx] = A[min_idx], A[i]\n",
    "\n",
    "# Driver code to test above\n",
    "print (\"Sorted array\")\n",
    "for i in range(len(A)):\n",
    "\tprint(\"%d\" %A[i],end=\" \")"
   ]
  },
  {
   "cell_type": "markdown",
   "id": "3675fe64",
   "metadata": {},
   "source": [
    "### 2.0 Bubble sort"
   ]
  },
  {
   "cell_type": "code",
   "execution_count": 2,
   "id": "43bcb310",
   "metadata": {},
   "outputs": [
    {
     "name": "stdout",
     "output_type": "stream",
     "text": [
      "Sorted array is:\n",
      "11 12 22 25 34 64 90 "
     ]
    }
   ],
   "source": [
    "# Python program for implementation of Bubble Sort\n",
    "\n",
    "\n",
    "def bubbleSort(arr):\n",
    "\tn = len(arr)\n",
    "\n",
    "\t# Traverse through all array elements\n",
    "\tfor i in range(n):\n",
    "\n",
    "\t\t# Last i elements are already in place\n",
    "\t\tfor j in range(0, n-i-1):\n",
    "\n",
    "\t\t\t# traverse the array from 0 to n-i-1\n",
    "\t\t\t# Swap if the element found is greater\n",
    "\t\t\t# than the next element\n",
    "\t\t\tif arr[j] > arr[j+1]:\n",
    "\t\t\t\tarr[j], arr[j+1] = arr[j+1], arr[j]\n",
    "\n",
    "\n",
    "# Driver code to test above\n",
    "arr = [64, 34, 25, 12, 22, 11, 90]\n",
    "\n",
    "bubbleSort(arr)\n",
    "\n",
    "print(\"Sorted array is:\")\n",
    "for i in range(len(arr)):\n",
    "\tprint(\"%d\" % arr[i], end=\" \")\n",
    "\n"
   ]
  },
  {
   "cell_type": "markdown",
   "id": "7bbdf0d8",
   "metadata": {},
   "source": [
    "### 3.0 Insertion sort"
   ]
  },
  {
   "cell_type": "markdown",
   "id": "9fcd88a8",
   "metadata": {},
   "source": [
    "![pic](pic/insertionsort.png)"
   ]
  },
  {
   "cell_type": "code",
   "execution_count": 3,
   "id": "fd92faf6",
   "metadata": {},
   "outputs": [
    {
     "name": "stdout",
     "output_type": "stream",
     "text": [
      " 5\n",
      " 6\n",
      " 11\n",
      " 12\n",
      " 13\n"
     ]
    }
   ],
   "source": [
    "# Python program for implementation of Insertion Sort\n",
    "\n",
    "# Function to do insertion sort\n",
    "def insertionSort(arr):\n",
    "\n",
    "\t# Traverse through 1 to len(arr)\n",
    "\tfor i in range(1, len(arr)):\n",
    "\n",
    "\t\tkey = arr[i]\n",
    "\n",
    "\t\t# Move elements of arr[0..i-1], that are\n",
    "\t\t# greater than key, to one position ahead\n",
    "\t\t# of their current position\n",
    "\t\tj = i-1\n",
    "\t\twhile j >= 0 and key < arr[j] :\n",
    "\t\t\t\tarr[j + 1] = arr[j]\n",
    "\t\t\t\tj -= 1\n",
    "\t\tarr[j + 1] = key\n",
    "\n",
    "\n",
    "# Driver code to test above\n",
    "arr = [12, 11, 13, 5, 6]\n",
    "insertionSort(arr)\n",
    "for i in range(len(arr)):\n",
    "\tprint (\"% d\" % arr[i])\n",
    "\n",
    "# This code is contributed by Mohit Kumra\n",
    "\n"
   ]
  },
  {
   "cell_type": "markdown",
   "id": "276949c6",
   "metadata": {},
   "source": [
    "### 4. Merge sort"
   ]
  },
  {
   "cell_type": "markdown",
   "id": "3680d4d1",
   "metadata": {},
   "source": [
    "![pic](pic/msort.png)"
   ]
  },
  {
   "cell_type": "code",
   "execution_count": 5,
   "id": "97e23dd7",
   "metadata": {},
   "outputs": [
    {
     "name": "stdout",
     "output_type": "stream",
     "text": [
      "Given array is\n",
      "12 11 13 5 6 7 \n",
      "Sorted array is: \n",
      "5 6 7 11 12 13 \n"
     ]
    }
   ],
   "source": [
    "# Python program for implementation of MergeSort\n",
    "def mergeSort(arr):\n",
    "\tif len(arr) > 1:\n",
    "\n",
    "\t\t# Finding the mid of the array\n",
    "\t\tmid = len(arr)//2\n",
    "\n",
    "\t\t# Dividing the array elements\n",
    "\t\tL = arr[:mid]\n",
    "\n",
    "\t\t# into 2 halves\n",
    "\t\tR = arr[mid:]\n",
    "\n",
    "\t\t# Sorting the first half\n",
    "\t\tmergeSort(L)\n",
    "\n",
    "\t\t# Sorting the second half\n",
    "\t\tmergeSort(R)\n",
    "\n",
    "\t\ti = j = k = 0\n",
    "\n",
    "\t\t# Copy data to temp arrays L[] and R[]\n",
    "\t\twhile i < len(L) and j < len(R):\n",
    "\t\t\tif L[i] < R[j]:\n",
    "\t\t\t\tarr[k] = L[i]\n",
    "\t\t\t\ti += 1\n",
    "\t\t\telse:\n",
    "\t\t\t\tarr[k] = R[j]\n",
    "\t\t\t\tj += 1\n",
    "\t\t\tk += 1\n",
    "\n",
    "\t\t# Checking if any element was left\n",
    "\t\twhile i < len(L):\n",
    "\t\t\tarr[k] = L[i]\n",
    "\t\t\ti += 1\n",
    "\t\t\tk += 1\n",
    "\n",
    "\t\twhile j < len(R):\n",
    "\t\t\tarr[k] = R[j]\n",
    "\t\t\tj += 1\n",
    "\t\t\tk += 1\n",
    "\n",
    "# Code to print the list\n",
    "\n",
    "\n",
    "def printList(arr):\n",
    "\tfor i in range(len(arr)):\n",
    "\t\tprint(arr[i], end=\" \")\n",
    "\tprint()\n",
    "\n",
    "\n",
    "# Driver Code\n",
    "if __name__ == '__main__':\n",
    "\tarr = [12, 11, 13, 5, 6, 7]\n",
    "\tprint(\"Given array is\", end=\"\\n\")\n",
    "\tprintList(arr)\n",
    "\tmergeSort(arr)\n",
    "\tprint(\"Sorted array is: \", end=\"\\n\")\n",
    "\tprintList(arr)\n",
    "\n",
    "# This code is contributed by Mayank Khanna\n",
    "\n"
   ]
  },
  {
   "cell_type": "markdown",
   "id": "a4b5c6d8",
   "metadata": {},
   "source": [
    "### 5. Quick Sort"
   ]
  },
  {
   "cell_type": "markdown",
   "id": "37b1f5a9",
   "metadata": {},
   "source": [
    "![pic](pic/qsort.png)"
   ]
  },
  {
   "cell_type": "code",
   "execution_count": null,
   "id": "b97aba27",
   "metadata": {},
   "outputs": [],
   "source": [
    "# Python3 implementation of QuickSort\n",
    "\n",
    "\n",
    "# Function to find the partition position\n",
    "def partition(array, low, high):\n",
    "\n",
    "# Choose the rightmost element as pivot\n",
    "pivot = array[high]\n",
    "\n",
    "# Pointer for greater element\n",
    "i = low - 1\n",
    "\n",
    "# Traverse through all elements\n",
    "# compare each element with pivot\n",
    "for j in range(low, high):\n",
    "\tif array[j] <= pivot:\n",
    "\t# If element smaller than pivot is found\n",
    "\t# swap it with the greater element pointed by i\n",
    "\ti = i + 1\n",
    "\n",
    "\t# Swapping element at i with element at j\n",
    "\t(array[i], array[j]) = (array[j], array[i])\n",
    "\n",
    "# Swap the pivot element with the greater element specified by i\n",
    "(array[i + 1], array[high]) = (array[high], array[i + 1])\n",
    "\n",
    "# Return the position from where partition is done\n",
    "return i + 1\n",
    "\n",
    "# Function to perform quicksort\n",
    "def quick_sort(array, low, high):\n",
    "if low < high:\n",
    "\n",
    "\t# Find pivot element such that\n",
    "\t# element smaller than pivot are on the left\n",
    "\t# element greater than pivot are on the right\n",
    "\tpi = partition(array, low, high)\n",
    "\n",
    "\t# Recursive call on the left of pivot\n",
    "\tquick_sort(array, low, pi - 1)\n",
    "\n",
    "\t# Recursive call on the right of pivot\n",
    "\tquick_sort(array, pi + 1, high)\n",
    "\n",
    "\n",
    "\t\t\n",
    "# Driver code\n",
    "array = [ 10, 7, 8, 9, 1, 5]\n",
    "quick_sort(array, 0, len(array) - 1)\n",
    "\n",
    "print(f'Sorted array: {array}')\n",
    "\t\n",
    "# This code is contributed by Adnan Aliakbar\n",
    "\n"
   ]
  },
  {
   "cell_type": "markdown",
   "id": "fcbaecdd",
   "metadata": {},
   "source": [
    "### 6. Heap sort"
   ]
  },
  {
   "cell_type": "code",
   "execution_count": null,
   "id": "fc6b0c02",
   "metadata": {},
   "outputs": [],
   "source": [
    "# Python program for implementation of heap Sort\n",
    "\n",
    "# To heapify subtree rooted at index i.\n",
    "# n is size of heap\n",
    "\n",
    "\n",
    "def heapify(arr, n, i):\n",
    "\tlargest = i # Initialize largest as root\n",
    "\tl = 2 * i + 1\t # left = 2*i + 1\n",
    "\tr = 2 * i + 2\t # right = 2*i + 2\n",
    "\n",
    "\t# See if left child of root exists and is\n",
    "\t# greater than root\n",
    "\tif l < n and arr[largest] < arr[l]:\n",
    "\t\tlargest = l\n",
    "\n",
    "\t# See if right child of root exists and is\n",
    "\t# greater than root\n",
    "\tif r < n and arr[largest] < arr[r]:\n",
    "\t\tlargest = r\n",
    "\n",
    "\t# Change root, if needed\n",
    "\tif largest != i:\n",
    "\t\tarr[i], arr[largest] = arr[largest], arr[i] # swap\n",
    "\n",
    "\t\t# Heapify the root.\n",
    "\t\theapify(arr, n, largest)\n",
    "\n",
    "# The main function to sort an array of given size\n",
    "\n",
    "\n",
    "def heapSort(arr):\n",
    "\tn = len(arr)\n",
    "\n",
    "\t# Build a maxheap.\n",
    "\tfor i in range(n//2 - 1, -1, -1):\n",
    "\t\theapify(arr, n, i)\n",
    "\n",
    "\t# One by one extract elements\n",
    "\tfor i in range(n-1, 0, -1):\n",
    "\t\tarr[i], arr[0] = arr[0], arr[i] # swap\n",
    "\t\theapify(arr, i, 0)\n",
    "\n",
    "\n",
    "# Driver code\n",
    "arr = [12, 11, 13, 5, 6, 7]\n",
    "heapSort(arr)\n",
    "n = len(arr)\n",
    "print(\"Sorted array is\")\n",
    "for i in range(n):\n",
    "\tprint(\"%d\" % arr[i],end=\" \")\n",
    "# This code is contributed by Mohit Kumra\n",
    "\n"
   ]
  },
  {
   "cell_type": "code",
   "execution_count": null,
   "id": "3083ddb9",
   "metadata": {},
   "outputs": [],
   "source": []
  },
  {
   "cell_type": "code",
   "execution_count": null,
   "id": "a6601e1b",
   "metadata": {},
   "outputs": [],
   "source": []
  },
  {
   "cell_type": "code",
   "execution_count": null,
   "id": "0697559b",
   "metadata": {},
   "outputs": [],
   "source": []
  },
  {
   "cell_type": "code",
   "execution_count": null,
   "id": "4ec05158",
   "metadata": {},
   "outputs": [],
   "source": []
  }
 ],
 "metadata": {
  "kernelspec": {
   "display_name": "Python 3",
   "language": "python",
   "name": "python3"
  },
  "language_info": {
   "codemirror_mode": {
    "name": "ipython",
    "version": 3
   },
   "file_extension": ".py",
   "mimetype": "text/x-python",
   "name": "python",
   "nbconvert_exporter": "python",
   "pygments_lexer": "ipython3",
   "version": "3.8.8"
  }
 },
 "nbformat": 4,
 "nbformat_minor": 5
}
