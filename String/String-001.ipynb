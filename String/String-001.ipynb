{
 "cells": [
  {
   "cell_type": "markdown",
   "id": "e58e27ea",
   "metadata": {},
   "source": [
    "# String"
   ]
  },
  {
   "cell_type": "markdown",
   "id": "d8761183",
   "metadata": {},
   "source": [
    "Given a array of N strings, find the longest common prefix among all strings present in the array."
   ]
  },
  {
   "cell_type": "code",
   "execution_count": 1,
   "id": "78917665",
   "metadata": {},
   "outputs": [],
   "source": [
    "\n",
    "# A python3 Program to find the longest \n",
    "# common prefix\n",
    "\n",
    "# A Utility Function to find the common \n",
    "# prefix between strings- str1 and str2\n",
    "def commonPrefixUtil(str1, str2):\n",
    "\n",
    "    result = \"\";\n",
    "    n1 = len(str1)\n",
    "    n2 = len(str2)\n",
    "\n",
    "    # Compare str1 and str2\n",
    "    i = 0\n",
    "    j = 0\n",
    "    while i <= n1 - 1 and j <= n2 - 1:\n",
    "    \n",
    "        if (str1[i] != str2[j]):\n",
    "            break\n",
    "            \n",
    "        result += str1[i]\n",
    "        i += 1\n",
    "        j += 1\n",
    "\n",
    "    return (result)\n",
    "\n",
    "# A Function that returns the longest \n",
    "# common prefix from the array of strings\n",
    "def commonPrefix (arr, n):\n",
    "\n",
    "    prefix = arr[0]\n",
    "\n",
    "    for i in range (1, n):\n",
    "        prefix = commonPrefixUtil(prefix, arr[i])\n",
    "\n",
    "    return (prefix)"
   ]
  },
  {
   "cell_type": "code",
   "execution_count": 2,
   "id": "42407850",
   "metadata": {},
   "outputs": [
    {
     "name": "stdout",
     "output_type": "stream",
     "text": [
      "The longest common prefix is - gee\n"
     ]
    }
   ],
   "source": [
    "# Driver Code\n",
    "if __name__ ==\"__main__\":\n",
    "\n",
    "    arr = [\"geeksforgeeks\", \"geeks\",\n",
    "                    \"geek\", \"geezer\"]\n",
    "    n = len(arr)\n",
    "\n",
    "    ans = commonPrefix(arr, n)\n",
    "\n",
    "    if (len(ans)):\n",
    "        print (\"The longest common prefix is -\",\n",
    "                ans);\n",
    "    else:\n",
    "        print(\"There is no common prefix\")\n",
    "\n",
    "# This code is contributed by ita_c\n",
    "\n"
   ]
  },
  {
   "cell_type": "code",
   "execution_count": null,
   "id": "c1ba6250",
   "metadata": {},
   "outputs": [],
   "source": []
  },
  {
   "cell_type": "code",
   "execution_count": null,
   "id": "2bef8d1a",
   "metadata": {},
   "outputs": [],
   "source": []
  },
  {
   "cell_type": "code",
   "execution_count": null,
   "id": "81a0b944",
   "metadata": {},
   "outputs": [],
   "source": []
  },
  {
   "cell_type": "code",
   "execution_count": null,
   "id": "0e94f0b9",
   "metadata": {},
   "outputs": [],
   "source": []
  },
  {
   "cell_type": "code",
   "execution_count": null,
   "id": "08351d6a",
   "metadata": {},
   "outputs": [],
   "source": []
  },
  {
   "cell_type": "code",
   "execution_count": null,
   "id": "aa6cd035",
   "metadata": {},
   "outputs": [],
   "source": []
  }
 ],
 "metadata": {
  "kernelspec": {
   "display_name": "Python 3",
   "language": "python",
   "name": "python3"
  },
  "language_info": {
   "codemirror_mode": {
    "name": "ipython",
    "version": 3
   },
   "file_extension": ".py",
   "mimetype": "text/x-python",
   "name": "python",
   "nbconvert_exporter": "python",
   "pygments_lexer": "ipython3",
   "version": "3.8.8"
  }
 },
 "nbformat": 4,
 "nbformat_minor": 5
}
