{
 "cells": [
  {
   "cell_type": "markdown",
   "metadata": {},
   "source": [
    "### Stack"
   ]
  },
  {
   "cell_type": "markdown",
   "metadata": {},
   "source": [
    "### 202. Happy Number\n",
    "\n",
    "Write an algorithm to determine if a number n is \"happy\".\n",
    "\n",
    "A happy number is a number defined by the following process: Starting with any positive integer, replace the number by the sum of the squares of its digits, and repeat the process until the number equals 1 (where it will stay), or it loops endlessly in a cycle which does not include 1. Those numbers for which this process ends in 1 are happy numbers.\n",
    "\n",
    "Return True if n is a happy number, and False if not."
   ]
  },
  {
   "cell_type": "code",
   "execution_count": 10,
   "metadata": {},
   "outputs": [],
   "source": [
    "def ishappy(k):\n",
    "    r = k%10\n",
    "    t = k//10\n",
    "    print(t,r)\n",
    "    if t**2 + r**2 == 1:\n",
    "        return True\n",
    "    else:\n",
    "        ishappy(t**2 + r**2)\n",
    "    "
   ]
  },
  {
   "cell_type": "code",
   "execution_count": 15,
   "metadata": {},
   "outputs": [
    {
     "data": {
      "text/plain": [
       "(1245, 3)"
      ]
     },
     "execution_count": 15,
     "metadata": {},
     "output_type": "execute_result"
    }
   ],
   "source": [
    "divmod(12453,10)"
   ]
  },
  {
   "cell_type": "code",
   "execution_count": 24,
   "metadata": {},
   "outputs": [],
   "source": [
    "def isHappy( n):\n",
    "\n",
    "    def get_next(n):\n",
    "        total_sum = 0\n",
    "        while n > 0:\n",
    "            n, digit = divmod(n, 10)\n",
    "            print(n,digit)\n",
    "            total_sum += digit ** 2\n",
    "        return total_sum\n",
    "\n",
    "    seen = set()\n",
    "    while n != 1 and n not in seen:\n",
    "        seen.add(n)\n",
    "        n = get_next(n)\n",
    "    print(seen)\n",
    "\n",
    "    return n == 1"
   ]
  },
  {
   "cell_type": "code",
   "execution_count": 25,
   "metadata": {},
   "outputs": [
    {
     "name": "stdout",
     "output_type": "stream",
     "text": [
      "1 5\n",
      "0 1\n",
      "2 6\n",
      "0 2\n",
      "4 0\n",
      "0 4\n",
      "1 6\n",
      "0 1\n",
      "3 7\n",
      "0 3\n",
      "5 8\n",
      "0 5\n",
      "8 9\n",
      "0 8\n",
      "14 5\n",
      "1 4\n",
      "0 1\n",
      "4 2\n",
      "0 4\n",
      "2 0\n",
      "0 2\n",
      "0 4\n",
      "{58, 37, 4, 40, 42, 15, 16, 145, 20, 89, 26}\n"
     ]
    },
    {
     "data": {
      "text/plain": [
       "False"
      ]
     },
     "execution_count": 25,
     "metadata": {},
     "output_type": "execute_result"
    }
   ],
   "source": [
    "isHappy(15)"
   ]
  },
  {
   "cell_type": "code",
   "execution_count": 23,
   "metadata": {},
   "outputs": [
    {
     "name": "stdout",
     "output_type": "stream",
     "text": [
      "1 9\n",
      "0 1\n",
      "8 2\n",
      "0 8\n",
      "6 8\n",
      "0 6\n",
      "10 0\n",
      "1 0\n",
      "0 1\n"
     ]
    },
    {
     "data": {
      "text/plain": [
       "True"
      ]
     },
     "execution_count": 23,
     "metadata": {},
     "output_type": "execute_result"
    }
   ],
   "source": [
    "isHappy(19)"
   ]
  },
  {
   "cell_type": "markdown",
   "metadata": {},
   "source": [
    "### Gas Station\n",
    "\n",
    "There are N gas stations along a circular route, where the amount of gas at station i is gas[i].\n",
    "\n",
    "You have a car with an unlimited gas tank and it costs cost[i] of gas to travel from station i to its next station (i+1). You begin the journey with an empty tank at one of the gas stations.\n",
    "\n",
    "Return the starting gas station's index if you can travel around the circuit once in the clockwise direction, otherwise return -1."
   ]
  },
  {
   "cell_type": "markdown",
   "metadata": {},
   "source": [
    "    Input: \n",
    "    gas  = [1,2,3,4,5]\n",
    "    cost = [3,4,5,1,2]\n",
    "\n",
    "    Output: 3\n",
    "\n",
    "    Explanation:\n",
    "    Start at station 3 (index 3) and fill up with 4 unit of gas. Your tank = 0 + 4 = 4\n",
    "    Travel to station 4. Your tank = 4 - 1 + 5 = 8\n",
    "    Travel to station 0. Your tank = 8 - 2 + 1 = 7\n",
    "    Travel to station 1. Your tank = 7 - 3 + 2 = 6\n",
    "    Travel to station 2. Your tank = 6 - 4 + 3 = 5\n",
    "    Travel to station 3. The cost is 5. Your gas is just enough to travel back to station 3.\n",
    "    Therefore, return 3 as the starting index.'''"
   ]
  },
  {
   "cell_type": "code",
   "execution_count": 26,
   "metadata": {},
   "outputs": [],
   "source": [
    "class Solution:\n",
    "    def canCompleteCircuit(self, gas, cost):\n",
    "        \"\"\"\n",
    "        :type gas: List[int]\n",
    "        :type cost: List[int]\n",
    "        :rtype: int\n",
    "        \"\"\"\n",
    "        n = len(gas)\n",
    "        \n",
    "        total_tank, curr_tank = 0, 0\n",
    "        starting_station = 0\n",
    "        for i in range(n):\n",
    "            total_tank += gas[i] - cost[i]\n",
    "            curr_tank += gas[i] - cost[i]\n",
    "            # If one couldn't get here,\n",
    "            if curr_tank < 0:\n",
    "                # Pick up the next station as the starting one.\n",
    "                starting_station = i + 1\n",
    "                # Start with an empty tank.\n",
    "                curr_tank = 0\n",
    "        \n",
    "        return starting_station if total_tank >= 0 else -1"
   ]
  },
  {
   "cell_type": "markdown",
   "metadata": {},
   "source": [
    "### Min Stack\n",
    "\n",
    "Design a stack that supports push, pop, top, and retrieving the minimum element in constant time.\n",
    "\n",
    "    push(x) -- Push element x onto stack.\n",
    "    pop() -- Removes the element on top of the stack.\n",
    "    top() -- Get the top element.\n",
    "    getMin() -- Retrieve the minimum element in the stack."
   ]
  },
  {
   "cell_type": "code",
   "execution_count": 28,
   "metadata": {},
   "outputs": [],
   "source": [
    "class MinStack:\n",
    "\n",
    "    def __init__(self):\n",
    "        self.stack = []\n",
    "        \n",
    "\n",
    "    def push(self, x: int) -> None:\n",
    "        \n",
    "        # If the stack is empty, then the min value\n",
    "        # must just be the first value we add\n",
    "        if not self.stack:\n",
    "            self.stack.append((x, x))\n",
    "            return\n",
    "\n",
    "        current_min = self.stack[-1][1]\n",
    "        self.stack.append((x, min(x, current_min)))\n",
    "        \n",
    "        \n",
    "    def pop(self) -> None:\n",
    "        self.stack.pop()\n",
    "        \n",
    "\n",
    "    def top(self) -> int:\n",
    "        return self.stack[-1][0]\n",
    "        \n",
    "\n",
    "    def getMin(self) -> int:\n",
    "        return self.stack[-1][1]"
   ]
  },
  {
   "cell_type": "markdown",
   "metadata": {},
   "source": [
    "### Validate Stack Sequences\n",
    "\n",
    "Given two sequences pushed and popped with distinct values, return true if and only if this could have been the result of a sequence of push and pop operations on an initially empty stack.\n",
    "\n",
    " \n",
    "\n",
    "    Example 1:\n",
    "\n",
    "    Input: pushed = [1,2,3,4,5], popped = [4,5,3,2,1]\n",
    "    Output: true\n",
    "    Explanation: We might do the following sequence:\n",
    "    push(1), push(2), push(3), push(4), pop() -> 4,\n",
    "    push(5), pop() -> 5, pop() -> 3, pop() -> 2, pop() -> 1\n",
    "    Example 2:\n",
    "\n",
    "    Input: pushed = [1,2,3,4,5], popped = [4,3,5,1,2]\n",
    "    Output: false\n",
    "    Explanation: 1 cannot be popped before 2."
   ]
  },
  {
   "cell_type": "code",
   "execution_count": 29,
   "metadata": {},
   "outputs": [],
   "source": [
    "class Solution(object):\n",
    "    def validateStackSequences(self, pushed, popped):\n",
    "        j = 0\n",
    "        stack = []\n",
    "        for x in pushed:\n",
    "            stack.append(x)\n",
    "            while stack and j < len(popped) and stack[-1] == popped[j]:\n",
    "                stack.pop()\n",
    "                j += 1\n",
    "\n",
    "        return j == len(popped)"
   ]
  },
  {
   "cell_type": "markdown",
   "metadata": {},
   "source": [
    "### Implement Queue using Stacks\n",
    "\n",
    "Implement the following operations of a queue using stacks.\n",
    "\n",
    "    push(x) -- Push element x to the back of queue.\n",
    "    pop() -- Removes the element from in front of queue.\n",
    "    peek() -- Get the front element.\n",
    "    empty() -- Return whether the queue is empty.\n",
    "    \n",
    "    Example:\n",
    "\n",
    "    MyQueue queue = new MyQueue();\n",
    "\n",
    "    queue.push(1);\n",
    "    queue.push(2);  \n",
    "    queue.peek();  // returns 1\n",
    "    queue.pop();   // returns 1\n",
    "    queue.empty(); // returns false"
   ]
  },
  {
   "cell_type": "code",
   "execution_count": 30,
   "metadata": {},
   "outputs": [],
   "source": [
    "def __init__(self):\n",
    "    \"\"\"\n",
    "    Initialize your data structure here.\n",
    "    \"\"\"\n",
    "    self.q1 =  LifoQueue() #intermediate stack\n",
    "    self.q2 =  LifoQueue() # results get saved here\n",
    "    \n",
    "\n",
    "def push(self, x):\n",
    "    \"\"\"\n",
    "    Push element x to the back of queue.\n",
    "    :type x: int\n",
    "    :rtype: void\n",
    "    \"\"\"\n",
    "    while(not self.q2.empty()):\n",
    "        item = self.q2.get(block = False)\n",
    "        self.q1.put(item, block = False)\n",
    "    \n",
    "    self.q2.put(x, block=False)\n",
    "    \n",
    "    while(not self.q1.empty()):\n",
    "        item = self.q1.get(block=False)\n",
    "        self.q2.put(item, block=False)\n",
    "        \n",
    "    \n",
    "    \n",
    "def pop(self):\n",
    "    \"\"\"\n",
    "    Removes the element from in front of queue and returns that element.\n",
    "    :rtype: int\n",
    "    \"\"\"\n",
    "    return self.q2.get(block=False)\n",
    "    \n",
    "\n",
    "def peek(self):\n",
    "    \"\"\"\n",
    "    Get the front element.\n",
    "    :rtype: int\n",
    "    \"\"\"\n",
    "    item = self.q2.get(block=False)\n",
    "    self.q2.put(item, block=False)\n",
    "    return item\n",
    "    \n",
    "\n",
    "def empty(self):\n",
    "    \"\"\"\n",
    "    Returns whether the queue is empty.\n",
    "    :rtype: bool\n",
    "    \"\"\"\n",
    "    return self.q2.empty()"
   ]
  },
  {
   "cell_type": "markdown",
   "metadata": {},
   "source": [
    "### 716. Max Stack\n",
    "\n",
    "Design a max stack that supports push, pop, top, peekMax and popMax.\n",
    "\n",
    "    push(x) -- Push element x onto stack.\n",
    "    pop() -- Remove the element on top of the stack and return it.\n",
    "    top() -- Get the element on the top.\n",
    "    peekMax() -- Retrieve the maximum element in the stack.\n",
    "    popMax() -- Retrieve the maximum element in the stack, and remove it. If you find more than one maximum elements, only remove the top-most one."
   ]
  },
  {
   "cell_type": "code",
   "execution_count": 31,
   "metadata": {},
   "outputs": [],
   "source": [
    "class MaxStack(list):\n",
    "    def push(self, x):\n",
    "        m = max(x, self[-1][1] if self else None)\n",
    "        self.append((x, m))\n",
    "\n",
    "    def pop(self):\n",
    "        return list.pop(self)[0]\n",
    "\n",
    "    def top(self):\n",
    "        return self[-1][0]\n",
    "\n",
    "    def peekMax(self):\n",
    "        return self[-1][1]\n",
    "\n",
    "    def popMax(self):\n",
    "        m = self[-1][1]\n",
    "        b = []\n",
    "        while self[-1][0] != m:\n",
    "            b.append(self.pop())\n",
    "\n",
    "        self.pop()\n",
    "        map(self.push, reversed(b))\n",
    "        return m"
   ]
  },
  {
   "cell_type": "markdown",
   "metadata": {},
   "source": [
    "### 116. Populating Next Right Pointers in Each Node\n",
    "\n",
    "You are given a perfect binary tree where all leaves are on the same level, and every parent has two children. The binary tree has the following definition:\n",
    "\n",
    "```\n",
    "struct Node {\n",
    "  int val;\n",
    "  Node *left;\n",
    "  Node *right;\n",
    "  Node *next;\n",
    "}\n",
    "```\n",
    "Populate each next pointer to point to its next right node. If there is no next right node, the next pointer should be set to NULL.\n",
    "\n",
    "Initially, all next pointers are set to NULL.\n",
    "\n",
    " "
   ]
  },
  {
   "cell_type": "code",
   "execution_count": 32,
   "metadata": {},
   "outputs": [],
   "source": [
    "import collections \n",
    "\n",
    "class Solution:\n",
    "    def connect(self, root: 'Node') -> 'Node':\n",
    "        \n",
    "        if not root:\n",
    "            return root\n",
    "        \n",
    "        # Initialize a queue data structure which contains\n",
    "        # just the root of the tree\n",
    "        Q = collections.deque([root])\n",
    "        \n",
    "        # Outer while loop which iterates over \n",
    "        # each level\n",
    "        while Q:\n",
    "            \n",
    "            # Note the size of the queue\n",
    "            size = len(Q)\n",
    "            \n",
    "            # Iterate over all the nodes on the current level\n",
    "            for i in range(size):\n",
    "                \n",
    "                # Pop a node from the front of the queue\n",
    "                node = Q.popleft()\n",
    "                \n",
    "                # This check is important. We don't want to\n",
    "                # establish any wrong connections. The queue will\n",
    "                # contain nodes from 2 levels at most at any\n",
    "                # point in time. This check ensures we only \n",
    "                # don't establish next pointers beyond the end\n",
    "                # of a level\n",
    "                if i < size - 1:\n",
    "                    node.next = Q[0]\n",
    "                \n",
    "                # Add the children, if any, to the back of\n",
    "                # the queue\n",
    "                if node.left:\n",
    "                    Q.append(node.left)\n",
    "                if node.right:\n",
    "                    Q.append(node.right)\n",
    "        \n",
    "        # Since the tree has now been modified, return the root node\n",
    "        return root"
   ]
  },
  {
   "cell_type": "markdown",
   "metadata": {},
   "source": [
    "### 449. Serialize and Deserialize BST\n",
    "\n",
    "Serialization is the process of converting a data structure or object into a sequence of bits so that it can be stored in a file or memory buffer, or transmitted across a network connection link to be reconstructed later in the same or another computer environment.\n",
    "\n",
    "Design an algorithm to serialize and deserialize a binary search tree. There is no restriction on how your serialization/deserialization algorithm should work. You just need to ensure that a binary search tree can be serialized to a string and this string can be deserialized to the original tree structure.\n",
    "\n",
    "The encoded string should be as compact as possible."
   ]
  },
  {
   "cell_type": "code",
   "execution_count": 33,
   "metadata": {},
   "outputs": [],
   "source": [
    "class Codec:\n",
    "    def serialize(self, root):\n",
    "        \"\"\"\n",
    "        Encodes a tree to a single string.\n",
    "        \"\"\"\n",
    "        def postorder(root):\n",
    "            return postorder(root.left) + postorder(root.right) + [root.val] if root else []\n",
    "        return ' '.join(map(str, postorder(root)))\n",
    "\n",
    "    def deserialize(self, data):\n",
    "        \"\"\"\n",
    "        Decodes your encoded data to tree.\n",
    "        \"\"\"\n",
    "        def helper(lower = float('-inf'), upper = float('inf')):\n",
    "            if not data or data[-1] < lower or data[-1] > upper:\n",
    "                return None\n",
    "            \n",
    "            val = data.pop()\n",
    "            root = TreeNode(val)\n",
    "            root.right = helper(val, upper)\n",
    "            root.left = helper(lower, val)\n",
    "            return root\n",
    "        \n",
    "        data = [int(x) for x in data.split(' ') if x]\n",
    "        return helper()"
   ]
  },
  {
   "cell_type": "code",
   "execution_count": null,
   "metadata": {},
   "outputs": [],
   "source": []
  },
  {
   "cell_type": "code",
   "execution_count": null,
   "metadata": {},
   "outputs": [],
   "source": []
  },
  {
   "cell_type": "code",
   "execution_count": null,
   "metadata": {},
   "outputs": [],
   "source": []
  },
  {
   "cell_type": "code",
   "execution_count": null,
   "metadata": {},
   "outputs": [],
   "source": []
  },
  {
   "cell_type": "code",
   "execution_count": null,
   "metadata": {},
   "outputs": [],
   "source": []
  }
 ],
 "metadata": {
  "kernelspec": {
   "display_name": "Python 3",
   "language": "python",
   "name": "python3"
  },
  "language_info": {
   "codemirror_mode": {
    "name": "ipython",
    "version": 3
   },
   "file_extension": ".py",
   "mimetype": "text/x-python",
   "name": "python",
   "nbconvert_exporter": "python",
   "pygments_lexer": "ipython3",
   "version": "3.7.3"
  }
 },
 "nbformat": 4,
 "nbformat_minor": 2
}
