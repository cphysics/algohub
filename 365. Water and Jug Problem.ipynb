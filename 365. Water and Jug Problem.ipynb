{
 "cells": [
  {
   "cell_type": "markdown",
   "metadata": {},
   "source": [
    "### 365. Water and Jug Problem\n",
    "\n",
    "You are given two jugs with capacities x and y litres. There is an infinite amount of water supply available. You need to determine whether it is possible to measure exactly z litres using these two jugs.\n",
    "\n",
    "If z liters of water is measurable, you must have z liters of water contained within one or both buckets by the end.\n",
    "\n",
    "Operations allowed:\n",
    "\n",
    "    Fill any of the jugs completely with water.\n",
    "    Empty any of the jugs.\n",
    "    Pour water from one jug into another till the other jug is completely full or the first jug itself is empty."
   ]
  },
  {
   "cell_type": "code",
   "execution_count": 5,
   "metadata": {},
   "outputs": [],
   "source": [
    "class Solution(object):\n",
    "    def canMeasureWater(self, x, y, z):\n",
    "        \"\"\"\n",
    "        :type x: int\n",
    "        :type y: int\n",
    "        :type z: int\n",
    "        :rtype: bool\n",
    "        \"\"\"\n",
    "        if x > y:\n",
    "            temp = x;\n",
    "            x = y;\n",
    "            y = temp;\n",
    "            \n",
    "        if z > x + y:\n",
    "            return False;\n",
    "        \n",
    "        # set the initial state will empty jars;\n",
    "        queue = [(0, 0)];\n",
    "        visited = set((0, 0));\n",
    "        while len(queue) > 0:\n",
    "            a, b = queue.pop(0);\n",
    "            if a + b == z:\n",
    "                return True;\n",
    "            \n",
    "            states = set()\n",
    "            \n",
    "            states.add((x, b)) # fill jar x;\n",
    "            states.add((a, y)) # fill jar y;\n",
    "            states.add((0, b)) # empty jar x;\n",
    "            states.add((a, 0)) # empty jar y;\n",
    "            states.add((min(x, b + a), 0 if b < x - a else b - (x - a))) # pour jar y to x;\n",
    "            states.add((0 if a + b < y else a - (y - b), min(b + a, y))) # pour jar x to y;\n",
    "\n",
    "            for state in states:\n",
    "                if state in visited:\n",
    "                    continue;\n",
    "                queue.append(state)\n",
    "                visited.add(state);\n",
    "                \n",
    "        return False;"
   ]
  },
  {
   "cell_type": "code",
   "execution_count": null,
   "metadata": {},
   "outputs": [],
   "source": []
  },
  {
   "cell_type": "code",
   "execution_count": null,
   "metadata": {},
   "outputs": [],
   "source": []
  },
  {
   "cell_type": "code",
   "execution_count": null,
   "metadata": {},
   "outputs": [],
   "source": []
  }
 ],
 "metadata": {
  "kernelspec": {
   "display_name": "Python 3",
   "language": "python",
   "name": "python3"
  },
  "language_info": {
   "codemirror_mode": {
    "name": "ipython",
    "version": 3
   },
   "file_extension": ".py",
   "mimetype": "text/x-python",
   "name": "python",
   "nbconvert_exporter": "python",
   "pygments_lexer": "ipython3",
   "version": "3.7.6"
  }
 },
 "nbformat": 4,
 "nbformat_minor": 2
}
