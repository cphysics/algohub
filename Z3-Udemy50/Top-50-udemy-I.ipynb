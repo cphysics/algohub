{
 "cells": [
  {
   "cell_type": "markdown",
   "id": "5928afb3",
   "metadata": {},
   "source": [
    "## Top 50 Problems"
   ]
  },
  {
   "cell_type": "markdown",
   "id": "ae42f656",
   "metadata": {},
   "source": [
    "- 1- Find pair that sums up to k\n",
    "- 2- First repeating character\n",
    "- 3- Remove duplicates\n",
    "- 4- Find the duplicate\n",
    "- 5- Tree depth first search\n",
    "- 6- Maximum subarray\n",
    "- 7- Reverse a binary tree\n",
    "- 8- Longest substring without repeating characters\n",
    "- 9- Reverse a linked list\n",
    "- 10- Peak finding\n",
    "- 11- Palindrome linked list\n",
    "- 12- Longest possible palindrome\n",
    "- 13- Get substring index\n",
    "- 14- Tree breadth first search\n",
    "- 15- Sort a linked list\n",
    "- 16- Valid binary search tree\n",
    "- 17- Minimum cost path in matrix\n",
    "- 18- Balanced binary tree\n",
    "- 19- Paths in matrix\n",
    "- 20- Tree breadth first search II\n",
    "- 21- Product of array except self\n",
    "- 22- Jump to last index\n",
    "- 23- Graph depth first search\n",
    "- 24- Graph breadth first search\n",
    "- 25- String subsequences"
   ]
  },
  {
   "cell_type": "markdown",
   "id": "38b22fb5",
   "metadata": {},
   "source": [
    "### 1- Find pair that sums up to k"
   ]
  },
  {
   "cell_type": "code",
   "execution_count": null,
   "id": "a265459a",
   "metadata": {},
   "outputs": [],
   "source": []
  },
  {
   "cell_type": "markdown",
   "id": "064b86a5",
   "metadata": {},
   "source": [
    "### 2-First repeating character"
   ]
  },
  {
   "cell_type": "code",
   "execution_count": 3,
   "id": "e8093b1d",
   "metadata": {},
   "outputs": [],
   "source": [
    "def firstRepeatingCharacter(str):\n",
    "    n = len(str)\n",
    "    for i in range(n):\n",
    "        for j in range(n):\n",
    "            if str[i] == str[j]:\n",
    "                return str[j]\n",
    "            "
   ]
  },
  {
   "cell_type": "code",
   "execution_count": 2,
   "id": "f7567b85",
   "metadata": {},
   "outputs": [],
   "source": [
    "def firstRepeatingCharacter(str):\n",
    "    visited = {}\n",
    "    for ch in str:\n",
    "        #if visited[ch]:\n",
    "        if visited.get(ch):\n",
    "            return ch\n",
    "        else:\n",
    "            visited[ch] = True"
   ]
  },
  {
   "cell_type": "markdown",
   "id": "cdfb6622",
   "metadata": {},
   "source": [
    "### 3- Remove duplicates"
   ]
  },
  {
   "cell_type": "code",
   "execution_count": 1,
   "id": "39c9ae19",
   "metadata": {},
   "outputs": [],
   "source": [
    "def removeDublicates(arr):\n",
    "    noDupA = []\n",
    "    for e in arr:\n",
    "        if e not in noDupA:\n",
    "            noDupA.append(e)\n",
    "    return noDupA"
   ]
  },
  {
   "cell_type": "code",
   "execution_count": 4,
   "id": "2a2f7244",
   "metadata": {},
   "outputs": [],
   "source": [
    "def removeDublicates(A):\n",
    "    if len(A) == 0:\n",
    "        return []\n",
    "    A.sort()\n",
    "    \n",
    "    nodup = [A[0]]\n",
    "    \n",
    "    for i in range(1,len(A)):\n",
    "        if A[i] != A[i-1]:\n",
    "            nodup.append(A[i])\n",
    "    return nodup"
   ]
  },
  {
   "cell_type": "code",
   "execution_count": 5,
   "id": "c930ca7f",
   "metadata": {},
   "outputs": [],
   "source": [
    "def removeDublicates(A):\n",
    "    visited = {}\n",
    "    for e in A:\n",
    "        visited[e] =True\n",
    "    return list(visited.keys())"
   ]
  },
  {
   "cell_type": "markdown",
   "id": "e8778066",
   "metadata": {},
   "source": [
    "### 5- Tree depth first search"
   ]
  },
  {
   "cell_type": "markdown",
   "id": "0fc40b25",
   "metadata": {},
   "source": [
    "- Preorder : ROOT|LEFT|RIGHT\n",
    "- Inorder: LEFT|ROOT|RIGHT\n",
    "- Postorder: LEFT|RIGHT|ROOT"
   ]
  },
  {
   "cell_type": "markdown",
   "id": "8e1855a3",
   "metadata": {},
   "source": [
    "### 6- Maximum subarray"
   ]
  },
  {
   "cell_type": "code",
   "execution_count": 22,
   "id": "10af961f",
   "metadata": {},
   "outputs": [],
   "source": [
    "A = [1,2,3,4]"
   ]
  },
  {
   "cell_type": "code",
   "execution_count": 23,
   "id": "579de3f5",
   "metadata": {},
   "outputs": [],
   "source": [
    "def maxSubA(A):\n",
    "    n = len(A)\n",
    "    maxs = -float('inf')\n",
    "    \n",
    "    for i in range(n):\n",
    "        for j in range(i,n):\n",
    "            \n",
    "            s = 0\n",
    "            # sum of the elements from ith to jth position\n",
    "            for k in range(i,j+1):\n",
    "                s +=A[k]\n",
    "            print(\"sum of elements within\", i,j,\"is:\",s)\n",
    "                \n",
    "            maxs = max(maxs,s)\n",
    "            \n",
    "    return maxs\n",
    "            \n",
    "    "
   ]
  },
  {
   "cell_type": "code",
   "execution_count": 24,
   "id": "d0fd744e",
   "metadata": {},
   "outputs": [
    {
     "name": "stdout",
     "output_type": "stream",
     "text": [
      "sum of elements within 0 0 is: 1\n",
      "sum of elements within 0 1 is: 3\n",
      "sum of elements within 0 2 is: 6\n",
      "sum of elements within 0 3 is: 10\n",
      "sum of elements within 1 1 is: 2\n",
      "sum of elements within 1 2 is: 5\n",
      "sum of elements within 1 3 is: 9\n",
      "sum of elements within 2 2 is: 3\n",
      "sum of elements within 2 3 is: 7\n",
      "sum of elements within 3 3 is: 4\n"
     ]
    },
    {
     "data": {
      "text/plain": [
       "10"
      ]
     },
     "execution_count": 24,
     "metadata": {},
     "output_type": "execute_result"
    }
   ],
   "source": [
    "maxSubA(A)"
   ]
  },
  {
   "cell_type": "code",
   "execution_count": 25,
   "id": "fd5140d3",
   "metadata": {},
   "outputs": [],
   "source": [
    "def maxSubA(A):\n",
    "    n = len(A)\n",
    "    maxs = -float('inf')\n",
    "    \n",
    "    for i in range(n):\n",
    "        cums = 0\n",
    "        for j in range(i,n):\n",
    "            cums +=A[j]\n",
    "            print(i,j,cums)\n",
    "            maxs = max(maxs,cums)\n",
    "            \n",
    "    return maxs"
   ]
  },
  {
   "cell_type": "code",
   "execution_count": 26,
   "id": "a17471aa",
   "metadata": {},
   "outputs": [
    {
     "name": "stdout",
     "output_type": "stream",
     "text": [
      "0 0 1\n",
      "0 1 3\n",
      "0 2 6\n",
      "0 3 10\n",
      "1 1 2\n",
      "1 2 5\n",
      "1 3 9\n",
      "2 2 3\n",
      "2 3 7\n",
      "3 3 4\n"
     ]
    },
    {
     "data": {
      "text/plain": [
       "10"
      ]
     },
     "execution_count": 26,
     "metadata": {},
     "output_type": "execute_result"
    }
   ],
   "source": [
    "maxSubA(A)"
   ]
  },
  {
   "cell_type": "markdown",
   "id": "3f3224d3",
   "metadata": {},
   "source": [
    "### 7- Reverse a binary tree"
   ]
  },
  {
   "cell_type": "code",
   "execution_count": 27,
   "id": "1181a202",
   "metadata": {},
   "outputs": [],
   "source": [
    "def invert(tree):\n",
    "    if tree is None:\n",
    "        return\n",
    "    tree.left, tree.right = tree.right, tree.left\n",
    "    invert(tree.left)\n",
    "    invert(tree.right)"
   ]
  },
  {
   "cell_type": "markdown",
   "id": "f40f7992",
   "metadata": {},
   "source": [
    "### 8- Longest substring without repeating characters"
   ]
  },
  {
   "cell_type": "markdown",
   "id": "dd652c6e",
   "metadata": {},
   "source": [
    "Python ```ord()``` function returns the Unicode code from a given character. This function accepts a string of unit length as an argument and returns the Unicode equivalence of the passed argument. In other words, given a string of length 1, the ord() function returns an integer representing the Unicode code point of the character when an argument is a Unicode object, or the value of the byte when the argument is an 8-bit string."
   ]
  },
  {
   "cell_type": "code",
   "execution_count": 29,
   "id": "bcb922e5",
   "metadata": {},
   "outputs": [],
   "source": [
    "def norepeat(s):\n",
    "    visited = [False]*128\n",
    "    for ch in s:\n",
    "        if visited[ord(ch)]:\n",
    "            return False\n",
    "        else:\n",
    "            visited[ord(ch)] = True\n",
    "    return True\n",
    "        "
   ]
  },
  {
   "cell_type": "code",
   "execution_count": null,
   "id": "eae58d1a",
   "metadata": {},
   "outputs": [],
   "source": [
    "def checkStr(s):\n",
    "    n = len(s)\n",
    "    maxl = 0\n",
    "    for i in range(n):\n",
    "        for j in range(i,n):\n",
    "            subs = str[i:j+1]\n",
    "            if norepeat(subs) and len(subs)> maxl:\n",
    "                maxl = len(subs)\n",
    "    return maxl\n",
    "    "
   ]
  },
  {
   "cell_type": "markdown",
   "id": "8e9b92df",
   "metadata": {},
   "source": [
    "- chek index method ??"
   ]
  },
  {
   "cell_type": "markdown",
   "id": "4c2e6787",
   "metadata": {},
   "source": [
    "### 9- Reverse a linked list"
   ]
  },
  {
   "cell_type": "code",
   "execution_count": null,
   "id": "53ce4018",
   "metadata": {},
   "outputs": [],
   "source": []
  },
  {
   "cell_type": "markdown",
   "id": "2e4247d4",
   "metadata": {},
   "source": [
    "### 10- Peak finding"
   ]
  },
  {
   "cell_type": "code",
   "execution_count": 30,
   "id": "b5befd83",
   "metadata": {},
   "outputs": [],
   "source": [
    "# peak means --low--high--low--\n",
    "def findPeak(A):\n",
    "    n = len(A)\n",
    "    for i in range(n):\n",
    "        if (i==0 or A[i]>=A[i-1]) \\\n",
    "            and (i== n-1 or A[i]>= A[i+1]):\n",
    "            return i \n",
    "    "
   ]
  },
  {
   "cell_type": "code",
   "execution_count": 31,
   "id": "8f5dbdb0",
   "metadata": {},
   "outputs": [],
   "source": [
    "def findPeak(A):\n",
    "    n = len(A)\n",
    "    l = 0\n",
    "    r = n\n",
    "    \n",
    "    while l<r:\n",
    "        m = (l+r)//2\n",
    "        if A[m]<A[m+1]:\n",
    "            l = m+1\n",
    "        else:\n",
    "            r = m\n",
    "    return l"
   ]
  },
  {
   "cell_type": "markdown",
   "id": "31b08355",
   "metadata": {},
   "source": [
    "### 11- Palindrome linked list"
   ]
  },
  {
   "cell_type": "code",
   "execution_count": null,
   "id": "25f29fc9",
   "metadata": {},
   "outputs": [],
   "source": []
  },
  {
   "cell_type": "markdown",
   "id": "45e8325c",
   "metadata": {},
   "source": [
    "### 12- Longest possible palindrome:\n",
    "Using letters of the string"
   ]
  },
  {
   "cell_type": "code",
   "execution_count": 32,
   "id": "ec9e0a15",
   "metadata": {},
   "outputs": [],
   "source": [
    "def lnpalindrom(s):\n",
    "    \n",
    "    #??\n",
    "    occurences = [0]*128\n",
    "    \n",
    "    for ch in s:\n",
    "        occurence[ord(letter)]+=1\n",
    "        \n",
    "    l =0\n",
    "    for occu in occurences:\n",
    "        l += occu if occu%2==0 else occu-1\n",
    "        \n",
    "    if l< len(s):\n",
    "        l +=1\n",
    "    return l"
   ]
  },
  {
   "cell_type": "markdown",
   "id": "cd497ffd",
   "metadata": {},
   "source": [
    "### 13- Get substring index\n",
    "Does s1 include s2?"
   ]
  },
  {
   "cell_type": "code",
   "execution_count": null,
   "id": "bc7b78db",
   "metadata": {},
   "outputs": [],
   "source": [
    "def findIndex(s1,s2):\n",
    "    n = len(s1)\n",
    "    m = len(s2)\n",
    "    \n",
    "    for i in range(n-m+1):\n",
    "        found = True\n",
    "        for j in range(m):\n",
    "            if s1[i+j] != s2[j]:\n",
    "                found = False\n",
    "                break\n",
    "        if found:\n",
    "            return i\n",
    "        \n",
    "    "
   ]
  },
  {
   "cell_type": "markdown",
   "id": "7da86d62",
   "metadata": {},
   "source": [
    "### 14- Tree breadth first search"
   ]
  },
  {
   "cell_type": "code",
   "execution_count": 33,
   "id": "7704e805",
   "metadata": {},
   "outputs": [],
   "source": [
    "def bfs():\n",
    "    queue = [root]\n",
    "    while len(queue)>0:\n",
    "        temp = queue.pop(0)\n",
    "        if temp in None:\n",
    "            continue\n",
    "        else:\n",
    "            print(temp.data)\n",
    "            queue.append(temp.left)\n",
    "            queue.append(temp.right)"
   ]
  },
  {
   "cell_type": "markdown",
   "id": "3020e4fd",
   "metadata": {},
   "source": [
    "### 15- Sort a linked list"
   ]
  },
  {
   "cell_type": "code",
   "execution_count": null,
   "id": "90e8d202",
   "metadata": {},
   "outputs": [],
   "source": []
  },
  {
   "cell_type": "markdown",
   "id": "d480c27f",
   "metadata": {},
   "source": [
    "### 16- Valid binary search tree"
   ]
  },
  {
   "cell_type": "code",
   "execution_count": 34,
   "id": "83f3a5de",
   "metadata": {},
   "outputs": [],
   "source": [
    "def isBST(root, min = float(\"-inf\"), max = float(\"inf\")):\n",
    "    if root is None:\n",
    "        return True\n",
    "    elif root.data <= min or root.data >= max:\n",
    "        return False\n",
    "    else:\n",
    "        return isBST(root.left, min, root.data) and\\\n",
    "                isBST(root.right,root.data, max)\n",
    "    "
   ]
  },
  {
   "cell_type": "code",
   "execution_count": null,
   "id": "23b84b28",
   "metadata": {},
   "outputs": [],
   "source": [
    "def isBstRec():"
   ]
  },
  {
   "cell_type": "markdown",
   "id": "51d5e12d",
   "metadata": {},
   "source": [
    "### 17- Minimum cost path in matrix\n"
   ]
  },
  {
   "cell_type": "code",
   "execution_count": null,
   "id": "c51380ba",
   "metadata": {},
   "outputs": [],
   "source": []
  },
  {
   "cell_type": "markdown",
   "id": "14f2c679",
   "metadata": {},
   "source": [
    "### 18- Balanced binary tree\n"
   ]
  },
  {
   "cell_type": "code",
   "execution_count": 35,
   "id": "2422fe72",
   "metadata": {},
   "outputs": [],
   "source": [
    "def height(root):\n",
    "    if root is None:\n",
    "        return -1\n",
    "    else:\n",
    "        lefth = height(root.left)\n",
    "        righth = height(root.right)\n",
    "        \n",
    "    return 1 + max(lefth,righth)"
   ]
  },
  {
   "cell_type": "code",
   "execution_count": 36,
   "id": "fb4cdb09",
   "metadata": {},
   "outputs": [],
   "source": [
    "def is_balanced(root):\n",
    "    if root is None:\n",
    "        return True\n",
    "    else:\n",
    "        lefth = height(root.left)\n",
    "        righth = height(root.right)\n",
    "        \n",
    "    return abs(lefth-righth)<=1 \\\n",
    "        and is_balanced(root.left)\\\n",
    "        and is_balanced(root.right)"
   ]
  },
  {
   "cell_type": "markdown",
   "id": "d1f1a0b8",
   "metadata": {},
   "source": [
    "### 19- Paths in matrix\n"
   ]
  },
  {
   "cell_type": "code",
   "execution_count": null,
   "id": "d46c177d",
   "metadata": {},
   "outputs": [],
   "source": []
  },
  {
   "cell_type": "markdown",
   "id": "5b0c256c",
   "metadata": {},
   "source": [
    "### 20- Tree breadth first search II\n"
   ]
  },
  {
   "cell_type": "code",
   "execution_count": null,
   "id": "089635c6",
   "metadata": {},
   "outputs": [],
   "source": []
  },
  {
   "cell_type": "markdown",
   "id": "4487567d",
   "metadata": {},
   "source": [
    "### 21- Product of array except self\n"
   ]
  },
  {
   "cell_type": "code",
   "execution_count": null,
   "id": "4a5e5ea6",
   "metadata": {},
   "outputs": [],
   "source": []
  },
  {
   "cell_type": "markdown",
   "id": "bf5727c9",
   "metadata": {},
   "source": [
    "### 22- Jump to last index\n"
   ]
  },
  {
   "cell_type": "code",
   "execution_count": null,
   "id": "2ce0e80e",
   "metadata": {},
   "outputs": [],
   "source": [
    "def canjump(A, i=0):\n",
    "    if i == len(A)-1:\n",
    "        return True\n",
    "    for j in range(1, A[i]+1):\n",
    "        if canjump(A,i+j):\n",
    "            return True\n",
    "    return"
   ]
  },
  {
   "cell_type": "markdown",
   "id": "fff625ed",
   "metadata": {},
   "source": [
    "### 23- Graph depth first search\n"
   ]
  },
  {
   "cell_type": "code",
   "execution_count": null,
   "id": "56526b47",
   "metadata": {},
   "outputs": [],
   "source": []
  },
  {
   "cell_type": "markdown",
   "id": "89ae704b",
   "metadata": {},
   "source": [
    "### 24- Graph breadth first search\n"
   ]
  },
  {
   "cell_type": "code",
   "execution_count": null,
   "id": "aefdd76e",
   "metadata": {},
   "outputs": [],
   "source": []
  },
  {
   "cell_type": "markdown",
   "id": "c61386b2",
   "metadata": {},
   "source": [
    "### 25- String subsequences"
   ]
  },
  {
   "cell_type": "code",
   "execution_count": null,
   "id": "2f660441",
   "metadata": {},
   "outputs": [],
   "source": []
  },
  {
   "cell_type": "code",
   "execution_count": null,
   "id": "d80acd61",
   "metadata": {},
   "outputs": [],
   "source": []
  },
  {
   "cell_type": "code",
   "execution_count": null,
   "id": "24316c5a",
   "metadata": {},
   "outputs": [],
   "source": []
  }
 ],
 "metadata": {
  "kernelspec": {
   "display_name": "Python 3",
   "language": "python",
   "name": "python3"
  },
  "language_info": {
   "codemirror_mode": {
    "name": "ipython",
    "version": 3
   },
   "file_extension": ".py",
   "mimetype": "text/x-python",
   "name": "python",
   "nbconvert_exporter": "python",
   "pygments_lexer": "ipython3",
   "version": "3.8.8"
  }
 },
 "nbformat": 4,
 "nbformat_minor": 5
}
