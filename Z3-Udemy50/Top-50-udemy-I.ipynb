{
 "cells": [
  {
   "cell_type": "markdown",
   "id": "5928afb3",
   "metadata": {},
   "source": [
    "## Top 50 Problems"
   ]
  },
  {
   "cell_type": "markdown",
   "id": "ae42f656",
   "metadata": {},
   "source": [
    "- 1- Find pair that sums up to k\n",
    "- 2- First repeating character\n",
    "- 3- Remove duplicates\n",
    "- 4- Find the duplicate\n",
    "- 5- Tree depth first search\n",
    "- 6- Maximum subarray\n",
    "- 7- Reverse a binary tree\n",
    "- 8- Longest substring without repeating characters\n",
    "- 9- Reverse a linked list\n",
    "- 10- Peak finding\n",
    "- 11- Palindrome linked list\n",
    "- 12- Longest possible palindrome\n",
    "- 13- Get substring index\n",
    "- 14- Tree breadth first search\n",
    "- 15- Sort a linked list\n",
    "- 16- Valid binary search tree\n",
    "- 17- Minimum cost path in matrix\n",
    "- 18- Balanced binary tree\n",
    "- 19- Paths in matrix\n",
    "- 20- Tree breadth first search II\n",
    "- 21- Product of array except self\n",
    "- 22- Jump to last index\n",
    "- 23- Graph depth first search\n",
    "- 24- Graph breadth first search\n",
    "- 25- String subsequences"
   ]
  },
  {
   "cell_type": "markdown",
   "id": "38b22fb5",
   "metadata": {},
   "source": [
    "### 1- Find pair that sums up to k"
   ]
  },
  {
   "cell_type": "code",
   "execution_count": 42,
   "id": "a265459a",
   "metadata": {},
   "outputs": [],
   "source": [
    "# By checking all pairs (brute force solution):\n",
    "\n",
    "# Time complexity: O(n²)\n",
    "# Space complexity: O(1)\n",
    "\n",
    "def findPair(arr, k):\n",
    "    for i in range(len(arr)):\n",
    "        for j in range(i+1, len(arr)):\n",
    "            if arr[i] + arr[j] == k:\n",
    "                return True\n",
    "    return False"
   ]
  },
  {
   "cell_type": "code",
   "execution_count": 43,
   "id": "008440c1",
   "metadata": {},
   "outputs": [],
   "source": [
    "# By sorting the array:\n",
    "\n",
    "# Time complexity: O(nlogn)\n",
    "# Space complexity: depends on the sorting algorithm we use\n",
    "\n",
    "\n",
    "def findPair(arr, k):\n",
    "  arr.sort()\n",
    "  left = 0\n",
    "  right = len(arr)-1\n",
    "  while left < right:\n",
    "        if arr[left] + arr[right] == k:\n",
    "            return True\n",
    "        elif arr[left] + arr[right] < k:\n",
    "            left += 1\n",
    "        else:\n",
    "            right -= 1\n",
    "  return False"
   ]
  },
  {
   "cell_type": "code",
   "execution_count": 3,
   "id": "e2f75bb9",
   "metadata": {},
   "outputs": [],
   "source": [
    "# By using a dictionary:\n",
    "\n",
    "# Time complexity: O(n)\n",
    "# Space complexity: O(n)\n",
    "\n",
    "def findPair(arr, k):\n",
    "  visited = {}\n",
    "  for element in arr:\n",
    "    if visited.get(k-element):\n",
    "      return True\n",
    "    else:\n",
    "      visited[element] = True\n",
    "  return False"
   ]
  },
  {
   "cell_type": "markdown",
   "id": "064b86a5",
   "metadata": {},
   "source": [
    "### 2-First repeating character"
   ]
  },
  {
   "cell_type": "code",
   "execution_count": 4,
   "id": "e8093b1d",
   "metadata": {},
   "outputs": [],
   "source": [
    "def firstRepeatingCharacter(str):\n",
    "    n = len(str)\n",
    "    for i in range(n):\n",
    "        for j in range(n):\n",
    "            if str[i] == str[j]:\n",
    "                return str[j]\n",
    "            "
   ]
  },
  {
   "cell_type": "code",
   "execution_count": 5,
   "id": "f7567b85",
   "metadata": {},
   "outputs": [],
   "source": [
    "def firstRepeatingCharacter(str):\n",
    "    visited = {}\n",
    "    for ch in str:\n",
    "        #if visited[ch]:\n",
    "        if visited.get(ch):\n",
    "            return ch\n",
    "        else:\n",
    "            visited[ch] = True"
   ]
  },
  {
   "cell_type": "markdown",
   "id": "cdfb6622",
   "metadata": {},
   "source": [
    "### 3- Remove duplicates"
   ]
  },
  {
   "cell_type": "code",
   "execution_count": 6,
   "id": "39c9ae19",
   "metadata": {},
   "outputs": [],
   "source": [
    "def removeDublicates(arr):\n",
    "    noDupA = []\n",
    "    for e in arr:\n",
    "        if e not in noDupA:\n",
    "            noDupA.append(e)\n",
    "    return noDupA"
   ]
  },
  {
   "cell_type": "code",
   "execution_count": 7,
   "id": "2a2f7244",
   "metadata": {},
   "outputs": [],
   "source": [
    "def removeDublicates(A):\n",
    "    if len(A) == 0:\n",
    "        return []\n",
    "    A.sort()\n",
    "    \n",
    "    nodup = [A[0]]\n",
    "    \n",
    "    for i in range(1,len(A)):\n",
    "        if A[i] != A[i-1]:\n",
    "            nodup.append(A[i])\n",
    "    return nodup"
   ]
  },
  {
   "cell_type": "code",
   "execution_count": 8,
   "id": "c930ca7f",
   "metadata": {},
   "outputs": [],
   "source": [
    "def removeDublicates(A):\n",
    "    visited = {}\n",
    "    for e in A:\n",
    "        visited[e] =True\n",
    "    return list(visited.keys())"
   ]
  },
  {
   "cell_type": "markdown",
   "id": "e8778066",
   "metadata": {},
   "source": [
    "### 5- Tree depth first search"
   ]
  },
  {
   "cell_type": "markdown",
   "id": "0fc40b25",
   "metadata": {},
   "source": [
    "- Preorder : ROOT|LEFT|RIGHT\n",
    "- Inorder: LEFT|ROOT|RIGHT\n",
    "- Postorder: LEFT|RIGHT|ROOT"
   ]
  },
  {
   "cell_type": "markdown",
   "id": "8e1855a3",
   "metadata": {},
   "source": [
    "### 6- Maximum sum subarray"
   ]
  },
  {
   "cell_type": "code",
   "execution_count": 9,
   "id": "10af961f",
   "metadata": {},
   "outputs": [],
   "source": [
    "A = [1,2,3,4]"
   ]
  },
  {
   "cell_type": "code",
   "execution_count": 10,
   "id": "579de3f5",
   "metadata": {},
   "outputs": [],
   "source": [
    "def maxSubA(A):\n",
    "    n = len(A)\n",
    "    maxs = -float('inf')\n",
    "    \n",
    "    for i in range(n):\n",
    "        for j in range(i,n):\n",
    "            \n",
    "            s = 0\n",
    "            # sum of the elements from ith to jth position\n",
    "            for k in range(i,j+1):\n",
    "                s +=A[k]\n",
    "            print(\"sum of elements within\", i,j,\"is:\",s)\n",
    "                \n",
    "            maxs = max(maxs,s)\n",
    "            \n",
    "    return maxs\n",
    "            \n",
    "    "
   ]
  },
  {
   "cell_type": "code",
   "execution_count": 11,
   "id": "d0fd744e",
   "metadata": {},
   "outputs": [
    {
     "name": "stdout",
     "output_type": "stream",
     "text": [
      "sum of elements within 0 0 is: 1\n",
      "sum of elements within 0 1 is: 3\n",
      "sum of elements within 0 2 is: 6\n",
      "sum of elements within 0 3 is: 10\n",
      "sum of elements within 1 1 is: 2\n",
      "sum of elements within 1 2 is: 5\n",
      "sum of elements within 1 3 is: 9\n",
      "sum of elements within 2 2 is: 3\n",
      "sum of elements within 2 3 is: 7\n",
      "sum of elements within 3 3 is: 4\n"
     ]
    },
    {
     "data": {
      "text/plain": [
       "10"
      ]
     },
     "execution_count": 11,
     "metadata": {},
     "output_type": "execute_result"
    }
   ],
   "source": [
    "maxSubA(A)"
   ]
  },
  {
   "cell_type": "code",
   "execution_count": 12,
   "id": "fd5140d3",
   "metadata": {},
   "outputs": [],
   "source": [
    "def maxSubA(A):\n",
    "    n = len(A)\n",
    "    maxs = -float('inf')\n",
    "    \n",
    "    for i in range(n):\n",
    "        cums = 0\n",
    "        for j in range(i,n):\n",
    "            cums +=A[j]\n",
    "            print(i,j,cums)\n",
    "            maxs = max(maxs,cums)\n",
    "            \n",
    "    return maxs"
   ]
  },
  {
   "cell_type": "code",
   "execution_count": 13,
   "id": "a17471aa",
   "metadata": {},
   "outputs": [
    {
     "name": "stdout",
     "output_type": "stream",
     "text": [
      "0 0 1\n",
      "0 1 3\n",
      "0 2 6\n",
      "0 3 10\n",
      "1 1 2\n",
      "1 2 5\n",
      "1 3 9\n",
      "2 2 3\n",
      "2 3 7\n",
      "3 3 4\n"
     ]
    },
    {
     "data": {
      "text/plain": [
       "10"
      ]
     },
     "execution_count": 13,
     "metadata": {},
     "output_type": "execute_result"
    }
   ],
   "source": [
    "maxSubA(A)"
   ]
  },
  {
   "cell_type": "markdown",
   "id": "3f3224d3",
   "metadata": {},
   "source": [
    "### 7- Reverse a binary tree"
   ]
  },
  {
   "cell_type": "code",
   "execution_count": 14,
   "id": "1181a202",
   "metadata": {},
   "outputs": [],
   "source": [
    "def invert(tree):\n",
    "    if tree is None:\n",
    "        return\n",
    "    tree.left, tree.right = tree.right, tree.left\n",
    "    invert(tree.left)\n",
    "    invert(tree.right)"
   ]
  },
  {
   "cell_type": "markdown",
   "id": "f40f7992",
   "metadata": {},
   "source": [
    "### 8- Longest substring without repeating characters"
   ]
  },
  {
   "cell_type": "markdown",
   "id": "dd652c6e",
   "metadata": {},
   "source": [
    "Python ```ord()``` function returns the Unicode code from a given character. This function accepts a string of unit length as an argument and returns the Unicode equivalence of the passed argument. In other words, given a string of length 1, the ord() function returns an integer representing the Unicode code point of the character when an argument is a Unicode object, or the value of the byte when the argument is an 8-bit string."
   ]
  },
  {
   "cell_type": "code",
   "execution_count": 15,
   "id": "bcb922e5",
   "metadata": {},
   "outputs": [],
   "source": [
    "def norepeat(s):\n",
    "    visited = [False]*128\n",
    "    for ch in s:\n",
    "        if visited[ord(ch)]:\n",
    "            return False\n",
    "        else:\n",
    "            visited[ord(ch)] = True\n",
    "    return True\n",
    "        "
   ]
  },
  {
   "cell_type": "code",
   "execution_count": 16,
   "id": "eae58d1a",
   "metadata": {},
   "outputs": [],
   "source": [
    "def checkStr(s):\n",
    "    n = len(s)\n",
    "    maxl = 0\n",
    "    for i in range(n):\n",
    "        for j in range(i,n):\n",
    "            subs = str[i:j+1]\n",
    "            if norepeat(subs) and len(subs)> maxl:\n",
    "                maxl = len(subs)\n",
    "    return maxl\n",
    "    "
   ]
  },
  {
   "cell_type": "markdown",
   "id": "8e9b92df",
   "metadata": {},
   "source": [
    "- chek index method ??"
   ]
  },
  {
   "cell_type": "markdown",
   "id": "4c2e6787",
   "metadata": {},
   "source": [
    "### 9- Reverse a linked list"
   ]
  },
  {
   "cell_type": "code",
   "execution_count": null,
   "id": "53ce4018",
   "metadata": {},
   "outputs": [],
   "source": [
    "# By dealing with values:\n",
    "\n",
    "# Time complexity: O(n²)\n",
    "# Space complexity: O(1)\n",
    "\n",
    "class Node:\n",
    "  def __init__(self, data, next = None):\n",
    "    self.data = data\n",
    "    self.next = next\n",
    "\n",
    "class LinkedList:\n",
    "  def __init__(self, head = None):\n",
    "    self.head = head\n",
    "\n",
    "def reverseList(list):\n",
    "  length = 0\n",
    "  temp = list.head\n",
    "  while temp:\n",
    "    length += 1\n",
    "    temp = temp.next\n",
    "  left = list.head\n",
    "  for i in range(length//2):\n",
    "    right = list.head\n",
    "    for j in range(length-i-1):\n",
    "      right = right.next\n",
    "    left.data, right.data = right.data, left.data\n",
    "    left = left.next"
   ]
  },
  {
   "cell_type": "code",
   "execution_count": null,
   "id": "de768e79",
   "metadata": {},
   "outputs": [],
   "source": [
    "# By dealing with links (iteratively):\n",
    "\n",
    "# Time complexity: O(n)\n",
    "# Space complexity: O(1)\n",
    "\n",
    "class Node:\n",
    "  def __init__(self, data, next = None):\n",
    "    self.data = data\n",
    "    self.next = next\n",
    "\n",
    "class LinkedList:\n",
    "  def __init__(self, head = None):\n",
    "    self.head = head\n",
    "\n",
    "def reverseList(list):\n",
    "  previous = None\n",
    "  current = list.head\n",
    "  while current is not None:\n",
    "    next = current.next\n",
    "    current.next = previous\n",
    "    previous = current\n",
    "    current = next\n",
    "  list.head = previous"
   ]
  },
  {
   "cell_type": "code",
   "execution_count": null,
   "id": "3e701625",
   "metadata": {},
   "outputs": [],
   "source": [
    "# By dealing with links (recursively):\n",
    "\n",
    "# Time complexity: O(n)\n",
    "# Space complexity: O(n)\n",
    "\n",
    "class Node:\n",
    "  def __init__(self, data, next = None):\n",
    "    self.data = data\n",
    "    self.next = next\n",
    "\n",
    "class LinkedList:\n",
    "  def __init__(self, head = None):\n",
    "    self.head = head\n",
    "\n",
    "def reverseNodes(node):\n",
    "  if node is None or node.next is None:\n",
    "    return node\n",
    "  reversed = reverseNodes(node.next)\n",
    "  node.next.next = node\n",
    "  node.next = None\n",
    "  return reversed\n",
    "\n",
    "def reverseList(list):\n",
    "  list.head = reverseNodes(list.head)\n"
   ]
  },
  {
   "cell_type": "markdown",
   "id": "2e4247d4",
   "metadata": {},
   "source": [
    "### 10- Peak finding"
   ]
  },
  {
   "cell_type": "code",
   "execution_count": 17,
   "id": "b5befd83",
   "metadata": {},
   "outputs": [],
   "source": [
    "# peak means --low--high--low--\n",
    "def findPeak(A):\n",
    "    n = len(A)\n",
    "    for i in range(n):\n",
    "        if (i==0 or A[i]>=A[i-1]) \\\n",
    "            and (i== n-1 or A[i]>= A[i+1]):\n",
    "            return i \n",
    "    "
   ]
  },
  {
   "cell_type": "code",
   "execution_count": 18,
   "id": "8f5dbdb0",
   "metadata": {},
   "outputs": [],
   "source": [
    "def findPeak(A):\n",
    "    n = len(A)\n",
    "    l = 0\n",
    "    r = n\n",
    "    \n",
    "    while l<r:\n",
    "        m = (l+r)//2\n",
    "        if A[m]<A[m+1]:\n",
    "            l = m+1\n",
    "        else:\n",
    "            r = m\n",
    "    return l"
   ]
  },
  {
   "cell_type": "markdown",
   "id": "31b08355",
   "metadata": {},
   "source": [
    "### 11- Palindrome linked list"
   ]
  },
  {
   "cell_type": "code",
   "execution_count": 19,
   "id": "25f29fc9",
   "metadata": {},
   "outputs": [],
   "source": [
    "# By each time searching for the position of right pointer:\n",
    "\n",
    "# Time complexity: O(n²)\n",
    "# Space complexity: O(1)\n",
    "\n",
    "class Node:\n",
    "  def __init__(self, data, next = None):\n",
    "    self.data = data\n",
    "    self.next = next\n",
    "\n",
    "class LinkedList:\n",
    "  def __init__(self, head = None):\n",
    "    self.head = head\n",
    "\n",
    "def isPalindromeList(list):\n",
    "  length = 0\n",
    "  temp = list.head\n",
    "  while temp:\n",
    "    length += 1\n",
    "    temp = temp.next\n",
    "  left = list.head\n",
    "  for i in range(length//2):\n",
    "    right = list.head\n",
    "    for j in range(length-i-1):\n",
    "      right = right.next\n",
    "    if left.data != right.data:\n",
    "      return False\n",
    "    left = left.next\n",
    "  return True"
   ]
  },
  {
   "cell_type": "code",
   "execution_count": 20,
   "id": "53a08e7d",
   "metadata": {},
   "outputs": [],
   "source": [
    "# By reversing the right half then comparing:\n",
    "\n",
    "# Time complexity: O(n)\n",
    "# Space complexity: O(1)\n",
    "\n",
    "class Node:\n",
    "  def __init__(self, data, next = None):\n",
    "    self.data = data\n",
    "    self.next = next\n",
    "\n",
    "class LinkedList:\n",
    "  def __init__(self, head = None):\n",
    "    self.head = head\n",
    "\n",
    "def reverseList(head):\n",
    "  previous = None\n",
    "  current = head\n",
    "  while current is not None:\n",
    "    next = current.next\n",
    "    current.next = previous\n",
    "    previous = current\n",
    "    current = next\n",
    "  return previous\n",
    "\n",
    "def isPalindromeList(list):\n",
    "  slow = fast = list.head\n",
    "  while fast and fast.next:\n",
    "    slow = slow.next\n",
    "    fast = fast.next.next\n",
    "  slow = reverseList(slow)\n",
    "  head = list.head\n",
    "  while slow:\n",
    "    if slow.data != head.data:\n",
    "      return False\n",
    "    slow = slow.next\n",
    "    head = head.next\n",
    "  return True"
   ]
  },
  {
   "cell_type": "markdown",
   "id": "45e8325c",
   "metadata": {},
   "source": [
    "### 12- Longest possible palindrome:\n",
    "That can be made from given string -- Using letters of the string"
   ]
  },
  {
   "cell_type": "code",
   "execution_count": 55,
   "id": "0c042e88",
   "metadata": {},
   "outputs": [
    {
     "data": {
      "text/plain": [
       "(97, 65, 49)"
      ]
     },
     "execution_count": 55,
     "metadata": {},
     "output_type": "execute_result"
    }
   ],
   "source": [
    "ord(\"a\"),ord(\"A\"),ord(\"1\")"
   ]
  },
  {
   "cell_type": "code",
   "execution_count": 52,
   "id": "fe2f66d5",
   "metadata": {},
   "outputs": [],
   "source": [
    "s = \"ABCDEFGHIJKLMNOPQRSTUVWXYZ1234567890abcdefghijklmnopqrstuvwxyz+-`[]{}():;,.!@#$%^&*\"\n",
    "occurences = [0]*128\n",
    "for ch in s:\n",
    "    occurences[ord(ch)]+=1\n",
    "#occurences"
   ]
  },
  {
   "cell_type": "code",
   "execution_count": 51,
   "id": "ec9e0a15",
   "metadata": {},
   "outputs": [],
   "source": [
    "def lnpalindrom(s):\n",
    "    \n",
    "    #??\n",
    "    occurences = [0]*128\n",
    "    \n",
    "    for ch in s:\n",
    "        occurence[ord(ch)]+=1\n",
    "        \n",
    "    l =0\n",
    "    for occu in occurences:\n",
    "        l += occu if occu%2==0 else occu-1\n",
    "        \n",
    "    if l< len(s):\n",
    "        l +=1\n",
    "        \n",
    "    return l"
   ]
  },
  {
   "cell_type": "markdown",
   "id": "cd497ffd",
   "metadata": {},
   "source": [
    "### 13- Get substring index\n",
    "Does s1 include s2?"
   ]
  },
  {
   "cell_type": "code",
   "execution_count": 56,
   "id": "bc7b78db",
   "metadata": {},
   "outputs": [],
   "source": [
    "# Brute force solution:\n",
    "\n",
    "# Time complexity: O(nm)\n",
    "# Space complexity: O(1)\n",
    "\n",
    "def substrIndex(str1, str2):\n",
    "  n = len(str1)\n",
    "  m = len(str2)\n",
    "  for i in range(n-m+1):\n",
    "    found = True\n",
    "    for j in range(m):\n",
    "      if str2[j] != str1[i+j]:\n",
    "        found = False\n",
    "        break\n",
    "    if found:\n",
    "      return i\n",
    "  return -1"
   ]
  },
  {
   "cell_type": "code",
   "execution_count": 57,
   "id": "925f40df",
   "metadata": {},
   "outputs": [],
   "source": [
    "# By using the Knuth-Morris-Pratt algorithm:\n",
    "\n",
    "# Time complexity: O(n)\n",
    "# Space complexity: O(m)\n",
    "\n",
    "def getLpsArr(str):\n",
    "  lpsArr = [0] * len(str)\n",
    "  length = 0\n",
    "  i = 1\n",
    "  while i < len(str):\n",
    "    if str[i] == str[length]:\n",
    "      length += 1\n",
    "      lpsArr[i] = length\n",
    "      i += 1\n",
    "    elif length > 0:\n",
    "      length = lpsArr[length-1]\n",
    "    else:\n",
    "      lpsArr[i] = 0\n",
    "      i += 1 \n",
    "  return lpsArr\n",
    "\n",
    "def substrIndex(str1, str2):\n",
    "  n = len(str1)\n",
    "  m = len(str2)\n",
    "  if m > n:\n",
    "    return -1\n",
    "  if m == n:\n",
    "    return 0 if str2 == str1 else -1\n",
    "  if str2 == \"\":\n",
    "    return 0\n",
    "  lpsArr = getLpsArr(str2)\n",
    "  j = 0\n",
    "  i = 0\n",
    "  while i < n and j < m:\n",
    "    if str1[i] == str2[j]:\n",
    "      i += 1\n",
    "      j += 1\n",
    "    elif j > 0:\n",
    "      j = lpsArr[j-1]\n",
    "    else:\n",
    "      i += 1\n",
    "  return -1 if j < m else i-j"
   ]
  },
  {
   "cell_type": "markdown",
   "id": "7da86d62",
   "metadata": {},
   "source": [
    "### 14- Tree breadth first search"
   ]
  },
  {
   "cell_type": "code",
   "execution_count": 23,
   "id": "7704e805",
   "metadata": {},
   "outputs": [],
   "source": [
    "def bfs():\n",
    "    queue = [root]\n",
    "    while len(queue)>0:\n",
    "        temp = queue.pop(0)\n",
    "        \n",
    "        if temp in None:\n",
    "            continue\n",
    "            \n",
    "        else:\n",
    "            print(temp.data)\n",
    "            queue.append(temp.left)\n",
    "            queue.append(temp.right)"
   ]
  },
  {
   "cell_type": "markdown",
   "id": "3020e4fd",
   "metadata": {},
   "source": [
    "### 15- Sort a linked list"
   ]
  },
  {
   "cell_type": "code",
   "execution_count": 24,
   "id": "90e8d202",
   "metadata": {},
   "outputs": [],
   "source": [
    "# Bubble sort\n",
    "\n",
    "# Time complexity: O(n²)\n",
    "# Space complexity: O(1)\n",
    "\n",
    "\n",
    "class Node:\n",
    "  def __init__(self, data, next = None):\n",
    "    self.data = data\n",
    "    self.next = next\n",
    "\n",
    "class LinkedList:\n",
    "  def __init__(self, head = None):\n",
    "    self.head = head\n",
    "    \n",
    "def sortList(list):\n",
    "  i = list.head\n",
    "  while i is not None:\n",
    "    j = list.head\n",
    "    while j.next is not None:\n",
    "      if j.data > j.next.data:\n",
    "        j.data, j.next.data = j.next.data, j.data\n",
    "      j = j.next\n",
    "    i = i.next"
   ]
  },
  {
   "cell_type": "code",
   "execution_count": 25,
   "id": "fe954a1e",
   "metadata": {},
   "outputs": [],
   "source": [
    "# Merge sort\n",
    "\n",
    "# Time complexity: O(nlogn)\n",
    "# Space complexity: O(logn)\n",
    "\n",
    "\n",
    "class Node:\n",
    "  def __init__(self, data, next = None):\n",
    "    self.data = data\n",
    "    self.next = next\n",
    "\n",
    "class LinkedList:\n",
    "  def __init__(self, head = None):\n",
    "    self.head = head\n",
    "    \n",
    "def mergeSortedLists(head1, head2):\n",
    "  ptr1 = head1\n",
    "  ptr2 = head2\n",
    "  returnedHead = None\n",
    "  tail = None\n",
    "  while ptr1 or ptr2:\n",
    "    if ptr1 and ptr2:\n",
    "      if ptr1.data < ptr2.data:\n",
    "        lower = ptr1\n",
    "        ptr1 = ptr1.next\n",
    "      else:\n",
    "        lower = ptr2\n",
    "        ptr2 = ptr2.next\n",
    "    elif ptr1:\n",
    "      lower = ptr1\n",
    "      ptr1 = ptr1.next\n",
    "    else:\n",
    "      lower = ptr2\n",
    "      ptr2 = ptr2.next\n",
    "    if returnedHead is None:\n",
    "      returnedHead = lower\n",
    "      tail = lower\n",
    "    else:\n",
    "      tail.next = lower\n",
    "      tail = tail.next\n",
    "  return returnedHead\n",
    "\n",
    "def mergeSort(head):\n",
    "  if head is None or head.next is None:\n",
    "    return head\n",
    "  slow = head\n",
    "  fast = head\n",
    "  while fast.next and fast.next.next:\n",
    "    slow = slow.next\n",
    "    fast = fast.next.next\n",
    "  headRightHalf = slow.next\n",
    "  slow.next = None\n",
    "  head = mergeSort(head)\n",
    "  headRightHalf = mergeSort(headRightHalf)\n",
    "  return mergeSortedLists(head, headRightHalf)\n",
    "\n",
    "def sortList(list):\n",
    "  list.head = mergeSort(list.head)"
   ]
  },
  {
   "cell_type": "markdown",
   "id": "d480c27f",
   "metadata": {},
   "source": [
    "### 16- Valid binary search tree"
   ]
  },
  {
   "cell_type": "code",
   "execution_count": 61,
   "id": "83f3a5de",
   "metadata": {},
   "outputs": [],
   "source": [
    "# By recursively checking if every node respects its own range:\n",
    "\n",
    "# Time complexity: O(n)\n",
    "# Space complexity: O(h)\n",
    "\n",
    "class Tree:\n",
    "  def __init__(self, data, left = None, right = None):\n",
    "    self.data = data\n",
    "    self.left = left\n",
    "    self.right = right\n",
    "\n",
    "def isBst(root, min = float(\"-inf\"), max = float(\"inf\")):\n",
    "  if root is None:\n",
    "    return True\n",
    "  elif root.data <= min or root.data >= max:\n",
    "    return False\n",
    "  else:\n",
    "    return isBst(root.left, min, root.data) and\\\n",
    "           isBst(root.right, root.data, max)"
   ]
  },
  {
   "cell_type": "code",
   "execution_count": 60,
   "id": "9ad06463",
   "metadata": {},
   "outputs": [],
   "source": [
    "# By checking if values are sorted when performing an\n",
    "#inorder traversal:\n",
    "\n",
    "# Time complexity: O(n)\n",
    "# Space complexity: O(h)\n",
    "\n",
    "\n",
    "class Tree:\n",
    "  def __init__(self, data, left = None, right = None):\n",
    "    self.data = data\n",
    "    self.left = left\n",
    "    self.right = right\n",
    "\n",
    "def isBst(root):\n",
    "    precedent = [float(\"-inf\")]\n",
    "    return isBstRec(root, precedent)\n",
    "  \n",
    "def isBstRec(root, precedent):\n",
    "  if root is None: return True\n",
    "  if not isBstRec(root.left, precedent): return False\n",
    "  if root.data <= precedent[0]: return False\n",
    "  else: precedent[0] = root.data\n",
    "  if not isBstRec(root.right, precedent): return False\n",
    "  return True"
   ]
  },
  {
   "cell_type": "markdown",
   "id": "51d5e12d",
   "metadata": {},
   "source": [
    "### 17- Minimum cost path in matrix\n"
   ]
  },
  {
   "cell_type": "code",
   "execution_count": 28,
   "id": "c51380ba",
   "metadata": {},
   "outputs": [],
   "source": [
    "# By using recursion:\n",
    "\n",
    "# Time complexity: O(2^(n+m))\n",
    "# Space complexity: O(n + m)\n",
    "\n",
    "def minimumCostPath(matrix, i = 0, j = 0):\n",
    "  n = len(matrix)\n",
    "  m = len(matrix[0])\n",
    "    \n",
    "  if i == n-1 and j == m-1:\n",
    "    return matrix[i][j]\n",
    "\n",
    "  elif i == n-1:\n",
    "    return matrix[i][j] + minimumCostPath(matrix, i, j+1)\n",
    "\n",
    "  elif j == m-1:\n",
    "    return matrix[i][j] + minimumCostPath(matrix, i+1, j)\n",
    "\n",
    "  else:\n",
    "    return matrix[i][j] + min(minimumCostPath(matrix, i+1, j),\\\n",
    "                              minimumCostPath(matrix, i, j+1))"
   ]
  },
  {
   "cell_type": "code",
   "execution_count": 29,
   "id": "0212bb1f",
   "metadata": {},
   "outputs": [],
   "source": [
    "# By using dynamic programming:\n",
    "\n",
    "# Time complexity: O(n*m)\n",
    "# Space complexity: O(n*m)\n",
    "\n",
    "\n",
    "def minimumCostPath(matrix):\n",
    "  n = len(matrix)\n",
    "  m = len(matrix[0])\n",
    "  costs = [[0] * m for i in range(n)]\n",
    "  costs[0][0] = matrix[0][0]\n",
    "  for i in range(1, m):\n",
    "    costs[0][i] = costs[0][i-1] + matrix[0][i]\n",
    "  for i in range(1, n):\n",
    "    costs[i][0] = costs[i-1][0] + matrix[i][0]\n",
    "  for i in range(1, n):\n",
    "    for j in range(1, m):\n",
    "      costs[i][j] = min(costs[i-1][j], costs[i][j-1]) + matrix[i][j]\n",
    "  return costs[n-1][m-1]"
   ]
  },
  {
   "cell_type": "markdown",
   "id": "14f2c679",
   "metadata": {},
   "source": [
    "### 18- Balanced binary tree\n"
   ]
  },
  {
   "cell_type": "code",
   "execution_count": 30,
   "id": "2422fe72",
   "metadata": {},
   "outputs": [],
   "source": [
    "def height(root):\n",
    "    if root is None:\n",
    "        return -1\n",
    "    else:\n",
    "        lefth = height(root.left)\n",
    "        righth = height(root.right)\n",
    "        \n",
    "    return 1 + max(lefth,righth)"
   ]
  },
  {
   "cell_type": "code",
   "execution_count": 31,
   "id": "fb4cdb09",
   "metadata": {},
   "outputs": [],
   "source": [
    "def is_balanced(root):\n",
    "    if root is None:\n",
    "        return True\n",
    "    else:\n",
    "        lefth = height(root.left)\n",
    "        righth = height(root.right)\n",
    "        \n",
    "    return abs(lefth-righth)<=1 \\\n",
    "        and is_balanced(root.left)\\\n",
    "        and is_balanced(root.right)"
   ]
  },
  {
   "cell_type": "markdown",
   "id": "d1f1a0b8",
   "metadata": {},
   "source": [
    "### 19- Paths in matrix\n"
   ]
  },
  {
   "cell_type": "code",
   "execution_count": 32,
   "id": "d46c177d",
   "metadata": {},
   "outputs": [],
   "source": [
    "# By using recursion:\n",
    "\n",
    "# Time complexity: O(2^(n*m))\n",
    "# Space complexity: O(n + m)\n",
    "\n",
    "def paths(matrix, i = 0, j = 0):\n",
    "  n = len(matrix)\n",
    "  m = len(matrix[0])\n",
    "  if i > n-1 or j > m-1 or matrix[i][j] == 1:\n",
    "    return 0\n",
    "  elif i == n-1 and j == m-1:\n",
    "    return 1\n",
    "  else:\n",
    "    return paths(matrix, i+1, j) + paths(matrix, i, j+1)"
   ]
  },
  {
   "cell_type": "code",
   "execution_count": 33,
   "id": "5dd3458f",
   "metadata": {},
   "outputs": [],
   "source": [
    "# By using dynamic programming:\n",
    "\n",
    "# Time complexity: O(n*m)\n",
    "# Space complexity: O(n*m)\n",
    "\n",
    "def paths(matrix):\n",
    "  n = len(matrix)\n",
    "  m = len(matrix[0])\n",
    "  dp = [([0] * m) for i in range(n)]\n",
    "  dp[0][0] = 0 if (matrix[0][0] == 1) else 1\n",
    "  for i in range(1, m):\n",
    "    if matrix[0][i] == 1:\n",
    "      dp[0][i] = 0\n",
    "    else:\n",
    "      dp[0][i] = dp[0][i-1]\n",
    "  for i in range(1, n):\n",
    "    if matrix[i][0] == 1:\n",
    "      dp[i][0] = 0\n",
    "    else:\n",
    "      dp[i][0] = dp[i-1][0]\n",
    "  for i in range(1, n):\n",
    "    for j in range(1, m):\n",
    "      if matrix[i][j] == 1:\n",
    "        dp[i][j] = 0\n",
    "      else:\n",
    "        dp[i][j] = dp[i-1][j] + dp[i][j-1]\n",
    "  return dp[n-1][m-1]"
   ]
  },
  {
   "cell_type": "markdown",
   "id": "5b0c256c",
   "metadata": {},
   "source": [
    "### 20- Tree breadth first search II\n"
   ]
  },
  {
   "cell_type": "code",
   "execution_count": 34,
   "id": "089635c6",
   "metadata": {},
   "outputs": [],
   "source": [
    "# Time complexity: O(n)\n",
    "# Space complexity: O(n)\n",
    "\n",
    "class Tree:\n",
    "  def __init__(self, data, left = None, right = None):\n",
    "    self.data = data\n",
    "    self.left = left\n",
    "    self.right = right\n",
    "\n",
    "def getValuesByLevel(root):\n",
    "  output = []\n",
    "  queue = [[root, 0]]\n",
    "  i = 0\n",
    "  while i < len(queue):\n",
    "    node = queue[i][0]\n",
    "    level = queue[i][1]\n",
    "    i += 1\n",
    "    if node is None:\n",
    "      continue\n",
    "    else:\n",
    "      if len(output) <= level:\n",
    "        output.append([])\n",
    "      output[level].append(node.data)\n",
    "      queue.append([node.left, level+1])\n",
    "      queue.append([node.right, level+1])\n",
    "  return output\n"
   ]
  },
  {
   "cell_type": "markdown",
   "id": "4487567d",
   "metadata": {},
   "source": [
    "### 21- Product of array except self\n"
   ]
  },
  {
   "cell_type": "code",
   "execution_count": 35,
   "id": "4a5e5ea6",
   "metadata": {},
   "outputs": [],
   "source": [
    "# Brute force solution:\n",
    "\n",
    "# Time complexity: O(n²)\n",
    "# Space complexity: O(n)\n",
    "\n",
    "def productExceptSelf(arr):\n",
    "  n = len(arr)\n",
    "  output = []\n",
    "  for i in range(n):\n",
    "    product = 1\n",
    "    for j in range(n):\n",
    "      if i == j:\n",
    "        continue\n",
    "      else:\n",
    "        product *= arr[j]\n",
    "    output.append(product)\n",
    "  return output"
   ]
  },
  {
   "cell_type": "code",
   "execution_count": 36,
   "id": "32f77f38",
   "metadata": {},
   "outputs": [],
   "source": [
    "# By using cumulative product:\n",
    "\n",
    "# Time complexity: O(n)\n",
    "# Space complexity: O(n)\n",
    "\n",
    "def productExceptSelf(arr):\n",
    "  n = len(arr)\n",
    "  cumulativeFromLeft = [0] * n\n",
    "  cumulativeFromLeft[0] = 1\n",
    "  for i in range(1, n):\n",
    "    cumulativeFromLeft[i] = cumulativeFromLeft[i-1] * arr[i-1]\n",
    "\n",
    "  cumulativeFromRight = [0] * n\n",
    "  cumulativeFromRight[n-1] = 1\n",
    "  for i in range(n-2, -1, -1):\n",
    "    cumulativeFromRight[i] = cumulativeFromRight[i+1] * arr[i+1]\n",
    "\n",
    "  output = [0] * n\n",
    "  for i in range(n):\n",
    "    output[i] = cumulativeFromLeft[i] * cumulativeFromRight[i]\n",
    "  \n",
    "  return output"
   ]
  },
  {
   "cell_type": "markdown",
   "id": "bf5727c9",
   "metadata": {},
   "source": [
    "### 22- Jump to last index\n"
   ]
  },
  {
   "cell_type": "code",
   "execution_count": 37,
   "id": "2ce0e80e",
   "metadata": {},
   "outputs": [],
   "source": [
    "def canjump(A, i=0):\n",
    "    if i == len(A)-1:\n",
    "        return True\n",
    "    for j in range(1, A[i]+1):\n",
    "        if canjump(A,i+j):\n",
    "            return True\n",
    "    return"
   ]
  },
  {
   "cell_type": "markdown",
   "id": "fff625ed",
   "metadata": {},
   "source": [
    "### 23- Graph depth first search\n"
   ]
  },
  {
   "cell_type": "code",
   "execution_count": 38,
   "id": "56526b47",
   "metadata": {},
   "outputs": [],
   "source": [
    "# Time complexity: O(|V|+|E|)\n",
    "# Space complexity: O(|V|)\n",
    "\n",
    "class Graph:\n",
    "  def __init__(self, adjList = {}):\n",
    "    # the adjacency list is of type Dict[int,List[int]]\n",
    "    self.adjList = adjList\n",
    "\n",
    "def dfs(graph, root, visited = None):\n",
    "  if visited is None:\n",
    "    visited = set()\n",
    "  if root in visited:\n",
    "    return\n",
    "  else:\n",
    "    print(root)\n",
    "    visited.add(root)\n",
    "    for neighbour in graph.adjList[root]:\n",
    "      dfs(graph, neighbour, visited)"
   ]
  },
  {
   "cell_type": "markdown",
   "id": "89ae704b",
   "metadata": {},
   "source": [
    "### 24- Graph breadth first search\n"
   ]
  },
  {
   "cell_type": "code",
   "execution_count": 39,
   "id": "aefdd76e",
   "metadata": {},
   "outputs": [],
   "source": [
    "# Time complexity: O(|V|+|E|)\n",
    "# Space complexity: O(|V|)\n",
    "\n",
    "\n",
    "class Graph:\n",
    "  def __init__(self, adjList = {}):\n",
    "    # the adjacency list is of type Dict[int,List[int]]\n",
    "    self.adjList = adjList\n",
    "\n",
    "def bfs(graph, root):\n",
    "  queue = [root]\n",
    "  visited = {root}\n",
    "  i = 0\n",
    "  while i < len(queue):\n",
    "    vertex = queue[i]\n",
    "    i += 1\n",
    "    print(vertex)\n",
    "    for neighbor in graph.adjList[vertex]:\n",
    "      if neighbor not in visited:\n",
    "        queue.append(neighbor)\n",
    "        visited.add(neighbor)\n",
    "\n",
    "\n"
   ]
  },
  {
   "cell_type": "markdown",
   "id": "c61386b2",
   "metadata": {},
   "source": [
    "### 25- String subsequences"
   ]
  },
  {
   "cell_type": "code",
   "execution_count": 40,
   "id": "2f660441",
   "metadata": {},
   "outputs": [],
   "source": [
    "# Time complexity: O(n.2^n)\n",
    "# Space complexity: O(n.2^n)\n",
    "\n",
    "def getSubsequences(str):\n",
    "  subsequences = []\n",
    "  def rec(str, i, subsequence):\n",
    "    if i == len(str):\n",
    "      subsequences.append(subsequence)\n",
    "    else:\n",
    "      rec(str, i+1, subsequence+str[i])\n",
    "      rec(str, i+1, subsequence)\n",
    "  rec(str, 0, \"\")\n",
    "  return subsequences\n",
    "\n",
    "\n"
   ]
  },
  {
   "cell_type": "code",
   "execution_count": null,
   "id": "d80acd61",
   "metadata": {},
   "outputs": [],
   "source": []
  },
  {
   "cell_type": "code",
   "execution_count": null,
   "id": "24316c5a",
   "metadata": {},
   "outputs": [],
   "source": []
  },
  {
   "cell_type": "code",
   "execution_count": null,
   "id": "03da52b2",
   "metadata": {},
   "outputs": [],
   "source": []
  },
  {
   "cell_type": "code",
   "execution_count": null,
   "id": "9347fef4",
   "metadata": {},
   "outputs": [],
   "source": []
  },
  {
   "cell_type": "code",
   "execution_count": null,
   "id": "33725eae",
   "metadata": {},
   "outputs": [],
   "source": []
  }
 ],
 "metadata": {
  "kernelspec": {
   "display_name": "Python 3",
   "language": "python",
   "name": "python3"
  },
  "language_info": {
   "codemirror_mode": {
    "name": "ipython",
    "version": 3
   },
   "file_extension": ".py",
   "mimetype": "text/x-python",
   "name": "python",
   "nbconvert_exporter": "python",
   "pygments_lexer": "ipython3",
   "version": "3.8.8"
  }
 },
 "nbformat": 4,
 "nbformat_minor": 5
}
