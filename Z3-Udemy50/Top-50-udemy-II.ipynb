{
 "cells": [
  {
   "cell_type": "markdown",
   "id": "0894ab98",
   "metadata": {},
   "source": [
    "## Top 50 Udemy -II"
   ]
  },
  {
   "cell_type": "markdown",
   "id": "d4534442",
   "metadata": {},
   "source": [
    "- 26- Valid brackets\n",
    "- 27- Flatten a binary tree\n",
    "- 28- Lowest common ancestor\n",
    "- 29- Minimum in rotated sorted array\n",
    "- 30- Add two linked lists\n",
    "- 31- Ways to climb stairs\n",
    "- 32- Subsets that sum up to k\n",
    "- 33- Ways to decode\n",
    "- 34- Remove node from binary search tree\n",
    "- 35- Array permutations\n",
    "- 36- Longest common subsequence\n",
    "- 37- Longest consecutive sequence\n",
    "- 38- Edit distance\n",
    "- 39- Count sorted vowel strings\n",
    "- 40- Smallest number after removing k digits\n",
    "- 41- Merge intervals\n",
    "- 42- Insert interval\n",
    "- 43- Binary tree max sum\n",
    "- 44- 0-1 Knapsack\n",
    "- 45- Shortest palindrome\n",
    "- 46- Coin change\n",
    "- 47- Word search\n",
    "- 48- N-queens\n",
    "- 49- Word ladder\n",
    "- 50- Longest increasing subsequence"
   ]
  },
  {
   "cell_type": "markdown",
   "id": "98b9f489",
   "metadata": {},
   "source": [
    "### 26- Valid brackets\n"
   ]
  },
  {
   "cell_type": "code",
   "execution_count": null,
   "id": "103efda3",
   "metadata": {},
   "outputs": [],
   "source": []
  },
  {
   "cell_type": "markdown",
   "id": "cd700b9f",
   "metadata": {},
   "source": [
    "### 27- Flatten a binary tree\n"
   ]
  },
  {
   "cell_type": "code",
   "execution_count": 1,
   "id": "21097fb9",
   "metadata": {},
   "outputs": [],
   "source": [
    "def flattenTree(root):\n",
    "    if root is None:\n",
    "        return\n",
    "    else:\n",
    "        flattenTree(root.left)\n",
    "        flattenTree(root.right)\n",
    "        rightSubtree= root.right\n",
    "        root.right = root.left\n",
    "        root.left = None\n",
    "        temp = root\n",
    "        while temp.right is not None:\n",
    "            temp = temp.right\n",
    "        temp.right = rightSubtree\n",
    "        "
   ]
  },
  {
   "cell_type": "markdown",
   "id": "15a60911",
   "metadata": {},
   "source": [
    "### 28- Lowest common ancestor\n"
   ]
  },
  {
   "cell_type": "code",
   "execution_count": 2,
   "id": "9fb78b0b",
   "metadata": {},
   "outputs": [],
   "source": [
    "def getPath(root,path, num):\n",
    "    if root is None:\n",
    "        return\n",
    "    path.append(root)\n",
    "    if root.data == num:\n",
    "        return True\n",
    "    if getPath(root.left, path, num) or\\\n",
    "    getPath(root.right,path,num):\n",
    "        return True\n",
    "    path.pop()\n",
    "    return False"
   ]
  },
  {
   "cell_type": "code",
   "execution_count": 4,
   "id": "45d126dc",
   "metadata": {},
   "outputs": [],
   "source": [
    "def lca(root,num1,num2):\n",
    "    pathNum1 = []\n",
    "    pathNum2 = []\n",
    "    if not getPath(root,pathNum1, num1)\\\n",
    "    or not getPath(root,pathNum2, num2):\n",
    "        return None\n",
    "    \n",
    "    minLength = min(len(pathNum1),len(pathNum2))\n",
    "    i = 0\n",
    "    while i <minLength:\n",
    "        if pathNum1[i].data == pathNum2[i].data:\n",
    "            i +=1\n",
    "        else:\n",
    "            break\n",
    "    return pathNum1[i-1]"
   ]
  },
  {
   "cell_type": "markdown",
   "id": "b2e0a2d3",
   "metadata": {},
   "source": [
    "### 29- Minimum in rotated sorted array\n"
   ]
  },
  {
   "cell_type": "code",
   "execution_count": null,
   "id": "fd069db3",
   "metadata": {},
   "outputs": [],
   "source": []
  },
  {
   "cell_type": "markdown",
   "id": "0f32ce7b",
   "metadata": {},
   "source": [
    "### 30- Add two linked lists\n"
   ]
  },
  {
   "cell_type": "code",
   "execution_count": null,
   "id": "f1063966",
   "metadata": {},
   "outputs": [],
   "source": []
  },
  {
   "cell_type": "markdown",
   "id": "720a4d42",
   "metadata": {},
   "source": [
    "### 31- Ways to climb stairs\n"
   ]
  },
  {
   "cell_type": "code",
   "execution_count": null,
   "id": "ce640860",
   "metadata": {},
   "outputs": [],
   "source": []
  },
  {
   "cell_type": "markdown",
   "id": "5912cd71",
   "metadata": {},
   "source": [
    "### 32- Subsets that sum up to k\n"
   ]
  },
  {
   "cell_type": "code",
   "execution_count": null,
   "id": "ad05bc05",
   "metadata": {},
   "outputs": [],
   "source": []
  },
  {
   "cell_type": "markdown",
   "id": "c900bd7e",
   "metadata": {},
   "source": [
    "### 33- Ways to decode\n"
   ]
  },
  {
   "cell_type": "code",
   "execution_count": null,
   "id": "e65672bc",
   "metadata": {},
   "outputs": [],
   "source": []
  },
  {
   "cell_type": "markdown",
   "id": "6e4c34c7",
   "metadata": {},
   "source": [
    "### 34- Remove node from binary search tree\n"
   ]
  },
  {
   "cell_type": "code",
   "execution_count": null,
   "id": "e5b45548",
   "metadata": {},
   "outputs": [],
   "source": []
  },
  {
   "cell_type": "markdown",
   "id": "9e27e265",
   "metadata": {},
   "source": [
    "### 35- Array permutations\n"
   ]
  },
  {
   "cell_type": "code",
   "execution_count": null,
   "id": "6a6eda55",
   "metadata": {},
   "outputs": [],
   "source": []
  },
  {
   "cell_type": "markdown",
   "id": "0d82e12e",
   "metadata": {},
   "source": [
    "### 36- Longest common subsequence\n"
   ]
  },
  {
   "cell_type": "code",
   "execution_count": null,
   "id": "c64ffa48",
   "metadata": {},
   "outputs": [],
   "source": []
  },
  {
   "cell_type": "markdown",
   "id": "7b2a2b74",
   "metadata": {},
   "source": [
    "### 37- Longest consecutive sequence\n"
   ]
  },
  {
   "cell_type": "code",
   "execution_count": null,
   "id": "4c50a519",
   "metadata": {},
   "outputs": [],
   "source": []
  },
  {
   "cell_type": "markdown",
   "id": "6ced92d4",
   "metadata": {},
   "source": [
    "### 38- Edit distance\n"
   ]
  },
  {
   "cell_type": "code",
   "execution_count": null,
   "id": "24b3b98e",
   "metadata": {},
   "outputs": [],
   "source": []
  },
  {
   "cell_type": "markdown",
   "id": "3a11fac6",
   "metadata": {},
   "source": [
    "### 39- Count sorted vowel strings\n"
   ]
  },
  {
   "cell_type": "code",
   "execution_count": null,
   "id": "0c583e1a",
   "metadata": {},
   "outputs": [],
   "source": []
  },
  {
   "cell_type": "markdown",
   "id": "0ec2e658",
   "metadata": {},
   "source": [
    "### 40- Smallest number after removing k digits\n"
   ]
  },
  {
   "cell_type": "code",
   "execution_count": null,
   "id": "fc51ffef",
   "metadata": {},
   "outputs": [],
   "source": []
  },
  {
   "cell_type": "markdown",
   "id": "146b9edf",
   "metadata": {},
   "source": [
    "### 41- Merge intervals\n"
   ]
  },
  {
   "cell_type": "code",
   "execution_count": null,
   "id": "5c223c47",
   "metadata": {},
   "outputs": [],
   "source": []
  },
  {
   "cell_type": "markdown",
   "id": "7c416186",
   "metadata": {},
   "source": [
    "### 42- Insert interval\n"
   ]
  },
  {
   "cell_type": "code",
   "execution_count": null,
   "id": "13b1a62e",
   "metadata": {},
   "outputs": [],
   "source": []
  },
  {
   "cell_type": "markdown",
   "id": "ffbfb40a",
   "metadata": {},
   "source": [
    "### 43- Binary tree max sum\n"
   ]
  },
  {
   "cell_type": "code",
   "execution_count": null,
   "id": "3baf12c8",
   "metadata": {},
   "outputs": [],
   "source": []
  },
  {
   "cell_type": "markdown",
   "id": "b3d764d1",
   "metadata": {},
   "source": [
    "### 44- 0-1 Knapsack\n"
   ]
  },
  {
   "cell_type": "code",
   "execution_count": null,
   "id": "da4fa92e",
   "metadata": {},
   "outputs": [],
   "source": []
  },
  {
   "cell_type": "markdown",
   "id": "80057b02",
   "metadata": {},
   "source": [
    "### 45- Shortest palindrome\n"
   ]
  },
  {
   "cell_type": "code",
   "execution_count": null,
   "id": "db76023a",
   "metadata": {},
   "outputs": [],
   "source": []
  },
  {
   "cell_type": "markdown",
   "id": "fc57a6d3",
   "metadata": {},
   "source": [
    "### 46- Coin change\n"
   ]
  },
  {
   "cell_type": "code",
   "execution_count": null,
   "id": "64980ef7",
   "metadata": {},
   "outputs": [],
   "source": []
  },
  {
   "cell_type": "markdown",
   "id": "1f22aa96",
   "metadata": {},
   "source": [
    "### 47- Word search\n"
   ]
  },
  {
   "cell_type": "code",
   "execution_count": null,
   "id": "ecdfe1bc",
   "metadata": {},
   "outputs": [],
   "source": []
  },
  {
   "cell_type": "markdown",
   "id": "e37b8603",
   "metadata": {},
   "source": [
    "### 48- N-queens\n"
   ]
  },
  {
   "cell_type": "code",
   "execution_count": null,
   "id": "cae7bd22",
   "metadata": {},
   "outputs": [],
   "source": []
  },
  {
   "cell_type": "markdown",
   "id": "77490812",
   "metadata": {},
   "source": [
    "### 49- Word ladder\n"
   ]
  },
  {
   "cell_type": "code",
   "execution_count": null,
   "id": "46beac9d",
   "metadata": {},
   "outputs": [],
   "source": []
  },
  {
   "cell_type": "markdown",
   "id": "4e065c73",
   "metadata": {},
   "source": [
    "### 50- Longest increasing subsequence"
   ]
  },
  {
   "cell_type": "code",
   "execution_count": null,
   "id": "1e6b11d2",
   "metadata": {},
   "outputs": [],
   "source": []
  },
  {
   "cell_type": "code",
   "execution_count": null,
   "id": "3700852b",
   "metadata": {},
   "outputs": [],
   "source": []
  },
  {
   "cell_type": "code",
   "execution_count": null,
   "id": "20cfc4f0",
   "metadata": {},
   "outputs": [],
   "source": []
  },
  {
   "cell_type": "code",
   "execution_count": null,
   "id": "18f2e884",
   "metadata": {},
   "outputs": [],
   "source": []
  },
  {
   "cell_type": "code",
   "execution_count": null,
   "id": "2a06e7fc",
   "metadata": {},
   "outputs": [],
   "source": []
  },
  {
   "cell_type": "code",
   "execution_count": null,
   "id": "36f0e4bb",
   "metadata": {},
   "outputs": [],
   "source": []
  },
  {
   "cell_type": "code",
   "execution_count": null,
   "id": "76d60df8",
   "metadata": {},
   "outputs": [],
   "source": []
  },
  {
   "cell_type": "code",
   "execution_count": null,
   "id": "e4eb5e74",
   "metadata": {},
   "outputs": [],
   "source": []
  }
 ],
 "metadata": {
  "kernelspec": {
   "display_name": "Python 3",
   "language": "python",
   "name": "python3"
  },
  "language_info": {
   "codemirror_mode": {
    "name": "ipython",
    "version": 3
   },
   "file_extension": ".py",
   "mimetype": "text/x-python",
   "name": "python",
   "nbconvert_exporter": "python",
   "pygments_lexer": "ipython3",
   "version": "3.8.8"
  }
 },
 "nbformat": 4,
 "nbformat_minor": 5
}
