{
 "cells": [
  {
   "cell_type": "markdown",
   "id": "0894ab98",
   "metadata": {},
   "source": [
    "## Top 50 Udemy -II"
   ]
  },
  {
   "cell_type": "markdown",
   "id": "d4534442",
   "metadata": {},
   "source": [
    "- 26- Valid brackets\n",
    "- 27- Flatten a binary tree\n",
    "- 28- Lowest common ancestor\n",
    "- 29- Minimum in rotated sorted array\n",
    "- 30- Add two linked lists\n",
    "- 31- Ways to climb stairs\n",
    "- 32- Subsets that sum up to k\n",
    "- 33- Ways to decode\n",
    "- 34- Remove node from binary search tree\n",
    "- 35- Array permutations\n",
    "- 36- Longest common subsequence\n",
    "- 37- Longest consecutive sequence\n",
    "- 38- Edit distance\n",
    "- 39- Count sorted vowel strings\n",
    "- 40- Smallest number after removing k digits\n",
    "- 41- Merge intervals\n",
    "- 42- Insert interval\n",
    "- 43- Binary tree max sum\n",
    "- 44- 0-1 Knapsack\n",
    "- 45- Shortest palindrome\n",
    "- 46- Coin change\n",
    "- 47- Word search\n",
    "- 48- N-queens\n",
    "- 49- Word ladder\n",
    "- 50- Longest increasing subsequence"
   ]
  },
  {
   "cell_type": "markdown",
   "id": "b2f76d95",
   "metadata": {},
   "source": [
    "### 26- Valid brackets\n"
   ]
  },
  {
   "cell_type": "code",
   "execution_count": null,
   "id": "f15655aa",
   "metadata": {},
   "outputs": [],
   "source": []
  },
  {
   "cell_type": "markdown",
   "id": "e511745f",
   "metadata": {},
   "source": [
    "### 27- Flatten a binary tree\n"
   ]
  },
  {
   "cell_type": "code",
   "execution_count": null,
   "id": "a8e89f33",
   "metadata": {},
   "outputs": [],
   "source": []
  },
  {
   "cell_type": "markdown",
   "id": "58f96a33",
   "metadata": {},
   "source": [
    "### 28- Lowest common ancestor\n"
   ]
  },
  {
   "cell_type": "code",
   "execution_count": null,
   "id": "fdbd255f",
   "metadata": {},
   "outputs": [],
   "source": []
  },
  {
   "cell_type": "markdown",
   "id": "1564280d",
   "metadata": {},
   "source": [
    "### 29- Minimum in rotated sorted array\n"
   ]
  },
  {
   "cell_type": "code",
   "execution_count": null,
   "id": "fa74d857",
   "metadata": {},
   "outputs": [],
   "source": []
  },
  {
   "cell_type": "markdown",
   "id": "2a2f779b",
   "metadata": {},
   "source": [
    "### 30- Add two linked lists\n"
   ]
  },
  {
   "cell_type": "code",
   "execution_count": null,
   "id": "e908c886",
   "metadata": {},
   "outputs": [],
   "source": []
  },
  {
   "cell_type": "markdown",
   "id": "f02dd67e",
   "metadata": {},
   "source": [
    "### 31- Ways to climb stairs\n"
   ]
  },
  {
   "cell_type": "code",
   "execution_count": null,
   "id": "f87b88a1",
   "metadata": {},
   "outputs": [],
   "source": []
  },
  {
   "cell_type": "markdown",
   "id": "3f248373",
   "metadata": {},
   "source": [
    "### 32- Subsets that sum up to k\n"
   ]
  },
  {
   "cell_type": "code",
   "execution_count": null,
   "id": "102ba4cb",
   "metadata": {},
   "outputs": [],
   "source": []
  },
  {
   "cell_type": "markdown",
   "id": "11b16f7c",
   "metadata": {},
   "source": [
    "### 33- Ways to decode\n"
   ]
  },
  {
   "cell_type": "code",
   "execution_count": null,
   "id": "2f6d1048",
   "metadata": {},
   "outputs": [],
   "source": []
  },
  {
   "cell_type": "markdown",
   "id": "257c4f28",
   "metadata": {},
   "source": [
    "### 34- Remove node from binary search tree\n"
   ]
  },
  {
   "cell_type": "code",
   "execution_count": null,
   "id": "428a8479",
   "metadata": {},
   "outputs": [],
   "source": []
  },
  {
   "cell_type": "markdown",
   "id": "4c74aec6",
   "metadata": {},
   "source": [
    "### 35- Array permutations\n"
   ]
  },
  {
   "cell_type": "code",
   "execution_count": null,
   "id": "449682d5",
   "metadata": {},
   "outputs": [],
   "source": []
  },
  {
   "cell_type": "markdown",
   "id": "fd165064",
   "metadata": {},
   "source": [
    "### 36- Longest common subsequence\n"
   ]
  },
  {
   "cell_type": "code",
   "execution_count": null,
   "id": "92cfe42c",
   "metadata": {},
   "outputs": [],
   "source": []
  },
  {
   "cell_type": "markdown",
   "id": "87916462",
   "metadata": {},
   "source": [
    "### 37- Longest consecutive sequence\n"
   ]
  },
  {
   "cell_type": "code",
   "execution_count": null,
   "id": "3e610753",
   "metadata": {},
   "outputs": [],
   "source": []
  },
  {
   "cell_type": "markdown",
   "id": "ff17e8c7",
   "metadata": {},
   "source": [
    "### 38- Edit distance\n"
   ]
  },
  {
   "cell_type": "code",
   "execution_count": null,
   "id": "e563b43a",
   "metadata": {},
   "outputs": [],
   "source": []
  },
  {
   "cell_type": "markdown",
   "id": "ca97a7fa",
   "metadata": {},
   "source": [
    "### 39- Count sorted vowel strings\n"
   ]
  },
  {
   "cell_type": "code",
   "execution_count": null,
   "id": "5f74f50c",
   "metadata": {},
   "outputs": [],
   "source": []
  },
  {
   "cell_type": "markdown",
   "id": "f8a57a44",
   "metadata": {},
   "source": [
    "### 40- Smallest number after removing k digits\n"
   ]
  },
  {
   "cell_type": "code",
   "execution_count": null,
   "id": "baa49cbc",
   "metadata": {},
   "outputs": [],
   "source": []
  },
  {
   "cell_type": "markdown",
   "id": "f15f47d0",
   "metadata": {},
   "source": [
    "### 41- Merge intervals\n"
   ]
  },
  {
   "cell_type": "code",
   "execution_count": null,
   "id": "7c010e98",
   "metadata": {},
   "outputs": [],
   "source": []
  },
  {
   "cell_type": "markdown",
   "id": "e2533e5a",
   "metadata": {},
   "source": [
    "### 42- Insert interval\n"
   ]
  },
  {
   "cell_type": "code",
   "execution_count": null,
   "id": "76e47902",
   "metadata": {},
   "outputs": [],
   "source": []
  },
  {
   "cell_type": "markdown",
   "id": "df52342a",
   "metadata": {},
   "source": [
    "### 43- Binary tree max sum\n"
   ]
  },
  {
   "cell_type": "code",
   "execution_count": null,
   "id": "ed7b6dbf",
   "metadata": {},
   "outputs": [],
   "source": []
  },
  {
   "cell_type": "markdown",
   "id": "c35e5a01",
   "metadata": {},
   "source": [
    "### 44- 0-1 Knapsack\n"
   ]
  },
  {
   "cell_type": "code",
   "execution_count": null,
   "id": "79c3d5c6",
   "metadata": {},
   "outputs": [],
   "source": []
  },
  {
   "cell_type": "markdown",
   "id": "06be6ed1",
   "metadata": {},
   "source": [
    "### 45- Shortest palindrome\n"
   ]
  },
  {
   "cell_type": "code",
   "execution_count": null,
   "id": "bf018137",
   "metadata": {},
   "outputs": [],
   "source": []
  },
  {
   "cell_type": "markdown",
   "id": "406a3ed6",
   "metadata": {},
   "source": [
    "### 46- Coin change\n"
   ]
  },
  {
   "cell_type": "code",
   "execution_count": null,
   "id": "98ca9c74",
   "metadata": {},
   "outputs": [],
   "source": []
  },
  {
   "cell_type": "markdown",
   "id": "adc7d75e",
   "metadata": {},
   "source": [
    "### 47- Word search\n"
   ]
  },
  {
   "cell_type": "code",
   "execution_count": null,
   "id": "6b0ea9d0",
   "metadata": {},
   "outputs": [],
   "source": []
  },
  {
   "cell_type": "markdown",
   "id": "d38e1b30",
   "metadata": {},
   "source": [
    "### 48- N-queens\n"
   ]
  },
  {
   "cell_type": "code",
   "execution_count": null,
   "id": "38654e88",
   "metadata": {},
   "outputs": [],
   "source": []
  },
  {
   "cell_type": "markdown",
   "id": "cb4de559",
   "metadata": {},
   "source": [
    "### 49- Word ladder\n"
   ]
  },
  {
   "cell_type": "code",
   "execution_count": null,
   "id": "ed8778e7",
   "metadata": {},
   "outputs": [],
   "source": []
  },
  {
   "cell_type": "markdown",
   "id": "896e3a86",
   "metadata": {},
   "source": [
    "### 50- Longest increasing subsequence"
   ]
  },
  {
   "cell_type": "code",
   "execution_count": null,
   "id": "1e6b11d2",
   "metadata": {},
   "outputs": [],
   "source": []
  },
  {
   "cell_type": "code",
   "execution_count": null,
   "id": "3700852b",
   "metadata": {},
   "outputs": [],
   "source": []
  },
  {
   "cell_type": "code",
   "execution_count": null,
   "id": "20cfc4f0",
   "metadata": {},
   "outputs": [],
   "source": []
  },
  {
   "cell_type": "code",
   "execution_count": null,
   "id": "18f2e884",
   "metadata": {},
   "outputs": [],
   "source": []
  },
  {
   "cell_type": "code",
   "execution_count": null,
   "id": "2a06e7fc",
   "metadata": {},
   "outputs": [],
   "source": []
  },
  {
   "cell_type": "code",
   "execution_count": null,
   "id": "36f0e4bb",
   "metadata": {},
   "outputs": [],
   "source": []
  },
  {
   "cell_type": "code",
   "execution_count": null,
   "id": "76d60df8",
   "metadata": {},
   "outputs": [],
   "source": []
  },
  {
   "cell_type": "code",
   "execution_count": null,
   "id": "e4eb5e74",
   "metadata": {},
   "outputs": [],
   "source": []
  }
 ],
 "metadata": {
  "kernelspec": {
   "display_name": "Python 3",
   "language": "python",
   "name": "python3"
  },
  "language_info": {
   "codemirror_mode": {
    "name": "ipython",
    "version": 3
   },
   "file_extension": ".py",
   "mimetype": "text/x-python",
   "name": "python",
   "nbconvert_exporter": "python",
   "pygments_lexer": "ipython3",
   "version": "3.8.8"
  }
 },
 "nbformat": 4,
 "nbformat_minor": 5
}
