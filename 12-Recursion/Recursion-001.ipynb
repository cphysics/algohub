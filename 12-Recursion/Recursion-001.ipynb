{
 "cells": [
  {
   "cell_type": "markdown",
   "id": "48ee787a",
   "metadata": {},
   "source": [
    "# Recursion (Intro)"
   ]
  },
  {
   "cell_type": "markdown",
   "id": "2c9ebd82",
   "metadata": {},
   "source": [
    "### Factorial"
   ]
  },
  {
   "cell_type": "markdown",
   "id": "41a0123a",
   "metadata": {},
   "source": [
    "#### I- Iteration"
   ]
  },
  {
   "cell_type": "code",
   "execution_count": 1,
   "id": "43b98d8f",
   "metadata": {},
   "outputs": [],
   "source": [
    "def factorial_iteration(n):\n",
    "    product = 1\n",
    "    for i in range(1,n+1):\n",
    "        product = product*i\n",
    "    return product"
   ]
  },
  {
   "cell_type": "code",
   "execution_count": 2,
   "id": "dcdeb523",
   "metadata": {},
   "outputs": [
    {
     "data": {
      "text/plain": [
       "3628800"
      ]
     },
     "execution_count": 2,
     "metadata": {},
     "output_type": "execute_result"
    }
   ],
   "source": [
    "factorial_iteration(10)"
   ]
  },
  {
   "cell_type": "markdown",
   "id": "d49ee373",
   "metadata": {},
   "source": [
    "#### II-Recursion"
   ]
  },
  {
   "cell_type": "code",
   "execution_count": null,
   "id": "4a45d753",
   "metadata": {},
   "outputs": [],
   "source": [
    "def factorial_recursion(n):\n",
    "    if n==1 or n==0:\n",
    "        return 1\n",
    "    else:\n",
    "        return n*factorial_recursion(n-1)"
   ]
  },
  {
   "cell_type": "markdown",
   "id": "88dad820",
   "metadata": {},
   "source": [
    "#### III-Dynamic Programming"
   ]
  },
  {
   "cell_type": "code",
   "execution_count": null,
   "id": "673231c8",
   "metadata": {},
   "outputs": [],
   "source": [
    "def factorial_dynamic(n):\n",
    "    fct = [1 for i in range(n+1)]\n",
    "    fct[0] =1\n",
    "    fct[1] =1\n",
    "    for k in range(2,n+1):\n",
    "        fct[k] = k*fct[k-1]\n",
    "    return fct[n]"
   ]
  },
  {
   "cell_type": "markdown",
   "id": "e65b2f40",
   "metadata": {},
   "source": [
    "### [Combination  | Binomial Corfficients](https://www.geeksforgeeks.org/binomial-coefficient-dp-9/)\n",
    "Number of ways r number of people can sit in n chairs disregarding the order"
   ]
  },
  {
   "cell_type": "markdown",
   "id": "3acf10dd",
   "metadata": {},
   "source": [
    "$C(n,r) = \\frac{n!}{(n-r)!r!}$\n",
    "\n",
    "$C(n, k) = C(n-1, k-1) + C(n-1, k)$ | $C(n, 0) = C(n, n) = 1$"
   ]
  },
  {
   "cell_type": "markdown",
   "id": "b94204f7",
   "metadata": {},
   "source": [
    "#### I - Recursion\n",
    "\n",
    "Using: $C(n, k) = C(n-1, k-1) + C(n-1, k)$"
   ]
  },
  {
   "cell_type": "code",
   "execution_count": 15,
   "id": "e76fc348",
   "metadata": {},
   "outputs": [],
   "source": [
    "def binomialCoeff(n, k):\n",
    "\n",
    "        if k > n:\n",
    "            return 0\n",
    "        if k == 0 or k == n:\n",
    "            return 1\n",
    "\n",
    "        # Recursive Call\n",
    "        return binomialCoeff(n-1, k-1) + binomialCoeff(n-1, k)"
   ]
  },
  {
   "cell_type": "code",
   "execution_count": 16,
   "id": "9ec8f48f",
   "metadata": {},
   "outputs": [
    {
     "name": "stdout",
     "output_type": "stream",
     "text": [
      "Value of C(5,2) is (10)\n"
     ]
    }
   ],
   "source": [
    "n = 5\n",
    "k = 2\n",
    "print (\"Value of C(%d,%d) is (%d)\" % (n, k,\n",
    "binomialCoeff(n, k)))"
   ]
  },
  {
   "cell_type": "markdown",
   "id": "685a6697",
   "metadata": {},
   "source": [
    "#### II - Dynamic Programming\n",
    "\n",
    "Using formula: $C(n,r) = \\frac{n!}{(n-r)!r!} $"
   ]
  },
  {
   "cell_type": "code",
   "execution_count": 24,
   "id": "1268865d",
   "metadata": {},
   "outputs": [],
   "source": [
    "def binomialCoeff(n, k):\n",
    "    \n",
    "    fact = [0 for i in range(n + 1)]\n",
    "\n",
    "    # base case\n",
    "    fact[0] = 1\n",
    "\n",
    "    # Calculate value\n",
    "    # factorials up to n\n",
    "    for i in range(1, n + 1):\n",
    "        fact[i] = i * fact[i - 1]\n",
    "\n",
    "    # C(n, k) = n!/(n-k)!\n",
    "    return int(fact[n] / (fact[n - k]*fact[k]))"
   ]
  },
  {
   "cell_type": "code",
   "execution_count": 25,
   "id": "79eee002",
   "metadata": {},
   "outputs": [
    {
     "name": "stdout",
     "output_type": "stream",
     "text": [
      "Value of C[5][2] is 10\n"
     ]
    }
   ],
   "source": [
    "n = 5\n",
    "k = 2\n",
    "print(\"Value of C[\" + str(n) + \"][\" + str(k) + \"] is \"\n",
    "    + str(binomialCoef(n, k)))"
   ]
  },
  {
   "cell_type": "markdown",
   "id": "a59d79f1",
   "metadata": {},
   "source": [
    "#### II-Dynamic Programming \n",
    "Using Recursion Relation : $C(n, k) = C(n-1, k-1) + C(n-1, k)$"
   ]
  },
  {
   "cell_type": "code",
   "execution_count": 18,
   "id": "46da3633",
   "metadata": {},
   "outputs": [],
   "source": [
    "# Returns value of Binomial Coefficient C(n, k)\n",
    "def binomialCoef(n, k):\n",
    "    \n",
    "        C = [[0 for x in range(k+1)] for x in range(n+1)]\n",
    "\n",
    "        # Calculate value of Binomial\n",
    "        # Coefficient in bottom up manner\n",
    "        for i in range(n+1):\n",
    "            for j in range(min(i, k)+1):\n",
    "                # Base Cases\n",
    "                if j == 0 or j == i:\n",
    "                    C[i][j] = 1\n",
    "\n",
    "                # Calculate value using\n",
    "                # previously stored values\n",
    "                else:\n",
    "                    C[i][j] = C[i-1][j-1] + C[i-1][j]\n",
    "\n",
    "        return C[n][k]"
   ]
  },
  {
   "cell_type": "code",
   "execution_count": 19,
   "id": "afed141a",
   "metadata": {},
   "outputs": [
    {
     "name": "stdout",
     "output_type": "stream",
     "text": [
      "Value of C[5][2] is 10\n"
     ]
    }
   ],
   "source": [
    "n = 5\n",
    "k = 2\n",
    "print(\"Value of C[\" + str(n) + \"][\" + str(k) + \"] is \"\n",
    "    + str(binomialCoef(n, k)))"
   ]
  },
  {
   "cell_type": "markdown",
   "id": "ac071f44",
   "metadata": {},
   "source": [
    "#### III-Pasclal Triangle"
   ]
  },
  {
   "cell_type": "code",
   "execution_count": 20,
   "id": "43eab0d7",
   "metadata": {},
   "outputs": [],
   "source": [
    "def binomialCoeff(n, k):\n",
    "\n",
    "        # Declaring an empty array\n",
    "        C = [0 for i in range(k+1)]\n",
    "        C[0] = 1 # since nC0 is 1\n",
    "\n",
    "        for i in range(1, n+1):\n",
    "\n",
    "            # Compute next row of pascal triangle using\n",
    "            # the previous row\n",
    "            j = min(i, k)\n",
    "            while (j > 0):\n",
    "                C[j] = C[j] + C[j-1]\n",
    "                j -= 1\n",
    "\n",
    "        return C[k]"
   ]
  },
  {
   "cell_type": "code",
   "execution_count": 21,
   "id": "1986afe3",
   "metadata": {},
   "outputs": [
    {
     "name": "stdout",
     "output_type": "stream",
     "text": [
      "Value of C(5,2) is 10\n"
     ]
    }
   ],
   "source": [
    "# Driver Code\n",
    "n = 5\n",
    "k = 2\n",
    "print (\"Value of C(%d,%d) is %d\" % (n, k, binomialCoeff(n, k)))"
   ]
  },
  {
   "cell_type": "markdown",
   "id": "aab69b45",
   "metadata": {},
   "source": [
    "### [Permutation](https://www.geeksforgeeks.org/permutation-coefficient/)\n",
    "Number of ways r number of people can sit in n chairs in different order"
   ]
  },
  {
   "cell_type": "markdown",
   "id": "c2679886",
   "metadata": {},
   "source": [
    "$P(n,r) = \\frac{n!}{(n-r)!} = n.(n-1).(n-2)...(n-r)$\n",
    "\n",
    "$P(n, k) = P(n-1, k) + k* P(n-1, k-1) $"
   ]
  },
  {
   "cell_type": "markdown",
   "id": "f9c62e36",
   "metadata": {},
   "source": [
    "#### I - Recursion or iteration\n",
    "\n",
    "Using product concept: $P(n,r) = n.(n-1).(n-2)...(n-r)$"
   ]
  },
  {
   "cell_type": "code",
   "execution_count": 4,
   "id": "c3dce4e6",
   "metadata": {},
   "outputs": [],
   "source": [
    "def permutationCoeff(n, k):\n",
    "\n",
    "    f=1\n",
    "\n",
    "    #P(n,k)=n*(n-1)*(n-2)*....(n-k-1)\n",
    "    for i in range(k): \n",
    "        f*=(n-i)\n",
    "\n",
    "    return f "
   ]
  },
  {
   "cell_type": "code",
   "execution_count": 5,
   "id": "86ff5024",
   "metadata": {},
   "outputs": [
    {
     "name": "stdout",
     "output_type": "stream",
     "text": [
      "Value of P( 10 ,  2 ) is  90\n"
     ]
    }
   ],
   "source": [
    "n = 10\n",
    "k = 2\n",
    "print(\"Value of P(\", n, \", \", k, \") is \",\n",
    "    permutationCoeff(n, k))"
   ]
  },
  {
   "cell_type": "markdown",
   "id": "0777d6fc",
   "metadata": {},
   "source": [
    "#### II - Dynamic Programming"
   ]
  },
  {
   "cell_type": "markdown",
   "id": "fad5793f",
   "metadata": {},
   "source": [
    "Using formula: $P(n,r) = \\frac{n!}{(n-r)!} $"
   ]
  },
  {
   "cell_type": "code",
   "execution_count": 7,
   "id": "0572f032",
   "metadata": {},
   "outputs": [],
   "source": [
    "def permutationCoeff(n, k):\n",
    "    \n",
    "    fact = [0 for i in range(n + 1)]\n",
    "\n",
    "    # base case\n",
    "    fact[0] = 1\n",
    "\n",
    "    # Calculate value\n",
    "    # factorials up to n\n",
    "    for i in range(1, n + 1):\n",
    "        fact[i] = i * fact[i - 1]\n",
    "\n",
    "    # P(n, k) = n!/(n-k)!\n",
    "    return int(fact[n] / fact[n - k])"
   ]
  },
  {
   "cell_type": "code",
   "execution_count": 8,
   "id": "6363b5c9",
   "metadata": {},
   "outputs": [
    {
     "name": "stdout",
     "output_type": "stream",
     "text": [
      "Value of P(10, 2) is 90\n"
     ]
    }
   ],
   "source": [
    "# Driver Code\n",
    "n = 10\n",
    "k = 2\n",
    "print(\"Value of P(\", n, \", \", k, \") is \",\n",
    "    permutationCoeff(n, k), sep = \"\")"
   ]
  },
  {
   "cell_type": "markdown",
   "id": "b5c9d5c0",
   "metadata": {},
   "source": [
    "#### II- Dynamic Programming\n",
    "Using recursion relation: $P(n, k) = P(n-1, k) + k* P(n-1, k-1) $"
   ]
  },
  {
   "cell_type": "code",
   "execution_count": 11,
   "id": "eec5ddc4",
   "metadata": {},
   "outputs": [],
   "source": [
    "def permutationCoeff(n, k):\n",
    "\n",
    "    P = [[0 for i in range(k + 1)]for j in range(n + 1)]\n",
    "\n",
    "    # Calculate value of Permutation\n",
    "    # Coefficient in\n",
    "    # bottom up manner\n",
    "    for i in range(n + 1):\n",
    "            for j in range(min(i, k) + 1):\n",
    "\n",
    "                # Base cases\n",
    "                if (j == 0):\n",
    "                    P[i][j] = 1\n",
    "\n",
    "                # Calculate value using\n",
    "                # previously stored values\n",
    "                else:\n",
    "                    P[i][j] = P[i - 1][j] + (\n",
    "                            j * P[i - 1][j - 1])\n",
    "\n",
    "                # This step is important\n",
    "                # as P(i, j) = 0 for j>i\n",
    "                if (j < k):\n",
    "                    P[i][j + 1] = 0\n",
    "    return P[n][k]"
   ]
  },
  {
   "cell_type": "code",
   "execution_count": 12,
   "id": "bb60f1ce",
   "metadata": {},
   "outputs": [
    {
     "name": "stdout",
     "output_type": "stream",
     "text": [
      "Value of P(10, 2) is 90\n"
     ]
    }
   ],
   "source": [
    "# Driver Code\n",
    "n = 10\n",
    "k = 2\n",
    "print(\"Value of P(\", n, \", \", k, \") is \",\n",
    "    permutationCoeff(n, k), sep = \"\")"
   ]
  },
  {
   "cell_type": "markdown",
   "id": "5f1c424d",
   "metadata": {},
   "source": [
    "-------------"
   ]
  },
  {
   "cell_type": "markdown",
   "id": "a40570f7",
   "metadata": {},
   "source": [
    "### Fibonaci"
   ]
  },
  {
   "cell_type": "markdown",
   "id": "a9ebe7ea",
   "metadata": {},
   "source": [
    "![img](https://www.w3resource.com/w3r_images/python-conditional-image-exercise-9.png)"
   ]
  },
  {
   "cell_type": "code",
   "execution_count": null,
   "id": "e011a799",
   "metadata": {},
   "outputs": [],
   "source": [
    "def fibonacci_recursive(n): \n",
    "    if n<0: \n",
    "        print(\"Incorrect input\") \n",
    "    # First Fibonacci number is 0 \n",
    "    elif n==1: \n",
    "        return 0\n",
    "    # Second Fibonacci number is 1 \n",
    "    elif n==2: \n",
    "        return 1\n",
    "    else: \n",
    "        return fibonacci_recursive(n-1)+fibonacci_recursive(n-2) "
   ]
  },
  {
   "cell_type": "code",
   "execution_count": null,
   "id": "e8cde16c",
   "metadata": {},
   "outputs": [],
   "source": [
    "FibArray = [0,1] \n",
    "  \n",
    "def fibonacci_dynamic(n): \n",
    "    if n<0: \n",
    "        print(\"Incorrect input\") \n",
    "    elif n<=len(FibArray): \n",
    "        return FibArray[n-1] \n",
    "    else: \n",
    "        temp_fib = fibonacci_dynamic(n-1)+fibonacci_dynamic(n-2) \n",
    "        FibArray.append(temp_fib) \n",
    "        return temp_fib "
   ]
  },
  {
   "cell_type": "markdown",
   "id": "7ddb12ad",
   "metadata": {},
   "source": [
    "---------"
   ]
  },
  {
   "cell_type": "markdown",
   "id": "bc2ec613",
   "metadata": {},
   "source": [
    "### [No of ways in Climbing Ladders](https://leetcode.com/problems/climbing-stairs/)\n",
    "\n",
    "Climbing Stairs:\n",
    "You are climbing a staircase. It takes n steps to reach the top.\n",
    "Each time you can either climb 1 or 2 steps. In how many distinct ways can you climb to the top?"
   ]
  },
  {
   "cell_type": "code",
   "execution_count": null,
   "id": "ab7b852e",
   "metadata": {},
   "outputs": [],
   "source": []
  },
  {
   "cell_type": "code",
   "execution_count": null,
   "id": "911bff38",
   "metadata": {},
   "outputs": [],
   "source": [
    "class Solution(object):\n",
    "    def climbStairs(self, n):\n",
    "        \"\"\"\n",
    "        :type n: int\n",
    "        :rtype: int\n",
    "        \"\"\"\n",
    "        if n <= 0:\n",
    "            return 0\n",
    "        if n == 1:\n",
    "            return 1\n",
    "        if n == 2:\n",
    "            return 2\n",
    "\n",
    "        results = [0] * (n + 1)\n",
    "        results[0:3] = [0, 1, 2]\n",
    "\n",
    "        for i in range(3, n + 1):\n",
    "            results[i] = results[i - 1] + results[i - 2]\n",
    "\n",
    "        return results[n]"
   ]
  },
  {
   "cell_type": "code",
   "execution_count": null,
   "id": "499b7e64",
   "metadata": {},
   "outputs": [],
   "source": []
  },
  {
   "cell_type": "markdown",
   "id": "3ba4606e",
   "metadata": {},
   "source": [
    "### Min Cost in climbing ladders"
   ]
  },
  {
   "cell_type": "code",
   "execution_count": 26,
   "id": "97ae276b",
   "metadata": {},
   "outputs": [],
   "source": [
    "# Python3 program to find\n",
    "# the minimum cost required\n",
    "# to reach the n-th floor\n",
    "\n",
    "# function to find the minimum\n",
    "# cost to reach N-th floor\n",
    "def minimumCost(cost, n):\n",
    "\n",
    "        # declare an array\n",
    "        dp = [None]*n\n",
    "\n",
    "        # base case\n",
    "        if n == 1:\n",
    "            return cost[0]\n",
    "\n",
    "        # initially to climb\n",
    "        # till 0-th or 1th stair\n",
    "        dp[0] = cost[0]\n",
    "        dp[1] = cost[1]\n",
    "\n",
    "        # iterate for finding the cost\n",
    "        for i in range(2, n):\n",
    "            dp[i] = min(dp[i - 1],\n",
    "                        dp[i - 2]) + cost[i]\n",
    "\n",
    "        # return the minimum\n",
    "        return min(dp[n - 2], dp[n - 1])"
   ]
  },
  {
   "cell_type": "code",
   "execution_count": 27,
   "id": "5d85f135",
   "metadata": {},
   "outputs": [
    {
     "name": "stdout",
     "output_type": "stream",
     "text": [
      "31\n"
     ]
    }
   ],
   "source": [
    "# Driver Code\n",
    "if __name__ == \"__main__\":\n",
    "        a = [16, 19, 10, 12, 18 ]\n",
    "        n = len(a)\n",
    "        print(minimumCost(a, n))"
   ]
  },
  {
   "cell_type": "code",
   "execution_count": 28,
   "id": "c1f44e89",
   "metadata": {},
   "outputs": [],
   "source": [
    "# Python3 program to find\n",
    "# the minimum cost required\n",
    "# to reach the n-th floor\n",
    "# space-optimized solution\n",
    "\n",
    "# function to find the minimum\n",
    "# cost to reach N-th floor\n",
    "def minimumCost(cost, n):\n",
    "\n",
    "        dp1 = 0\n",
    "        dp2 = 0\n",
    "\n",
    "        # traverse till N-th stair\n",
    "        for i in range(n):\n",
    "            dp0 = cost[i] + min(dp1, dp2)\n",
    "\n",
    "            # update the last\n",
    "            # two stairs value\n",
    "            dp2 = dp1\n",
    "            dp1 = dp0\n",
    "        return min(dp1, dp2)"
   ]
  },
  {
   "cell_type": "code",
   "execution_count": 29,
   "id": "a7d3670d",
   "metadata": {},
   "outputs": [
    {
     "name": "stdout",
     "output_type": "stream",
     "text": [
      "9\n"
     ]
    }
   ],
   "source": [
    "# Driver Code\n",
    "if __name__ == \"__main__\":\n",
    "        a = [ 2, 5, 3, 1, 7, 3, 4 ]\n",
    "        n = len(a)\n",
    "        print(minimumCost(a, n))"
   ]
  },
  {
   "cell_type": "code",
   "execution_count": null,
   "id": "bfeebd98",
   "metadata": {},
   "outputs": [],
   "source": []
  },
  {
   "cell_type": "code",
   "execution_count": null,
   "id": "2b8c220d",
   "metadata": {},
   "outputs": [],
   "source": []
  },
  {
   "cell_type": "code",
   "execution_count": null,
   "id": "6a945d48",
   "metadata": {},
   "outputs": [],
   "source": []
  },
  {
   "cell_type": "code",
   "execution_count": null,
   "id": "5ef5e673",
   "metadata": {},
   "outputs": [],
   "source": []
  },
  {
   "cell_type": "code",
   "execution_count": null,
   "id": "5e024b98",
   "metadata": {},
   "outputs": [],
   "source": []
  },
  {
   "cell_type": "code",
   "execution_count": null,
   "id": "f5a9d043",
   "metadata": {},
   "outputs": [],
   "source": []
  }
 ],
 "metadata": {
  "kernelspec": {
   "display_name": "Python 3",
   "language": "python",
   "name": "python3"
  },
  "language_info": {
   "codemirror_mode": {
    "name": "ipython",
    "version": 3
   },
   "file_extension": ".py",
   "mimetype": "text/x-python",
   "name": "python",
   "nbconvert_exporter": "python",
   "pygments_lexer": "ipython3",
   "version": "3.8.8"
  }
 },
 "nbformat": 4,
 "nbformat_minor": 5
}
