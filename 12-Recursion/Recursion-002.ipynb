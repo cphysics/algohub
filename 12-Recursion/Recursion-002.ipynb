{
 "cells": [
  {
   "cell_type": "markdown",
   "id": "ff8f8392",
   "metadata": {},
   "source": [
    "# Recursion (Medium)"
   ]
  },
  {
   "cell_type": "markdown",
   "id": "17950a59",
   "metadata": {},
   "source": [
    "### [Egg Drop With 2 Eggs and N Floors](https://leetcode.com/problems/egg-drop-with-2-eggs-and-n-floors/)\n",
    "\n",
    "You are given two identical eggs and you have access to a building with n floors labeled from 1 to n.\n",
    "\n",
    "You know that there exists a floor f where 0 <= f <= n such that any egg dropped at a floor higher than f will break, and any egg dropped at or below floor f will not break.\n",
    "\n",
    "In each move, you may take an unbroken egg and drop it from any floor x (where 1 <= x <= n). If the egg breaks, you can no longer use it. However, if the egg does not break, you may reuse it in future moves.\n",
    "\n",
    "Return the minimum number of moves that you need to determine with certainty what the value of f is."
   ]
  },
  {
   "cell_type": "markdown",
   "id": "9178d95e",
   "metadata": {},
   "source": [
    "#### I-Recursion with suboptimal structure"
   ]
  },
  {
   "cell_type": "markdown",
   "id": "6ba0d146",
   "metadata": {},
   "source": [
    "##### Optimal Substructure: \n",
    "\n",
    "When we drop an egg from a floor x, there can be two cases (1) The egg breaks (2) The egg doesn’t break. \n",
    " \n",
    "- If the egg breaks after dropping from ‘xth’ floor, then we only need to check for floors lower than ‘x’ with remaining eggs as some floor should exist lower than ‘x’ in which egg would not break; so the problem reduces to x-1 floors and n-1 eggs.\n",
    "- If the egg doesn’t break after dropping from the ‘xth’ floor, then we only need to check for floors higher than ‘x’; so the problem reduces to ‘k-x’ floors and n eggs.\n"
   ]
  },
  {
   "cell_type": "code",
   "execution_count": 1,
   "id": "9f7393fa",
   "metadata": {},
   "outputs": [],
   "source": [
    "#n eggs, k floors\n",
    "def eggDrop(n,k):\n",
    "    \n",
    "    # if floor is 1, one trial needed\n",
    "    if (k==1 or k==0):\n",
    "        return k\n",
    "    \n",
    "    # if egg is just 1, go to all floors\n",
    "    if (n==1):\n",
    "        return k\n",
    "    \n",
    "    minimum = float('inf')\n",
    "    for x in range(1, k+1):\n",
    "        \n",
    "        # either egg breaks or not\n",
    "        result = max(eggDrop(n-1,x-1), eggDrop(n, k-x))\n",
    "        \n",
    "        if result < minimum:\n",
    "            minimum = result\n",
    "            \n",
    "    return minimum+1\n",
    "    "
   ]
  },
  {
   "cell_type": "code",
   "execution_count": 6,
   "id": "c87110db",
   "metadata": {},
   "outputs": [
    {
     "data": {
      "text/plain": [
       "10"
      ]
     },
     "execution_count": 6,
     "metadata": {},
     "output_type": "execute_result"
    }
   ],
   "source": [
    "eggDrop(n=1,k=10)"
   ]
  },
  {
   "cell_type": "code",
   "execution_count": 5,
   "id": "733122cb",
   "metadata": {},
   "outputs": [
    {
     "data": {
      "text/plain": [
       "4"
      ]
     },
     "execution_count": 5,
     "metadata": {},
     "output_type": "execute_result"
    }
   ],
   "source": [
    "eggDrop(n=2,k=10)"
   ]
  },
  {
   "cell_type": "markdown",
   "id": "79c7726b",
   "metadata": {},
   "source": [
    "#### II-Dynamic Programming"
   ]
  },
  {
   "cell_type": "code",
   "execution_count": null,
   "id": "883eb42a",
   "metadata": {},
   "outputs": [],
   "source": [
    "class Solution(object):\n",
    "    def superEggDrop(self, K, N):\n",
    "\n",
    "        # Right now, dp[i] represents dp(1, i)\n",
    "        dp = range(N+1)\n",
    "\n",
    "        for k in xrange(2, K+1):\n",
    "            # Now, we will develop dp2[i] = dp(k, i)\n",
    "            dp2 = [0]\n",
    "            x = 1\n",
    "            for n in range(1, N+1):\n",
    "                # Let's find dp2[n] = dp(k, n)\n",
    "                # Increase our optimal x while we can make our answer better.\n",
    "                # Notice max(dp[x-1], dp2[n-x]) > max(dp[x], dp2[n-x-1])\n",
    "                # is simply max(T1(x-1), T2(x-1)) > max(T1(x), T2(x)).\n",
    "                while x < n and max(dp[x-1], dp2[n-x]) > \\\n",
    "                                max(dp[x], dp2[n-x-1]):\n",
    "                    x += 1\n",
    "\n",
    "                # The final answer happens at this x.\n",
    "                dp2.append(1 + max(dp[x-1], dp2[n-x]))\n",
    "\n",
    "            dp = dp2\n",
    "\n",
    "        return dp[-1]"
   ]
  },
  {
   "cell_type": "markdown",
   "id": "3ae08dd0",
   "metadata": {},
   "source": [
    "#### III-Mathematical"
   ]
  },
  {
   "cell_type": "code",
   "execution_count": null,
   "id": "544fbff4",
   "metadata": {},
   "outputs": [],
   "source": [
    "class Solution(object):\n",
    "    def superEggDrop(self, K, N):\n",
    "        def f(x):\n",
    "            ans = 0\n",
    "            r = 1\n",
    "            for i in range(1, K+1):\n",
    "                r *= x-i+1\n",
    "                r //= i\n",
    "                ans += r\n",
    "                if ans >= N: break\n",
    "            return ans\n",
    "\n",
    "        lo, hi = 1, N\n",
    "        while lo < hi:\n",
    "            mi = (lo + hi) // 2\n",
    "            if f(mi) < N:\n",
    "                lo = mi + 1\n",
    "            else:\n",
    "                hi = mi\n",
    "        return lo"
   ]
  },
  {
   "cell_type": "markdown",
   "id": "948ba988",
   "metadata": {},
   "source": [
    "### [Coin Change-I: minimum coins](https://leetcode.com/problems/coin-change/)\n",
    "You are given an integer array coins representing coins of different denominations and an integer amount representing a total amount of money.\n",
    "\n",
    "Return the fewest number of coins that you need to make up that amount. If that amount of money cannot be made up by any combination of the coins, return -1.\n",
    "\n",
    "You may assume that you have an infinite number of each kind of coin.\n",
    "\n",
    "![img](https://leetcode.com/media/original_images/322_coin_change_tree.png)"
   ]
  },
  {
   "cell_type": "markdown",
   "id": "5a7f651e",
   "metadata": {},
   "source": [
    "#### I- Recursion"
   ]
  },
  {
   "cell_type": "code",
   "execution_count": null,
   "id": "abc4eda1",
   "metadata": {},
   "outputs": [],
   "source": []
  },
  {
   "cell_type": "markdown",
   "id": "c1f9c46f",
   "metadata": {},
   "source": [
    "#### II - Dynamic Programming"
   ]
  },
  {
   "cell_type": "code",
   "execution_count": null,
   "id": "26d28250",
   "metadata": {},
   "outputs": [],
   "source": [
    "class Solution:\n",
    "    def coinChange(self, coins: List[int], amount: int) -> int:\n",
    "        dp = [float('inf')] * (amount + 1)\n",
    "        dp[0] = 0\n",
    "        \n",
    "        for coin in coins:\n",
    "            for x in range(coin, amount + 1):\n",
    "                dp[x] = min(dp[x], dp[x - coin] + 1)\n",
    "        return dp[amount] if dp[amount] != float('inf') else -1 "
   ]
  },
  {
   "cell_type": "markdown",
   "id": "c148be2e",
   "metadata": {},
   "source": [
    "#### BFS"
   ]
  },
  {
   "cell_type": "code",
   "execution_count": null,
   "id": "2f437da7",
   "metadata": {},
   "outputs": [],
   "source": [
    "def coinChange(self, coins: List[int], amount: int) -> int:\n",
    "    q = deque([(amount, 0)])\n",
    "    seen = set([amount])\n",
    "    while q:\n",
    "        accum_amount, num_coins = q.popleft()\n",
    "        if accum_amount == 0:\n",
    "                return num_coins\n",
    "        for coin in coins:\n",
    "            if accum_amount - coin >= 0 and accum_amount - coin not in seen:\n",
    "                q.append((accum_amount - coin, num_coins + 1))\n",
    "                seen.add(accum_amount - coin)\n",
    "                \n",
    "    return -1"
   ]
  },
  {
   "cell_type": "markdown",
   "id": "bf2e0674",
   "metadata": {},
   "source": [
    "### [Coin Change II - all combinations](https://leetcode.com/problems/coin-change-2/)\n",
    "\n",
    "You are given an integer array coins representing coins of different denominations and an integer amount representing a total amount of money.\n",
    "\n",
    "Return the number of combinations that make up that amount. If that amount of money cannot be made up by any combination of the coins, return 0.\n",
    "\n",
    "You may assume that you have an infinite number of each kind of coin.\n",
    "\n",
    "The answer is guaranteed to fit into a signed 32-bit integer."
   ]
  },
  {
   "cell_type": "code",
   "execution_count": null,
   "id": "d8fc6aa7",
   "metadata": {},
   "outputs": [],
   "source": [
    "class Solution:\n",
    "    def change(self, amount: int, coins: List[int]) -> int:\n",
    "        dp = [0] * (amount + 1)\n",
    "        dp[0] = 1\n",
    "        \n",
    "        for coin in coins:\n",
    "            for x in range(coin, amount + 1):\n",
    "                dp[x] += dp[x - coin]\n",
    "        return dp[amount]"
   ]
  },
  {
   "cell_type": "code",
   "execution_count": null,
   "id": "a719daa9",
   "metadata": {},
   "outputs": [],
   "source": []
  },
  {
   "cell_type": "code",
   "execution_count": null,
   "id": "7497292e",
   "metadata": {},
   "outputs": [],
   "source": []
  },
  {
   "cell_type": "code",
   "execution_count": null,
   "id": "e0290cab",
   "metadata": {},
   "outputs": [],
   "source": []
  },
  {
   "cell_type": "code",
   "execution_count": null,
   "id": "472db765",
   "metadata": {},
   "outputs": [],
   "source": []
  },
  {
   "cell_type": "code",
   "execution_count": null,
   "id": "828259bf",
   "metadata": {},
   "outputs": [],
   "source": []
  },
  {
   "cell_type": "code",
   "execution_count": null,
   "id": "8131febc",
   "metadata": {},
   "outputs": [],
   "source": []
  },
  {
   "cell_type": "code",
   "execution_count": null,
   "id": "d2983adc",
   "metadata": {},
   "outputs": [],
   "source": []
  }
 ],
 "metadata": {
  "kernelspec": {
   "display_name": "Python 3",
   "language": "python",
   "name": "python3"
  },
  "language_info": {
   "codemirror_mode": {
    "name": "ipython",
    "version": 3
   },
   "file_extension": ".py",
   "mimetype": "text/x-python",
   "name": "python",
   "nbconvert_exporter": "python",
   "pygments_lexer": "ipython3",
   "version": "3.8.8"
  }
 },
 "nbformat": 4,
 "nbformat_minor": 5
}
