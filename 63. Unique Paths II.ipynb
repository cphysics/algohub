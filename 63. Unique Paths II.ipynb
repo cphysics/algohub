{
 "cells": [
  {
   "cell_type": "markdown",
   "metadata": {},
   "source": [
    "### Unique Paths II (with Abstacle)\n",
    "\n",
    "A robot is located at the top-left corner of a m x n grid (marked 'Start' in the diagram below).\n",
    "\n",
    "The robot can only move either down or right at any point in time. The robot is trying to reach the bottom-right corner of the grid (marked 'Finish' in the diagram below).\n",
    "\n",
    "Now consider if some obstacles are added to the grids. How many unique paths would there be?\n",
    "\n"
   ]
  },
  {
   "cell_type": "code",
   "execution_count": null,
   "metadata": {},
   "outputs": [],
   "source": [
    "class Solution(object):\n",
    "    def uniquePathsWithObstacles(self, obstacleGrid):\n",
    "        \"\"\"\n",
    "        :type obstacleGrid: List[List[int]]\n",
    "        :rtype: int\n",
    "        \"\"\"\n",
    "\n",
    "        m = len(obstacleGrid)\n",
    "        n = len(obstacleGrid[0])\n",
    "\n",
    "        # If the starting cell has an obstacle, then simply return as there would be\n",
    "        # no paths to the destination.\n",
    "        if obstacleGrid[0][0] == 1:\n",
    "            return 0\n",
    "\n",
    "        # Number of ways of reaching the starting cell = 1.\n",
    "        obstacleGrid[0][0] = 1\n",
    "\n",
    "        # Filling the values for the first column\n",
    "        for i in range(1,m):\n",
    "            obstacleGrid[i][0] = int(obstacleGrid[i][0] == 0 and obstacleGrid[i-1][0] == 1)\n",
    "\n",
    "        # Filling the values for the first row        \n",
    "        for j in range(1, n):\n",
    "            obstacleGrid[0][j] = int(obstacleGrid[0][j] == 0 and obstacleGrid[0][j-1] == 1)\n",
    "\n",
    "        # Starting from cell(1,1) fill up the values\n",
    "        # No. of ways of reaching cell[i][j] = cell[i - 1][j] + cell[i][j - 1]\n",
    "        # i.e. From above and left.\n",
    "        for i in range(1,m):\n",
    "            for j in range(1,n):\n",
    "                if obstacleGrid[i][j] == 0:\n",
    "                    obstacleGrid[i][j] = obstacleGrid[i-1][j] + obstacleGrid[i][j-1]\n",
    "                else:\n",
    "                    obstacleGrid[i][j] = 0\n",
    "\n",
    "        # Return value stored in rightmost bottommost cell. That is the destination.            \n",
    "        return obstacleGrid[m-1][n-1]"
   ]
  },
  {
   "cell_type": "markdown",
   "metadata": {},
   "source": [
    "### 64. Minimum Path Sum\n",
    "\n",
    "Given a m x n grid filled with non-negative numbers, find a path from top left to bottom right which minimizes the sum of all numbers along its path.\n",
    "\n",
    "Note: You can only move either down or right at any point in time."
   ]
  },
  {
   "cell_type": "code",
   "execution_count": null,
   "metadata": {},
   "outputs": [],
   "source": [
    "class Solution:\n",
    "    def minPathSum(self, grid: List[List[int]]) -> int:\n",
    "        m = len(grid)\n",
    "        if m == 0:\n",
    "            return 0\n",
    "        \n",
    "        n = len(grid[0])\n",
    "        T = [[0 for _ in range(n+1)] for _ in range(m+1)]\n",
    "\t\t\n",
    "\t\t# If just first row is given then result would be cumulative sum\n",
    "        for j in range(1, n+1):\n",
    "            T[0][j] = T[0][j-1] + grid[0][j-1]\n",
    "\t\t\t\n",
    "\t\t# If just first column is given then result would be cumulative sum\n",
    "        for i in range(1, m+1):\n",
    "            T[i][0] = T[i-1][0] + grid[i-1][0]\n",
    "            \n",
    "        for i in range(1, m+1):\n",
    "            for j in range(1, n+1):\n",
    "                if i == 1 and j == 1:\n",
    "                    T[i][j] = grid[i-1][j-1]\n",
    "                else:\n",
    "                    T[i][j] = min(T[i-1][j], T[i][j-1]) + grid[i-1][j-1]        \n",
    "        return T[m][n]"
   ]
  },
  {
   "cell_type": "markdown",
   "metadata": {},
   "source": [
    "### 72. Edit Distance\n",
    "\n",
    "Given two words word1 and word2, find the minimum number of operations required to convert word1 to word2.\n",
    "\n",
    "You have the following 3 operations permitted on a word:\n",
    "\n",
    "    Insert a character\n",
    "    Delete a character\n",
    "    Replace a character\n",
    "    Example 1:\n",
    "\n",
    "    Input: word1 = \"horse\", word2 = \"ros\"\n",
    "    Output: 3\n",
    "    Explanation: \n",
    "    horse -> rorse (replace 'h' with 'r')\n",
    "    rorse -> rose (remove 'r')\n",
    "    rose -> ros (remove 'e')"
   ]
  },
  {
   "cell_type": "code",
   "execution_count": 33,
   "metadata": {},
   "outputs": [],
   "source": [
    "class Solution:\n",
    "    def minDistance(self, word1, word2):\n",
    "        \"\"\"\n",
    "        :type word1: str\n",
    "        :type word2: str\n",
    "        :rtype: int\n",
    "        \"\"\"\n",
    "        n = len(word1)\n",
    "        m = len(word2)\n",
    "        \n",
    "        # if one of the strings is empty\n",
    "        if n * m == 0:\n",
    "            return n + m\n",
    "        \n",
    "        # array to store the convertion history\n",
    "        d = [ [0] * (m + 1) for _ in range(n + 1)]\n",
    "        \n",
    "        # init boundaries\n",
    "        for i in range(n + 1):\n",
    "            d[i][0] = i\n",
    "        for j in range(m + 1):\n",
    "            d[0][j] = j\n",
    "        \n",
    "        # DP compute \n",
    "        for i in range(1, n + 1):\n",
    "            for j in range(1, m + 1):\n",
    "                left = d[i - 1][j] + 1\n",
    "                down = d[i][j - 1] + 1\n",
    "                left_down = d[i - 1][j - 1] \n",
    "                if word1[i - 1] != word2[j - 1]:\n",
    "                    left_down += 1\n",
    "                d[i][j] = min(left, down, left_down)\n",
    "        \n",
    "        return d[n][m]"
   ]
  },
  {
   "cell_type": "markdown",
   "metadata": {},
   "source": [
    "### 12. Find Maximun ractange of 1s"
   ]
  },
  {
   "cell_type": "code",
   "execution_count": 35,
   "metadata": {},
   "outputs": [],
   "source": [
    "class Solution:\n",
    "    def maximalRectangle(self, matrix):\n",
    "        maxarea = 0\n",
    "\n",
    "        dp = [[0] * len(matrix[0]) for _ in range(len(matrix))]\n",
    "        for i in range(len(matrix)):\n",
    "            for j in range(len(matrix[0])):\n",
    "                if matrix[i][j] == '0': continue\n",
    "\n",
    "                # compute the maximum width and update dp with it\n",
    "                width = dp[i][j] = dp[i][j-1] + 1 if j else 1\n",
    "\n",
    "                # compute the maximum area rectangle with a lower right corner at [i, j]\n",
    "                for k in range(i, -1, -1):\n",
    "                    width = min(width, dp[k][j])\n",
    "                    maxarea = max(maxarea, width * (i-k+1))\n",
    "        return maxarea\n"
   ]
  },
  {
   "cell_type": "markdown",
   "metadata": {},
   "source": [
    "### Numbers to Letters"
   ]
  },
  {
   "cell_type": "code",
   "execution_count": 38,
   "metadata": {},
   "outputs": [],
   "source": [
    "class Solution:\n",
    "    def __init__(self):\n",
    "        self.memo = {}\n",
    "\n",
    "    def recursive_with_memo(self, index, s) -> int:\n",
    "        # If you reach the end of the string\n",
    "        # Return 1 for success.\n",
    "        if index == len(s):\n",
    "            return 1\n",
    "\n",
    "        # If the string starts with a zero, it can't be decoded\n",
    "        if s[index] == '0':\n",
    "            return 0\n",
    "\n",
    "        if index == len(s)-1:\n",
    "            return 1\n",
    "\n",
    "        # Memoization is needed since we might encounter the same sub-string.\n",
    "        if index in self.memo:\n",
    "            return self.memo[index]\n",
    "\n",
    "        ans = self.recursive_with_memo(index+1, s) \\\n",
    "                + (self.recursive_with_memo(index+2, s) if (int(s[index : index+2]) <= 26) else 0)\n",
    "\n",
    "        # Save for memoization\n",
    "        self.memo[index] = ans\n",
    "\n",
    "        return ans\n",
    "\n",
    "    def numDecodings(self, s: str) -> int:\n",
    "        if not s:\n",
    "            return 0\n",
    "        return self.recursive_with_memo(0, s)"
   ]
  },
  {
   "cell_type": "markdown",
   "metadata": {},
   "source": [
    "### Generate all BST"
   ]
  },
  {
   "cell_type": "code",
   "execution_count": 37,
   "metadata": {},
   "outputs": [],
   "source": [
    "class Solution:\n",
    "    def generateTrees(self, n):\n",
    "        \"\"\"\n",
    "        :type n: int\n",
    "        :rtype: List[TreeNode]\n",
    "        \"\"\"\n",
    "        def generate_trees(start, end):\n",
    "            if start > end:\n",
    "                return [None,]\n",
    "            \n",
    "            all_trees = []\n",
    "            for i in range(start, end + 1):  # pick up a root\n",
    "                # all possible left subtrees if i is choosen to be a root\n",
    "                left_trees = generate_trees(start, i - 1)\n",
    "                \n",
    "                # all possible right subtrees if i is choosen to be a root\n",
    "                right_trees = generate_trees(i + 1, end)\n",
    "                \n",
    "                # connect left and right subtrees to the root i\n",
    "                for l in left_trees:\n",
    "                    for r in right_trees:\n",
    "                        current_tree = TreeNode(i)\n",
    "                        current_tree.left = l\n",
    "                        current_tree.right = r\n",
    "                        all_trees.append(current_tree)\n",
    "            \n",
    "            return all_trees\n",
    "        \n",
    "        return generate_trees(1, n) if n else []"
   ]
  },
  {
   "cell_type": "code",
   "execution_count": null,
   "metadata": {},
   "outputs": [],
   "source": []
  },
  {
   "cell_type": "code",
   "execution_count": null,
   "metadata": {},
   "outputs": [],
   "source": []
  },
  {
   "cell_type": "code",
   "execution_count": null,
   "metadata": {},
   "outputs": [],
   "source": []
  }
 ],
 "metadata": {
  "kernelspec": {
   "display_name": "Python 3",
   "language": "python",
   "name": "python3"
  },
  "language_info": {
   "codemirror_mode": {
    "name": "ipython",
    "version": 3
   },
   "file_extension": ".py",
   "mimetype": "text/x-python",
   "name": "python",
   "nbconvert_exporter": "python",
   "pygments_lexer": "ipython3",
   "version": "3.7.6"
  }
 },
 "nbformat": 4,
 "nbformat_minor": 2
}
