{
 "cells": [
  {
   "cell_type": "markdown",
   "metadata": {},
   "source": [
    "### Find All Anagrams in a String\n",
    "Given a string s and a non-empty string p, find all the start indices of p's anagrams in s.\n",
    "\n",
    "Strings consists of lowercase English letters only and the length of both strings s and p will not be larger than 20,100.\n",
    "\n",
    "The order of output does not matter."
   ]
  },
  {
   "cell_type": "markdown",
   "metadata": {},
   "source": [
    "1. [Find all Anagram](https://leetcode.com/articles/find-all-anagrams-in-a-string/)"
   ]
  },
  {
   "cell_type": "code",
   "execution_count": 3,
   "metadata": {},
   "outputs": [],
   "source": [
    "from collections import Counter"
   ]
  },
  {
   "cell_type": "code",
   "execution_count": 4,
   "metadata": {},
   "outputs": [
    {
     "data": {
      "text/plain": [
       "Counter({'a': 2,\n",
       "         'b': 2,\n",
       "         'h': 2,\n",
       "         'd': 5,\n",
       "         'f': 4,\n",
       "         'g': 6,\n",
       "         's': 3,\n",
       "         'e': 2,\n",
       "         'r': 2,\n",
       "         'y': 2,\n",
       "         't': 2,\n",
       "         'v': 1,\n",
       "         'n': 1,\n",
       "         'j': 1,\n",
       "         'k': 1,\n",
       "         'i': 1,\n",
       "         'u': 1})"
      ]
     },
     "execution_count": 4,
     "metadata": {},
     "output_type": "execute_result"
    }
   ],
   "source": [
    "A = 'abhdhfgdgsferydgrtegdsavbfnjgktiuysgdf'\n",
    "Counter(A)"
   ]
  },
  {
   "cell_type": "code",
   "execution_count": 6,
   "metadata": {},
   "outputs": [],
   "source": [
    "ctr = Counter()"
   ]
  },
  {
   "cell_type": "code",
   "execution_count": 7,
   "metadata": {},
   "outputs": [],
   "source": [
    "ctr['a'] = 2\n",
    "ctr['b'] = 3"
   ]
  },
  {
   "cell_type": "code",
   "execution_count": 8,
   "metadata": {},
   "outputs": [
    {
     "data": {
      "text/plain": [
       "Counter({'a': 2, 'b': 3})"
      ]
     },
     "execution_count": 8,
     "metadata": {},
     "output_type": "execute_result"
    }
   ],
   "source": [
    "ctr"
   ]
  },
  {
   "cell_type": "code",
   "execution_count": 2,
   "metadata": {},
   "outputs": [],
   "source": [
    "from collections import Counter\n",
    "class Solution:\n",
    "    def findAnagrams(self, s, p):\n",
    "        ns, np = len(s), len(p)\n",
    "        if ns < np:\n",
    "            return []\n",
    "\n",
    "        p_count = Counter(p)\n",
    "        s_count = Counter()\n",
    "        \n",
    "        output = []\n",
    "        # sliding window on the string s\n",
    "        for i in range(ns):\n",
    "            # add one more letter \n",
    "            # on the right side of the window\n",
    "            s_count[s[i]] += 1\n",
    "            # remove one letter \n",
    "            # from the left side of the window\n",
    "            if i >= np:\n",
    "                if s_count[s[i - np]] == 1:\n",
    "                    del s_count[s[i - np]]\n",
    "                else:\n",
    "                    s_count[s[i - np]] -= 1\n",
    "            # compare array in the sliding window\n",
    "            # with the reference array\n",
    "            if p_count == s_count:\n",
    "                output.append(i - np + 1)\n",
    "        \n",
    "        return output"
   ]
  },
  {
   "cell_type": "code",
   "execution_count": null,
   "metadata": {},
   "outputs": [],
   "source": []
  },
  {
   "cell_type": "code",
   "execution_count": null,
   "metadata": {},
   "outputs": [],
   "source": []
  },
  {
   "cell_type": "code",
   "execution_count": null,
   "metadata": {},
   "outputs": [],
   "source": []
  },
  {
   "cell_type": "code",
   "execution_count": null,
   "metadata": {},
   "outputs": [],
   "source": []
  },
  {
   "cell_type": "code",
   "execution_count": null,
   "metadata": {},
   "outputs": [],
   "source": []
  },
  {
   "cell_type": "code",
   "execution_count": null,
   "metadata": {},
   "outputs": [],
   "source": []
  },
  {
   "cell_type": "code",
   "execution_count": null,
   "metadata": {},
   "outputs": [],
   "source": []
  },
  {
   "cell_type": "code",
   "execution_count": null,
   "metadata": {},
   "outputs": [],
   "source": []
  },
  {
   "cell_type": "code",
   "execution_count": null,
   "metadata": {},
   "outputs": [],
   "source": []
  }
 ],
 "metadata": {
  "kernelspec": {
   "display_name": "Python 3",
   "language": "python",
   "name": "python3"
  },
  "language_info": {
   "codemirror_mode": {
    "name": "ipython",
    "version": 3
   },
   "file_extension": ".py",
   "mimetype": "text/x-python",
   "name": "python",
   "nbconvert_exporter": "python",
   "pygments_lexer": "ipython3",
   "version": "3.7.6"
  }
 },
 "nbformat": 4,
 "nbformat_minor": 2
}
