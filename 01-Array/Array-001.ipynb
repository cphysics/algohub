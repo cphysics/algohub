{
 "cells": [
  {
   "cell_type": "markdown",
   "metadata": {},
   "source": [
    "## Array"
   ]
  },
  {
   "cell_type": "markdown",
   "metadata": {},
   "source": [
    "### Two Sums"
   ]
  },
  {
   "cell_type": "code",
   "execution_count": 1,
   "metadata": {},
   "outputs": [],
   "source": [
    "class Solution(object):\n",
    "    def twoSum(self, nums, target):\n",
    "        \"\"\"\n",
    "        :type nums: List[int]\n",
    "        :type target: int\n",
    "        :rtype: List[int]\n",
    "        \"\"\"\n",
    "        for i,n in enumerate(nums):\n",
    "             for j,m in enumerate(nums):\n",
    "                    if n+m == target and i!=j:\n",
    "                        return [i,j]"
   ]
  },
  {
   "cell_type": "code",
   "execution_count": 2,
   "metadata": {},
   "outputs": [],
   "source": [
    "def twoSum(nums, target):\n",
    "        seen = {}\n",
    "        for i, v in enumerate(nums):\n",
    "            remaining = target - v\n",
    "            if remaining in seen:\n",
    "                return [seen[remaining], i]\n",
    "            seen[v] = i\n",
    "            print(i,v,seen)\n",
    "        return []"
   ]
  },
  {
   "cell_type": "markdown",
   "metadata": {},
   "source": [
    "### Kth Largest Element in an Array\n",
    "\n",
    "Find the kth largest element in an unsorted array. Note that it is the kth largest element in the sorted order, not the kth distinct element.\n",
    "\n",
    "Example 1:\n",
    "\n",
    "Input: [3,2,1,5,6,4] and k = 2\n",
    "\n",
    "Output: 5\n",
    "\n",
    "Note: heqpq-algorithm (priority queue algorithm) https://docs.python.org/2/library/heapq.html"
   ]
  },
  {
   "cell_type": "code",
   "execution_count": 8,
   "metadata": {},
   "outputs": [],
   "source": [
    "def kth_largest(arr,k):\n",
    "    #O(k-1)\n",
    "    for i in range(k-1):\n",
    "        #remove - O(n); max -  O(n)\n",
    "        arr.remove(max(arr))\n",
    "    #O(n)\n",
    "    return max(arr)\n",
    "\n",
    "#T(n,k) = (k-1)*(2n+n)\n",
    "#T(n,k) = 2kn-n = O(kn)"
   ]
  },
  {
   "cell_type": "code",
   "execution_count": 9,
   "metadata": {},
   "outputs": [],
   "source": [
    "def kth_largest(arr,k):\n",
    "    #O(nlogn)\n",
    "    arr.sort()\n",
    "    #-----------O(n)-----\n",
    "    return arr[len(arr)-k]"
   ]
  },
  {
   "cell_type": "code",
   "execution_count": 10,
   "metadata": {},
   "outputs": [],
   "source": [
    "# priority queue (heap)\n",
    "import heapq\n",
    "def kth_largest(arr,k):\n",
    "    #n\n",
    "    arr = [-elem for elem in arr]\n",
    "    #n\n",
    "    heapq.heapify(arr)\n",
    "    #logn\n",
    "    for i in range(k-1):\n",
    "        heapq.heappop(arr)\n",
    "    #logn   \n",
    "    return -heapq.heappop(arr)\n",
    "#T(n,k) = 2n + (k-1)*logn + logn = O(n + klogn)"
   ]
  },
  {
   "cell_type": "code",
   "execution_count": 6,
   "metadata": {},
   "outputs": [],
   "source": [
    "import heapq\n",
    "class Solution:\n",
    "    def findKthLargest(self, nums, k):\n",
    "        \"\"\"\n",
    "        :type nums: List[int]\n",
    "        :type k: int\n",
    "        :rtype: int\n",
    "        \"\"\"\n",
    "        return heapq.nlargest(k, nums)[-1]"
   ]
  },
  {
   "cell_type": "code",
   "execution_count": 7,
   "metadata": {},
   "outputs": [
    {
     "data": {
      "text/plain": [
       "20"
      ]
     },
     "execution_count": 7,
     "metadata": {},
     "output_type": "execute_result"
    }
   ],
   "source": [
    "Solution().findKthLargest([2,3,5,7,8,2,20,50,80],3)"
   ]
  },
  {
   "cell_type": "code",
   "execution_count": 11,
   "metadata": {},
   "outputs": [
    {
     "data": {
      "text/plain": [
       "[50, 30, 20, 6]"
      ]
     },
     "execution_count": 11,
     "metadata": {},
     "output_type": "execute_result"
    }
   ],
   "source": [
    "heapq.nlargest(4,[2,4,6,20,30,50])"
   ]
  },
  {
   "cell_type": "markdown",
   "metadata": {},
   "source": [
    "### Maximum Sub Array\n",
    "Given an integer array nums, find the contiguous subarray (containing at least one number) which has the largest sum and return its sum.\n",
    "\n"
   ]
  },
  {
   "cell_type": "code",
   "execution_count": 17,
   "metadata": {},
   "outputs": [],
   "source": [
    "import math\n",
    "class Solution:\n",
    "    def maxSubArray(self, nums):\n",
    "        max_subarray = -math.inf\n",
    "        for i in range(len(nums)):\n",
    "            current_subarray = 0\n",
    "            for j in range(i, len(nums)):\n",
    "                current_subarray += nums[j]\n",
    "                max_subarray = max(max_subarray, current_subarray)\n",
    "        \n",
    "        return max_subarray"
   ]
  },
  {
   "cell_type": "code",
   "execution_count": 18,
   "metadata": {},
   "outputs": [
    {
     "data": {
      "text/plain": [
       "48"
      ]
     },
     "execution_count": 18,
     "metadata": {},
     "output_type": "execute_result"
    }
   ],
   "source": [
    "Solution().maxSubArray(nums=[2,5,7,8,6,3,8,9])"
   ]
  },
  {
   "cell_type": "code",
   "execution_count": 19,
   "metadata": {},
   "outputs": [],
   "source": [
    "class Solution:\n",
    "    def maxSubArray(self, nums: 'List[int]') -> 'int':\n",
    "        n = len(nums)\n",
    "        curr_sum = max_sum = nums[0]\n",
    "\n",
    "        for i in range(1, n):\n",
    "            curr_sum = max(nums[i], curr_sum + nums[i])\n",
    "            max_sum = max(max_sum, curr_sum)\n",
    "            \n",
    "            print(\"i|\",i,\"curr_sum|\", curr_sum, \"max_sum|\",max_sum)\n",
    "            \n",
    "        return max_sum"
   ]
  },
  {
   "cell_type": "markdown",
   "metadata": {},
   "source": [
    "###  Find All Duplicates in an Array\n",
    "\n",
    "Given an array of integers, 1 ≤ a[i] ≤ n (n = size of array), some elements appear twice and others appear once.\n",
    "\n",
    "Find all the elements that appear twice in this array.\n",
    "\n",
    "Could you do it without extra space and in O(n) runtime?\n",
    "\n",
    "Example:\n",
    "Input:\n",
    "[4,3,2,7,8,2,3,1]\n",
    "\n",
    "Output:\n",
    "[2,3]"
   ]
  },
  {
   "cell_type": "code",
   "execution_count": 19,
   "metadata": {},
   "outputs": [],
   "source": [
    "def finddupe1(A):\n",
    "    c = []\n",
    "    for i in range(len(A)):\n",
    "        for j in range(len(A)):\n",
    "            if i!=j and A[i] == A[j]:\n",
    "                if A[i] not in c:\n",
    "                    c.append(A[i])\n",
    "    return c"
   ]
  },
  {
   "cell_type": "code",
   "execution_count": 20,
   "metadata": {},
   "outputs": [
    {
     "data": {
      "text/plain": [
       "[4, 7]"
      ]
     },
     "execution_count": 20,
     "metadata": {},
     "output_type": "execute_result"
    }
   ],
   "source": [
    "finddupe1([1,2,3,4,4,5,6,7,7,8,9])"
   ]
  },
  {
   "cell_type": "code",
   "execution_count": 21,
   "metadata": {},
   "outputs": [],
   "source": [
    "def finddupe2(A):\n",
    "    AA = sorted(A)\n",
    "    c = []\n",
    "    for i in range(len(A)-1):\n",
    "        if AA[i] == AA[i+1]:\n",
    "            c.append(AA[i])\n",
    "    return c "
   ]
  },
  {
   "cell_type": "code",
   "execution_count": 18,
   "metadata": {},
   "outputs": [
    {
     "data": {
      "text/plain": [
       "[4, 7]"
      ]
     },
     "execution_count": 18,
     "metadata": {},
     "output_type": "execute_result"
    }
   ],
   "source": [
    "finddupe2([1,2,3,4,4,5,6,7,7,8,9])"
   ]
  },
  {
   "cell_type": "code",
   "execution_count": 40,
   "metadata": {},
   "outputs": [],
   "source": [
    "def finddupe3(A):\n",
    "    c = []\n",
    "    seen = {}\n",
    "    for x in A:\n",
    "        if x in seen:\n",
    "            c.append(x)\n",
    "        else:\n",
    "            seen[x]=True\n",
    "    return c"
   ]
  },
  {
   "cell_type": "code",
   "execution_count": 41,
   "metadata": {},
   "outputs": [
    {
     "data": {
      "text/plain": [
       "[4, 7]"
      ]
     },
     "execution_count": 41,
     "metadata": {},
     "output_type": "execute_result"
    }
   ],
   "source": [
    "finddupe3([1,2,3,4,4,5,6,7,7,8,9])"
   ]
  },
  {
   "cell_type": "code",
   "execution_count": 12,
   "metadata": {},
   "outputs": [],
   "source": [
    "def findDuplicates(self, nums):\n",
    "    if nums == []:\n",
    "        return []\n",
    "    dupes = [-1]*len(nums)\n",
    "    \n",
    "    c = []\n",
    "    for x in nums:\n",
    "        dupes[x-1]+=1\n",
    "        \n",
    "    for n in range(0, len(dupes)):\n",
    "        if dupes[n] > 0:\n",
    "            c.append(n+1)\n",
    "    return c"
   ]
  },
  {
   "cell_type": "markdown",
   "metadata": {},
   "source": [
    "### Move Zeros\n",
    "Given an array nums, write a function to move all 0's to the end of it while maintaining the relative order of the non-zero elements."
   ]
  },
  {
   "cell_type": "code",
   "execution_count": 4,
   "metadata": {},
   "outputs": [],
   "source": [
    "class Solution:\n",
    "    def moveZeroes(self, nums):\n",
    "        \"\"\"\n",
    "        Do not return anything, modify nums in-place instead.\n",
    "        \"\"\"\n",
    "        pos = 0\n",
    "        \n",
    "        for i in range(len(nums)):\n",
    "            el = nums[i]\n",
    "            if el != 0:\n",
    "                nums[pos], nums[i] = nums[i], nums[pos]\n",
    "                pos += 1"
   ]
  },
  {
   "cell_type": "markdown",
   "metadata": {},
   "source": [
    "### Contains Duplicate\n",
    "\n",
    "Given an integer array nums, return true if any value appears at least twice in the array, and return false if every element is distinct."
   ]
  },
  {
   "cell_type": "code",
   "execution_count": 6,
   "metadata": {},
   "outputs": [],
   "source": [
    "class Solution(object):\n",
    "    def containsDuplicate(self, nums):\n",
    "        \"\"\"\n",
    "        :type nums: List[int]\n",
    "        :rtype: bool\n",
    "        \"\"\"\n",
    "        return True if len(set(nums)) < len(nums) else False"
   ]
  },
  {
   "cell_type": "markdown",
   "metadata": {},
   "source": [
    "### Missing Number\n",
    "Given an array nums containing n distinct numbers in the range [0, n], return the only number in the range that is missing from the array."
   ]
  },
  {
   "cell_type": "code",
   "execution_count": 7,
   "metadata": {},
   "outputs": [],
   "source": [
    "class Solution:\n",
    "    def missingNumber(self, nums):\n",
    "        num_set = set(nums)\n",
    "        n = len(nums) + 1\n",
    "        for number in range(n):\n",
    "            if number not in num_set:\n",
    "                return number"
   ]
  },
  {
   "cell_type": "markdown",
   "metadata": {},
   "source": [
    "### Intersection of Two Arrays\n",
    "\n",
    "Given two arrays, write a function to compute their intersection.\n",
    "\n",
    "Example 1:\n",
    "\n",
    "Input: nums1 = [1,2,2,1], nums2 = [2,2]\n",
    "    \n",
    "Output: [2]"
   ]
  },
  {
   "cell_type": "code",
   "execution_count": 42,
   "metadata": {},
   "outputs": [],
   "source": [
    "class Solution:\n",
    "    \n",
    "    def set_intersection(self, set1, set2):\n",
    "        return [x for x in set1 if x in set2]\n",
    "    \n",
    "        \n",
    "    def intersection(self, nums1, nums2):\n",
    "        \"\"\"\n",
    "        :type nums1: List[int]\n",
    "        :type nums2: List[int]\n",
    "        :rtype: List[int]\n",
    "        \"\"\"  \n",
    "        set1 = set(nums1)\n",
    "        set2 = set(nums2)\n",
    "        \n",
    "        if len(set1) < len(set2):\n",
    "            return self.set_intersection(set1, set2)\n",
    "        else:\n",
    "            return self.set_intersection(set2, set1)"
   ]
  },
  {
   "cell_type": "code",
   "execution_count": 43,
   "metadata": {},
   "outputs": [],
   "source": [
    "class Solution:\n",
    "    def intersection(self, nums1, nums2):\n",
    "        \"\"\"\n",
    "        :type nums1: List[int]\n",
    "        :type nums2: List[int]\n",
    "        :rtype: List[int]\n",
    "        \"\"\"  \n",
    "        set1 = set(nums1)\n",
    "        set2 = set(nums2)\n",
    "        return list(set2 & set1)"
   ]
  },
  {
   "cell_type": "markdown",
   "metadata": {},
   "source": [
    "### Best Time to Buy and Sell Stock\n",
    "\n",
    "You are given an array prices where prices[i] is the price of a given stock on the ith day.\n",
    "\n",
    "You want to maximize your profit by choosing a single day to buy one stock and choosing a different day in the future to sell that stock.\n",
    "\n",
    "Return the maximum profit you can achieve from this transaction. If you cannot achieve any profit, return 0."
   ]
  },
  {
   "cell_type": "code",
   "execution_count": 22,
   "metadata": {},
   "outputs": [
    {
     "data": {
      "text/plain": [
       "8"
      ]
     },
     "execution_count": 22,
     "metadata": {},
     "output_type": "execute_result"
    }
   ],
   "source": [
    "def profit(A):\n",
    "    max_value = -float('inf')\n",
    "    min_value = float('inf')\n",
    "    max_profit = 0\n",
    "    for i in range(len(A)):\n",
    "        max_value = max(max_value,A[i])\n",
    "        min_value = min(min_value,A[i])\n",
    "        max_profit = max(max_profit, A[i]- min_value)\n",
    "    return max_profit\n",
    "\n",
    "A=[1,4,2,5,6,7,3,8,2,9,2,3,4,5,6,5,7,8,5]\n",
    "profit(A)        \n",
    "        "
   ]
  },
  {
   "cell_type": "code",
   "execution_count": null,
   "metadata": {},
   "outputs": [],
   "source": []
  },
  {
   "cell_type": "code",
   "execution_count": null,
   "metadata": {},
   "outputs": [],
   "source": []
  }
 ],
 "metadata": {
  "kernelspec": {
   "display_name": "Python 3",
   "language": "python",
   "name": "python3"
  },
  "language_info": {
   "codemirror_mode": {
    "name": "ipython",
    "version": 3
   },
   "file_extension": ".py",
   "mimetype": "text/x-python",
   "name": "python",
   "nbconvert_exporter": "python",
   "pygments_lexer": "ipython3",
   "version": "3.8.8"
  }
 },
 "nbformat": 4,
 "nbformat_minor": 2
}
