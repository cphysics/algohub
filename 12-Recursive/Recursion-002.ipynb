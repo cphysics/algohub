{
 "cells": [
  {
   "cell_type": "markdown",
   "id": "ff8f8392",
   "metadata": {},
   "source": [
    "# Recursion (Medium)"
   ]
  },
  {
   "cell_type": "markdown",
   "id": "17950a59",
   "metadata": {},
   "source": [
    "### [Egg Drop With 2 Eggs and N Floors](https://leetcode.com/problems/egg-drop-with-2-eggs-and-n-floors/)\n",
    "\n",
    "You are given two identical eggs and you have access to a building with n floors labeled from 1 to n.\n",
    "\n",
    "You know that there exists a floor f where 0 <= f <= n such that any egg dropped at a floor higher than f will break, and any egg dropped at or below floor f will not break.\n",
    "\n",
    "In each move, you may take an unbroken egg and drop it from any floor x (where 1 <= x <= n). If the egg breaks, you can no longer use it. However, if the egg does not break, you may reuse it in future moves.\n",
    "\n",
    "Return the minimum number of moves that you need to determine with certainty what the value of f is."
   ]
  },
  {
   "cell_type": "code",
   "execution_count": null,
   "id": "883eb42a",
   "metadata": {},
   "outputs": [],
   "source": [
    "class Solution:\n",
    "\tdef twoEggDrop(self, n: int) -> int:\n",
    "\t\tdp = [[0 for _ in range(1+n)] for _ in range(1+2)]\n",
    "\n",
    "\t\tm=0\n",
    "\t\twhile dp[2][m]<n: \n",
    "\t\t\tm += 1\n",
    "\t\t\tfor kk in range(1, 1+2):\n",
    "\t\t\t\tdp[kk][m] = dp[kk][m-1] + dp[kk-1][m-1] + 1\n",
    "\t\treturn m    "
   ]
  },
  {
   "cell_type": "markdown",
   "id": "948ba988",
   "metadata": {},
   "source": [
    "### [Coin Change](https://leetcode.com/problems/coin-change/)\n",
    "You are given an integer array coins representing coins of different denominations and an integer amount representing a total amount of money.\n",
    "\n",
    "Return the fewest number of coins that you need to make up that amount. If that amount of money cannot be made up by any combination of the coins, return -1.\n",
    "\n",
    "You may assume that you have an infinite number of each kind of coin.\n",
    "\n",
    "![img](https://leetcode.com/media/original_images/322_coin_change_tree.png)"
   ]
  },
  {
   "cell_type": "code",
   "execution_count": null,
   "id": "26d28250",
   "metadata": {},
   "outputs": [],
   "source": [
    "class Solution:\n",
    "    def coinChange(self, coins: List[int], amount: int) -> int:\n",
    "        dp = [float('inf')] * (amount + 1)\n",
    "        dp[0] = 0\n",
    "        \n",
    "        for coin in coins:\n",
    "            for x in range(coin, amount + 1):\n",
    "                dp[x] = min(dp[x], dp[x - coin] + 1)\n",
    "        return dp[amount] if dp[amount] != float('inf') else -1 "
   ]
  },
  {
   "cell_type": "markdown",
   "id": "c148be2e",
   "metadata": {},
   "source": [
    "- BFS"
   ]
  },
  {
   "cell_type": "code",
   "execution_count": null,
   "id": "2f437da7",
   "metadata": {},
   "outputs": [],
   "source": [
    "def coinChange(self, coins: List[int], amount: int) -> int:\n",
    "    q = deque([(amount, 0)])\n",
    "    seen = set([amount])\n",
    "    while q:\n",
    "        accum_amount, num_coins = q.popleft()\n",
    "        if accum_amount == 0:\n",
    "                return num_coins\n",
    "        for coin in coins:\n",
    "            if accum_amount - coin >= 0 and accum_amount - coin not in seen:\n",
    "                q.append((accum_amount - coin, num_coins + 1))\n",
    "                seen.add(accum_amount - coin)\n",
    "                \n",
    "    return -1"
   ]
  },
  {
   "cell_type": "markdown",
   "id": "bf2e0674",
   "metadata": {},
   "source": [
    "### [Coin Change 2](https://leetcode.com/problems/coin-change-2/)\n",
    "\n",
    "You are given an integer array coins representing coins of different denominations and an integer amount representing a total amount of money.\n",
    "\n",
    "Return the number of combinations that make up that amount. If that amount of money cannot be made up by any combination of the coins, return 0.\n",
    "\n",
    "You may assume that you have an infinite number of each kind of coin.\n",
    "\n",
    "The answer is guaranteed to fit into a signed 32-bit integer."
   ]
  },
  {
   "cell_type": "code",
   "execution_count": null,
   "id": "d8fc6aa7",
   "metadata": {},
   "outputs": [],
   "source": [
    "class Solution:\n",
    "    def change(self, amount: int, coins: List[int]) -> int:\n",
    "        dp = [0] * (amount + 1)\n",
    "        dp[0] = 1\n",
    "        \n",
    "        for coin in coins:\n",
    "            for x in range(coin, amount + 1):\n",
    "                dp[x] += dp[x - coin]\n",
    "        return dp[amount]"
   ]
  },
  {
   "cell_type": "code",
   "execution_count": null,
   "id": "a719daa9",
   "metadata": {},
   "outputs": [],
   "source": []
  },
  {
   "cell_type": "code",
   "execution_count": null,
   "id": "7497292e",
   "metadata": {},
   "outputs": [],
   "source": []
  },
  {
   "cell_type": "code",
   "execution_count": null,
   "id": "e0290cab",
   "metadata": {},
   "outputs": [],
   "source": []
  },
  {
   "cell_type": "code",
   "execution_count": null,
   "id": "472db765",
   "metadata": {},
   "outputs": [],
   "source": []
  },
  {
   "cell_type": "code",
   "execution_count": null,
   "id": "828259bf",
   "metadata": {},
   "outputs": [],
   "source": []
  },
  {
   "cell_type": "code",
   "execution_count": null,
   "id": "8131febc",
   "metadata": {},
   "outputs": [],
   "source": []
  },
  {
   "cell_type": "code",
   "execution_count": null,
   "id": "d2983adc",
   "metadata": {},
   "outputs": [],
   "source": []
  }
 ],
 "metadata": {
  "kernelspec": {
   "display_name": "Python 3",
   "language": "python",
   "name": "python3"
  },
  "language_info": {
   "codemirror_mode": {
    "name": "ipython",
    "version": 3
   },
   "file_extension": ".py",
   "mimetype": "text/x-python",
   "name": "python",
   "nbconvert_exporter": "python",
   "pygments_lexer": "ipython3",
   "version": "3.8.8"
  }
 },
 "nbformat": 4,
 "nbformat_minor": 5
}
