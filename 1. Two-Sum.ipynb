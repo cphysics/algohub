{
 "cells": [
  {
   "cell_type": "markdown",
   "metadata": {},
   "source": [
    "### Two Sum "
   ]
  },
  {
   "cell_type": "markdown",
   "metadata": {},
   "source": [
    "Given an array of integers, return indices of the two numbers such that they add up to a specific target.\n",
    "\n",
    "You may assume that each input would have exactly one solution, and you may not use the same element twice."
   ]
  },
  {
   "cell_type": "code",
   "execution_count": 1,
   "metadata": {},
   "outputs": [],
   "source": [
    "class Solution(object):\n",
    "    def twoSum(self, nums, target):\n",
    "        \"\"\"\n",
    "        :type nums: List[int]\n",
    "        :type target: int\n",
    "        :rtype: List[int]\n",
    "        \"\"\"\n",
    "        for i,n in enumerate(nums):\n",
    "             for j,m in enumerate(nums):\n",
    "                    if n+m == target and i!=j:\n",
    "                        return [i,j]"
   ]
  },
  {
   "cell_type": "code",
   "execution_count": 2,
   "metadata": {},
   "outputs": [],
   "source": [
    "nums = [10,20,40,30,40,50,4,5,6,50,60,7,60,7,80,7,60,7,80,9,8,98,7,8,7,6,7,6,5,6]\n",
    "target = 100"
   ]
  },
  {
   "cell_type": "code",
   "execution_count": 3,
   "metadata": {},
   "outputs": [
    {
     "name": "stdout",
     "output_type": "stream",
     "text": [
      "[1, 14]\n"
     ]
    }
   ],
   "source": [
    "S= Solution()\n",
    "print(S.twoSum(nums,target))"
   ]
  },
  {
   "cell_type": "markdown",
   "metadata": {},
   "source": [
    "Complexity Analysis\n",
    "\n",
    "- Time complexity : O(n^2)O(n \n",
    "2\n",
    " ). For each element, we try to find its complement by looping through the rest of array which takes O(n)O(n) time. Therefore, the time complexity is O(n^2)O(n \n",
    "2\n",
    " ).\n",
    "\n",
    "- Space complexity : O(1)O(1).\n"
   ]
  },
  {
   "cell_type": "code",
   "execution_count": 5,
   "metadata": {},
   "outputs": [],
   "source": [
    "seen = {10:0,20:1,30:2,40:3}"
   ]
  },
  {
   "cell_type": "code",
   "execution_count": 7,
   "metadata": {},
   "outputs": [
    {
     "data": {
      "text/plain": [
       "(1, 3)"
      ]
     },
     "execution_count": 7,
     "metadata": {},
     "output_type": "execute_result"
    }
   ],
   "source": [
    "seen[20],seen[40]"
   ]
  },
  {
   "cell_type": "code",
   "execution_count": 8,
   "metadata": {},
   "outputs": [],
   "source": [
    "seen[50] = 4"
   ]
  },
  {
   "cell_type": "code",
   "execution_count": 9,
   "metadata": {},
   "outputs": [
    {
     "data": {
      "text/plain": [
       "{10: 0, 20: 1, 30: 2, 40: 3, 50: 4}"
      ]
     },
     "execution_count": 9,
     "metadata": {},
     "output_type": "execute_result"
    }
   ],
   "source": [
    "seen"
   ]
  },
  {
   "cell_type": "code",
   "execution_count": 10,
   "metadata": {},
   "outputs": [],
   "source": [
    "seen.update({4:5})"
   ]
  },
  {
   "cell_type": "code",
   "execution_count": 11,
   "metadata": {},
   "outputs": [
    {
     "data": {
      "text/plain": [
       "{10: 0, 20: 1, 30: 2, 40: 3, 50: 4, 4: 5}"
      ]
     },
     "execution_count": 11,
     "metadata": {},
     "output_type": "execute_result"
    }
   ],
   "source": [
    "seen"
   ]
  },
  {
   "cell_type": "code",
   "execution_count": 12,
   "metadata": {},
   "outputs": [],
   "source": [
    "seen[20] = 75"
   ]
  },
  {
   "cell_type": "code",
   "execution_count": 13,
   "metadata": {},
   "outputs": [
    {
     "data": {
      "text/plain": [
       "{10: 0, 20: 75, 30: 2, 40: 3, 50: 4, 4: 5}"
      ]
     },
     "execution_count": 13,
     "metadata": {},
     "output_type": "execute_result"
    }
   ],
   "source": [
    "seen"
   ]
  },
  {
   "cell_type": "markdown",
   "metadata": {},
   "source": [
    "#### Hash Map"
   ]
  },
  {
   "cell_type": "code",
   "execution_count": 15,
   "metadata": {},
   "outputs": [],
   "source": [
    "def twoSum(nums, target):\n",
    "        seen = {}\n",
    "        for i, v in enumerate(nums):\n",
    "            remaining = target - v\n",
    "            if remaining in seen:\n",
    "                return [seen[remaining], i]\n",
    "            seen[v] = i\n",
    "            print(i,v,seen)\n",
    "        return []"
   ]
  },
  {
   "cell_type": "code",
   "execution_count": 16,
   "metadata": {},
   "outputs": [
    {
     "name": "stdout",
     "output_type": "stream",
     "text": [
      "0 10 {10: 0}\n",
      "1 20 {10: 0, 20: 1}\n",
      "2 40 {10: 0, 20: 1, 40: 2}\n",
      "3 30 {10: 0, 20: 1, 40: 2, 30: 3}\n",
      "4 40 {10: 0, 20: 1, 40: 4, 30: 3}\n",
      "5 50 {10: 0, 20: 1, 40: 4, 30: 3, 50: 5}\n",
      "6 4 {10: 0, 20: 1, 40: 4, 30: 3, 50: 5, 4: 6}\n",
      "7 5 {10: 0, 20: 1, 40: 4, 30: 3, 50: 5, 4: 6, 5: 7}\n",
      "8 6 {10: 0, 20: 1, 40: 4, 30: 3, 50: 5, 4: 6, 5: 7, 6: 8}\n"
     ]
    },
    {
     "data": {
      "text/plain": [
       "[5, 9]"
      ]
     },
     "execution_count": 16,
     "metadata": {},
     "output_type": "execute_result"
    }
   ],
   "source": [
    "nums = [10,20,40,30,40,50,4,5,6,50,60,7,60,7,80,7,60,7,80,9,8,98,7,8,7,6,7,6,5,6]\n",
    "target = 100\n",
    "twoSum(nums, target)"
   ]
  },
  {
   "cell_type": "markdown",
   "metadata": {},
   "source": [
    "Complexity Analysis:\n",
    "\n",
    "- Time complexity : O(n). We traverse the list containing nn elements only once. Each look up in the table costs only O(1) time.\n",
    "\n",
    "- Space complexity : O(n). The extra space required depends on the number of items stored in the hash table, which stores at most nn elements."
   ]
  },
  {
   "cell_type": "markdown",
   "metadata": {},
   "source": [
    "### Bubble Sort"
   ]
  },
  {
   "cell_type": "code",
   "execution_count": 67,
   "metadata": {},
   "outputs": [],
   "source": [
    "A = [20,5,3,7,4,6,80,9,40]"
   ]
  },
  {
   "cell_type": "code",
   "execution_count": 68,
   "metadata": {},
   "outputs": [],
   "source": [
    "def sortit(A):\n",
    "    counter = 0\n",
    "    is_sorted = False\n",
    "    while not is_sorted:\n",
    "        is_sorted = True\n",
    "        for i in range(1,len(A)-counter):\n",
    "            if A[i]<A[i-1]:\n",
    "                is_sorted = False\n",
    "                A[i-1],A[i] = A[i],A[i-1]\n",
    "            print(i,A)\n",
    "        counter = counter+1\n",
    "    return A"
   ]
  },
  {
   "cell_type": "code",
   "execution_count": 69,
   "metadata": {},
   "outputs": [
    {
     "name": "stdout",
     "output_type": "stream",
     "text": [
      "1 [5, 20, 3, 7, 4, 6, 80, 9, 40]\n",
      "2 [5, 3, 20, 7, 4, 6, 80, 9, 40]\n",
      "3 [5, 3, 7, 20, 4, 6, 80, 9, 40]\n",
      "4 [5, 3, 7, 4, 20, 6, 80, 9, 40]\n",
      "5 [5, 3, 7, 4, 6, 20, 80, 9, 40]\n",
      "6 [5, 3, 7, 4, 6, 20, 80, 9, 40]\n",
      "7 [5, 3, 7, 4, 6, 20, 9, 80, 40]\n",
      "8 [5, 3, 7, 4, 6, 20, 9, 40, 80]\n",
      "1 [3, 5, 7, 4, 6, 20, 9, 40, 80]\n",
      "2 [3, 5, 7, 4, 6, 20, 9, 40, 80]\n",
      "3 [3, 5, 4, 7, 6, 20, 9, 40, 80]\n",
      "4 [3, 5, 4, 6, 7, 20, 9, 40, 80]\n",
      "5 [3, 5, 4, 6, 7, 20, 9, 40, 80]\n",
      "6 [3, 5, 4, 6, 7, 9, 20, 40, 80]\n",
      "7 [3, 5, 4, 6, 7, 9, 20, 40, 80]\n",
      "1 [3, 5, 4, 6, 7, 9, 20, 40, 80]\n",
      "2 [3, 4, 5, 6, 7, 9, 20, 40, 80]\n",
      "3 [3, 4, 5, 6, 7, 9, 20, 40, 80]\n",
      "4 [3, 4, 5, 6, 7, 9, 20, 40, 80]\n",
      "5 [3, 4, 5, 6, 7, 9, 20, 40, 80]\n",
      "6 [3, 4, 5, 6, 7, 9, 20, 40, 80]\n",
      "1 [3, 4, 5, 6, 7, 9, 20, 40, 80]\n",
      "2 [3, 4, 5, 6, 7, 9, 20, 40, 80]\n",
      "3 [3, 4, 5, 6, 7, 9, 20, 40, 80]\n",
      "4 [3, 4, 5, 6, 7, 9, 20, 40, 80]\n",
      "5 [3, 4, 5, 6, 7, 9, 20, 40, 80]\n"
     ]
    },
    {
     "data": {
      "text/plain": [
       "[3, 4, 5, 6, 7, 9, 20, 40, 80]"
      ]
     },
     "execution_count": 69,
     "metadata": {},
     "output_type": "execute_result"
    }
   ],
   "source": [
    "sortit(A)"
   ]
  },
  {
   "cell_type": "markdown",
   "metadata": {},
   "source": [
    "### Insertion Sort"
   ]
  },
  {
   "cell_type": "code",
   "execution_count": 87,
   "metadata": {},
   "outputs": [],
   "source": [
    "B = [100,99,98,97,96,92,81,72,63,54]"
   ]
  },
  {
   "cell_type": "code",
   "execution_count": 88,
   "metadata": {},
   "outputs": [],
   "source": [
    "def ins_sort(B):\n",
    "    for i in range(1,len(B)):\n",
    "        j = i\n",
    "        while j>0 and B[j] < B[j-1]:\n",
    "            B[j],B[j-1] = B[j-1],B[j]\n",
    "            print(i,j,B)\n",
    "            j = j-1"
   ]
  },
  {
   "cell_type": "code",
   "execution_count": 89,
   "metadata": {},
   "outputs": [
    {
     "name": "stdout",
     "output_type": "stream",
     "text": [
      "1 1 [99, 100, 98, 97, 96, 92, 81, 72, 63, 54]\n",
      "2 2 [99, 98, 100, 97, 96, 92, 81, 72, 63, 54]\n",
      "2 1 [98, 99, 100, 97, 96, 92, 81, 72, 63, 54]\n",
      "3 3 [98, 99, 97, 100, 96, 92, 81, 72, 63, 54]\n",
      "3 2 [98, 97, 99, 100, 96, 92, 81, 72, 63, 54]\n",
      "3 1 [97, 98, 99, 100, 96, 92, 81, 72, 63, 54]\n",
      "4 4 [97, 98, 99, 96, 100, 92, 81, 72, 63, 54]\n",
      "4 3 [97, 98, 96, 99, 100, 92, 81, 72, 63, 54]\n",
      "4 2 [97, 96, 98, 99, 100, 92, 81, 72, 63, 54]\n",
      "4 1 [96, 97, 98, 99, 100, 92, 81, 72, 63, 54]\n",
      "5 5 [96, 97, 98, 99, 92, 100, 81, 72, 63, 54]\n",
      "5 4 [96, 97, 98, 92, 99, 100, 81, 72, 63, 54]\n",
      "5 3 [96, 97, 92, 98, 99, 100, 81, 72, 63, 54]\n",
      "5 2 [96, 92, 97, 98, 99, 100, 81, 72, 63, 54]\n",
      "5 1 [92, 96, 97, 98, 99, 100, 81, 72, 63, 54]\n",
      "6 6 [92, 96, 97, 98, 99, 81, 100, 72, 63, 54]\n",
      "6 5 [92, 96, 97, 98, 81, 99, 100, 72, 63, 54]\n",
      "6 4 [92, 96, 97, 81, 98, 99, 100, 72, 63, 54]\n",
      "6 3 [92, 96, 81, 97, 98, 99, 100, 72, 63, 54]\n",
      "6 2 [92, 81, 96, 97, 98, 99, 100, 72, 63, 54]\n",
      "6 1 [81, 92, 96, 97, 98, 99, 100, 72, 63, 54]\n",
      "7 7 [81, 92, 96, 97, 98, 99, 72, 100, 63, 54]\n",
      "7 6 [81, 92, 96, 97, 98, 72, 99, 100, 63, 54]\n",
      "7 5 [81, 92, 96, 97, 72, 98, 99, 100, 63, 54]\n",
      "7 4 [81, 92, 96, 72, 97, 98, 99, 100, 63, 54]\n",
      "7 3 [81, 92, 72, 96, 97, 98, 99, 100, 63, 54]\n",
      "7 2 [81, 72, 92, 96, 97, 98, 99, 100, 63, 54]\n",
      "7 1 [72, 81, 92, 96, 97, 98, 99, 100, 63, 54]\n",
      "8 8 [72, 81, 92, 96, 97, 98, 99, 63, 100, 54]\n",
      "8 7 [72, 81, 92, 96, 97, 98, 63, 99, 100, 54]\n",
      "8 6 [72, 81, 92, 96, 97, 63, 98, 99, 100, 54]\n",
      "8 5 [72, 81, 92, 96, 63, 97, 98, 99, 100, 54]\n",
      "8 4 [72, 81, 92, 63, 96, 97, 98, 99, 100, 54]\n",
      "8 3 [72, 81, 63, 92, 96, 97, 98, 99, 100, 54]\n",
      "8 2 [72, 63, 81, 92, 96, 97, 98, 99, 100, 54]\n",
      "8 1 [63, 72, 81, 92, 96, 97, 98, 99, 100, 54]\n",
      "9 9 [63, 72, 81, 92, 96, 97, 98, 99, 54, 100]\n",
      "9 8 [63, 72, 81, 92, 96, 97, 98, 54, 99, 100]\n",
      "9 7 [63, 72, 81, 92, 96, 97, 54, 98, 99, 100]\n",
      "9 6 [63, 72, 81, 92, 96, 54, 97, 98, 99, 100]\n",
      "9 5 [63, 72, 81, 92, 54, 96, 97, 98, 99, 100]\n",
      "9 4 [63, 72, 81, 54, 92, 96, 97, 98, 99, 100]\n",
      "9 3 [63, 72, 54, 81, 92, 96, 97, 98, 99, 100]\n",
      "9 2 [63, 54, 72, 81, 92, 96, 97, 98, 99, 100]\n",
      "9 1 [54, 63, 72, 81, 92, 96, 97, 98, 99, 100]\n"
     ]
    }
   ],
   "source": [
    "ins_sort(B)"
   ]
  },
  {
   "cell_type": "code",
   "execution_count": 90,
   "metadata": {},
   "outputs": [
    {
     "data": {
      "text/plain": [
       "[54, 63, 72, 81, 92, 96, 97, 98, 99, 100]"
      ]
     },
     "execution_count": 90,
     "metadata": {},
     "output_type": "execute_result"
    }
   ],
   "source": [
    "sorted(B)"
   ]
  },
  {
   "cell_type": "code",
   "execution_count": null,
   "metadata": {},
   "outputs": [],
   "source": []
  }
 ],
 "metadata": {
  "kernelspec": {
   "display_name": "Python 3",
   "language": "python",
   "name": "python3"
  },
  "language_info": {
   "codemirror_mode": {
    "name": "ipython",
    "version": 3
   },
   "file_extension": ".py",
   "mimetype": "text/x-python",
   "name": "python",
   "nbconvert_exporter": "python",
   "pygments_lexer": "ipython3",
   "version": "3.7.6"
  }
 },
 "nbformat": 4,
 "nbformat_minor": 2
}
