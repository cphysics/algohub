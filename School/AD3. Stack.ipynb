{
 "cells": [
  {
   "cell_type": "markdown",
   "metadata": {},
   "source": [
    "## Stacks"
   ]
  },
  {
   "cell_type": "markdown",
   "metadata": {},
   "source": [
    "Stack is a linear data structure which follows a particular order in which the operations are performed. The order may be **LIFO(Last In First Out) or FILO(First In Last Out)**.\n",
    "\n",
    "Mainly the following three basic operations are performed in the stack:\n",
    "\n",
    "- Push: Adds an item in the stack. If the stack is full, then it is said to be an Overflow condition.\n",
    "- Pop: Removes an item from the stack. The items are popped in the reversed order in which they are pushed. If the stack is empty, then it is said to be an Underflow condition.\n",
    "- Peek or Top: Returns top element of stack.\n",
    "- isEmpty: Returns true if stack is empty, else false."
   ]
  },
  {
   "cell_type": "markdown",
   "metadata": {},
   "source": [
    "------"
   ]
  },
  {
   "cell_type": "markdown",
   "metadata": {},
   "source": [
    "Python program for implementation of stack "
   ]
  },
  {
   "cell_type": "code",
   "execution_count": 1,
   "metadata": {},
   "outputs": [],
   "source": [
    "# import maxsize from sys module  \n",
    "# Used to return -infinite when stack is empty \n",
    "from sys import maxsize \n",
    "  \n",
    "# Function to create a stack. It initializes size of stack as 0 \n",
    "def createStack(): \n",
    "    stack = [] \n",
    "    return stack \n",
    "  \n",
    "# Stack is empty when stack size is 0 \n",
    "def isEmpty(stack): \n",
    "    return len(stack) == 0\n",
    "  \n",
    "# Function to add an item to stack. It increases size by 1 \n",
    "def push(stack, item): \n",
    "    stack.append(item) \n",
    "    print(item + \" pushed to stack \") \n",
    "      \n",
    "# Function to remove an item from stack. It decreases size by 1 \n",
    "def pop(stack): \n",
    "    if (isEmpty(stack)): \n",
    "        return str(-maxsize -1) #return minus infinite \n",
    "      \n",
    "    return stack.pop() "
   ]
  },
  {
   "cell_type": "markdown",
   "metadata": {},
   "source": [
    "Driver program to test above functions     "
   ]
  },
  {
   "cell_type": "code",
   "execution_count": 2,
   "metadata": {},
   "outputs": [
    {
     "name": "stdout",
     "output_type": "stream",
     "text": [
      "10 pushed to stack \n",
      "20 pushed to stack \n",
      "30 pushed to stack \n",
      "30 popped from stack\n"
     ]
    }
   ],
   "source": [
    "stack = createStack() \n",
    "push(stack, str(10)) \n",
    "push(stack, str(20)) \n",
    "push(stack, str(30)) \n",
    "print(pop(stack) + \" popped from stack\") \n"
   ]
  },
  {
   "cell_type": "code",
   "execution_count": null,
   "metadata": {},
   "outputs": [],
   "source": []
  },
  {
   "cell_type": "code",
   "execution_count": null,
   "metadata": {},
   "outputs": [],
   "source": []
  },
  {
   "cell_type": "code",
   "execution_count": null,
   "metadata": {},
   "outputs": [],
   "source": []
  }
 ],
 "metadata": {
  "kernelspec": {
   "display_name": "Python 3",
   "language": "python",
   "name": "python3"
  },
  "language_info": {
   "codemirror_mode": {
    "name": "ipython",
    "version": 3
   },
   "file_extension": ".py",
   "mimetype": "text/x-python",
   "name": "python",
   "nbconvert_exporter": "python",
   "pygments_lexer": "ipython3",
   "version": "3.7.1"
  },
  "widgets": {
   "state": {},
   "version": "1.1.2"
  }
 },
 "nbformat": 4,
 "nbformat_minor": 2
}
